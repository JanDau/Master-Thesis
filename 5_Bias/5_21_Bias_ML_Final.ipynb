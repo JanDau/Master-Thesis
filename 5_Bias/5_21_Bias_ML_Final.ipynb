{
 "cells": [
  {
   "cell_type": "markdown",
   "metadata": {},
   "source": [
    "# Objectives\n",
    "\n",
    "1. Import\n",
    "2. Classifier\n",
    "   a. Train on Real, Test on Holdout\n",
    "   b. Train on Synth, Test on Holdout\n",
    "3. Calculate Metrics\n",
    "   a. Selection Rate: prior ML, ML_real, ML_synth\n",
    "   b. Demographic Parity (Statistical Parity Difference): Unterschiede in W'keit, dass Pers. verschiedener Subgruppen auf ICU aufgenommen werden?\n",
    "   c. Equal Opportunity Difference (True Positive Rate Difference): Unterschiedliche W'keiten hinsichtlich ICU-Prediction je nach Subgruppe?\n",
    "   d. Equalized Odds: Unterschiede sowohl in TPR als auch FPR zwischen Subgruppen\n",
    "   e. Predictive Parity (Positive Predictive Value Difference): Variiert die PPV für unterschiedliche Subgruppen? (Gleich sichere VOrhersage für alle Gruppen?)\n",
    "4. SHAP-Values\n",
    "5. LIME-Values for 2 Patients\n",
    "   \n",
    "\n",
    "# Imports"
   ]
  },
  {
   "cell_type": "code",
   "execution_count": 51,
   "metadata": {},
   "outputs": [],
   "source": [
    "from pathlib import Path\n",
    "from datetime import datetime\n",
    "import pandas as pd\n",
    "import numpy as np\n",
    "import seaborn as sns\n",
    "import matplotlib.pyplot as plt\n",
    "from matplotlib import cm, colors\n",
    "from typing import Union, Optional, Tuple\n",
    "from sklearn.model_selection import StratifiedKFold, cross_validate, GridSearchCV\n",
    "from sklearn.compose import ColumnTransformer\n",
    "from sklearn.preprocessing import StandardScaler, OneHotEncoder, OrdinalEncoder\n",
    "from sklearn.pipeline import Pipeline\n",
    "from sklearn.ensemble import RandomForestClassifier\n",
    "import pickle\n",
    "from sklearn.base import clone\n",
    "from sklearn.metrics import (\n",
    "    accuracy_score, roc_auc_score, f1_score,\n",
    "    confusion_matrix, classification_report,\n",
    "    precision_recall_curve, precision_score, recall_score,\n",
    "    average_precision_score, roc_curve\n",
    ")\n",
    "import shap\n",
    "from typing import Optional\n",
    "from lime.lime_tabular import LimeTabularExplainer\n",
    "from fairlearn.metrics import (\n",
    "    MetricFrame, selection_rate, demographic_parity_difference, \n",
    "    equalized_odds_difference, false_positive_rate, \n",
    "    true_positive_rate, equal_opportunity_difference, count\n",
    ")\n",
    "\n",
    "\n"
   ]
  },
  {
   "cell_type": "markdown",
   "metadata": {},
   "source": [
    "# User Configuration"
   ]
  },
  {
   "cell_type": "code",
   "execution_count": 54,
   "metadata": {},
   "outputs": [],
   "source": [
    "# File paths – consider loading these from a config or CLI for flexibility\n",
    "REAL_FILE = \"20250301_data_20250510_122405_final_100_train.csv\"\n",
    "SYNTH_FILE = \"20250301_data_20250510_122405_final_100_synth.csv\"\n",
    "HOLDOUT_FILE = \"20250301_data_20250510_122405_final_100_holdout.csv\"\n",
    "\n",
    "# Define directories for input and output\n",
    "DATA_DIR = Path(\"../../data\")\n",
    "FIG_DIR = Path(\"figures\")\n",
    "RES_DIR = Path(\"results\")\n",
    "CACHE_DIR = Path(\"cache\")\n",
    "\n",
    "SAVE_FIGURES = True\n",
    "RANDOM_SEED = 42\n",
    "\n",
    "# Age group bins and labels (should match domain requirements)\n",
    "AGE_BINS = [-np.inf, 29, 60, np.inf]\n",
    "AGE_LABELS = [\"<30\", \"30-60\", \">60\"]\n",
    "\n",
    "# Define sensitive features for fairness analysis\n",
    "SENSITIVE_FEATURES = [\"gender\", \"ethnicity\", \"age_group\"]\n",
    "\n",
    "# Set seaborn style for plots\n",
    "sns.set_theme(\n",
    "    style=\"white\",\n",
    "    context=\"paper\",\n",
    "    palette=\"colorblind\",\n",
    "    rc={\n",
    "        \"font.family\": \"sans-serif\",\n",
    "        \"font.sans-serif\": [\"Arial\"],\n",
    "        \"font.size\": 7,\n",
    "        \"axes.titlesize\": 7,\n",
    "        \"axes.labelsize\": 7,\n",
    "        \"xtick.labelsize\": 7,\n",
    "        \"ytick.labelsize\": 7,\n",
    "        \"legend.fontsize\": 7\n",
    "    }\n",
    ")"
   ]
  },
  {
   "cell_type": "markdown",
   "metadata": {},
   "source": [
    "# Utility Functions\n",
    "## Data Loading"
   ]
  },
  {
   "cell_type": "code",
   "execution_count": 3,
   "metadata": {},
   "outputs": [],
   "source": [
    "def convert_dtypes(df: pd.DataFrame) -> pd.DataFrame:\n",
    "    \"\"\"\n",
    "    Konvertiert bestimmte Spalten des DataFrames in die gewünschten Datentypen:\n",
    "     - definierte Spalten als category\n",
    "     - definierte Spalten als pandas Nullable Integer (Int64)\n",
    "     - consciousness_level und news_score als geordnete Categoricals\n",
    "    \"\"\"\n",
    "    df = df.copy()  # Änderungen nicht am Original vornehmen\n",
    "\n",
    "    # 1) Kategorische Spalten\n",
    "    cat_cols = ['gender', 'ethnicity', 'chief_complaint', 'icd_block']\n",
    "    for col in cat_cols:\n",
    "        df[col] = df[col].astype('category')\n",
    "\n",
    "    # 2) Integer-Spalten mit Nullable Integer dtype\n",
    "    int_cols = ['age', 'systolic_bp', 'diastolic_bp',\n",
    "                'heart_rate', 'respiratory_rate', 'oxygen_saturation']\n",
    "    for col in int_cols:\n",
    "        df[col] = df[col].astype('Int64')\n",
    "\n",
    "    # 3) Geordnete Categoricals\n",
    "    df['consciousness_level'] = pd.Categorical(\n",
    "        df['consciousness_level'],\n",
    "        categories=['A', 'C', 'V', 'P', 'U'],\n",
    "        ordered=True\n",
    "    )\n",
    "    df['news_score'] = pd.Categorical(\n",
    "        df['news_score'],\n",
    "        categories=list(range(19)),\n",
    "        ordered=True\n",
    "    )\n",
    "\n",
    "    return df\n",
    "\n",
    "def load_data(\n",
    "    real_filename: Union[str, Path],\n",
    "    synth_filename: Optional[Union[str, Path]] = None,\n",
    "    holdout_filename: Optional[Union[str, Path]] = None,\n",
    "    data_dir: Path = DATA_DIR\n",
    ") -> Tuple[pd.DataFrame, Optional[pd.DataFrame], Optional[pd.DataFrame]]:\n",
    "    \"\"\"\n",
    "    Lädt die realen, synthetischen und optionalen Holdout-CSV-Dateien\n",
    "    aus data_dir und wandelt sie über convert_dtypes um.\n",
    "\n",
    "    Returns:\n",
    "        df_real: pd.DataFrame\n",
    "        df_synth: Optional[pd.DataFrame]\n",
    "        df_holdout: Optional[pd.DataFrame]\n",
    "    \"\"\"\n",
    "    def _read_and_convert(fn: Union[str, Path]) -> pd.DataFrame:\n",
    "        return (\n",
    "            pd.read_csv(data_dir / fn, low_memory=False)\n",
    "              .pipe(convert_dtypes)\n",
    "        )\n",
    "\n",
    "    df_real    = _read_and_convert(real_filename)\n",
    "    df_synth   = _read_and_convert(synth_filename)   if synth_filename   else None\n",
    "    df_holdout = _read_and_convert(holdout_filename) if holdout_filename else None\n",
    "\n",
    "    return df_real, df_synth, df_holdout"
   ]
  },
  {
   "cell_type": "markdown",
   "metadata": {},
   "source": [
    "## Plotting"
   ]
  },
  {
   "cell_type": "code",
   "execution_count": 4,
   "metadata": {},
   "outputs": [],
   "source": [
    "\n",
    "def plot_selection_rate_heatmap_by_gender(\n",
    "    df: pd.DataFrame,\n",
    "    gender_col: str = \"gender\",\n",
    "    x_col: str = \"ethnicity\",\n",
    "    y_col: str = \"age_group\",\n",
    "    value_col: str = \"selection_rate\",\n",
    "    cmap: Optional[str] = \"viridis\",\n",
    "    diverging: bool = False,\n",
    "    annot: bool = True,\n",
    "    fmt: str = \".2f\",\n",
    "    cbar: bool = True,\n",
    "    height: float = 4,\n",
    "    width: float = 3,\n",
    "    custom_scale: Optional[Tuple[float, float]] = None,\n",
    "    aspect: float = 1.2,\n",
    ") -> plt.Figure:\n",
    "    \"\"\"\n",
    "    Plot selection‐rate heatmaps faceted by gender.\n",
    "\n",
    "    This expects `df` to have one row per subgroup with columns:\n",
    "      - gender_col  (e.g. \"Male\", \"Female\", ...)\n",
    "      - x_col       (e.g. ethnicity categories)\n",
    "      - y_col       (e.g. age_group categories)\n",
    "      - value_col   (the numeric selection_rate)\n",
    "\n",
    "    Args:\n",
    "        df: DataFrame with intersectional subgroup metrics.\n",
    "        gender_col: column name to facet on (one heatmap per unique value).\n",
    "        x_col: column to use for heatmap’s x-axis (columns of the matrix).\n",
    "        y_col: column to use for heatmap’s y-axis (rows of the matrix).\n",
    "        value_col: the cell value to plot (heat intensity).\n",
    "        cmap: matplotlib colormap name.\n",
    "        annot: whether to annotate cells with their values.\n",
    "        fmt: format string for annotations.\n",
    "        cbar: whether each facet gets its own colorbar.\n",
    "        height: height (in inches) of each facet.\n",
    "        aspect: aspect ratio (width/height) of each facet.\n",
    "\n",
    "    Returns:\n",
    "        The Seaborn FacetGrid instance (so you can further tweak or save it).\n",
    "    \"\"\"\n",
    "    # Ensure required columns are present\n",
    "    missing = {gender_col, x_col, y_col, value_col} - set(df.columns)\n",
    "    if missing:\n",
    "        raise KeyError(f\"Missing columns in DataFrame: {missing!r}\")\n",
    "\n",
    "    # compute common color‐scale limits\n",
    "    raw_min = df[value_col].min()\n",
    "    raw_max = df[value_col].max()\n",
    "    if diverging:\n",
    "        abs_max = max(abs(raw_min), abs(raw_max))\n",
    "        vmin, vmax = -abs_max, +abs_max\n",
    "    else:\n",
    "        vmin, vmax = raw_min, raw_max\n",
    "\n",
    "    if custom_scale is not None:\n",
    "        if len(custom_scale) != 2:\n",
    "            raise ValueError(\"custom_scale must be a tuple of (min, max)\")\n",
    "        vmin, vmax = custom_scale\n",
    "\n",
    "    # Create the FacetGrid: one facet per gender\n",
    "    grid = sns.FacetGrid(\n",
    "        df,\n",
    "        col=gender_col,\n",
    "        sharex=True,\n",
    "        sharey=True,\n",
    "        aspect=aspect,\n",
    "        col_wrap=1,\n",
    "    )\n",
    "\n",
    "    # Define the per‐facet heatmap function\n",
    "    def _draw_heatmap(data: pd.DataFrame, **kwargs):\n",
    "        # Pivot to matrix form\n",
    "        pivot = data.pivot(index=y_col, columns=x_col, values=value_col).reindex(AGE_LABELS)\n",
    "        sns.heatmap(\n",
    "            pivot,\n",
    "            annot=annot,\n",
    "            fmt=fmt,\n",
    "            cbar=cbar,\n",
    "            cmap=cmap,\n",
    "            vmin=vmin,\n",
    "            vmax=vmax,\n",
    "            center=0 if diverging else None,\n",
    "            **kwargs,\n",
    "        )\n",
    "\n",
    "    # Map it onto the grid\n",
    "    grid.map_dataframe(_draw_heatmap)\n",
    "\n",
    "    # Label axes\n",
    "    grid.set_axis_labels(x_col, y_col)\n",
    "\n",
    "    grid.figure.set_size_inches(width, height)\n",
    "\n",
    "    # Tight layout for nicer spacing\n",
    "    plt.tight_layout()\n",
    "\n",
    "    return grid.figure\n"
   ]
  },
  {
   "cell_type": "markdown",
   "metadata": {},
   "source": [
    "# Main Routine"
   ]
  },
  {
   "cell_type": "markdown",
   "metadata": {},
   "source": [
    "## Daten Vorbereiten\n",
    "### Einlesen"
   ]
  },
  {
   "cell_type": "code",
   "execution_count": null,
   "metadata": {},
   "outputs": [],
   "source": [
    "df_real, df_synth, df_holdout = load_data(\n",
    "    REAL_FILE,\n",
    "    SYNTH_FILE,\n",
    "    HOLDOUT_FILE,\n",
    "    data_dir=DATA_DIR\n",
    ")\n",
    "df_holdout = df_holdout.dropna().reset_index(drop=True)"
   ]
  },
  {
   "cell_type": "markdown",
   "metadata": {},
   "source": [
    "### Unique Kategorien für Encoder bestimmen und Col-Datatypes"
   ]
  },
  {
   "cell_type": "code",
   "execution_count": 6,
   "metadata": {},
   "outputs": [],
   "source": [
    "df_combined = pd.concat([df_real, df_synth], ignore_index=True).reset_index(drop=True) # Holdout gezielt nicht\n",
    "\n",
    "num_cols = df_combined.select_dtypes(include='number').columns.tolist()\n",
    "\n",
    "cat_cols = df_combined.select_dtypes(include=['category', 'bool']).columns.drop(\n",
    "    ['consciousness_level','news_score', 'icu_admission_24h']\n",
    ").tolist()\n",
    "ord_cols = ['consciousness_level','news_score']\n",
    "\n",
    "cat_categories = {\n",
    "    col: sorted(df_combined[col].dropna().unique().tolist())\n",
    "    for col in cat_cols\n",
    "}\n",
    "ord_categories = {col: df_combined[col].cat.categories.tolist() for col in ord_cols}"
   ]
  },
  {
   "cell_type": "markdown",
   "metadata": {},
   "source": [
    "### Target Column und Data Split\n",
    "Cave: weil ein Holdout-Datensatz vorhanden ist, findet kein train-test-split wie sonst statt sondern test wird/ist durch Holdout definiert"
   ]
  },
  {
   "cell_type": "code",
   "execution_count": 7,
   "metadata": {},
   "outputs": [],
   "source": [
    "target = \"icu_admission_24h\"\n",
    "\n",
    "X_real,    y_real    = df_real.drop(columns=target),    df_real[target]\n",
    "X_synth,   y_synth   = df_synth.drop(columns=target),   df_synth[target]\n",
    "X_holdout, y_holdout = df_holdout.drop(columns=target), df_holdout[target]\n"
   ]
  },
  {
   "cell_type": "markdown",
   "metadata": {},
   "source": [
    "## Random Forest-Logik"
   ]
  },
  {
   "cell_type": "code",
   "execution_count": 8,
   "metadata": {},
   "outputs": [],
   "source": [
    "# preprocess = ColumnTransformer([\n",
    "#     ('num', StandardScaler(), num_cols),\n",
    "#     ('cat', OneHotEncoder(\n",
    "#             categories=[cat_categories[c] for c in cat_cols],\n",
    "#             handle_unknown='ignore',\n",
    "#             sparse_output=False\n",
    "#         ),\n",
    "#     cat_cols),\n",
    "#     ('ord', OrdinalEncoder(\n",
    "#             categories=[ord_categories[c] for c in ord_cols],\n",
    "#             handle_unknown='use_encoded_value',\n",
    "#             unknown_value=-1\n",
    "#         ),\n",
    "#     ord_cols)\n",
    "# ], remainder=\"drop\")\n",
    "\n",
    "# rf_params = {\n",
    "#     'n_estimators': 200,\n",
    "#     'max_depth': 8,\n",
    "#     'min_samples_split': 10,\n",
    "#     'min_samples_leaf': 5,\n",
    "#     'max_features': 'sqrt',\n",
    "#     'class_weight': 'balanced_subsample',\n",
    "#     'oob_score': True,\n",
    "#     'n_jobs': -1,\n",
    "#     'random_state': RANDOM_SEED\n",
    "# }\n",
    "\n",
    "# rf_clf = RandomForestClassifier(**rf_params)\n",
    "\n",
    "# model = Pipeline(steps=[\n",
    "#     (\"prep\", preprocess),\n",
    "#     (\"clf\",  rf_clf)\n",
    "# ])\n"
   ]
  },
  {
   "cell_type": "code",
   "execution_count": 9,
   "metadata": {},
   "outputs": [],
   "source": [
    "# 1) Preprocessing\n",
    "preprocess = ColumnTransformer([\n",
    "    ('num', StandardScaler(), num_cols),\n",
    "    ('cat', OneHotEncoder(\n",
    "            categories=[cat_categories[c] for c in cat_cols],\n",
    "            handle_unknown='ignore',\n",
    "            sparse_output=False\n",
    "        ),\n",
    "     cat_cols),\n",
    "    ('ord', OrdinalEncoder(\n",
    "            categories=[ord_categories[c] for c in ord_cols],\n",
    "            handle_unknown='use_encoded_value',\n",
    "            unknown_value=-1\n",
    "        ),\n",
    "     ord_cols)\n",
    "], remainder=\"drop\")\n",
    "\n",
    "# 2) Basis-Estimator\n",
    "rf_params = {\n",
    "    'n_estimators': 200,\n",
    "    'max_depth': 8,\n",
    "    'min_samples_split': 10,\n",
    "    'min_samples_leaf': 5,\n",
    "    'max_features': 'sqrt',\n",
    "    'class_weight': 'balanced_subsample',\n",
    "    'oob_score': True,\n",
    "    'n_jobs': 1, # +1 ist korrekt; -1 nur bei GridSearch, da sonst Oversubscription!\n",
    "    'random_state': RANDOM_SEED\n",
    "}\n",
    "rf_clf = RandomForestClassifier(**rf_params)\n",
    "\n",
    "# 3) Pipeline\n",
    "model = Pipeline([\n",
    "    (\"prep\", preprocess),\n",
    "    (\"clf\",  rf_clf)\n",
    "])\n",
    "\n",
    "# 4) CV-Strategie\n",
    "cv = StratifiedKFold(\n",
    "    n_splits=5,\n",
    "    shuffle=True,\n",
    "    random_state=RANDOM_SEED\n",
    ")\n",
    "\n",
    "# # 5) Baseline CV (optional) ca. 1 min\n",
    "# # CV-Mittelwerte (real): {'accuracy': np.float64(0.7434725697651496), 'roc_auc': np.float64(0.7781028363405531), 'f1': np.float64(0.383299986026956)}\n",
    "# scoring = {'accuracy':'accuracy', 'roc_auc':'roc_auc', 'f1':'f1'}\n",
    "# cv_results = cross_validate(\n",
    "#     estimator=model,\n",
    "#     X=X_real,        # oder X_synth für synthetische Daten\n",
    "#     y=y_real,        # bzw. y_synth\n",
    "#     cv=cv,\n",
    "#     scoring=scoring,\n",
    "#     n_jobs=-1\n",
    "# )\n",
    "# print(\"CV-Mittelwerte (real):\",\n",
    "#       {m: np.mean(cv_results[f'test_{m}']) for m in scoring})\n",
    "\n",
    "# 6) Hyperparameter-Raster\n",
    "param_grid = {\n",
    "    'clf__n_estimators': [100, 200],\n",
    "    'clf__max_depth':    [6, 8, 10],\n",
    "    'clf__min_samples_leaf': [3, 5]\n",
    "}\n",
    "\n"
   ]
  },
  {
   "cell_type": "markdown",
   "metadata": {},
   "source": [
    "### GridSearch"
   ]
  },
  {
   "cell_type": "code",
   "execution_count": 10,
   "metadata": {},
   "outputs": [
    {
     "name": "stdout",
     "output_type": "stream",
     "text": [
      "Fitting 5 folds for each of 12 candidates, totalling 60 fits\n",
      "Best Params (real): {'clf__max_depth': 10, 'clf__min_samples_leaf': 5, 'clf__n_estimators': 200}\n",
      "Best CV ROC-AUC (real): 0.7831072545669022\n"
     ]
    }
   ],
   "source": [
    "# 7) GridSearch für reales Training, 10 Min\n",
    "# Fitting 5 folds for each of 12 candidates, totalling 60 fits\n",
    "# Best Params (real): {'clf__max_depth': 10, 'clf__min_samples_leaf': 5, 'clf__n_estimators': 200}\n",
    "# Best CV ROC-AUC (real): 0.7831072545669022\n",
    "\n",
    "grid_real = GridSearchCV(\n",
    "    estimator=clone(model),\n",
    "    param_grid=param_grid,\n",
    "    cv=cv,\n",
    "    scoring='roc_auc',\n",
    "    n_jobs=-1,\n",
    "    verbose=3\n",
    ")\n",
    "grid_real.fit(X_real, y_real)\n",
    "print(\"Best Params (real):\", grid_real.best_params_)\n",
    "print(\"Best CV ROC-AUC (real):\", grid_real.best_score_)"
   ]
  },
  {
   "cell_type": "code",
   "execution_count": 11,
   "metadata": {},
   "outputs": [
    {
     "name": "stdout",
     "output_type": "stream",
     "text": [
      "Fitting 5 folds for each of 12 candidates, totalling 60 fits\n",
      "Best Params (synth): {'clf__max_depth': 10, 'clf__min_samples_leaf': 5, 'clf__n_estimators': 100}\n",
      "Best CV ROC-AUC (synth): 0.8569688251770694\n"
     ]
    }
   ],
   "source": [
    "# 8) GridSearch für synthetisches Training, 8 min\n",
    "# Fitting 5 folds for each of 12 candidates, totalling 60 fits\n",
    "# Best Params (synth): {'clf__max_depth': 10, 'clf__min_samples_leaf': 5, 'clf__n_estimators': 100}\n",
    "# Best CV ROC-AUC (synth): 0.8569688251770694\n",
    "\n",
    "grid_synth = GridSearchCV(\n",
    "    estimator=clone(model),\n",
    "    param_grid=param_grid,\n",
    "    cv=cv,\n",
    "    scoring='roc_auc',\n",
    "    n_jobs=-1,\n",
    "    verbose=3\n",
    ")\n",
    "grid_synth.fit(X_synth, y_synth)\n",
    "print(\"Best Params (synth):\", grid_synth.best_params_)\n",
    "print(\"Best CV ROC-AUC (synth):\", grid_synth.best_score_)"
   ]
  },
  {
   "cell_type": "code",
   "execution_count": 12,
   "metadata": {},
   "outputs": [],
   "source": [
    "best_model_real  = grid_real.best_estimator_\n",
    "best_model_synth = grid_synth.best_estimator_"
   ]
  },
  {
   "cell_type": "markdown",
   "metadata": {},
   "source": [
    "### Export Trained Models"
   ]
  },
  {
   "cell_type": "code",
   "execution_count": 52,
   "metadata": {},
   "outputs": [
    {
     "name": "stdout",
     "output_type": "stream",
     "text": [
      "Ergebnis gecached in cache\\model_real_cache_20250518.pkl\n",
      "Ergebnis gecached in cache\\model_synth_cache_20250518.pkl\n"
     ]
    }
   ],
   "source": [
    "# ts = datetime.now().strftime(\"%Y%m%d_%H%M%S\")\n",
    "ts = datetime.now().strftime(\"%Y%m%d\")\n",
    "\n",
    "cache_path = CACHE_DIR / f\"model_real_cache_{ts}.pkl\"\n",
    "cache_path.parent.mkdir(parents=True, exist_ok=True)\n",
    "\n",
    "with cache_path.open(\"wb\") as f:\n",
    "    pickle.dump(best_model_real, f)\n",
    "print(f\"Ergebnis gecached in {cache_path}\")\n",
    "\n",
    "cache_path = CACHE_DIR / f\"model_synth_cache_{ts}.pkl\"\n",
    "cache_path.parent.mkdir(parents=True, exist_ok=True)\n",
    "with cache_path.open(\"wb\") as f:\n",
    "    pickle.dump(best_model_synth, f)\n",
    "print(f\"Ergebnis gecached in {cache_path}\")"
   ]
  },
  {
   "cell_type": "markdown",
   "metadata": {},
   "source": [
    "### (Optional) Load Pretrained Models"
   ]
  },
  {
   "cell_type": "code",
   "execution_count": 53,
   "metadata": {},
   "outputs": [
    {
     "name": "stdout",
     "output_type": "stream",
     "text": [
      "Pretrained real model loaded from cache\n",
      "Pretrained synth model loaded from cache\n"
     ]
    }
   ],
   "source": [
    "# name_real = \"model_real_cache_20250518.pkl\"\n",
    "# cache_path = CACHE_DIR / name_real\n",
    "# if cache_path.exists():\n",
    "#     with cache_path.open(\"rb\") as f:\n",
    "#         best_model_real = pickle.load(f)\n",
    "#     print(\"Pretrained real model loaded from cache\")\n",
    "\n",
    "\n",
    "# name_synth = \"model_synth_cache_20250518.pkl\"\n",
    "# cache_path = CACHE_DIR / name_synth\n",
    "# if cache_path.exists():\n",
    "#     with cache_path.open(\"rb\") as f:\n",
    "#         best_model_synth = pickle.load(f)\n",
    "#     print(\"Pretrained synth model loaded from cache\")\n",
    "\n"
   ]
  },
  {
   "cell_type": "markdown",
   "metadata": {},
   "source": [
    "### Quality Scores"
   ]
  },
  {
   "cell_type": "code",
   "execution_count": 13,
   "metadata": {},
   "outputs": [
    {
     "name": "stdout",
     "output_type": "stream",
     "text": [
      "Holdout F1 (real): 0.3806444162143435\n",
      "ROC-AUC (real): 0.7831072545669022\n",
      "Holdout F1 (synth): 0.31861132498075173\n",
      "ROC-AUC (synth): 0.8569688251770694\n"
     ]
    }
   ],
   "source": [
    "y_pred_real = best_model_real.predict(X_holdout)\n",
    "print(\"Holdout F1 (real):\", f1_score(y_holdout, y_pred_real))\n",
    "print(\"ROC-AUC (real):\", grid_real.best_score_)\n",
    "\n",
    "y_pred_synth = best_model_synth.predict(X_holdout)\n",
    "print(\"Holdout F1 (synth):\", f1_score(y_holdout, y_pred_synth))\n",
    "print(\"ROC-AUC (synth):\", grid_synth.best_score_)"
   ]
  },
  {
   "cell_type": "code",
   "execution_count": 14,
   "metadata": {},
   "outputs": [],
   "source": [
    "\n",
    "\n",
    "# # a) auf Real-Daten\n",
    "# model_real  = clone(model)           # sklearn.clone, um frische Kopie zu erhalten\n",
    "# model_real.fit(X_real, y_real)\n",
    "# #\n",
    "# # b) auf Synthetic-Daten\n",
    "# model_synth = clone(model)\n",
    "# model_synth.fit(X_synth, y_synth)\n"
   ]
  },
  {
   "cell_type": "code",
   "execution_count": 15,
   "metadata": {},
   "outputs": [
    {
     "name": "stdout",
     "output_type": "stream",
     "text": [
      "Optimale Schwelle: 0.5623751899905541\n"
     ]
    }
   ],
   "source": [
    "\n",
    "\n",
    "proba = best_model_real.predict_proba(X_holdout)[:,1]\n",
    "prec, rec, thr = precision_recall_curve(y_holdout, proba)\n",
    "f1_scores = 2 * (prec * rec) / (prec + rec)\n",
    "best_thr_real = thr[np.argmax(f1_scores)]\n",
    "print(\"Optimale Schwelle:\", best_thr_real)"
   ]
  },
  {
   "cell_type": "code",
   "execution_count": 16,
   "metadata": {},
   "outputs": [
    {
     "name": "stdout",
     "output_type": "stream",
     "text": [
      "Optimale Schwelle: 0.4640450060830271\n"
     ]
    }
   ],
   "source": [
    "\n",
    "\n",
    "proba = best_model_synth.predict_proba(X_holdout)[:,1]\n",
    "prec, rec, thr = precision_recall_curve(y_holdout, proba)\n",
    "f1_scores = 2 * (prec * rec) / (prec + rec)\n",
    "best_thr_synth = thr[np.argmax(f1_scores)]\n",
    "print(\"Optimale Schwelle:\", best_thr_synth)"
   ]
  },
  {
   "cell_type": "code",
   "execution_count": 17,
   "metadata": {},
   "outputs": [],
   "source": [
    "\n",
    "\n",
    "def evaluate(name, fitted_model, user_proba):\n",
    "    proba = fitted_model.predict_proba(X_holdout)[:, 1]\n",
    "    pred  = (proba >= user_proba).astype(int)       # Schwelle ggf. justieren\n",
    "\n",
    "    print(f\"=== {name} ===\")\n",
    "    print(\"Accuracy :\", accuracy_score(y_holdout, pred))\n",
    "    print(\"F1-Score :\", f1_score(y_holdout, pred))\n",
    "    print(\"ROC AUC  :\", roc_auc_score(y_holdout, proba))\n",
    "    print(confusion_matrix(y_holdout, pred))\n",
    "    print(classification_report(y_holdout, pred))\n"
   ]
  },
  {
   "cell_type": "code",
   "execution_count": 18,
   "metadata": {},
   "outputs": [
    {
     "name": "stdout",
     "output_type": "stream",
     "text": [
      "=== Real-modell ===\n",
      "Accuracy : 0.8393425490475512\n",
      "F1-Score : 0.40342212030340446\n",
      "ROC AUC  : 0.7779423043347391\n",
      "[[33051  3860]\n",
      " [ 2904  2287]]\n",
      "              precision    recall  f1-score   support\n",
      "\n",
      "       False       0.92      0.90      0.91     36911\n",
      "        True       0.37      0.44      0.40      5191\n",
      "\n",
      "    accuracy                           0.84     42102\n",
      "   macro avg       0.65      0.67      0.66     42102\n",
      "weighted avg       0.85      0.84      0.85     42102\n",
      "\n",
      "=== Synth-modell ===\n",
      "Accuracy : 0.7424350387155004\n",
      "F1-Score : 0.3228425128012989\n",
      "ROC AUC  : 0.6878660124325251\n",
      "[[28673  8238]\n",
      " [ 2606  2585]]\n",
      "              precision    recall  f1-score   support\n",
      "\n",
      "       False       0.92      0.78      0.84     36911\n",
      "        True       0.24      0.50      0.32      5191\n",
      "\n",
      "    accuracy                           0.74     42102\n",
      "   macro avg       0.58      0.64      0.58     42102\n",
      "weighted avg       0.83      0.74      0.78     42102\n",
      "\n"
     ]
    }
   ],
   "source": [
    "evaluate(\"Real-modell\",   best_model_real, user_proba=best_thr_real)\n",
    "evaluate(\"Synth-modell\",  best_model_synth, user_proba=best_thr_synth)\n"
   ]
  },
  {
   "cell_type": "markdown",
   "metadata": {},
   "source": [
    "#### ROC-AUC"
   ]
  },
  {
   "cell_type": "code",
   "execution_count": 19,
   "metadata": {},
   "outputs": [],
   "source": [
    "# 1. Vorhersage-Wahrscheinlichkeiten holen\n",
    "proba_real  = best_model_real.predict_proba(X_holdout)[:, 1]\n",
    "proba_synth = best_model_synth.predict_proba(X_holdout)[:, 1]\n",
    "\n",
    "# 2. ROC-Kurven berechnen\n",
    "fpr_real, tpr_real, _    = roc_curve(y_holdout, proba_real)\n",
    "fpr_synth, tpr_synth, _  = roc_curve(y_holdout, proba_synth)\n",
    "\n",
    "# 3. AUC-Werte\n",
    "auc_real  = roc_auc_score(y_holdout, proba_real)\n",
    "auc_synth = roc_auc_score(y_holdout, proba_synth)"
   ]
  },
  {
   "cell_type": "code",
   "execution_count": 20,
   "metadata": {},
   "outputs": [
    {
     "data": {
      "image/png": "[encoded data removed]",
      "text/plain": [
       "<Figure size 250x250 with 1 Axes>"
      ]
     },
     "metadata": {},
     "output_type": "display_data"
    }
   ],
   "source": [
    "plt.figure(figsize=(2.5, 2.5))\n",
    "plt.plot(fpr_real,  tpr_real,  label=f'Real Model  (AUC = {auc_real:.2f})')\n",
    "plt.plot(fpr_synth, tpr_synth, label=f'Synth Model (AUC = {auc_synth:.2f})')\n",
    "plt.plot([0, 1],    [0, 1],    'k--', label='Random Chance')\n",
    "\n",
    "plt.xlabel('False Positive Rate')\n",
    "plt.ylabel('True Positive Rate')\n",
    "plt.title('ROC Curve Comparison: Real vs. Synthetic')\n",
    "plt.legend(loc='lower right')\n",
    "plt.tight_layout()\n",
    "if SAVE_FIGURES:\n",
    "    fname = f'bias_ml_ROC-curve.tiff'\n",
    "    fullpath = FIG_DIR / f'{fname}'\n",
    "    plt.savefig(\n",
    "        fullpath,\n",
    "        dpi=300,\n",
    "        format='tiff',\n",
    "        bbox_inches='tight',\n",
    "        pil_kwargs={'compression': 'tiff_lzw'}\n",
    "    )\n",
    "    print(f\"Abbildung gespeichert unter: {fullpath}\")\n",
    "    \n",
    "plt.show()"
   ]
  },
  {
   "cell_type": "markdown",
   "metadata": {},
   "source": [
    "#### Precision-Recall Curve"
   ]
  },
  {
   "cell_type": "code",
   "execution_count": 21,
   "metadata": {},
   "outputs": [],
   "source": [
    "# 1. Vorhersage-Wahrscheinlichkeiten holen\n",
    "proba_real  = best_model_real.predict_proba(X_holdout)[:, 1]\n",
    "proba_synth = best_model_synth.predict_proba(X_holdout)[:, 1]\n",
    "\n",
    "# 2. Precision-Recall-Kurven berechnen\n",
    "prec_real, rec_real, _    = precision_recall_curve(y_holdout, proba_real)\n",
    "prec_synth, rec_synth, _  = precision_recall_curve(y_holdout, proba_synth)\n",
    "\n",
    "# 3. Average Precision-Werte\n",
    "ap_real  = average_precision_score(y_holdout, proba_real)\n",
    "ap_synth = average_precision_score(y_holdout, proba_synth)\n",
    "\n"
   ]
  },
  {
   "cell_type": "code",
   "execution_count": 22,
   "metadata": {},
   "outputs": [
    {
     "data": {
      "image/png": "[encoded data removed]",
      "text/plain": [
       "<Figure size 250x250 with 1 Axes>"
      ]
     },
     "metadata": {},
     "output_type": "display_data"
    }
   ],
   "source": [
    "plt.figure(figsize=(2.5, 2.5))\n",
    "plt.plot(rec_real,  prec_real,  label=f'Real Model  (AP = {ap_real:.2f})')\n",
    "plt.plot(rec_synth, prec_synth, label=f'Synth Model (AP = {ap_synth:.2f})')\n",
    "plt.xlabel('Recall')\n",
    "plt.ylabel('Precision')\n",
    "plt.title('Precision-Recall Curve: Real vs. Synthetic')\n",
    "plt.legend(loc='upper right')\n",
    "plt.tight_layout()\n",
    "if SAVE_FIGURES:\n",
    "    fname = f'bias_ml_precision-recall-curve.tiff'\n",
    "    fullpath = FIG_DIR / f'{fname}'\n",
    "    plt.savefig(\n",
    "        fullpath,\n",
    "        dpi=300,\n",
    "        format='tiff',\n",
    "        bbox_inches='tight',\n",
    "        pil_kwargs={'compression': 'tiff_lzw'}\n",
    "    )\n",
    "    print(f\"Abbildung gespeichert unter: {fullpath}\")\n",
    "    \n",
    "plt.show()"
   ]
  },
  {
   "cell_type": "markdown",
   "metadata": {},
   "source": [
    "#### Tabelle"
   ]
  },
  {
   "cell_type": "code",
   "execution_count": 23,
   "metadata": {},
   "outputs": [
    {
     "data": {
      "text/html": [
       "<div>\n",
       "<style scoped>\n",
       "    .dataframe tbody tr th:only-of-type {\n",
       "        vertical-align: middle;\n",
       "    }\n",
       "\n",
       "    .dataframe tbody tr th {\n",
       "        vertical-align: top;\n",
       "    }\n",
       "\n",
       "    .dataframe thead th {\n",
       "        text-align: right;\n",
       "    }\n",
       "</style>\n",
       "<table border=\"1\" class=\"dataframe\">\n",
       "  <thead>\n",
       "    <tr style=\"text-align: right;\">\n",
       "      <th></th>\n",
       "      <th>Model</th>\n",
       "      <th>Accuracy</th>\n",
       "      <th>Precision</th>\n",
       "      <th>Recall</th>\n",
       "      <th>F1-Score</th>\n",
       "      <th>ROC AUC</th>\n",
       "    </tr>\n",
       "  </thead>\n",
       "  <tbody>\n",
       "    <tr>\n",
       "      <th>0</th>\n",
       "      <td>Real</td>\n",
       "      <td>0.745238</td>\n",
       "      <td>0.27179</td>\n",
       "      <td>0.634945</td>\n",
       "      <td>0.380644</td>\n",
       "      <td>0.777942</td>\n",
       "    </tr>\n",
       "    <tr>\n",
       "      <th>1</th>\n",
       "      <td>Synthetic</td>\n",
       "      <td>0.768776</td>\n",
       "      <td>0.25022</td>\n",
       "      <td>0.438451</td>\n",
       "      <td>0.318611</td>\n",
       "      <td>0.687866</td>\n",
       "    </tr>\n",
       "  </tbody>\n",
       "</table>\n",
       "</div>"
      ],
      "text/plain": [
       "       Model  Accuracy  Precision    Recall  F1-Score   ROC AUC\n",
       "0       Real  0.745238    0.27179  0.634945  0.380644  0.777942\n",
       "1  Synthetic  0.768776    0.25022  0.438451  0.318611  0.687866"
      ]
     },
     "metadata": {},
     "output_type": "display_data"
    }
   ],
   "source": [
    "y_pred_real  = best_model_real.predict(X_holdout)\n",
    "y_pred_synth = best_model_synth.predict(X_holdout)\n",
    "proba_real   = best_model_real.predict_proba(X_holdout)[:,1]\n",
    "proba_synth  = best_model_synth.predict_proba(X_holdout)[:,1]\n",
    "\n",
    "# 2) Sammle die Metriken\n",
    "data = {\n",
    "    'Model': ['Real', 'Synthetic'],\n",
    "    'Accuracy': [\n",
    "        accuracy_score(y_holdout, y_pred_real),\n",
    "        accuracy_score(y_holdout, y_pred_synth)\n",
    "    ],\n",
    "    'Precision': [\n",
    "        precision_score(y_holdout, y_pred_real),\n",
    "        precision_score(y_holdout, y_pred_synth)\n",
    "    ],\n",
    "    'Recall': [\n",
    "        recall_score(y_holdout, y_pred_real),\n",
    "        recall_score(y_holdout, y_pred_synth)\n",
    "    ],\n",
    "    'F1-Score': [\n",
    "        f1_score(y_holdout, y_pred_real),\n",
    "        f1_score(y_holdout, y_pred_synth)\n",
    "    ],\n",
    "    'ROC AUC': [\n",
    "        roc_auc_score(y_holdout, proba_real),\n",
    "        roc_auc_score(y_holdout, proba_synth)\n",
    "    ]\n",
    "}\n",
    "\n",
    "df_metrics = pd.DataFrame(data)\n",
    "display(df_metrics)\n",
    "if SAVE_FIGURES:\n",
    "    fname = f'bias_ml_model-metrics-compared.csv'\n",
    "    fullpath = RES_DIR / f'{fname}'\n",
    "    df_metrics.to_csv(\n",
    "        fullpath,\n",
    "        index=False,\n",
    "        sep=';',\n",
    "        decimal=',',\n",
    "        encoding='utf-8'\n",
    "    )\n",
    "    print(f\"CSV gespeichert unter: {fullpath}\")"
   ]
  },
  {
   "cell_type": "markdown",
   "metadata": {},
   "source": [
    "# Fairness Metrics"
   ]
  },
  {
   "cell_type": "code",
   "execution_count": 24,
   "metadata": {},
   "outputs": [],
   "source": [
    "def add_age_group_column(df, col=\"age\", new_col=\"age_group\"):\n",
    "    \"\"\"Cut age into three bins.\"\"\"\n",
    "    df[new_col] = pd.cut(df[col], bins=AGE_BINS, labels=AGE_LABELS, right=False)\n",
    "\n",
    "def add_subgroup_key(df, sensitive_columns, new_col=\"subgroup_key\"):\n",
    "    \"\"\"Create a subgroup key based on sensitive features.\"\"\"\n",
    "    subgroup_key = (\n",
    "        df[list(sensitive_columns)]\n",
    "        .astype(str)\n",
    "        .agg(\"_\".join, axis=1)\n",
    "        .rename(new_col)\n",
    "    )\n",
    "    df[new_col] = subgroup_key"
   ]
  },
  {
   "cell_type": "code",
   "execution_count": 25,
   "metadata": {},
   "outputs": [],
   "source": [
    "df_holdout['icu_pred_real'] = best_model_real.predict(X_holdout)\n",
    "df_holdout['icu_pred_synth'] = best_model_synth.predict(X_holdout)\n",
    "\n",
    "add_age_group_column(df_holdout, col=\"age\", new_col=\"age_group\")"
   ]
  },
  {
   "cell_type": "code",
   "execution_count": 26,
   "metadata": {},
   "outputs": [],
   "source": [
    "sensitive_columns = [\"gender\", \"ethnicity\", \"age_group\"]\n",
    "\n",
    "add_subgroup_key(df_holdout, sensitive_columns, new_col=\"subgroup_key\")"
   ]
  },
  {
   "cell_type": "markdown",
   "metadata": {},
   "source": [
    "## Für Real"
   ]
  },
  {
   "cell_type": "code",
   "execution_count": 27,
   "metadata": {},
   "outputs": [
    {
     "data": {
      "text/html": [
       "<div>\n",
       "<style scoped>\n",
       "    .dataframe tbody tr th:only-of-type {\n",
       "        vertical-align: middle;\n",
       "    }\n",
       "\n",
       "    .dataframe tbody tr th {\n",
       "        vertical-align: top;\n",
       "    }\n",
       "\n",
       "    .dataframe thead th {\n",
       "        text-align: right;\n",
       "    }\n",
       "</style>\n",
       "<table border=\"1\" class=\"dataframe\">\n",
       "  <thead>\n",
       "    <tr style=\"text-align: right;\">\n",
       "      <th></th>\n",
       "      <th>Selection Rate</th>\n",
       "      <th>True Positive Rate</th>\n",
       "      <th>False Positive Rate</th>\n",
       "      <th>Count</th>\n",
       "    </tr>\n",
       "    <tr>\n",
       "      <th>subgroup_key</th>\n",
       "      <th></th>\n",
       "      <th></th>\n",
       "      <th></th>\n",
       "      <th></th>\n",
       "    </tr>\n",
       "  </thead>\n",
       "  <tbody>\n",
       "    <tr>\n",
       "      <th>F_Asian_30-60</th>\n",
       "      <td>0.186047</td>\n",
       "      <td>0.500000</td>\n",
       "      <td>0.151292</td>\n",
       "      <td>301.0</td>\n",
       "    </tr>\n",
       "    <tr>\n",
       "      <th>F_Asian_&lt;30</th>\n",
       "      <td>0.229167</td>\n",
       "      <td>0.666667</td>\n",
       "      <td>0.215054</td>\n",
       "      <td>96.0</td>\n",
       "    </tr>\n",
       "    <tr>\n",
       "      <th>F_Asian_&gt;60</th>\n",
       "      <td>0.279683</td>\n",
       "      <td>0.641509</td>\n",
       "      <td>0.220859</td>\n",
       "      <td>379.0</td>\n",
       "    </tr>\n",
       "    <tr>\n",
       "      <th>F_Black_30-60</th>\n",
       "      <td>0.212138</td>\n",
       "      <td>0.565217</td>\n",
       "      <td>0.176654</td>\n",
       "      <td>1763.0</td>\n",
       "    </tr>\n",
       "    <tr>\n",
       "      <th>F_Black_&lt;30</th>\n",
       "      <td>0.166181</td>\n",
       "      <td>0.400000</td>\n",
       "      <td>0.143770</td>\n",
       "      <td>343.0</td>\n",
       "    </tr>\n",
       "    <tr>\n",
       "      <th>F_Black_&gt;60</th>\n",
       "      <td>0.267342</td>\n",
       "      <td>0.590090</td>\n",
       "      <td>0.226469</td>\n",
       "      <td>1975.0</td>\n",
       "    </tr>\n",
       "    <tr>\n",
       "      <th>F_Other_30-60</th>\n",
       "      <td>0.208141</td>\n",
       "      <td>0.590909</td>\n",
       "      <td>0.174220</td>\n",
       "      <td>1081.0</td>\n",
       "    </tr>\n",
       "    <tr>\n",
       "      <th>F_Other_&lt;30</th>\n",
       "      <td>0.168539</td>\n",
       "      <td>0.473684</td>\n",
       "      <td>0.145161</td>\n",
       "      <td>267.0</td>\n",
       "    </tr>\n",
       "    <tr>\n",
       "      <th>F_Other_&gt;60</th>\n",
       "      <td>0.281319</td>\n",
       "      <td>0.575758</td>\n",
       "      <td>0.245376</td>\n",
       "      <td>910.0</td>\n",
       "    </tr>\n",
       "    <tr>\n",
       "      <th>F_Unknown_30-60</th>\n",
       "      <td>0.636364</td>\n",
       "      <td>0.933333</td>\n",
       "      <td>0.525000</td>\n",
       "      <td>55.0</td>\n",
       "    </tr>\n",
       "    <tr>\n",
       "      <th>F_Unknown_&lt;30</th>\n",
       "      <td>0.555556</td>\n",
       "      <td>1.000000</td>\n",
       "      <td>0.428571</td>\n",
       "      <td>18.0</td>\n",
       "    </tr>\n",
       "    <tr>\n",
       "      <th>F_Unknown_&gt;60</th>\n",
       "      <td>0.741071</td>\n",
       "      <td>0.923077</td>\n",
       "      <td>0.643836</td>\n",
       "      <td>112.0</td>\n",
       "    </tr>\n",
       "    <tr>\n",
       "      <th>F_White_30-60</th>\n",
       "      <td>0.232146</td>\n",
       "      <td>0.627572</td>\n",
       "      <td>0.188756</td>\n",
       "      <td>4915.0</td>\n",
       "    </tr>\n",
       "    <tr>\n",
       "      <th>F_White_&lt;30</th>\n",
       "      <td>0.180488</td>\n",
       "      <td>0.639535</td>\n",
       "      <td>0.138445</td>\n",
       "      <td>1025.0</td>\n",
       "    </tr>\n",
       "    <tr>\n",
       "      <th>F_White_&gt;60</th>\n",
       "      <td>0.297599</td>\n",
       "      <td>0.630260</td>\n",
       "      <td>0.247256</td>\n",
       "      <td>8498.0</td>\n",
       "    </tr>\n",
       "    <tr>\n",
       "      <th>M_Asian_30-60</th>\n",
       "      <td>0.281588</td>\n",
       "      <td>0.352941</td>\n",
       "      <td>0.271605</td>\n",
       "      <td>277.0</td>\n",
       "    </tr>\n",
       "    <tr>\n",
       "      <th>M_Asian_&lt;30</th>\n",
       "      <td>0.094340</td>\n",
       "      <td>0.285714</td>\n",
       "      <td>0.065217</td>\n",
       "      <td>53.0</td>\n",
       "    </tr>\n",
       "    <tr>\n",
       "      <th>M_Asian_&gt;60</th>\n",
       "      <td>0.373522</td>\n",
       "      <td>0.650602</td>\n",
       "      <td>0.305882</td>\n",
       "      <td>423.0</td>\n",
       "    </tr>\n",
       "    <tr>\n",
       "      <th>M_Black_30-60</th>\n",
       "      <td>0.254000</td>\n",
       "      <td>0.544944</td>\n",
       "      <td>0.214826</td>\n",
       "      <td>1500.0</td>\n",
       "    </tr>\n",
       "    <tr>\n",
       "      <th>M_Black_&lt;30</th>\n",
       "      <td>0.180769</td>\n",
       "      <td>0.720000</td>\n",
       "      <td>0.123404</td>\n",
       "      <td>260.0</td>\n",
       "    </tr>\n",
       "    <tr>\n",
       "      <th>M_Black_&gt;60</th>\n",
       "      <td>0.336792</td>\n",
       "      <td>0.638158</td>\n",
       "      <td>0.295186</td>\n",
       "      <td>1253.0</td>\n",
       "    </tr>\n",
       "    <tr>\n",
       "      <th>M_Other_30-60</th>\n",
       "      <td>0.247507</td>\n",
       "      <td>0.605263</td>\n",
       "      <td>0.206269</td>\n",
       "      <td>1103.0</td>\n",
       "    </tr>\n",
       "    <tr>\n",
       "      <th>M_Other_&lt;30</th>\n",
       "      <td>0.216216</td>\n",
       "      <td>0.526316</td>\n",
       "      <td>0.180723</td>\n",
       "      <td>185.0</td>\n",
       "    </tr>\n",
       "    <tr>\n",
       "      <th>M_Other_&gt;60</th>\n",
       "      <td>0.359318</td>\n",
       "      <td>0.747826</td>\n",
       "      <td>0.296034</td>\n",
       "      <td>821.0</td>\n",
       "    </tr>\n",
       "    <tr>\n",
       "      <th>M_Unknown_30-60</th>\n",
       "      <td>0.698925</td>\n",
       "      <td>0.930233</td>\n",
       "      <td>0.500000</td>\n",
       "      <td>93.0</td>\n",
       "    </tr>\n",
       "    <tr>\n",
       "      <th>M_Unknown_&lt;30</th>\n",
       "      <td>0.545455</td>\n",
       "      <td>1.000000</td>\n",
       "      <td>0.375000</td>\n",
       "      <td>22.0</td>\n",
       "    </tr>\n",
       "    <tr>\n",
       "      <th>M_Unknown_&gt;60</th>\n",
       "      <td>0.703704</td>\n",
       "      <td>0.883721</td>\n",
       "      <td>0.584615</td>\n",
       "      <td>108.0</td>\n",
       "    </tr>\n",
       "    <tr>\n",
       "      <th>M_White_30-60</th>\n",
       "      <td>0.288369</td>\n",
       "      <td>0.639296</td>\n",
       "      <td>0.239674</td>\n",
       "      <td>5597.0</td>\n",
       "    </tr>\n",
       "    <tr>\n",
       "      <th>M_White_&lt;30</th>\n",
       "      <td>0.215405</td>\n",
       "      <td>0.518519</td>\n",
       "      <td>0.179562</td>\n",
       "      <td>766.0</td>\n",
       "    </tr>\n",
       "    <tr>\n",
       "      <th>M_White_&gt;60</th>\n",
       "      <td>0.359863</td>\n",
       "      <td>0.663786</td>\n",
       "      <td>0.307738</td>\n",
       "      <td>7903.0</td>\n",
       "    </tr>\n",
       "  </tbody>\n",
       "</table>\n",
       "</div>"
      ],
      "text/plain": [
       "                 Selection Rate  True Positive Rate  False Positive Rate  \\\n",
       "subgroup_key                                                               \n",
       "F_Asian_30-60          0.186047            0.500000             0.151292   \n",
       "F_Asian_<30            0.229167            0.666667             0.215054   \n",
       "F_Asian_>60            0.279683            0.641509             0.220859   \n",
       "F_Black_30-60          0.212138            0.565217             0.176654   \n",
       "F_Black_<30            0.166181            0.400000             0.143770   \n",
       "F_Black_>60            0.267342            0.590090             0.226469   \n",
       "F_Other_30-60          0.208141            0.590909             0.174220   \n",
       "F_Other_<30            0.168539            0.473684             0.145161   \n",
       "F_Other_>60            0.281319            0.575758             0.245376   \n",
       "F_Unknown_30-60        0.636364            0.933333             0.525000   \n",
       "F_Unknown_<30          0.555556            1.000000             0.428571   \n",
       "F_Unknown_>60          0.741071            0.923077             0.643836   \n",
       "F_White_30-60          0.232146            0.627572             0.188756   \n",
       "F_White_<30            0.180488            0.639535             0.138445   \n",
       "F_White_>60            0.297599            0.630260             0.247256   \n",
       "M_Asian_30-60          0.281588            0.352941             0.271605   \n",
       "M_Asian_<30            0.094340            0.285714             0.065217   \n",
       "M_Asian_>60            0.373522            0.650602             0.305882   \n",
       "M_Black_30-60          0.254000            0.544944             0.214826   \n",
       "M_Black_<30            0.180769            0.720000             0.123404   \n",
       "M_Black_>60            0.336792            0.638158             0.295186   \n",
       "M_Other_30-60          0.247507            0.605263             0.206269   \n",
       "M_Other_<30            0.216216            0.526316             0.180723   \n",
       "M_Other_>60            0.359318            0.747826             0.296034   \n",
       "M_Unknown_30-60        0.698925            0.930233             0.500000   \n",
       "M_Unknown_<30          0.545455            1.000000             0.375000   \n",
       "M_Unknown_>60          0.703704            0.883721             0.584615   \n",
       "M_White_30-60          0.288369            0.639296             0.239674   \n",
       "M_White_<30            0.215405            0.518519             0.179562   \n",
       "M_White_>60            0.359863            0.663786             0.307738   \n",
       "\n",
       "                  Count  \n",
       "subgroup_key             \n",
       "F_Asian_30-60     301.0  \n",
       "F_Asian_<30        96.0  \n",
       "F_Asian_>60       379.0  \n",
       "F_Black_30-60    1763.0  \n",
       "F_Black_<30       343.0  \n",
       "F_Black_>60      1975.0  \n",
       "F_Other_30-60    1081.0  \n",
       "F_Other_<30       267.0  \n",
       "F_Other_>60       910.0  \n",
       "F_Unknown_30-60    55.0  \n",
       "F_Unknown_<30      18.0  \n",
       "F_Unknown_>60     112.0  \n",
       "F_White_30-60    4915.0  \n",
       "F_White_<30      1025.0  \n",
       "F_White_>60      8498.0  \n",
       "M_Asian_30-60     277.0  \n",
       "M_Asian_<30        53.0  \n",
       "M_Asian_>60       423.0  \n",
       "M_Black_30-60    1500.0  \n",
       "M_Black_<30       260.0  \n",
       "M_Black_>60      1253.0  \n",
       "M_Other_30-60    1103.0  \n",
       "M_Other_<30       185.0  \n",
       "M_Other_>60       821.0  \n",
       "M_Unknown_30-60    93.0  \n",
       "M_Unknown_<30      22.0  \n",
       "M_Unknown_>60     108.0  \n",
       "M_White_30-60    5597.0  \n",
       "M_White_<30       766.0  \n",
       "M_White_>60      7903.0  "
      ]
     },
     "execution_count": 27,
     "metadata": {},
     "output_type": "execute_result"
    }
   ],
   "source": [
    "y_true = df_holdout[\"icu_admission_24h\"]\n",
    "y_pred_real = df_holdout[\"icu_pred_real\"]\n",
    "sens_test = df_holdout['subgroup_key']\n",
    "\n",
    "metric_frame_real = MetricFrame(metrics={\n",
    "    'Selection Rate': selection_rate,\n",
    "    'True Positive Rate': true_positive_rate,\n",
    "    'False Positive Rate': false_positive_rate,\n",
    "    'Count': count\n",
    "},\n",
    "y_true=y_true,\n",
    "y_pred=y_pred_real,\n",
    "sensitive_features=sens_test)\n",
    "metric_frame_real.by_group"
   ]
  },
  {
   "cell_type": "code",
   "execution_count": 28,
   "metadata": {},
   "outputs": [],
   "source": [
    "df_prepped = metric_frame_real.by_group.reset_index()\n",
    "\n",
    "# Split the subgroup_key into parts\n",
    "df_prepped[['gender', 'ethnicity', 'age_group']] = df_prepped['subgroup_key'].str.extract(r'^(?P<gender>[MF])_(?P<ethnicity>[^_]+)_(?P<age_group>.+)$')\n",
    "\n",
    "# Optional: make gender labels nicer (z.B. F -> Female)\n",
    "df_prepped['gender'] = df_prepped['gender'].map({'F': 'Female', 'M': 'Male'})\n",
    "\n",
    "# Rename columns if needed to match the plot function’s expected naming\n",
    "df_prepped = df_prepped.rename(columns={\n",
    "    'Selection Rate': 'selection_rate'\n",
    "})"
   ]
  },
  {
   "cell_type": "code",
   "execution_count": 29,
   "metadata": {},
   "outputs": [
    {
     "data": {
      "image/png": "[encoded data removed]",
      "text/plain": [
       "<Figure size 250x350 with 4 Axes>"
      ]
     },
     "metadata": {},
     "output_type": "display_data"
    }
   ],
   "source": [
    "fig = plot_selection_rate_heatmap_by_gender(\n",
    "    df=df_prepped,\n",
    "    gender_col='gender',\n",
    "    x_col='ethnicity',\n",
    "    y_col='age_group',\n",
    "    value_col='selection_rate',\n",
    "    height=3.5,\n",
    "    width=2.5,\n",
    "    custom_scale=(0, 0.8)\n",
    ")\n",
    "plt.show()\n",
    "if SAVE_FIGURES:\n",
    "    fname = f'bias_ml_fairness_real.tiff'\n",
    "    fullpath = FIG_DIR / f'{fname}'\n",
    "    fig.savefig(\n",
    "        fullpath,\n",
    "        dpi=300,\n",
    "        format='tiff',\n",
    "        bbox_inches='tight',\n",
    "        pil_kwargs={'compression': 'tiff_lzw'}\n",
    "    )\n",
    "    print(f\"Abbildung gespeichert unter: {fullpath}\")\n",
    "    \n",
    "plt.close(fig)"
   ]
  },
  {
   "cell_type": "code",
   "execution_count": 30,
   "metadata": {},
   "outputs": [
    {
     "name": "stdout",
     "output_type": "stream",
     "text": [
      "                          Metric     Value\n",
      "0  Demographic Parity Difference  0.646732\n",
      "1      Equalized Odds Difference  0.714286\n",
      "2   Equal Opportunity Difference  0.714286\n"
     ]
    }
   ],
   "source": [
    "disparity_metrics_real = {\n",
    "    'Demographic Parity Difference': demographic_parity_difference(y_true, y_pred_real, sensitive_features=sens_test),\n",
    "    'Equalized Odds Difference': equalized_odds_difference(y_true, y_pred_real, sensitive_features=sens_test),\n",
    "    'Equal Opportunity Difference': equal_opportunity_difference(y_true, y_pred_real, sensitive_features=sens_test)\n",
    "}\n",
    "\n",
    "df_metrics_real = pd.DataFrame(list(disparity_metrics_real.items()), columns=['Metric', 'Value'])\n",
    "print(df_metrics_real)"
   ]
  },
  {
   "cell_type": "markdown",
   "metadata": {},
   "source": [
    "## Für Synth"
   ]
  },
  {
   "cell_type": "code",
   "execution_count": 31,
   "metadata": {},
   "outputs": [
    {
     "name": "stdout",
     "output_type": "stream",
     "text": [
      "                          Metric     Value\n",
      "0  Demographic Parity Difference  0.323375\n",
      "1      Equalized Odds Difference  0.547368\n",
      "2   Equal Opportunity Difference  0.547368\n"
     ]
    }
   ],
   "source": [
    "y_pred_synth = df_holdout[\"icu_pred_synth\"]\n",
    "\n",
    "metric_frame_synth = MetricFrame(metrics={\n",
    "    'Selection Rate': selection_rate,\n",
    "    'True Positive Rate': true_positive_rate,\n",
    "    'False Positive Rate': false_positive_rate,\n",
    "    'Count': count\n",
    "},\n",
    "y_true=y_true,\n",
    "y_pred=y_pred_synth,\n",
    "sensitive_features=sens_test)\n",
    "# metric_frame_synth.by_group\n",
    "\n",
    "disparity_metrics_synth = {\n",
    "    'Demographic Parity Difference': demographic_parity_difference(y_true, y_pred_synth, sensitive_features=sens_test),\n",
    "    'Equalized Odds Difference': equalized_odds_difference(y_true, y_pred_synth, sensitive_features=sens_test),\n",
    "    'Equal Opportunity Difference': equal_opportunity_difference(y_true, y_pred_synth, sensitive_features=sens_test)\n",
    "}\n",
    "\n",
    "df_metrics_synth = pd.DataFrame(list(disparity_metrics_synth.items()), columns=['Metric', 'Value'])\n",
    "print(df_metrics_synth)"
   ]
  },
  {
   "cell_type": "code",
   "execution_count": 32,
   "metadata": {},
   "outputs": [],
   "source": [
    "df_plot_synth = metric_frame_synth.by_group.reset_index()\n",
    "\n",
    "# Split the subgroup_key into parts\n",
    "df_plot_synth[['gender', 'ethnicity', 'age_group']] = df_plot_synth['subgroup_key'].str.extract(r'^(?P<gender>[MF])_(?P<ethnicity>[^_]+)_(?P<age_group>.+)$')\n",
    "\n",
    "# Optional: make gender labels nicer (z.B. F -> Female)\n",
    "df_plot_synth['gender'] = df_plot_synth['gender'].map({'F': 'Female', 'M': 'Male'})\n",
    "\n",
    "# Rename columns if needed to match the plot function’s expected naming\n",
    "df_plot_synth = df_plot_synth.rename(columns={\n",
    "    'Selection Rate': 'selection_rate'\n",
    "})"
   ]
  },
  {
   "cell_type": "code",
   "execution_count": 33,
   "metadata": {},
   "outputs": [
    {
     "data": {
      "image/png": "[encoded data removed]",
      "text/plain": [
       "<Figure size 250x350 with 4 Axes>"
      ]
     },
     "metadata": {},
     "output_type": "display_data"
    }
   ],
   "source": [
    "fig = plot_selection_rate_heatmap_by_gender(\n",
    "    df=df_plot_synth,\n",
    "    gender_col='gender',\n",
    "    x_col='ethnicity',\n",
    "    y_col='age_group',\n",
    "    value_col='selection_rate',\n",
    "    height=3.5,\n",
    "    width=2.5,\n",
    "    custom_scale=(0, 0.8)\n",
    ")\n",
    "plt.show()\n",
    "if SAVE_FIGURES:\n",
    "    fname = f'bias_ml_fairness_synth.tiff'\n",
    "    fullpath = FIG_DIR / f'{fname}'\n",
    "    fig.savefig(\n",
    "        fullpath,\n",
    "        dpi=300,\n",
    "        format='tiff',\n",
    "        bbox_inches='tight',\n",
    "        pil_kwargs={'compression': 'tiff_lzw'}\n",
    "    )\n",
    "    print(f\"Abbildung gespeichert unter: {fullpath}\")\n",
    "plt.close(fig)"
   ]
  },
  {
   "cell_type": "code",
   "execution_count": 55,
   "metadata": {},
   "outputs": [
    {
     "name": "stdout",
     "output_type": "stream",
     "text": [
      "CSV gespeichert unter: results\\bias_ml_fairness_combined.csv\n"
     ]
    }
   ],
   "source": [
    "# Dataframes kombinieren\n",
    "df_synth = df_metrics_synth.copy()\n",
    "df_synth['Dataset'] = 'Synthetic'\n",
    "\n",
    "df_real = df_metrics_real.copy()\n",
    "df_real['Dataset'] = 'Real'\n",
    "\n",
    "df_combined = pd.concat([df_synth, df_real])\n",
    "if SAVE_FIGURES:\n",
    "    fname = f'bias_ml_fairness_combined.csv'\n",
    "    fullpath = RES_DIR / f'{fname}'\n",
    "    df_combined.to_csv(\n",
    "        fullpath,\n",
    "        index=False,\n",
    "        sep=';',\n",
    "        decimal=',',\n",
    "        encoding='utf-8'\n",
    "    )\n",
    "    print(f\"CSV gespeichert unter: {fullpath}\")"
   ]
  },
  {
   "cell_type": "code",
   "execution_count": 35,
   "metadata": {},
   "outputs": [
    {
     "data": {
      "image/png": "[encoded data removed]",
      "text/plain": [
       "<Figure size 210x300 with 1 Axes>"
      ]
     },
     "metadata": {},
     "output_type": "display_data"
    }
   ],
   "source": [
    "\n",
    "\n",
    "# Grouped Bar Chart\n",
    "# plt.figure(figsize=(6, 6))\n",
    "fig, ax = plt.subplots(figsize=(2.1, 3))\n",
    "sns.barplot(data=df_combined, x='Metric', y='Value', hue='Dataset')\n",
    "\n",
    "plt.title('Comparison of Metrics: Synthetic vs Real')\n",
    "plt.xticks(rotation=20)\n",
    "label_map = {\n",
    "        \"Demographic Parity Difference\": \"DP Diff\",\n",
    "        \"Equalized Odds Difference\":    \"EOD\",\n",
    "        \"Equal Opportunity Difference\": \"EOP\",\n",
    "    }\n",
    "\n",
    "locs = ax.get_xticks()  # aktuelle Tick-Positionen auslesen\n",
    "raw_labels = [l.get_text() for l in ax.get_xticklabels()]\n",
    "new_labels = [label_map.get(lbl, lbl) for lbl in raw_labels]\n",
    "ax.set_xticks(locs)  # FixedLocator setzen\n",
    "# ax.set_xticklabels(new_labels, rotation=45, ha='right')\n",
    "ax.set_xticklabels(new_labels, rotation=0)\n",
    "ax.set_ylabel('')\n",
    "ax.set_xlabel('')\n",
    "ax.set_ylim(0, 1)\n",
    "ax.legend(title='Dataset', loc='upper right')\n",
    "plt.tight_layout()\n",
    "plt.show()\n",
    "if SAVE_FIGURES:\n",
    "    fname = f'bias_ml_fairness_comparison.tiff'\n",
    "    fullpath = FIG_DIR / f'{fname}'\n",
    "    fig.savefig(\n",
    "        fullpath,\n",
    "        dpi=300,\n",
    "        format='tiff',\n",
    "        bbox_inches='tight',\n",
    "        pil_kwargs={'compression': 'tiff_lzw'}\n",
    "    )\n",
    "    print(f\"Abbildung gespeichert unter: {fullpath}\")\n",
    "plt.close(fig)"
   ]
  },
  {
   "cell_type": "markdown",
   "metadata": {},
   "source": [
    "# SHAP\n",
    "## Reales Modell"
   ]
  },
  {
   "cell_type": "code",
   "execution_count": 56,
   "metadata": {},
   "outputs": [],
   "source": [
    "importances = best_model_real.named_steps[\"clf\"].feature_importances_\n",
    "feat_names  = best_model_real.named_steps[\"prep\"].get_feature_names_out()\n",
    "pd.Series(importances, index=feat_names).sort_values(ascending=False).head(20)\n",
    "\n",
    "X_hold_trans = best_model_real.named_steps[\"prep\"].transform(X_holdout)\n",
    "\n",
    "if hasattr(X_hold_trans, \"toarray\"):\n",
    "    X_hold_trans = X_hold_trans.toarray()\n",
    "X_hold_trans = X_hold_trans.astype(np.float64)\n",
    "\n",
    "feat_names  = best_model_real.named_steps[\"prep\"].get_feature_names_out()\n",
    "X_shap      = pd.DataFrame(X_hold_trans, columns=feat_names)\n",
    "explainer   = shap.TreeExplainer(best_model_real.named_steps[\"clf\"])\n",
    "shap_values_real = explainer(X_shap, approximate=True)   "
   ]
  },
  {
   "cell_type": "code",
   "execution_count": 37,
   "metadata": {},
   "outputs": [
    {
     "name": "stdout",
     "output_type": "stream",
     "text": [
      "['num__age', 'num__temperature', 'num__heart_rate', 'num__respiratory_rate', 'num__oxygen_saturation', 'num__systolic_bp', 'num__diastolic_bp', 'cat__gender_F', 'cat__gender_M', 'cat__ethnicity_Asian', 'cat__ethnicity_Black', 'cat__ethnicity_Other', 'cat__ethnicity_Unknown', 'cat__ethnicity_White', 'cat__night_arrival_False', 'cat__night_arrival_True', 'cat__weekend_arrival_False', 'cat__weekend_arrival_True', 'cat__chief_complaint_Other', 'cat__chief_complaint_aaa', 'cat__chief_complaint_abdo pain', 'cat__chief_complaint_abdominal distention', 'cat__chief_complaint_abdominal pain', 'cat__chief_complaint_abdominal pain chest pain', 'cat__chief_complaint_abdominal pain dizziness', 'cat__chief_complaint_abdominal pain dyspnea', 'cat__chief_complaint_abdominal pain hypotension', 'cat__chief_complaint_abdominal pain nausea', 'cat__chief_complaint_abdominal pain weakness', 'cat__chief_complaint_abdominal painnv', 'cat__chief_complaint_abnormal ct', 'cat__chief_complaint_abnormal ekg', 'cat__chief_complaint_abnormal lab values', 'cat__chief_complaint_abnormal labs', 'cat__chief_complaint_abnormal labs altered mental status', 'cat__chief_complaint_abnormal labs chest pain', 'cat__chief_complaint_abnormal labs dizziness', 'cat__chief_complaint_abnormal labs dyspnea', 'cat__chief_complaint_abnormal labs fever', 'cat__chief_complaint_abnormal labs nausea vomiting', 'cat__chief_complaint_abnormal mri', 'cat__chief_complaint_abnormal sodium level', 'cat__chief_complaint_abscess', 'cat__chief_complaint_acute renal failure', 'cat__chief_complaint_agitation', 'cat__chief_complaint_alcohol intoxication', 'cat__chief_complaint_alcohol intoxication sp fall', 'cat__chief_complaint_allergic reaction', 'cat__chief_complaint_altered level of consciousness', 'cat__chief_complaint_altered mental status', 'cat__chief_complaint_altered mental status dyspnea', 'cat__chief_complaint_altered mental status hypotension', 'cat__chief_complaint_altered ms', 'cat__chief_complaint_anemia', 'cat__chief_complaint_ankle fracture', 'cat__chief_complaint_ankle injury', 'cat__chief_complaint_ankle pain', 'cat__chief_complaint_anorexia', 'cat__chief_complaint_anxiety', 'cat__chief_complaint_aphasia', 'cat__chief_complaint_appendicitis', 'cat__chief_complaint_arm pain', 'cat__chief_complaint_arm swelling', 'cat__chief_complaint_arm weakness', 'cat__chief_complaint_assault', 'cat__chief_complaint_asthma exacerbation', 'cat__chief_complaint_atrial fibrillation', 'cat__chief_complaint_b leg pain', 'cat__chief_complaint_back pain', 'cat__chief_complaint_back pain chest pain', 'cat__chief_complaint_back pain dyspnea', 'cat__chief_complaint_back pain fever', 'cat__chief_complaint_back pain weakness', 'cat__chief_complaint_bicycle accident', 'cat__chief_complaint_bizarre behavior', 'cat__chief_complaint_blood in stoolmelena', 'cat__chief_complaint_body aches fever', 'cat__chief_complaint_body pain', 'cat__chief_complaint_bowel obstruction', 'cat__chief_complaint_bradycardia', 'cat__chief_complaint_breast pain', 'cat__chief_complaint_bright red blood per rectum', 'cat__chief_complaint_bright red blood per rectum diarrhea', 'cat__chief_complaint_calf pain', 'cat__chief_complaint_cat bite', 'cat__chief_complaint_cellulitis', 'cat__chief_complaint_cerebrovascular accident', 'cat__chief_complaint_cervical spine fracture sp fall', 'cat__chief_complaint_chest pain', 'cat__chief_complaint_chest pain cough', 'cat__chief_complaint_chest pain fever', 'cat__chief_complaint_chest pain headache', 'cat__chief_complaint_chest pain nausea', 'cat__chief_complaint_chest pain nausea vomiting', 'cat__chief_complaint_chest pain noncardiac features', 'cat__chief_complaint_chest pain weakness', 'cat__chief_complaint_chills', 'cat__chief_complaint_cholecystitis', 'cat__chief_complaint_clotted fistula', 'cat__chief_complaint_coffee ground emesis', 'cat__chief_complaint_confusion', 'cat__chief_complaint_congestive heart failure', 'cat__chief_complaint_constipation', 'cat__chief_complaint_cough', 'cat__chief_complaint_cough fever iliac', 'cat__chief_complaint_cough weakness', 'cat__chief_complaint_coughcongestion', 'cat__chief_complaint_cpsob', 'cat__chief_complaint_deep vein thrombosis', 'cat__chief_complaint_dehydration', 'cat__chief_complaint_depression', 'cat__chief_complaint_depressionsuicidaldeliberate self harm', 'cat__chief_complaint_detox', 'cat__chief_complaint_diabetic ketoacidosis', 'cat__chief_complaint_diarrhea', 'cat__chief_complaint_diarrhea abdominal pain', 'cat__chief_complaint_diarrhea fever', 'cat__chief_complaint_difficulty ambulating', 'cat__chief_complaint_difficulty breathing', 'cat__chief_complaint_difficulty swallowing', 'cat__chief_complaint_dizziness', 'cat__chief_complaint_dizziness dyspnea', 'cat__chief_complaint_dizziness nausea', 'cat__chief_complaint_dizziness sp fall', 'cat__chief_complaint_dizziness vomiting', 'cat__chief_complaint_dizzy', 'cat__chief_complaint_doe', 'cat__chief_complaint_dog bite', 'cat__chief_complaint_dyspnea', 'cat__chief_complaint_dyspnea dyspnea on exertion', 'cat__chief_complaint_dyspnea nausea vomiting', 'cat__chief_complaint_dyspnea pedal edema', 'cat__chief_complaint_dyspnea productive cough', 'cat__chief_complaint_dyspnea sp fall', 'cat__chief_complaint_dyspnea wheezing', 'cat__chief_complaint_dysuria', 'cat__chief_complaint_ear pain', 'cat__chief_complaint_ekg changes', 'cat__chief_complaint_elbow fracture', 'cat__chief_complaint_elbow pain', 'cat__chief_complaint_elevated troponin', 'cat__chief_complaint_elevated wbc', 'cat__chief_complaint_epigastric pain', 'cat__chief_complaint_epistaxis', 'cat__chief_complaint_eye pain', 'cat__chief_complaint_facial droop', 'cat__chief_complaint_facial swelling', 'cat__chief_complaint_failure to thrive', 'cat__chief_complaint_fall', 'cat__chief_complaint_fatigue', 'cat__chief_complaint_femur fracture', 'cat__chief_complaint_fever', 'cat__chief_complaint_fever abdominal pain', 'cat__chief_complaint_fever altered mental status', 'cat__chief_complaint_fever dyspnea', 'cat__chief_complaint_fever nausea', 'cat__chief_complaint_fever nausea vomiting', 'cat__chief_complaint_fever neutropenia', 'cat__chief_complaint_fever vomiting', 'cat__chief_complaint_fevers', 'cat__chief_complaint_finger injury', 'cat__chief_complaint_flank pain', 'cat__chief_complaint_food bolus', 'cat__chief_complaint_foot infection', 'cat__chief_complaint_foot pain', 'cat__chief_complaint_foot swelling', 'cat__chief_complaint_for eval', 'cat__chief_complaint_found down', 'cat__chief_complaint_ftt', 'cat__chief_complaint_gastrointestinal bleed', 'cat__chief_complaint_gastrointestinal bleeding', 'cat__chief_complaint_general weakness', 'cat__chief_complaint_generalized weakness', 'cat__chief_complaint_gtube eval', 'cat__chief_complaint_hallucinations', 'cat__chief_complaint_hand injury', 'cat__chief_complaint_hand pain', 'cat__chief_complaint_hand swelling', 'cat__chief_complaint_head bleed', 'cat__chief_complaint_head injury sp fall', 'cat__chief_complaint_headache', 'cat__chief_complaint_headache dizziness', 'cat__chief_complaint_headache fever', 'cat__chief_complaint_headache nausea', 'cat__chief_complaint_headache weakness', 'cat__chief_complaint_hematemesis', 'cat__chief_complaint_hematuria', 'cat__chief_complaint_hemoptysis', 'cat__chief_complaint_hip fracture', 'cat__chief_complaint_hip pain', 'cat__chief_complaint_hyperglycemia', 'cat__chief_complaint_hyperkalemia', 'cat__chief_complaint_hypertension', 'cat__chief_complaint_hypoglycemia', 'cat__chief_complaint_hypokalemia', 'cat__chief_complaint_hyponatremia', 'cat__chief_complaint_hypotension', 'cat__chief_complaint_hypoxia', 'cat__chief_complaint_ich', 'cat__chief_complaint_iliac', 'cat__chief_complaint_influenza like illness', 'cat__chief_complaint_inguinal pain', 'cat__chief_complaint_intraparenchymal hemorrhage', 'cat__chief_complaint_jaundice', 'cat__chief_complaint_jaw pain', 'cat__chief_complaint_kidney stone', 'cat__chief_complaint_knee injury', 'cat__chief_complaint_knee pain', 'cat__chief_complaint_knee swelling', 'cat__chief_complaint_left leg pain', 'cat__chief_complaint_left lower quadrant abdominal pain', 'cat__chief_complaint_left sided abdominal pain', 'cat__chief_complaint_leg injury', 'cat__chief_complaint_leg pain', 'cat__chief_complaint_leg redness', 'cat__chief_complaint_leg swelling', 'cat__chief_complaint_leg swelling wound eval', 'cat__chief_complaint_lethargy', 'cat__chief_complaint_lightheaded', 'cat__chief_complaint_low back pain', 'cat__chief_complaint_low hct', 'cat__chief_complaint_lower back pain sp fall', 'cat__chief_complaint_lower extremity injury', 'cat__chief_complaint_lower extremity pain', 'cat__chief_complaint_malaise', 'cat__chief_complaint_mania', 'cat__chief_complaint_melena', 'cat__chief_complaint_mental status changes', 'cat__chief_complaint_motor vehicle collision', 'cat__chief_complaint_ms changes', 'cat__chief_complaint_nausea vomiting', 'cat__chief_complaint_nausea vomiting abdominal pain', 'cat__chief_complaint_nausea vomiting diarrhea abdominal pain', 'cat__chief_complaint_nausea vomiting diarrhea weakness', 'cat__chief_complaint_nausea vomiting fever', 'cat__chief_complaint_nausea vomiting weakness', 'cat__chief_complaint_nausea weakness', 'cat__chief_complaint_nauseavomiting', 'cat__chief_complaint_neck pain', 'cat__chief_complaint_neck swelling', 'cat__chief_complaint_neuro eval', 'cat__chief_complaint_nstemi', 'cat__chief_complaint_numbness', 'cat__chief_complaint_overdose', 'cat__chief_complaint_palpitations', 'cat__chief_complaint_palpitationsirregular heart beat', 'cat__chief_complaint_pancreatitis', 'cat__chief_complaint_paranoid delusion', 'cat__chief_complaint_ped struck', 'cat__chief_complaint_pelvic pain', 'cat__chief_complaint_picc line eval', 'cat__chief_complaint_pleural effusion', 'cat__chief_complaint_pna', 'cat__chief_complaint_pneumonia', 'cat__chief_complaint_pneumothorax', 'cat__chief_complaint_positive blood cultures', 'cat__chief_complaint_presyncope', 'cat__chief_complaint_productive cough', 'cat__chief_complaint_psych eval', 'cat__chief_complaint_psychiatric hold', 'cat__chief_complaint_psychosis', 'cat__chief_complaint_pulmonary embolism', 'cat__chief_complaint_pulseless foot', 'cat__chief_complaint_rash', 'cat__chief_complaint_rectal bleeding', 'cat__chief_complaint_rectal pain', 'cat__chief_complaint_respiratory distress', 'cat__chief_complaint_rib fracture sp fall', 'cat__chief_complaint_rib pain', 'cat__chief_complaint_right flank pain', 'cat__chief_complaint_right lower quadrant pain', 'cat__chief_complaint_right sided abdominal pain', 'cat__chief_complaint_right upper quadrant pain', 'cat__chief_complaint_ro stroke', 'cat__chief_complaint_sbo', 'cat__chief_complaint_sdh', 'cat__chief_complaint_seizure', 'cat__chief_complaint_sepsis', 'cat__chief_complaint_shortness of breath', 'cat__chief_complaint_shoulder pain', 'cat__chief_complaint_sickle cell crisis', 'cat__chief_complaint_slurred speech', 'cat__chief_complaint_sore throat', 'cat__chief_complaint_sp chest pain', 'cat__chief_complaint_sp fall', 'cat__chief_complaint_sp fall altered mental status', 'cat__chief_complaint_sp fall back pain', 'cat__chief_complaint_sp fall leg pain', 'cat__chief_complaint_subarachnoid hemorrhage', 'cat__chief_complaint_substance use', 'cat__chief_complaint_suicidal ideation', 'cat__chief_complaint_syncope', 'cat__chief_complaint_syncopepresyncope', 'cat__chief_complaint_tachycardia', 'cat__chief_complaint_testicular pain', 'cat__chief_complaint_throat foreign body sensation', 'cat__chief_complaint_thrombocytopenia', 'cat__chief_complaint_tibfib fracture', 'cat__chief_complaint_toe pain', 'cat__chief_complaint_transient ischemic attack', 'cat__chief_complaint_traumatic backspine injury', 'cat__chief_complaint_tremor', 'cat__chief_complaint_unable to ambulate', 'cat__chief_complaint_unknowncc', 'cat__chief_complaint_unresponsive', 'cat__chief_complaint_unsteady gait', 'cat__chief_complaint_unwitnessed fall', 'cat__chief_complaint_upper abdominal pain', 'cat__chief_complaint_upper extremity pain', 'cat__chief_complaint_urinary retention', 'cat__chief_complaint_urinary tract infection', 'cat__chief_complaint_urosepsis', 'cat__chief_complaint_vaginal bleeding', 'cat__chief_complaint_vertigo', 'cat__chief_complaint_vision changes', 'cat__chief_complaint_visual changes', 'cat__chief_complaint_vomiting abdominal pain', 'cat__chief_complaint_vomiting andor nausea', 'cat__chief_complaint_vomiting blood', 'cat__chief_complaint_weakness', 'cat__chief_complaint_weakness dyspnea', 'cat__chief_complaint_weakness fever', 'cat__chief_complaint_weakness sp fall', 'cat__chief_complaint_wound check', 'cat__chief_complaint_wound eval', 'cat__chief_complaint_wound eval fever', 'cat__chief_complaint_wrist pain', 'cat__icd_block_A00-A09', 'cat__icd_block_A15-A19', 'cat__icd_block_A20-A28', 'cat__icd_block_A30-A49', 'cat__icd_block_A50-A64', 'cat__icd_block_A65-A69', 'cat__icd_block_A75-A79', 'cat__icd_block_A80-A89', 'cat__icd_block_A90-A99', 'cat__icd_block_B00-B09', 'cat__icd_block_B10-B10', 'cat__icd_block_B15-B19', 'cat__icd_block_B20-B20', 'cat__icd_block_B25-B34', 'cat__icd_block_B35-B49', 'cat__icd_block_B50-B64', 'cat__icd_block_B65-B83', 'cat__icd_block_B85-B89', 'cat__icd_block_B95-B97', 'cat__icd_block_B99-B99', 'cat__icd_block_C00-C14', 'cat__icd_block_C15-C26', 'cat__icd_block_C30-C39', 'cat__icd_block_C40-C41', 'cat__icd_block_C43-C44', 'cat__icd_block_C45-C49', 'cat__icd_block_C50-C50', 'cat__icd_block_C51-C58', 'cat__icd_block_C60-C63', 'cat__icd_block_C64-C68', 'cat__icd_block_C69-C72', 'cat__icd_block_C73-C75', 'cat__icd_block_C76-C80', 'cat__icd_block_C81-C96', 'cat__icd_block_D00-D09', 'cat__icd_block_D10-D36', 'cat__icd_block_D37-D48', 'cat__icd_block_D49-D49', 'cat__icd_block_D50-D53', 'cat__icd_block_D55-D59', 'cat__icd_block_D60-D64', 'cat__icd_block_D65-D69', 'cat__icd_block_D70-D77', 'cat__icd_block_D78-D78', 'cat__icd_block_D80-D89', 'cat__icd_block_E00-E07', 'cat__icd_block_E08-E13', 'cat__icd_block_E15-E16', 'cat__icd_block_E20-E35', 'cat__icd_block_E40-E46', 'cat__icd_block_E50-E64', 'cat__icd_block_E65-E68', 'cat__icd_block_E70-E88', 'cat__icd_block_E89-E89', 'cat__icd_block_F01-F09', 'cat__icd_block_F10-F19', 'cat__icd_block_F20-F29', 'cat__icd_block_F30-F39', 'cat__icd_block_F40-F48', 'cat__icd_block_F50-F59', 'cat__icd_block_F60-F69', 'cat__icd_block_F80-F89', 'cat__icd_block_F90-F98', 'cat__icd_block_F99-F99', 'cat__icd_block_G00-G09', 'cat__icd_block_G10-G14', 'cat__icd_block_G20-G26', 'cat__icd_block_G30-G32', 'cat__icd_block_G35-G37', 'cat__icd_block_G40-G47', 'cat__icd_block_G50-G59', 'cat__icd_block_G60-G65', 'cat__icd_block_G70-G73', 'cat__icd_block_G80-G83', 'cat__icd_block_G89-G99', 'cat__icd_block_H00-H05', 'cat__icd_block_H10-H11', 'cat__icd_block_H15-H22', 'cat__icd_block_H25-H28', 'cat__icd_block_H30-H36', 'cat__icd_block_H40-H42', 'cat__icd_block_H43-H44', 'cat__icd_block_H46-H47', 'cat__icd_block_H49-H52', 'cat__icd_block_H53-H54', 'cat__icd_block_H55-H57', 'cat__icd_block_H59-H59', 'cat__icd_block_H60-H62', 'cat__icd_block_H65-H75', 'cat__icd_block_H80-H83', 'cat__icd_block_H90-H94', 'cat__icd_block_I00-I02', 'cat__icd_block_I05-I09', 'cat__icd_block_I10-I1A', 'cat__icd_block_I20-I25', 'cat__icd_block_I26-I28', 'cat__icd_block_I30-I5A', 'cat__icd_block_I60-I69', 'cat__icd_block_I70-I79', 'cat__icd_block_I80-I89', 'cat__icd_block_I95-I99', 'cat__icd_block_J00-J06', 'cat__icd_block_J09-J18', 'cat__icd_block_J20-J22', 'cat__icd_block_J30-J39', 'cat__icd_block_J40-J4A', 'cat__icd_block_J60-J70', 'cat__icd_block_J80-J84', 'cat__icd_block_J85-J86', 'cat__icd_block_J90-J94', 'cat__icd_block_J95-J95', 'cat__icd_block_J96-J99', 'cat__icd_block_K00-K14', 'cat__icd_block_K20-K31', 'cat__icd_block_K35-K38', 'cat__icd_block_K40-K46', 'cat__icd_block_K50-K52', 'cat__icd_block_K55-K64', 'cat__icd_block_K65-K68', 'cat__icd_block_K70-K77', 'cat__icd_block_K80-K87', 'cat__icd_block_K90-K95', 'cat__icd_block_L00-L08', 'cat__icd_block_L10-L14', 'cat__icd_block_L20-L30', 'cat__icd_block_L40-L45', 'cat__icd_block_L49-L54', 'cat__icd_block_L55-L59', 'cat__icd_block_L60-L75', 'cat__icd_block_L76-L76', 'cat__icd_block_L80-L99', 'cat__icd_block_M00-M02', 'cat__icd_block_M05-M14', 'cat__icd_block_M15-M19', 'cat__icd_block_M20-M25', 'cat__icd_block_M26-M27', 'cat__icd_block_M30-M36', 'cat__icd_block_M40-M43', 'cat__icd_block_M45-M49', 'cat__icd_block_M50-M54', 'cat__icd_block_M60-M63', 'cat__icd_block_M65-M67', 'cat__icd_block_M70-M79', 'cat__icd_block_M80-M85', 'cat__icd_block_M86-M90', 'cat__icd_block_M91-M94', 'cat__icd_block_M96-M96', 'cat__icd_block_M97-M97', 'cat__icd_block_M99-M99', 'cat__icd_block_N00-N08', 'cat__icd_block_N10-N16', 'cat__icd_block_N17-N19', 'cat__icd_block_N20-N23', 'cat__icd_block_N25-N29', 'cat__icd_block_N30-N39', 'cat__icd_block_N40-N53', 'cat__icd_block_N60-N65', 'cat__icd_block_N70-N77', 'cat__icd_block_N80-N98', 'cat__icd_block_N99-N99', 'cat__icd_block_O00-O08', 'cat__icd_block_O09-O09', 'cat__icd_block_O10-O16', 'cat__icd_block_O20-O29', 'cat__icd_block_O30-O48', 'cat__icd_block_O60-O77', 'cat__icd_block_O85-O92', 'cat__icd_block_O94-O9A', 'cat__icd_block_P19-P29', 'cat__icd_block_Q00-Q07', 'cat__icd_block_Q10-Q18', 'cat__icd_block_Q20-Q28', 'cat__icd_block_Q30-Q34', 'cat__icd_block_Q38-Q45', 'cat__icd_block_Q60-Q64', 'cat__icd_block_Q65-Q79', 'cat__icd_block_Q80-Q89', 'cat__icd_block_R00-R09', 'cat__icd_block_R10-R19', 'cat__icd_block_R20-R23', 'cat__icd_block_R25-R29', 'cat__icd_block_R30-R39', 'cat__icd_block_R40-R46', 'cat__icd_block_R47-R49', 'cat__icd_block_R50-R69', 'cat__icd_block_R70-R79', 'cat__icd_block_R80-R82', 'cat__icd_block_R83-R89', 'cat__icd_block_R90-R94', 'cat__icd_block_S00-S09', 'cat__icd_block_S10-S19', 'cat__icd_block_S20-S29', 'cat__icd_block_S30-S39', 'cat__icd_block_S40-S49', 'cat__icd_block_S50-S59', 'cat__icd_block_S60-S69', 'cat__icd_block_S70-S79', 'cat__icd_block_S80-S89', 'cat__icd_block_S90-S99', 'cat__icd_block_T07-T07', 'cat__icd_block_T14-T14', 'cat__icd_block_T15-T19', 'cat__icd_block_T20-T25', 'cat__icd_block_T26-T28', 'cat__icd_block_T33-T34', 'cat__icd_block_T36-T50', 'cat__icd_block_T51-T65', 'cat__icd_block_T66-T78', 'cat__icd_block_T79-T79', 'cat__icd_block_T80-T88', 'cat__icd_block_X71-X83', 'cat__icd_block_Z00-Z13', 'cat__icd_block_Z20-Z29', 'cat__icd_block_Z30-Z39', 'cat__icd_block_Z40-Z53', 'cat__icd_block_Z55-Z65', 'cat__icd_block_Z68-Z68', 'cat__icd_block_Z69-Z76', 'cat__icd_block_Z77-Z99', 'ord__consciousness_level', 'ord__news_score']\n"
     ]
    }
   ],
   "source": [
    "print(X_shap.columns.tolist())"
   ]
  },
  {
   "cell_type": "code",
   "execution_count": 57,
   "metadata": {},
   "outputs": [
    {
     "name": "stdout",
     "output_type": "stream",
     "text": [
      "Abbildung gespeichert unter: figures\\bias_ml_SHAP_real.tiff\n"
     ]
    }
   ],
   "source": [
    "# plt.figure(figsize=(5, 6))\n",
    "\n",
    "X_shap_renamed = X_shap.rename(\n",
    "    columns=lambda c: c.split('__', 1)[1] if '__' in c else c\n",
    ")\n",
    "\n",
    "shap.summary_plot(\n",
    "    shap_values_real.values[:, :, 1],\n",
    "    X_shap_renamed,\n",
    "    show=False,\n",
    "    max_display=10 # Standardmäßig werden 20 angezeigt\n",
    ")\n",
    "\n",
    "fig = plt.gcf()\n",
    "fig.set_size_inches(7.2, 4)\n",
    "\n",
    "plt.tight_layout()\n",
    "# plt.show()\n",
    "if SAVE_FIGURES:\n",
    "    fname = 'bias_ml_SHAP_real.tiff'\n",
    "    fullpath = FIG_DIR / fname\n",
    "    plt.savefig(\n",
    "        fullpath,\n",
    "        dpi=300,\n",
    "        format='tiff',\n",
    "        bbox_inches='tight',\n",
    "        pil_kwargs={'compression': 'tiff_lzw'}\n",
    "    )\n",
    "    print(f\"Abbildung gespeichert unter: {fullpath}\")\n",
    "plt.close()"
   ]
  },
  {
   "cell_type": "markdown",
   "metadata": {},
   "source": [
    "## Synthetisches Modell"
   ]
  },
  {
   "cell_type": "code",
   "execution_count": 58,
   "metadata": {},
   "outputs": [],
   "source": [
    "importances = best_model_synth.named_steps[\"clf\"].feature_importances_\n",
    "feat_names  = best_model_synth.named_steps[\"prep\"].get_feature_names_out()\n",
    "pd.Series(importances, index=feat_names).sort_values(ascending=False).head(20)\n",
    "\n",
    "X_hold_trans = best_model_synth.named_steps[\"prep\"].transform(X_holdout)\n",
    "\n",
    "if hasattr(X_hold_trans, \"toarray\"):\n",
    "    X_hold_trans = X_hold_trans.toarray()\n",
    "X_hold_trans = X_hold_trans.astype(np.float64)\n",
    "\n",
    "feat_names  = best_model_synth.named_steps[\"prep\"].get_feature_names_out()\n",
    "X_shap      = pd.DataFrame(X_hold_trans, columns=feat_names)\n",
    "explainer   = shap.TreeExplainer(best_model_synth.named_steps[\"clf\"])\n",
    "shap_values_real = explainer(X_shap, approximate=True)   "
   ]
  },
  {
   "cell_type": "code",
   "execution_count": 59,
   "metadata": {},
   "outputs": [
    {
     "name": "stdout",
     "output_type": "stream",
     "text": [
      "Abbildung gespeichert unter: figures\\bias_ml_SHA_synth.tiff\n"
     ]
    }
   ],
   "source": [
    "# plt.figure(figsize=(5, 6))\n",
    "\n",
    "X_shap_renamed = X_shap.rename(\n",
    "    columns=lambda c: c.split('__', 1)[1] if '__' in c else c\n",
    ")\n",
    "\n",
    "shap.summary_plot(\n",
    "    shap_values_real.values[:, :, 1],\n",
    "    X_shap_renamed,\n",
    "    show=False,\n",
    "    max_display=10 # Standardmäßig werden 20 angezeigt\n",
    ")\n",
    "\n",
    "fig = plt.gcf()\n",
    "fig.set_size_inches(7.2, 4)\n",
    "\n",
    "plt.tight_layout()\n",
    "# plt.show()\n",
    "if SAVE_FIGURES:\n",
    "    fname = 'bias_ml_SHA_synth.tiff'\n",
    "    fullpath = FIG_DIR / fname\n",
    "    plt.savefig(\n",
    "        fullpath,\n",
    "        dpi=300,\n",
    "        format='tiff',\n",
    "        bbox_inches='tight',\n",
    "        pil_kwargs={'compression': 'tiff_lzw'}\n",
    "    )\n",
    "    print(f\"Abbildung gespeichert unter: {fullpath}\")\n",
    "plt.close()"
   ]
  },
  {
   "cell_type": "markdown",
   "metadata": {},
   "source": [
    "# LIME"
   ]
  },
  {
   "cell_type": "markdown",
   "metadata": {},
   "source": [
    "### Identifying suited Subjects\n",
    "E.g. comparing two persons ho have a great difference between icu-admission prediction.\n",
    "- Highest prediction for ICU admission is in Female, Unknown, >60\n",
    "- Lowest in Male, Asian, <30\n",
    "#### Female, Unkown, >60"
   ]
  },
  {
   "cell_type": "code",
   "execution_count": 39,
   "metadata": {},
   "outputs": [
    {
     "name": "stdout",
     "output_type": "stream",
     "text": [
      "      age gender ethnicity consciousness_level  temperature  heart_rate  \\\n",
      "2518   75      F   Unknown                   A         36.8          55   \n",
      "\n",
      "      respiratory_rate  oxygen_saturation  systolic_bp  diastolic_bp  \\\n",
      "2518                16                 99          149            60   \n",
      "\n",
      "     news_score  night_arrival  weekend_arrival chief_complaint icd_block  \n",
      "2518          0           True            False             sdh   S00-S09  \n"
     ]
    }
   ],
   "source": [
    "female_unknown_over_60 = df_holdout[\n",
    "    (df_holdout['gender'] == 'F') &\n",
    "    (df_holdout['age'] > 60) &\n",
    "    (df_holdout['ethnicity'] == 'Unknown') &\n",
    "    (df_holdout['icu_admission_24h'] == True)\n",
    "]\n",
    "# print(female_unknown_over_60.head())\n",
    "\n",
    "# I randomly selected a row from that holdout subset: row 2518\n",
    "print(X_holdout.iloc[[2518]]) # female, 75, unknown, ICU Admission = True"
   ]
  },
  {
   "cell_type": "markdown",
   "metadata": {},
   "source": [
    "#### Male, Asian, <30"
   ]
  },
  {
   "cell_type": "code",
   "execution_count": 40,
   "metadata": {},
   "outputs": [
    {
     "name": "stdout",
     "output_type": "stream",
     "text": [
      "     age gender ethnicity consciousness_level  temperature  heart_rate  \\\n",
      "416   58      M     Asian                   A         37.0          98   \n",
      "\n",
      "     respiratory_rate  oxygen_saturation  systolic_bp  diastolic_bp  \\\n",
      "416                18                100          145            79   \n",
      "\n",
      "    news_score  night_arrival  weekend_arrival      chief_complaint icd_block  \n",
      "416          1          False            False  abnormal lab values   K70-K77  \n"
     ]
    }
   ],
   "source": [
    "male_asian_under_60 = df_holdout[\n",
    "    (df_holdout['gender'] == 'M') &\n",
    "    (df_holdout['age'] < 60) &\n",
    "    (df_holdout['ethnicity'] == 'Asian') &\n",
    "    (df_holdout['icu_admission_24h'] == False)\n",
    "]\n",
    "# print(male_asian_under_60.head())\n",
    "\n",
    "# I randomly selected a row from that holdout subset: row 416\n",
    "print(X_holdout.iloc[[416]]) # male, 58, asian, ICU Admission = False"
   ]
  },
  {
   "cell_type": "code",
   "execution_count": 41,
   "metadata": {},
   "outputs": [],
   "source": [
    "# Training-Daten nach Preprocessing (dense Array)\n",
    "# X_train_prep = best_model_real.named_steps['prep'].transform(X_real).toarray()\n",
    "X_train_prep = best_model_real.named_steps['prep'].transform(X_real)\n",
    "feature_names = best_model_real.named_steps['prep'].get_feature_names_out()\n",
    "\n",
    "explainer = LimeTabularExplainer(\n",
    "    training_data = X_train_prep,\n",
    "    feature_names = feature_names,\n",
    "    class_names   = ['no_ICU', 'ICU'],\n",
    "    mode          = 'classification',\n",
    "    discretize_continuous = True\n",
    ")\n"
   ]
  },
  {
   "cell_type": "code",
   "execution_count": 42,
   "metadata": {},
   "outputs": [],
   "source": [
    "# Beispiel-Patient aus df_holdout\n",
    "# 2518: high ICU adm prediction     416: low ICU adm prediction\n",
    "i = 416\n",
    "x_instance = best_model_real.named_steps['prep'].transform(X_holdout.iloc[[i]])[0]\n",
    "predict_fn = best_model_real.named_steps['clf'].predict_proba\n",
    "\n",
    "lime_exp = explainer.explain_instance(\n",
    "    data_row   = x_instance,\n",
    "    predict_fn = predict_fn,\n",
    "    num_features=len(feature_names)\n",
    ")"
   ]
  },
  {
   "cell_type": "code",
   "execution_count": 43,
   "metadata": {},
   "outputs": [],
   "source": [
    "explanation_list = lime_exp.as_list(label=1)\n",
    "feature_names = best_model_real.named_steps['prep'].get_feature_names_out()\n",
    "x_values = x_instance\n",
    "active_features = [(name, val) for name, val in zip(feature_names, x_values) if val != 0]\n",
    "\n",
    "active_data = []\n",
    "for feat_name, val in active_features:\n",
    "    match = [entry for entry in explanation_list if feat_name in entry[0]]\n",
    "    if match:\n",
    "        active_data.append({\n",
    "            'Feature': feat_name,\n",
    "            'Wert': val,\n",
    "            'LIME_Beitrag': match[0][1],\n",
    "            'Typ': 'Aktiv'\n",
    "        })\n",
    "    else:\n",
    "        active_data.append({\n",
    "            'Feature': feat_name,\n",
    "            'Wert': val,\n",
    "            'LIME_Beitrag': 0.0,\n",
    "            'Typ': 'Aktiv (kein direkter LIME-Beitrag)'\n",
    "        })\n",
    "\n",
    "already_included = [feat['Feature'] for feat in active_data]\n",
    "top10_extra = sorted(explanation_list, key=lambda x: abs(x[1]), reverse=True)\n",
    "\n",
    "extra_data = []\n",
    "for feature_desc, lime_value in top10_extra:\n",
    "    if not any(active_name in feature_desc for active_name in already_included):\n",
    "        extra_data.append({\n",
    "            'Feature': feature_desc,\n",
    "            'Wert': None,\n",
    "            'LIME_Beitrag': lime_value,\n",
    "            'Typ': 'Top10 Zusatz'\n",
    "        })\n",
    "    if len(extra_data) == 10:\n",
    "        break\n",
    "df_lime = pd.DataFrame(active_data + extra_data)"
   ]
  },
  {
   "cell_type": "code",
   "execution_count": 44,
   "metadata": {},
   "outputs": [],
   "source": [
    "df_lime = df_lime.sort_values('LIME_Beitrag')\n",
    "df_lime['Ist_aktiv'] = df_lime['Wert'].notna()\n",
    "\n",
    "max_abs = df_lime['LIME_Beitrag'].abs().max()\n",
    "vmin, vmax = -max_abs, max_abs\n",
    "\n",
    "norm = colors.TwoSlopeNorm(vmin=vmin, vcenter=0, vmax=vmax)\n",
    "cmap = cm.RdBu_r\n",
    "\n",
    "# Alpha-Werte vektoriell\n",
    "# alphas = np.where(df_lime['Ist_aktiv'], 1.0, 0.75)\n",
    "# hatches = np.where(df_lime['Ist_aktiv'], '', '//')\n",
    "lines = np.where(df_lime['Ist_aktiv'], 2.5, 0.5)\n",
    "\n",
    "# Farben vektoriell anhand der neuen Norm\n",
    "farbwerte = cmap(norm(df_lime['LIME_Beitrag']))\n",
    "\n"
   ]
  },
  {
   "cell_type": "markdown",
   "metadata": {},
   "source": [
    "## Plot"
   ]
  },
  {
   "cell_type": "code",
   "execution_count": 45,
   "metadata": {},
   "outputs": [],
   "source": [
    "df_lime['Feature'] = df_lime['Feature'].str.replace(r'^(?:cat__|num__|ord__)', '', regex=True)\n"
   ]
  },
  {
   "cell_type": "code",
   "execution_count": 46,
   "metadata": {},
   "outputs": [
    {
     "data": {
      "image/png": "[encoded data removed]",
      "text/plain": [
       "<Figure size 720x350 with 2 Axes>"
      ]
     },
     "metadata": {},
     "output_type": "display_data"
    }
   ],
   "source": [
    "# Plot\n",
    "plt.rcParams.update({'font.size': 6})\n",
    "fig, ax = plt.subplots(figsize=(7.2, 3.5))\n",
    "for feature, wert, color, line in zip(df_lime['Feature'],\n",
    "                                       df_lime['LIME_Beitrag'],\n",
    "                                       farbwerte,\n",
    "                                       lines):\n",
    "    ax.barh(feature, wert, color=color, edgecolor='black', linewidth=line, alpha=1.0)\n",
    "\n",
    "# Null-Linie zur Orientierung\n",
    "ax.axvline(0, color='grey', linestyle='--', linewidth=1)\n",
    "\n",
    "# Farbskala hinzufügen\n",
    "sm = cm.ScalarMappable(norm=norm, cmap=cmap)\n",
    "sm.set_array([])\n",
    "cbar = fig.colorbar(sm, ax=ax)\n",
    "cbar.set_label('LIME Beitrag')\n",
    "\n",
    "ax.set_title('LIME Explanation – Feature Importances')\n",
    "ax.set_xlabel('LIME Beitrag')\n",
    "ax.set_ylabel('Feature')\n",
    "plt.tight_layout()\n",
    "if SAVE_FIGURES:\n",
    "    fname = f'bias_ml_LIME_patid_{i}.tiff'\n",
    "    fullpath = FIG_DIR / fname\n",
    "    fig.savefig(\n",
    "        fullpath,\n",
    "        dpi=300,\n",
    "        format='tiff',\n",
    "        bbox_inches='tight',\n",
    "        pil_kwargs={'compression': 'tiff_lzw'}\n",
    "    )\n",
    "    print(f\"Abbildung gespeichert unter: {fullpath}\")\n",
    "plt.show()"
   ]
  }
 ],
 "metadata": {
  "kernelspec": {
   "display_name": "General Purpose",
   "language": "python",
   "name": "venv"
  },
  "language_info": {
   "codemirror_mode": {
    "name": "ipython",
    "version": 3
   },
   "file_extension": ".py",
   "mimetype": "text/x-python",
   "name": "python",
   "nbconvert_exporter": "python",
   "pygments_lexer": "ipython3",
   "version": "3.12.4"
  }
 },
 "nbformat": 4,
 "nbformat_minor": 2
}
