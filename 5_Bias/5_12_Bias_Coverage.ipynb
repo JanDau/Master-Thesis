{
 "cells": [
  {
   "cell_type": "markdown",
   "metadata": {},
   "source": [
    "# Objectives\n",
    "This notebook compares real vs. synthetic coverage of all intersectional subgroups (gender × ethnicity × age) and visualizes their relative proportions via facetted heatmaps.\n",
    "\n",
    "# Imports"
   ]
  },
  {
   "cell_type": "code",
   "execution_count": 83,
   "metadata": {},
   "outputs": [],
   "source": [
    "from pathlib import Path\n",
    "from datetime import datetime\n",
    "import pandas as pd\n",
    "import numpy as np\n",
    "import matplotlib.pyplot as plt\n",
    "import seaborn as sns\n",
    "from itertools import product"
   ]
  },
  {
   "cell_type": "markdown",
   "metadata": {},
   "source": [
    "# User Configuration"
   ]
  },
  {
   "cell_type": "code",
   "execution_count": 84,
   "metadata": {},
   "outputs": [],
   "source": [
    "SAVE_DATA = False  # set to True to save the figures\n",
    "\n",
    "REAL_FILE = \"20250301_data_20250510_122405_final_100_train.csv\"\n",
    "SYNTH_FILE = \"20250301_data_20250510_122405_final_100_synth.csv\"\n",
    "\n",
    "DATA_DIR = Path(\"../../data\")\n",
    "OUTPUT_DIR_CSV = Path(\"results\")\n",
    "OUTPUT_DIR_CSV.mkdir(parents=True, exist_ok=True)  # ensure output folder exists\n",
    "OUTPUT_DIR_FIG = Path(\"figures\")\n",
    "OUTPUT_DIR_FIG.mkdir(parents=True, exist_ok=True)  # ensure output folder exists\n",
    "\n",
    "AGE_BINS = [-np.inf, 29, 60, np.inf]\n",
    "AGE_LABELS = [\"<30\", \"30-60\", \">60\"]\n",
    "\n",
    "# Set my design\n",
    "sns.set_theme(\n",
    "    style=\"white\",\n",
    "    context=\"paper\",\n",
    "    palette=\"colorblind\",\n",
    "    rc={\n",
    "        \"font.family\": \"sans-serif\",\n",
    "        \"font.sans-serif\": [\"Arial\"],\n",
    "        \"font.size\": 7,\n",
    "        \"axes.titlesize\": 7,\n",
    "        \"axes.labelsize\": 7,\n",
    "        \"xtick.labelsize\": 7,\n",
    "        \"ytick.labelsize\": 7,\n",
    "        \"legend.fontsize\": 7\n",
    "    }\n",
    ")"
   ]
  },
  {
   "cell_type": "markdown",
   "metadata": {},
   "source": [
    "# Utility Functions"
   ]
  },
  {
   "cell_type": "code",
   "execution_count": 85,
   "metadata": {},
   "outputs": [],
   "source": [
    "def add_age_group_column(df, col=\"age\", new_col=\"age_group\"):\n",
    "    \"\"\"Cut age into three bins.\"\"\"\n",
    "    df[new_col] = pd.cut(df[col], bins=AGE_BINS, labels=AGE_LABELS, right=False)"
   ]
  },
  {
   "cell_type": "markdown",
   "metadata": {},
   "source": [
    "# Data Loading"
   ]
  },
  {
   "cell_type": "code",
   "execution_count": 86,
   "metadata": {},
   "outputs": [],
   "source": [
    "def load_data(real_filename: str, synth_filename: str) -> tuple[pd.DataFrame, pd.DataFrame]:\n",
    "    \"\"\"Read real and synthetic CSVs into DataFrames.\"\"\"\n",
    "    df_real = pd.read_csv(DATA_DIR / real_filename, low_memory=False)\n",
    "    df_synth = pd.read_csv(DATA_DIR / synth_filename, low_memory=False)\n",
    "\n",
    "    return df_real, df_synth"
   ]
  },
  {
   "cell_type": "markdown",
   "metadata": {},
   "source": [
    "# Computer Coverage"
   ]
  },
  {
   "cell_type": "code",
   "execution_count": 87,
   "metadata": {},
   "outputs": [],
   "source": [
    "def compute_coverage(df_real: pd.DataFrame, df_synth: pd.DataFrame):\n",
    "    \"\"\"Count and compute proportions for every (gender, ethnicity, age_group).\"\"\"\n",
    "    genders     = sorted(df_real[\"gender\"].dropna().unique())\n",
    "    ethnicities = sorted(df_real[\"ethnicity\"].dropna().unique())\n",
    "    subgroups   = list(product(genders, ethnicities, AGE_LABELS))\n",
    "    records = []\n",
    "    for g, e, a in subgroups:\n",
    "        r_mask = (df_real[\"gender\"]==g)&(df_real[\"ethnicity\"]==e)&(df_real[\"age_group\"]==a)\n",
    "        s_mask = (df_synth[\"gender\"]==g)&(df_synth[\"ethnicity\"]==e)&(df_synth[\"age_group\"]==a)\n",
    "        r_count, s_count = r_mask.sum(), s_mask.sum()\n",
    "        records.append({\n",
    "            \"gender\":      g,\n",
    "            \"ethnicity\":   e,\n",
    "            \"age_group\":   a,\n",
    "            \"real_count\":  r_count,\n",
    "            \"synth_count\": s_count,\n",
    "            \"real_prop\":   r_count / df_real.shape[0],\n",
    "            \"synth_prop\":  s_count / df_synth.shape[0],\n",
    "        })\n",
    "    return pd.DataFrame(records)"
   ]
  },
  {
   "cell_type": "markdown",
   "metadata": {},
   "source": [
    "# Plot Coverage"
   ]
  },
  {
   "cell_type": "code",
   "execution_count": 88,
   "metadata": {},
   "outputs": [],
   "source": [
    "def plot_coverage(df_cov: pd.DataFrame, kind: str) -> plt.Figure:\n",
    "    prop_col = f\"{kind}_prop\"\n",
    "    vmax     = df_cov[[\"real_prop\",\"synth_prop\"]].max().max()\n",
    "\n",
    "    g = sns.FacetGrid(df_cov, col=\"gender\", col_wrap=3, height=4, aspect=1.5)\n",
    "    g.map_dataframe(\n",
    "        lambda data, color: sns.heatmap(\n",
    "            data.pivot(index=\"age_group\", columns=\"ethnicity\", values=prop_col)\n",
    "                .reindex(AGE_LABELS),\n",
    "            annot=True, fmt=\".3f\",\n",
    "            cmap=\"viridis\", vmin=0, vmax=vmax,\n",
    "            cbar=True  # überall aus\n",
    "        )\n",
    "    )\n",
    "\n",
    "    # ax_last = g.axes.flatten()[-1]\n",
    "    # sm = plt.cm.ScalarMappable(norm=plt.Normalize(vmin=0, vmax=vmax), cmap=\"viridis\")\n",
    "    # g.figure.colorbar(sm, ax=ax_last, label=\"Relative Proportion\")\n",
    "\n",
    "    g.set_titles(f\"{kind.capitalize()} Data – Gender: \" + \"{col_name}\")\n",
    "    g.set_axis_labels(\"Ethnicity\",\"Age Group\")\n",
    "    g.figure.subplots_adjust(wspace=0.1) #, hspace=0.3)\n",
    "    g.figure.set_size_inches(7.2, 1.5)\n",
    "        \n",
    "    return g.figure\n",
    "\n",
    "\n"
   ]
  },
  {
   "cell_type": "markdown",
   "metadata": {},
   "source": [
    "# Main Routine"
   ]
  },
  {
   "cell_type": "code",
   "execution_count": 89,
   "metadata": {},
   "outputs": [],
   "source": [
    "def main(save_plots: bool = True):\n",
    "    # 1. Load\n",
    "    df_real, df_synth = load_data(REAL_FILE, SYNTH_FILE)\n",
    "\n",
    "    # 2. Prep\n",
    "    add_age_group_column(df_real)\n",
    "    add_age_group_column(df_synth)\n",
    "\n",
    "    # 3. Compute\n",
    "    cov_df = compute_coverage(df_real, df_synth)\n",
    "\n",
    "    # 4. Plot\n",
    "    ts = datetime.now().strftime(\"%Y%m%d_%H%M%S\")\n",
    "    \n",
    "    fig = plot_coverage(cov_df, kind=\"real\")\n",
    "    plt.show()\n",
    "    if SAVE_DATA:\n",
    "        fig.savefig(OUTPUT_DIR_FIG / f\"coverage_heatmap_real_{ts}.tiff\", dpi=300, format='tiff', bbox_inches='tight', pil_kwargs={'compression': 'tiff_lzw'})\n",
    "    plt.close(fig)\n",
    "    \n",
    "    fig = plot_coverage(cov_df, kind=\"synth\")\n",
    "    plt.show()\n",
    "    if SAVE_DATA:\n",
    "        fig.savefig(OUTPUT_DIR_FIG / f\"coverage_heatmap_synth_{ts}.tiff\", dpi=300, format='tiff', bbox_inches='tight', pil_kwargs={'compression': 'tiff_lzw'})\n",
    "    plt.close(fig)\n",
    "\n",
    "    \n",
    "    cov_df.to_csv(OUTPUT_DIR_CSV / f\"coverage_rawdata_{ts}.csv\", index=False, sep=\";\", decimal=\",\", encoding=\"utf-8\")\n",
    "\n",
    "    # 5. Subset Percentages\n",
    "    female_subset = cov_df[cov_df[\"gender\"] == \"F\"]\n",
    "    male_subset = cov_df[cov_df[\"gender\"] == \"M\"]\n",
    "    \n",
    "    subset_df = pd.DataFrame({\n",
    "    \"gender\": [\"F\", \"M\"],\n",
    "    \"real_sum\": [female_subset['real_prop'].sum(), male_subset['real_prop'].sum()],\n",
    "    \"synth_sum\": [female_subset['synth_prop'].sum(), male_subset['synth_prop'].sum()]\n",
    "    })\n",
    "    display(subset_df)\n",
    "    if SAVE_DATA:\n",
    "        subset_df.to_csv(OUTPUT_DIR_CSV / f\"coverage_subset_{ts}.csv\", index=False)\n"
   ]
  },
  {
   "cell_type": "markdown",
   "metadata": {},
   "source": [
    "# Main Execution"
   ]
  },
  {
   "cell_type": "code",
   "execution_count": 90,
   "metadata": {},
   "outputs": [
    {
     "data": {
      "image/png": "[encoded data removed]",
      "text/plain": [
       "<Figure size 720x150 with 4 Axes>"
      ]
     },
     "metadata": {},
     "output_type": "display_data"
    },
    {
     "data": {
      "image/png": "[encoded data removed]",
      "text/plain": [
       "<Figure size 720x150 with 4 Axes>"
      ]
     },
     "metadata": {},
     "output_type": "display_data"
    },
    {
     "data": {
      "text/html": [
       "<div>\n",
       "<style scoped>\n",
       "    .dataframe tbody tr th:only-of-type {\n",
       "        vertical-align: middle;\n",
       "    }\n",
       "\n",
       "    .dataframe tbody tr th {\n",
       "        vertical-align: top;\n",
       "    }\n",
       "\n",
       "    .dataframe thead th {\n",
       "        text-align: right;\n",
       "    }\n",
       "</style>\n",
       "<table border=\"1\" class=\"dataframe\">\n",
       "  <thead>\n",
       "    <tr style=\"text-align: right;\">\n",
       "      <th></th>\n",
       "      <th>gender</th>\n",
       "      <th>real_sum</th>\n",
       "      <th>synth_sum</th>\n",
       "    </tr>\n",
       "  </thead>\n",
       "  <tbody>\n",
       "    <tr>\n",
       "      <th>0</th>\n",
       "      <td>F</td>\n",
       "      <td>0.514653</td>\n",
       "      <td>0.589623</td>\n",
       "    </tr>\n",
       "    <tr>\n",
       "      <th>1</th>\n",
       "      <td>M</td>\n",
       "      <td>0.485347</td>\n",
       "      <td>0.410377</td>\n",
       "    </tr>\n",
       "  </tbody>\n",
       "</table>\n",
       "</div>"
      ],
      "text/plain": [
       "  gender  real_sum  synth_sum\n",
       "0      F  0.514653   0.589623\n",
       "1      M  0.485347   0.410377"
      ]
     },
     "metadata": {},
     "output_type": "display_data"
    }
   ],
   "source": [
    "if __name__ == \"__main__\":\n",
    "    main(save_plots=SAVE_DATA)"
   ]
  }
 ],
 "metadata": {
  "kernelspec": {
   "display_name": "General Purpose",
   "language": "python",
   "name": "venv"
  },
  "language_info": {
   "codemirror_mode": {
    "name": "ipython",
    "version": 3
   },
   "file_extension": ".py",
   "mimetype": "text/x-python",
   "name": "python",
   "nbconvert_exporter": "python",
   "pygments_lexer": "ipython3",
   "version": "3.12.4"
  }
 },
 "nbformat": 4,
 "nbformat_minor": 2
}
