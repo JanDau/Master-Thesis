{
 "cells": [
  {
   "cell_type": "markdown",
   "metadata": {},
   "source": [
    "# Imports"
   ]
  },
  {
   "cell_type": "code",
   "execution_count": 1,
   "metadata": {},
   "outputs": [],
   "source": [
    "from dataclasses import dataclass\n",
    "from pathlib import Path\n",
    "import pandas as pd\n",
    "from datetime import datetime\n",
    "import os\n",
    "from joblib import Memory\n",
    "import numpy as np\n",
    "import seaborn as sns\n",
    "from typing import Optional, Tuple, Union, Sequence, Dict, Callable, Any\n",
    "import matplotlib.pyplot as plt\n",
    "from sklearn.impute import SimpleImputer\n",
    "from sklearn.pipeline import Pipeline\n",
    "from sklearn.experimental import enable_halving_search_cv\n",
    "from sklearn.model_selection import train_test_split, GridSearchCV, HalvingGridSearchCV, StratifiedKFold, StratifiedShuffleSplit, ParameterGrid\n",
    "from sklearn.compose import ColumnTransformer\n",
    "from sklearn.preprocessing import OneHotEncoder, StandardScaler, OrdinalEncoder\n",
    "from sklearn.neighbors import KNeighborsClassifier\n",
    "from sklearn.calibration import CalibratedClassifierCV, FrozenEstimator\n",
    "from sklearn.linear_model import LogisticRegression\n",
    "from sklearn.ensemble import RandomForestClassifier\n",
    "from itertools import combinations\n",
    "from tqdm.auto import tqdm\n",
    "from tqdm_joblib import tqdm_joblib \n",
    "import math\n",
    "import pickle\n",
    "from sklearn.metrics import (\n",
    "    roc_curve, roc_auc_score,\n",
    "    accuracy_score, precision_score,\n",
    "    recall_score, f1_score, cohen_kappa_score, confusion_matrix\n",
    ")\n"
   ]
  },
  {
   "cell_type": "markdown",
   "metadata": {},
   "source": [
    "# User Settings"
   ]
  },
  {
   "cell_type": "code",
   "execution_count": 51,
   "metadata": {},
   "outputs": [],
   "source": [
    "@dataclass\n",
    "class Config:\n",
    "    data_dir: Path = Path(\"../../data\")\n",
    "    cache_dir: Path = Path(\"cache\")\n",
    "    figures_dir: Path = Path(\"figures\")\n",
    "    results_dir: Path = Path(\"results\")\n",
    "\n",
    "    real_file: str = \"20250301_data_20250510_122405_final_100_train.csv\"\n",
    "    synth_file: str = \"20250301_data_20250510_122405_final_100_synth.csv\"\n",
    "    holdout_file: str = \"20250301_data_20250510_122405_final_100_holdout.csv\"\n",
    "\n",
    "    random_seed: int = 42\n",
    "    sampling_size: int = None # None if no sampling\n",
    "    num_cv: int = 5\n",
    "\n",
    "    use_existing_thresholds: bool = True\n",
    "    cache_file: str = \"global_thresholds_20250514_074229.pkl\"\n",
    "    use_cached_data: bool = True\n",
    "    negative_control: str = \"negative-control_all.pkl\"\n",
    "    positive_control: str = \"positive-control_all.pkl\"\n",
    "    baseline: str = \"baseline_all.pkl\"\n",
    "    tstr: str = \"tstr_all.pkl\"\n",
    "    augmented: str = \"augmented_all.pkl\"\n",
    "    save_data_as_cache: bool = True\n",
    "    save_data: bool = True\n",
    "\n",
    "# Set my design\n",
    "sns.set_theme(\n",
    "    style=\"white\",\n",
    "    context=\"paper\",\n",
    "    palette=\"colorblind\",\n",
    "    rc={\n",
    "        \"font.family\": \"sans-serif\",\n",
    "        \"font.sans-serif\": [\"Arial\"],\n",
    "        \"font.size\": 7,\n",
    "        \"axes.titlesize\": 7,\n",
    "        \"axes.labelsize\": 7,\n",
    "        \"xtick.labelsize\": 7,\n",
    "        \"ytick.labelsize\": 7,\n",
    "        \"legend.fontsize\": 7\n",
    "    }\n",
    ")\n"
   ]
  },
  {
   "cell_type": "markdown",
   "metadata": {},
   "source": [
    "# Utility Functions"
   ]
  },
  {
   "cell_type": "code",
   "execution_count": 3,
   "metadata": {},
   "outputs": [],
   "source": [
    "target_col = 'icu_admission_24h'\n",
    "num_cols = ['age', 'temperature', 'heart_rate', 'respiratory_rate', 'oxygen_saturation', 'systolic_bp', 'diastolic_bp']\n",
    "cat_cols = ['gender', 'ethnicity', 'chief_complaint', 'icd_block', 'night_arrival', 'weekend_arrival']\n",
    "ord_cols = ['consciousness_level','news_score']\n",
    "bool_cols = ['night_arrival', 'weekend_arrival']"
   ]
  },
  {
   "cell_type": "code",
   "execution_count": 4,
   "metadata": {},
   "outputs": [],
   "source": [
    "# DTYPE_MAP: Dict[str, str] = {\n",
    "#     \"icu_admission_24h\": \"category\",\n",
    "#     \"gender\": \"category\",\n",
    "#     \"ethnicity\": \"category\",\n",
    "#     \"chief_complaint\": \"category\",\n",
    "#     \"icd_block\": \"category\",\n",
    "#     \"night_arrival\": \"category\",  # wird später in bool umgewandelt\n",
    "#     \"weekend_arrival\": \"category\",  # wird später in bool umgewandelt\n",
    "#     \"consciousness_level\": \"category\",  # wird geordnet\n",
    "#     \"news_score\": \"int8\", # wird später ordered-Categorical\n",
    "#     \"age\": \"int16\",\n",
    "#     \"temperature\": \"float32\",\n",
    "#     \"heart_rate\": \"int16\",    \n",
    "#     \"respiratory_rate\": \"int16\",\n",
    "#     \"oxygen_saturation\": \"int16\",\n",
    "#     \"systolic_bp\": \"int16\",\n",
    "#     \"diastolic_bp\": \"int16\",\n",
    "# }\n",
    "\n",
    "# _INT_SENTINEL = -1  # Platzhalter für fehlende Integer\n",
    "\n",
    "\n",
    "# # ──────────────────────────────────────────────────────────────────\n",
    "# # 2) Ordered Categoricals anwenden\n",
    "# # ──────────────────────────────────────────────────────────────────\n",
    "# def _set_ordered_categoricals(df: pd.DataFrame) -> pd.DataFrame:\n",
    "#     \"\"\"legt die Reihenfolge für bewusstseins- und NEWS-Score fest\"\"\"\n",
    "#     df = df.copy()\n",
    "\n",
    "#     df[\"consciousness_level\"] = pd.Categorical(\n",
    "#         df[\"consciousness_level\"],\n",
    "#         categories=[\"A\", \"C\", \"V\", \"P\", \"U\"],\n",
    "#         ordered=True,\n",
    "#     )\n",
    "\n",
    "#     df[\"news_score\"] = pd.Categorical(\n",
    "#         df[\"news_score\"].replace(_INT_SENTINEL, pd.NA),\n",
    "#         categories=list(range(19)),\n",
    "#         ordered=True,\n",
    "#     )\n",
    "\n",
    "#     return df\n",
    "\n",
    "\n",
    "# # ──────────────────────────────────────────────────────────────────\n",
    "# # 3) API-kompatibler Wrapper (falls Legacy-Code `convert_dtypes` nutzt)\n",
    "# # ──────────────────────────────────────────────────────────────────\n",
    "# def convert_dtypes(df: pd.DataFrame) -> pd.DataFrame:  # noqa: N802\n",
    "#     \"\"\"nur noch Ordered-Categoricals - Dtypes stammen schon aus read_csv\"\"\"\n",
    "#     return _set_ordered_categoricals(df)\n",
    "\n",
    "\n",
    "# # ──────────────────────────────────────────────────────────────────\n",
    "# # 4) Daten-Loader\n",
    "# # ──────────────────────────────────────────────────────────────────\n",
    "# def load_data(\n",
    "#     real_filename: Union[str, Path],\n",
    "#     synth_filename: Optional[Union[str, Path]] = None,\n",
    "#     holdout_filename: Optional[Union[str, Path]] = None,\n",
    "#     data_dir: Path | None = None,\n",
    "#     *,\n",
    "#     dtype_map: Dict[str, str] = DTYPE_MAP,\n",
    "#     int_sentinel: int = _INT_SENTINEL,\n",
    "# ) -> Tuple[pd.DataFrame, Optional[pd.DataFrame], Optional[pd.DataFrame]]:\n",
    "#     \"\"\"\n",
    "#     Liest bis zu drei CSV-Dateien mit optimierten Dtypes ein und liefert\n",
    "#     sie als Tuple zurück. Jedes DataFrame wird anschließend um\n",
    "#     *ordered* Categoricals ergänzt.\n",
    "#     \"\"\"\n",
    "#     data_dir = Path(data_dir or \".\").expanduser()\n",
    "\n",
    "#     def _read(fn: Union[str, Path] | None) -> Optional[pd.DataFrame]:\n",
    "#         if fn is None:\n",
    "#             return None\n",
    "\n",
    "#         df = pd.read_csv(\n",
    "#             data_dir / fn,\n",
    "#             dtype=dtype_map,\n",
    "#             na_values=[\"\", \"NA\"],\n",
    "#             low_memory=False,\n",
    "#         )\n",
    "\n",
    "#         # fehlende Integer per Sentinel auffüllen, damit cast funktioniert\n",
    "#         int_cols = [c for c, d in dtype_map.items() if d.startswith(\"int\")]\n",
    "#         if int_cols:\n",
    "#             df[int_cols] = df[int_cols].fillna(int_sentinel)\n",
    "\n",
    "#         return _set_ordered_categoricals(df)\n",
    "\n",
    "#     return (\n",
    "#         _read(real_filename),\n",
    "#         _read(synth_filename),\n",
    "#         _read(holdout_filename),\n",
    "#     )"
   ]
  },
  {
   "cell_type": "code",
   "execution_count": 5,
   "metadata": {},
   "outputs": [],
   "source": [
    "def convert_dtypes(df: pd.DataFrame) -> pd.DataFrame:\n",
    "    \"\"\"\n",
    "    Konvertiert bestimmte Spalten des DataFrames in die gewünschten Datentypen:\n",
    "     - definierte Spalten als category\n",
    "     - definierte Spalten als pandas Nullable Integer (Int64)\n",
    "     - consciousness_level und news_score als geordnete Categoricals\n",
    "    \"\"\"\n",
    "    df = df.copy()  # Änderungen nicht am Original vornehmen\n",
    "\n",
    "    # 1) Kategorische Spalten\n",
    "    cat_cols = ['gender', 'ethnicity', 'chief_complaint', 'icd_block']\n",
    "    for col in cat_cols:\n",
    "        # df[col] = df[col].astype('category')\n",
    "        df[col] = df[col].astype('object') # 'category' führt zu Problemen mit dem OneHotEncoder\n",
    "\n",
    "    # 2) Integer-Spalten mit Nullable Integer dtype\n",
    "    int_cols = ['age', 'systolic_bp', 'diastolic_bp',\n",
    "                'heart_rate', 'respiratory_rate', 'oxygen_saturation']\n",
    "    for col in int_cols:\n",
    "        df[col] = df[col].astype('Int64')\n",
    "        # df[col] = df[col].astype('int32')\n",
    "\n",
    "    # 3) Geordnete Categoricals\n",
    "    df['consciousness_level'] = pd.Categorical(\n",
    "        df['consciousness_level'],\n",
    "        categories=['A', 'C', 'V', 'P', 'U'],\n",
    "        ordered=True\n",
    "    )\n",
    "    df['news_score'] = pd.Categorical(\n",
    "        df['news_score'],\n",
    "        categories=list(range(19)),\n",
    "        ordered=True\n",
    "    )\n",
    "\n",
    "    return df\n",
    "\n",
    "def load_data(\n",
    "    real_filename: Union[str, Path],\n",
    "    synth_filename: Optional[Union[str, Path]] = None,\n",
    "    holdout_filename: Optional[Union[str, Path]] = None,\n",
    "    data_dir: Path = None,\n",
    ") -> Tuple[pd.DataFrame, Optional[pd.DataFrame], Optional[pd.DataFrame]]:\n",
    "    \"\"\"\n",
    "    Lädt die realen, synthetischen und optionalen Holdout-CSV-Dateien\n",
    "    aus data_dir und wandelt sie über convert_dtypes um.\n",
    "\n",
    "    Returns:\n",
    "        df_real: pd.DataFrame\n",
    "        df_synth: Optional[pd.DataFrame]\n",
    "        df_holdout: Optional[pd.DataFrame]\n",
    "    \"\"\"\n",
    "    def _read_and_convert(fn: Union[str, Path]) -> pd.DataFrame:\n",
    "        return (\n",
    "            pd.read_csv(data_dir / fn, low_memory=False)\n",
    "              .pipe(convert_dtypes)\n",
    "        )\n",
    "\n",
    "    df_real    = _read_and_convert(real_filename)\n",
    "    df_synth   = _read_and_convert(synth_filename)   if synth_filename   else None\n",
    "    df_holdout = _read_and_convert(holdout_filename) if holdout_filename else None\n",
    "\n",
    "    return df_real, df_synth, df_holdout"
   ]
  },
  {
   "cell_type": "code",
   "execution_count": 6,
   "metadata": {},
   "outputs": [],
   "source": [
    "def round_up_auto(n):\n",
    "    \"\"\"Aufrundet auf das nächsthöhere Zehner-, Hunderter-, Tausender-…-Vielfache.\"\"\"\n",
    "    if n == 0:\n",
    "        return 0\n",
    "    base = 10 ** (len(str(abs(int(n)))) - 1)\n",
    "    return math.ceil(n / base) * base"
   ]
  },
  {
   "cell_type": "markdown",
   "metadata": {},
   "source": [
    "# Datengrundlage\n",
    "## Import"
   ]
  },
  {
   "cell_type": "code",
   "execution_count": 52,
   "metadata": {},
   "outputs": [],
   "source": [
    "cfg = Config()\n",
    "current_timestamp = datetime.now().strftime(\"%Y%m%d_%H%M%S\")\n",
    "\n",
    "df_train_real, df_train_synth, df_holdout = load_data(\n",
    "    cfg.real_file,\n",
    "    cfg.synth_file,\n",
    "    cfg.holdout_file,\n",
    "    data_dir=cfg.data_dir\n",
    ")"
   ]
  },
  {
   "cell_type": "markdown",
   "metadata": {},
   "source": [
    "## Col Description, Target, Categories"
   ]
  },
  {
   "cell_type": "code",
   "execution_count": 8,
   "metadata": {},
   "outputs": [],
   "source": [
    "target_col = 'icu_admission_24h'\n",
    "num_cols = ['age', 'temperature', 'heart_rate', 'respiratory_rate', 'oxygen_saturation', 'systolic_bp', 'diastolic_bp']\n",
    "cat_cols = ['gender', 'ethnicity', 'chief_complaint', 'icd_block', 'night_arrival', 'weekend_arrival']\n",
    "ord_cols = ['consciousness_level','news_score']\n",
    "bool_cols = ['night_arrival', 'weekend_arrival']"
   ]
  },
  {
   "cell_type": "code",
   "execution_count": 9,
   "metadata": {},
   "outputs": [],
   "source": [
    "train = pd.concat([df_train_real, df_train_synth], axis=0)\n",
    "min_resources_for_halving = round_up_auto(cfg.num_cv / train[target_col].mean())\n",
    "cat_categories = {col: train[col].dropna().unique().tolist() for col in cat_cols}\n",
    "ord_categories = {col: train[col].cat.categories.tolist() for col in ord_cols}"
   ]
  },
  {
   "cell_type": "markdown",
   "metadata": {},
   "source": [
    "## Holdout-Split into Validation and Test"
   ]
  },
  {
   "cell_type": "code",
   "execution_count": 10,
   "metadata": {},
   "outputs": [],
   "source": [
    "df_val, df_test = train_test_split(df_holdout, test_size=0.5, random_state=cfg.random_seed) # stratify führt zu Fehler: ausschließlich True"
   ]
  },
  {
   "cell_type": "markdown",
   "metadata": {},
   "source": [
    "## Addition of df_real_permutated (Negativ Ctrl)"
   ]
  },
  {
   "cell_type": "code",
   "execution_count": 11,
   "metadata": {},
   "outputs": [],
   "source": [
    "df_train_neg_ctrl = df_train_real.copy()\n",
    "df_train_neg_ctrl['icu_admission_24h'] = np.random.permutation(df_train_real['icu_admission_24h'].values)"
   ]
  },
  {
   "cell_type": "markdown",
   "metadata": {},
   "source": [
    "## (Optional) Sampling"
   ]
  },
  {
   "cell_type": "code",
   "execution_count": 12,
   "metadata": {},
   "outputs": [],
   "source": [
    "if cfg.sampling_size is not None: # stratify bzw. weights führt zu Fehler: ausschließlich True\n",
    "    df_train_real = df_train_real.sample(n=cfg.sampling_size, replace=True, random_state=cfg.random_seed).reset_index(drop=True)\n",
    "    df_train_synth = df_train_synth.sample(n=cfg.sampling_size, replace=True, random_state=cfg.random_seed).reset_index(drop=True)\n",
    "    df_val = df_val.sample(n=cfg.sampling_size, replace=True, random_state=cfg.random_seed).reset_index(drop=True)\n",
    "    df_test = df_test.sample(n=cfg.sampling_size, replace=True, random_state=cfg.random_seed).reset_index(drop=True)\n",
    "    df_train_neg_ctrl = df_train_neg_ctrl.sample(n=cfg.sampling_size, replace=True, random_state=cfg.random_seed).reset_index(drop=True)"
   ]
  },
  {
   "cell_type": "markdown",
   "metadata": {},
   "source": [
    "## Data Splits\n",
    "\n",
    "1) Originales Training (Real)\n",
    "X_train_real,      y_train_real\n",
    "\n",
    "2) Synthetische Daten\n",
    "X_train_synth,     y_train_synth\n",
    "\n",
    "3) Augmentiertes Training (Real + Synth)\n",
    "X_train_augmented, y_train_augmented\n",
    "\n",
    "4) Negative Kontrolle (permutierte Labels)\n",
    "X_train_neg_ctrl,  y_train_neg_ctrl\n",
    "\n",
    "5) Positive Kontrolle (Real vs. Real)\n",
    "X_train_pos_ctrl,  y_train_pos_ctrl\n",
    "\n",
    "6) Validation (50 % Hold-out)\n",
    "X_val,             y_val\n",
    "\n",
    "7) Test     (50 % Hold-out)\n",
    "X_test,            y_test"
   ]
  },
  {
   "cell_type": "code",
   "execution_count": 13,
   "metadata": {},
   "outputs": [],
   "source": [
    "# → echtes Training\n",
    "X_train_real = df_train_real.drop(columns=[target_col])\n",
    "y_train_real = df_train_real[target_col].astype(int)\n",
    "\n",
    "# → Negative Kontrolle (permute Labels)\n",
    "X_train_neg_ctrl = df_train_neg_ctrl.drop(columns=[target_col])\n",
    "y_train_neg_ctrl = df_train_neg_ctrl[target_col].astype(int)\n",
    "\n",
    "# → synthetische Daten\n",
    "X_train_synth = df_train_synth.drop(columns=[target_col])\n",
    "y_train_synth = df_train_synth[target_col].astype(int)\n",
    "\n",
    "# → Augmented (real + synth)\n",
    "X_train_augmented = pd.concat([X_train_real, X_train_synth], ignore_index=True)\n",
    "y_train_augmented = pd.concat([y_train_real, y_train_synth], ignore_index=True)\n",
    "\n",
    "# → Validation (Hold-out 50 %)\n",
    "X_val = df_val.drop(columns=[target_col])\n",
    "y_val = df_val[target_col].astype(int)\n",
    "\n",
    "# → Test (Hold-out 50 %)\n",
    "X_test = df_test.drop(columns=[target_col])\n",
    "y_test = df_test[target_col].astype(int)"
   ]
  },
  {
   "cell_type": "markdown",
   "metadata": {},
   "source": [
    "# ML-Logik\n",
    "## Preprocessor"
   ]
  },
  {
   "cell_type": "code",
   "execution_count": 14,
   "metadata": {},
   "outputs": [],
   "source": [
    "memory = Memory(location=cfg.cache_dir, verbose=0)"
   ]
  },
  {
   "cell_type": "code",
   "execution_count": 15,
   "metadata": {},
   "outputs": [],
   "source": [
    "def build_preprocessor(cat_cols, ord_cols, num_cols, cat_categories, ord_categories):\n",
    "    \"\"\"ColumnTransformer mit Imputation, Encoding und PCA.\"\"\"\n",
    "    cat_pipe = Pipeline([\n",
    "        ('impute', SimpleImputer(strategy='most_frequent')),\n",
    "        ('onehot', OneHotEncoder(\n",
    "            categories=[cat_categories[c] for c in cat_cols],\n",
    "            handle_unknown='ignore',\n",
    "            # sparse_output=False\n",
    "            sparse_output=True\n",
    "        ))\n",
    "    ],\n",
    "    memory=memory)\n",
    "    ord_pipe = Pipeline([\n",
    "        ('impute', SimpleImputer(strategy='most_frequent')),\n",
    "        ('ordinal', OrdinalEncoder(\n",
    "            categories=[ord_categories[c] for c in ord_cols],\n",
    "            handle_unknown='use_encoded_value',\n",
    "            unknown_value=-1\n",
    "        ))\n",
    "    ],\n",
    "    memory=memory)\n",
    "    num_pipe = Pipeline([\n",
    "        ('impute', SimpleImputer(strategy='median')),\n",
    "        ('scale', StandardScaler(with_mean=False)),\n",
    "        # ('pca', PCA(n_components=0.95, svd_solver='randomized'))\n",
    "    ],\n",
    "    memory=memory)\n",
    "    return ColumnTransformer([\n",
    "        ('cat', cat_pipe, cat_cols),\n",
    "        ('ord', ord_pipe, ord_cols),\n",
    "        ('num', num_pipe, num_cols)\n",
    "    ])"
   ]
  },
  {
   "cell_type": "markdown",
   "metadata": {},
   "source": [
    "## Models"
   ]
  },
  {
   "cell_type": "code",
   "execution_count": 16,
   "metadata": {},
   "outputs": [],
   "source": [
    "def get_models(cat_cols, ord_cols, num_cols, cat_categories, ord_categories, cache_dir):\n",
    "    \"\"\"\n",
    "    Liefert Dictionary: Modellname -> (Pipeline, ParamGrid), plus gemeinsamen CV-Splitter.\n",
    "    Pipelines nutzen memory=cache_dir, um Vorverarbeitung zu cachen.\n",
    "    \"\"\"\n",
    "    preprocessor = build_preprocessor(cat_cols, ord_cols, num_cols, cat_categories, ord_categories)\n",
    "    cv = StratifiedKFold(n_splits=cfg.num_cv, shuffle=True, random_state=cfg.random_seed)\n",
    "    models = {}\n",
    "\n",
    "    # Logistic Regression\n",
    "    lr_pipe = Pipeline([\n",
    "        ('prep', preprocessor),\n",
    "        ('clf', LogisticRegression(\n",
    "            max_iter=5_000,\n",
    "            class_weight='balanced',\n",
    "            random_state=cfg.random_seed,\n",
    "            n_jobs=1 # Nur bei GridSearchCV ist n_jobs = -1, hier nicht, um \"nested parallelism\" zu vermeiden\n",
    "        ))\n",
    "    ], memory=cache_dir)\n",
    "    lr_params = {'clf__C': [0.1, 1, 10]}\n",
    "    models['LogisticRegression'] = (lr_pipe, lr_params)\n",
    "\n",
    "    # Random Forest\n",
    "    rf_pipe = Pipeline([\n",
    "        ('prep', preprocessor),\n",
    "        ('clf', RandomForestClassifier(\n",
    "            class_weight='balanced',\n",
    "            random_state=cfg.random_seed,\n",
    "            n_jobs=1 # Nur bei GridSearchCV ist n_jobs = -1, hier nicht, um \"nested parallelism\" zu vermeiden\n",
    "        ))\n",
    "    ], memory=cache_dir)\n",
    "    rf_params = {\n",
    "        'clf__n_estimators': [200, 400],\n",
    "        'clf__max_depth': [None, 10],\n",
    "        'clf__min_samples_leaf': [1, 5]\n",
    "    }\n",
    "    models['RandomForest'] = (rf_pipe, rf_params)\n",
    "\n",
    "    # KNN (Kalibrierung nach Hyperparam-Tuning)\n",
    "    knn_pipe = Pipeline([\n",
    "        ('prep', preprocessor),\n",
    "        ('clf', KNeighborsClassifier(n_jobs=1)) # Nur bei GridSearchCV ist n_jobs = -1, hier nicht, um \"nested parallelism\" zu vermeiden\n",
    "    ], memory=cache_dir)\n",
    "    knn_params = {\n",
    "        'clf__n_neighbors': [5, 15, 25],\n",
    "        'clf__weights': ['uniform', 'distance']\n",
    "    }\n",
    "    models['KNN'] = (knn_pipe, knn_params)\n",
    "\n",
    "    return models, cv"
   ]
  },
  {
   "cell_type": "markdown",
   "metadata": {},
   "source": [
    "## Experiment Logik"
   ]
  },
  {
   "cell_type": "code",
   "execution_count": 17,
   "metadata": {},
   "outputs": [],
   "source": [
    "def run_experiment(\n",
    "    X_train, y_train,\n",
    "    X_test, y_test,\n",
    "    cat_cols, ord_cols, num_cols,\n",
    "    cat_categories, ord_categories,\n",
    "    fixed_thresholds=None,\n",
    "    cache_dir: Path = cfg.cache_dir,\n",
    "):\n",
    "    \"\"\"\n",
    "    Hyperparameter-Tuning (HalvingGridSearchCV) + Evaluation.\n",
    "    KNN wird im Anschluss kalibriert.\n",
    "    Gibt DataFrame mit Metriken und Dict mit Vorhersagen zurück.\n",
    "    \"\"\"\n",
    "    models, cv = get_models(cat_cols, ord_cols, num_cols, cat_categories, ord_categories, cache_dir)\n",
    "    results = []\n",
    "    preds = {}\n",
    "\n",
    "    for name, (pipe, param_grid) in tqdm(models.items(),desc=\"Modelle\"):\n",
    "        # logger.info(f\"Starte Tuning für {name}\")\n",
    "        # print(f\"Starte Tuning für {name}\")\n",
    "        # search = GridSearchCV(pipe, param_grid, cv=5,\n",
    "        #                   scoring='roc_auc', n_jobs=-1) # Nur hier n_jobs = -1, nicht bei den Modellen, um \"nested parallelism\" zu vermeiden\n",
    "  \n",
    "        # search = HalvingGridSearchCV(\n",
    "        #     pipe, param_grid, cv=cv, min_resources=min_resources_for_halving,\n",
    "        #     scoring='roc_auc', n_jobs=-1, factor=2 # Nur hier n_jobs = -1, nicht bei den Modellen, um \"nested parallelism\" zu vermeiden\n",
    "        # )\n",
    "\n",
    "        search = HalvingGridSearchCV(\n",
    "            pipe, param_grid, \n",
    "            cv=StratifiedShuffleSplit(n_splits=3, test_size=0.2,\n",
    "                                    random_state=cfg.random_seed),\n",
    "            # min_resources=min_resources_for_halving,\n",
    "            scoring='roc_auc', n_jobs=-1, factor=2 # Nur hier n_jobs = -1, nicht bei den Modellen, um \"nested parallelism\" zu vermeiden\n",
    "        )\n",
    "        \n",
    "\n",
    "        \n",
    "        # Fortschrittsbalken für die inneren Parallel-Jobs\n",
    "        n_params = len(list(ParameterGrid(param_grid)))        # Kandidatenzahl laut Grid\n",
    "        n_splits = cv.get_n_splits()                           # z. B. 3\n",
    "        total_jobs = n_params * n_splits                       # erste Iteration ≈ Obergrenze\n",
    "\n",
    "        with tqdm_joblib(tqdm(total=total_jobs, desc=f\"{name} CV\", leave=True, position=1)):\n",
    "            search.fit(X_train, y_train)\n",
    "        \n",
    "        # with tqdm_joblib(tqdm(desc=f\"{name} CV\", leave=True, position=1)):\n",
    "        #     search.fit(X_train, y_train)\n",
    "        \n",
    "        # Ohne Fortschrittsbalken:\n",
    "        # search.fit(X_train, y_train)\n",
    "\n",
    "\n",
    "        best = search.best_estimator_\n",
    "\n",
    "        # für KNN: Kalibrieren auf gesamtem Trainingsset\n",
    "        if name == 'KNN':\n",
    "            # logger.info(\"Kalibriere KNN mit sigmoid-Methode\")\n",
    "            # print(\"Kalibriere KNN (isotonic, prefit)\")\n",
    "\n",
    "            # print(\"Kalibriere KNN mit sigmoid-Methode\")\n",
    "            # calib = CalibratedClassifierCV(\n",
    "            #     estimator=best.named_steps['clf_base'],\n",
    "            #     cv=cv, method='sigmoid', n_jobs=-1\n",
    "            # )\n",
    "            # calib = CalibratedClassifierCV(\n",
    "            #     estimator=best.named_steps['clf_base'],\n",
    "            #     cv='prefit', method='isotonic', n_jobs=-1\n",
    "            # )\n",
    "\n",
    "            knn_clf = best.named_steps[\"clf\"]   # ggf. 'clf_base' anpassen\n",
    "            calib   = CalibratedClassifierCV(\n",
    "                FrozenEstimator(knn_clf),\n",
    "                method=\"isotonic\",\n",
    "            )\n",
    "\n",
    "            calib_pipe = Pipeline([\n",
    "                ('prep', best.named_steps['prep']),\n",
    "                ('clf', calib)\n",
    "            ],\n",
    "            memory=cache_dir)\n",
    "            calib_pipe.fit(X_train, y_train)\n",
    "            best = calib_pipe\n",
    "\n",
    "        # Wahrscheinlichkeiten berechnen\n",
    "        y_prob = best.predict_proba(X_test)[:, 1]\n",
    "\n",
    "        # Threshold bestimmen\n",
    "        if fixed_thresholds is not None and name in fixed_thresholds:\n",
    "            thresh = fixed_thresholds[name]\n",
    "        else:\n",
    "            fpr, tpr, thr = roc_curve(y_test, y_prob)\n",
    "            thresh = thr[np.argmax(tpr - fpr)]\n",
    "\n",
    "        # Klassifikation & Metriken\n",
    "        y_pred = (y_prob >= thresh).astype(int)\n",
    "        results.append({\n",
    "            'model': name,\n",
    "            'best_params': search.best_params_,\n",
    "            'threshold': float(thresh),\n",
    "            'auc': float(roc_auc_score(y_test, y_prob)),\n",
    "            'accuracy': float(accuracy_score(y_test, y_pred)),\n",
    "            'precision': float(precision_score(y_test, y_pred, zero_division=0)),\n",
    "            'recall': float(recall_score(y_test, y_pred, zero_division=0)),\n",
    "            'f1': float(f1_score(y_test, y_pred, zero_division=0))\n",
    "        })\n",
    "        preds[name] = (y_pred, y_prob)\n",
    "\n",
    "    return pd.DataFrame(results), preds"
   ]
  },
  {
   "cell_type": "markdown",
   "metadata": {},
   "source": [
    "# Main Routine"
   ]
  },
  {
   "cell_type": "markdown",
   "metadata": {},
   "source": [
    "## Thresholds berechnen"
   ]
  },
  {
   "cell_type": "code",
   "execution_count": 18,
   "metadata": {},
   "outputs": [],
   "source": [
    "def load_thresholds(\n",
    "    run_experiment: Callable[..., Any],\n",
    "    X_train_real=None,\n",
    "    y_train_real=None,\n",
    "    X_val=None,\n",
    "    y_val=None,\n",
    "    cat_cols=None,\n",
    "    ord_cols=None,\n",
    "    num_cols=None,\n",
    "    cat_categories=None,\n",
    "    ord_categories=None,\n",
    ") -> Dict[str, float]:\n",
    "    \"\"\"\n",
    "    Liefert ein Dict {model_name: threshold}.\n",
    "    \n",
    "    1. Wenn `cfg.use_existing_thresholds` wahr ist UND die Cache-Datei existiert,\n",
    "       wird direkt aus dem Cache geladen.\n",
    "    2. Andernfalls werden die Thresholds neu berechnet – \n",
    "       anschließend optional gecacht, wenn `cfg.save_data_as_cache` wahr ist.\n",
    "\n",
    "    Parameter\n",
    "    ---------\n",
    "    cfg : Any\n",
    "        Konfig-Objekt (muss zumindest `cache_dir`, `cache_file`,\n",
    "        `use_existing_thresholds`, `save_data_as_cache` enthalten).\n",
    "    run_experiment : Callable\n",
    "        Funktion, die das Experiment ausführt und ein DataFrame mit\n",
    "        mindestens den Spalten `model` und `threshold` zurückgibt.\n",
    "    Weitere Parameter werden 1:1 an `run_experiment` weitergereicht.\n",
    "    \"\"\"\n",
    "    cache_dir = Path(cfg.cache_dir)\n",
    "    cache_dir.mkdir(parents=True, exist_ok=True)\n",
    "\n",
    "    cache_path = cache_dir / cfg.cache_file\n",
    "\n",
    "    # --- 1) Versuche Cache zu laden --------------------------------------\n",
    "    if cfg.use_existing_thresholds:\n",
    "        if cache_path.exists():\n",
    "            with cache_path.open(\"rb\") as f:\n",
    "                thresholds: Dict[str, float] = pickle.load(f)\n",
    "            print(\"Thresholds aus Cache geladen (%s).\", cache_path)\n",
    "            return thresholds\n",
    "        else:\n",
    "            print(\n",
    "                f\"cfg.use_existing_thresholds=True, \"\n",
    "                f\"aber Cache-Datei {cache_path} existiert nicht.\"\n",
    "            )\n",
    "\n",
    "    # --- 2) Neu berechnen -------------------------------------------------\n",
    "    print(\"Starte Berechnung der Thresholds …\")\n",
    "    results_val, _ = run_experiment(\n",
    "        X_train_real, y_train_real,\n",
    "        X_val,         y_val,\n",
    "        cat_cols, ord_cols, num_cols,\n",
    "        cat_categories, ord_categories,\n",
    "        fixed_thresholds=None,\n",
    "        cache_dir=str(cache_dir),\n",
    "    )\n",
    "\n",
    "    thresholds = results_val.set_index(\"model\")[\"threshold\"].to_dict()\n",
    "    print(\"Thresholds für Validierung berechnet.\")\n",
    "\n",
    "    # --- 3) Optional cachen ----------------------------------------------\n",
    "    if cfg.save_data_as_cache:\n",
    "        timestamp = datetime.now().strftime(\"%Y%m%d_%H%M%S\")\n",
    "        # Schreibe in temporäre Datei und benenne dann atomar um → robust gegen Crash\n",
    "        tmp_path = cache_dir / f\"{cache_path.stem}_{timestamp}.tmp\"\n",
    "        with tmp_path.open(\"wb\") as f:\n",
    "            pickle.dump(thresholds, f)\n",
    "        tmp_path.replace(cache_path)\n",
    "        print(f\"Thresholds unter {cache_path} gespeichert.\")\n",
    "\n",
    "    return thresholds\n"
   ]
  },
  {
   "cell_type": "code",
   "execution_count": 19,
   "metadata": {},
   "outputs": [
    {
     "name": "stdout",
     "output_type": "stream",
     "text": [
      "Thresholds aus Cache geladen (%s). cache\\global_thresholds_20250514_074229.pkl\n"
     ]
    }
   ],
   "source": [
    "# Laufzeit ca. 30 Min.\n",
    "global_thresholds = load_thresholds(\n",
    "    run_experiment=run_experiment,\n",
    "    X_train_real=X_train_real,\n",
    "    y_train_real=y_train_real,\n",
    "    X_val=X_val,\n",
    "    y_val=y_val,\n",
    "    cat_cols=cat_cols,\n",
    "    ord_cols=ord_cols,\n",
    "    num_cols=num_cols,\n",
    "    cat_categories=cat_categories,\n",
    "    ord_categories=ord_categories,\n",
    ")"
   ]
  },
  {
   "cell_type": "code",
   "execution_count": 20,
   "metadata": {},
   "outputs": [
    {
     "name": "stdout",
     "output_type": "stream",
     "text": [
      "                model  threshold\n",
      "0  LogisticRegression   0.480547\n",
      "1        RandomForest   0.460113\n",
      "2                 KNN   0.171154\n"
     ]
    }
   ],
   "source": [
    "df_thresholds = pd.DataFrame.from_dict(global_thresholds, orient='index', columns=['threshold']).reset_index().rename(columns={'index':'model'})\n",
    "\n",
    "# if save_data and not use_existing_thresholds:\n",
    "if cfg.save_data and not cfg.use_existing_thresholds:\n",
    "    df_thresholds.to_csv(f'{cfg.results_dir}/thresholds_{current_timestamp}.csv', decimal=',', sep=';', encoding='utf-8', index=False)\n",
    "\n",
    "print(df_thresholds)"
   ]
  },
  {
   "cell_type": "markdown",
   "metadata": {},
   "source": [
    "Threshold von Random Forest und KNN entspricht ungefähr dem Vorkommen des positiven Outcomes der target Variable (= Basisrate, ca. 0.135), während der für die LogisticRegression deutlich darüber liegt (0.42).\n",
    "\n",
    "→ Kein Bug, sondern typische Beobachtung: \n",
    "- Youden’s J sucht den Punkt, an dem TPR–FPR maximiert ist, also den besten Kompromiss zwischen Sensitivität und Spezifität, unabhängig von der Klassen-Verteilung.\n",
    "- Für schlecht kalibrierte oder grob stufige Scores (wie bei Random-Forest- und KNN-Probs) landet dieser „Kniepunkt“ der ROC‐Kurve oft ziemlich genau bei der Basisrate (p≈0.135), weil da die Dichte positiver und negativer Scores sich ungefähr ausgleicht.\n",
    "- Logistic Regression gibt in der Regel feinere, besser kalibrierte Wahrscheinlichkeiten mit stärkerer Trennung aus. Ihr ROC‐„Knie“ kann deshalb deutlich jenseits der Basisrate liegen (hier ~0.42), weil das Modell im relevanten Score-Bereich eine viel bessere Trennung erzielt.\n",
    "\n",
    "→ Ein Threshold ≈ Basisrate tritt immer dann auf, wenn das Modell nicht viel besser als Zufall trennt, bzw. seine Score-Verteilungen beider Klassen sich symmetrisch um diese Basisrate gruppieren. Je stärker ein Modell „lernt“, desto mehr verschiebt sich sein optimaler Threshold weg von der Basisrate."
   ]
  },
  {
   "cell_type": "markdown",
   "metadata": {},
   "source": [
    "## Caching der Runs (Load / Compute Data Funktion)"
   ]
  },
  {
   "cell_type": "code",
   "execution_count": 21,
   "metadata": {},
   "outputs": [],
   "source": [
    "def load_or_compute(cache_path: Path, compute_fn, use_cache: bool, save_cache: bool, load_msg: str, compute_msg: str):\n",
    "    \"\"\"\n",
    "    Versucht, aus cache_path zu laden. Wenn das fehlschlägt oder use_cache False ist,\n",
    "    führt compute_fn() aus, speichert das Ergebnis (wenn gewünscht) und gibt es zurück.\n",
    "    \"\"\"\n",
    "    # 1. Laden, falls gewünscht und vorhanden\n",
    "    if use_cache and cache_path.exists():\n",
    "        with cache_path.open(\"rb\") as f:\n",
    "            data = pickle.load(f)\n",
    "        print(load_msg)\n",
    "        return data\n",
    "\n",
    "    # 2. Sonst neu berechnen\n",
    "    data = compute_fn()\n",
    "    print(compute_msg)\n",
    "\n",
    "    # 3. Bei Bedarf cachen\n",
    "    if save_cache:\n",
    "        cache_path.parent.mkdir(parents=True, exist_ok=True)\n",
    "        with cache_path.open(\"wb\") as f:\n",
    "            pickle.dump(data, f)\n",
    "        print(f\"Ergebnis gecached in {cache_path}\")\n",
    "    return data"
   ]
  },
  {
   "cell_type": "code",
   "execution_count": 22,
   "metadata": {},
   "outputs": [],
   "source": [
    "summary = pd.DataFrame()"
   ]
  },
  {
   "cell_type": "markdown",
   "metadata": {},
   "source": [
    "## Negativ-Kontrolle (Train: Real (Random Labels) <-> Test: Real)"
   ]
  },
  {
   "cell_type": "code",
   "execution_count": 23,
   "metadata": {},
   "outputs": [
    {
     "name": "stdout",
     "output_type": "stream",
     "text": [
      "Negativ-Kontrolle aus dem Cache geladen.\n"
     ]
    }
   ],
   "source": [
    "# Laufzeit: 30 Min.\n",
    "results_negative, preds_negative = load_or_compute(\n",
    "    cache_path=cfg.cache_dir / cfg.negative_control,\n",
    "    compute_fn=lambda: run_experiment(\n",
    "        X_train_neg_ctrl, \n",
    "        y_train_neg_ctrl,\n",
    "        X_train_real,\n",
    "        y_train_real,\n",
    "        cat_cols, ord_cols, num_cols,\n",
    "        cat_categories, ord_categories,\n",
    "        fixed_thresholds=global_thresholds,\n",
    "        cache_dir=\"cache\"\n",
    "    ),\n",
    "    use_cache=cfg.use_cached_data,\n",
    "    save_cache=cfg.save_data_as_cache,\n",
    "    load_msg=\"Negativ-Kontrolle aus dem Cache geladen.\",\n",
    "    compute_msg=\"Negativ-Kontrolle neu berechnet.\"\n",
    ")\n",
    "\n",
    "summary = pd.concat([\n",
    "    summary,\n",
    "    results_negative.assign(scenario='Negative Ctrl')\n",
    "], ignore_index=True)"
   ]
  },
  {
   "cell_type": "markdown",
   "metadata": {},
   "source": [
    "## Positiv-Kontrolle (Train: Real <-> Test: Real)"
   ]
  },
  {
   "cell_type": "code",
   "execution_count": 24,
   "metadata": {},
   "outputs": [
    {
     "name": "stdout",
     "output_type": "stream",
     "text": [
      "Positiv-Kontrolle aus dem Cache geladen.\n"
     ]
    }
   ],
   "source": [
    "# Laufzeit ca. 35 Min.\n",
    "results_positive, preds_positive = load_or_compute(\n",
    "    cache_path=cfg.cache_dir / cfg.positive_control,\n",
    "    compute_fn=lambda: run_experiment(\n",
    "        X_train_real, \n",
    "        y_train_real, \n",
    "        X_train_real, \n",
    "        y_train_real, \n",
    "        cat_cols, ord_cols, num_cols,\n",
    "        cat_categories, ord_categories,\n",
    "        fixed_thresholds=global_thresholds,\n",
    "        cache_dir=\"cache\"\n",
    "    ),\n",
    "    use_cache=cfg.use_cached_data,\n",
    "    save_cache=cfg.save_data_as_cache,\n",
    "    load_msg=\"Positiv-Kontrolle aus dem Cache geladen.\",\n",
    "    compute_msg=\"Positiv-Kontrolle neu berechnet.\"\n",
    ")\n",
    "\n",
    "summary = pd.concat([\n",
    "    summary,\n",
    "    results_positive.assign(scenario='Positive Ctrl')\n",
    "], ignore_index=True)"
   ]
  },
  {
   "cell_type": "markdown",
   "metadata": {},
   "source": [
    "## Szenario 1 / Baseline (Train: Real <-> Test: Holdout)"
   ]
  },
  {
   "cell_type": "code",
   "execution_count": 25,
   "metadata": {},
   "outputs": [
    {
     "name": "stdout",
     "output_type": "stream",
     "text": [
      "Baseline aus dem Cache geladen.\n"
     ]
    }
   ],
   "source": [
    "# Lautzeit ca. 35 Min.\n",
    "results_baseline, preds_baseline = load_or_compute(\n",
    "    cache_path=cfg.cache_dir / cfg.baseline,\n",
    "    compute_fn=lambda: run_experiment(\n",
    "        X_train_real, \n",
    "        y_train_real, \n",
    "        X_test, \n",
    "        y_test, \n",
    "        cat_cols, ord_cols, num_cols,\n",
    "        cat_categories, ord_categories,\n",
    "        fixed_thresholds=global_thresholds,\n",
    "        cache_dir=\"cache\"\n",
    "    ),\n",
    "    use_cache=cfg.use_cached_data,\n",
    "    save_cache=cfg.save_data_as_cache,\n",
    "    load_msg=\"Baseline aus dem Cache geladen.\",\n",
    "    compute_msg=\"Baseline neu berechnet.\"\n",
    ")\n",
    "\n",
    "summary = pd.concat([\n",
    "    summary,\n",
    "    results_baseline.assign(scenario='Baseline')\n",
    "], ignore_index=True)"
   ]
  },
  {
   "cell_type": "markdown",
   "metadata": {},
   "source": [
    "## Szenario 2 / TSTR (Train: Synthetic <-> Test: Holdout)"
   ]
  },
  {
   "cell_type": "code",
   "execution_count": 26,
   "metadata": {},
   "outputs": [
    {
     "name": "stdout",
     "output_type": "stream",
     "text": [
      "TSTR aus dem Cache geladen.\n"
     ]
    }
   ],
   "source": [
    "#Laufzeit: 35 min\n",
    "results_tstr, preds_tstr = load_or_compute(\n",
    "    cache_path=cfg.cache_dir / cfg.tstr,\n",
    "    compute_fn=lambda: run_experiment(\n",
    "        X_train_synth, \n",
    "        y_train_synth, \n",
    "        X_test, \n",
    "        y_test, \n",
    "        cat_cols, ord_cols, num_cols,\n",
    "        cat_categories, ord_categories,\n",
    "        fixed_thresholds=global_thresholds,\n",
    "        cache_dir=\"cache\"\n",
    "    ),\n",
    "    use_cache=cfg.use_cached_data,\n",
    "    save_cache=cfg.save_data_as_cache,\n",
    "    load_msg=\"TSTR aus dem Cache geladen.\",\n",
    "    compute_msg=\"TSTR neu berechnet.\"\n",
    ")\n",
    "\n",
    "summary = pd.concat([\n",
    "    summary,\n",
    "    results_tstr.assign(scenario='TSTR')\n",
    "], ignore_index=True)"
   ]
  },
  {
   "cell_type": "markdown",
   "metadata": {},
   "source": [
    "## Szenario 3 / Augmented (Train: Real+Synthetic <-> Test: Holdout)"
   ]
  },
  {
   "cell_type": "code",
   "execution_count": 27,
   "metadata": {},
   "outputs": [
    {
     "name": "stdout",
     "output_type": "stream",
     "text": [
      "Augmented aus dem Cache geladen.\n"
     ]
    }
   ],
   "source": [
    "#145 min\n",
    "results_aug, preds_aug = load_or_compute(\n",
    "    cache_path=cfg.cache_dir / cfg.augmented,\n",
    "    compute_fn=lambda: run_experiment(\n",
    "        X_train_augmented, \n",
    "        y_train_augmented, \n",
    "        X_test, \n",
    "        y_test, \n",
    "        cat_cols, ord_cols, num_cols,\n",
    "        cat_categories, ord_categories,\n",
    "        fixed_thresholds=global_thresholds,\n",
    "        cache_dir=\"cache\"\n",
    "    ),\n",
    "    use_cache=cfg.use_cached_data,\n",
    "    save_cache=cfg.save_data_as_cache,\n",
    "    load_msg=\"Augmented aus dem Cache geladen.\",\n",
    "    compute_msg=\"Augmented neu berechnet.\"\n",
    ")\n",
    "\n",
    "summary = pd.concat([\n",
    "    summary,\n",
    "    results_aug.assign(scenario='Augmentation')\n",
    "], ignore_index=True)"
   ]
  },
  {
   "cell_type": "code",
   "execution_count": 28,
   "metadata": {},
   "outputs": [
    {
     "name": "stdout",
     "output_type": "stream",
     "text": [
      "                 model                                        best_params  \\\n",
      "0   LogisticRegression                                      {'clf__C': 1}   \n",
      "1         RandomForest  {'clf__max_depth': 10, 'clf__min_samples_leaf'...   \n",
      "2                  KNN  {'clf__n_neighbors': 5, 'clf__weights': 'unifo...   \n",
      "3   LogisticRegression                                    {'clf__C': 0.1}   \n",
      "4         RandomForest  {'clf__max_depth': None, 'clf__min_samples_lea...   \n",
      "5                  KNN  {'clf__n_neighbors': 25, 'clf__weights': 'unif...   \n",
      "6   LogisticRegression                                    {'clf__C': 0.1}   \n",
      "7         RandomForest  {'clf__max_depth': None, 'clf__min_samples_lea...   \n",
      "8                  KNN  {'clf__n_neighbors': 25, 'clf__weights': 'unif...   \n",
      "9   LogisticRegression                                    {'clf__C': 0.1}   \n",
      "10        RandomForest  {'clf__max_depth': None, 'clf__min_samples_lea...   \n",
      "11                 KNN  {'clf__n_neighbors': 25, 'clf__weights': 'dist...   \n",
      "12  LogisticRegression                                    {'clf__C': 0.1}   \n",
      "13        RandomForest  {'clf__max_depth': None, 'clf__min_samples_lea...   \n",
      "14                 KNN  {'clf__n_neighbors': 25, 'clf__weights': 'unif...   \n",
      "\n",
      "    threshold       auc  accuracy  precision    recall        f1  \\\n",
      "0    0.480547  0.509573  0.342970   0.126576  0.733917  0.215914   \n",
      "1    0.460113  0.490204  0.125704   0.122476  0.988356  0.217945   \n",
      "2    0.171154  0.503742  0.514124   0.125329  0.492031  0.199772   \n",
      "3    0.480547  0.826208  0.735370   0.284334  0.756049  0.413253   \n",
      "4    0.460113  0.878824  0.769063   0.326237  0.820051  0.466778   \n",
      "5    0.171154  0.820207  0.756176   0.297067  0.715914  0.419898   \n",
      "6    0.480547  0.816369  0.728040   0.276668  0.745989  0.403637   \n",
      "7    0.460113  0.805860  0.737983   0.279658  0.713140  0.401765   \n",
      "8    0.171154  0.738292  0.726956   0.249606  0.604660  0.353348   \n",
      "9    0.480547  0.700785  0.729171   0.237015  0.538579  0.329170   \n",
      "10   0.460113  0.703324  0.740669   0.242273  0.517953  0.330128   \n",
      "11   0.171154  0.656806  0.812771   0.273941  0.313598  0.292431   \n",
      "12   0.480547  0.796484  0.729359   0.272661  0.715814  0.394900   \n",
      "13   0.460113  0.781257  0.732139   0.267092  0.671505  0.382174   \n",
      "14   0.171154  0.730265  0.750377   0.260161  0.555004  0.354261   \n",
      "\n",
      "         scenario  \n",
      "0   Negative Ctrl  \n",
      "1   Negative Ctrl  \n",
      "2   Negative Ctrl  \n",
      "3   Positive Ctrl  \n",
      "4   Positive Ctrl  \n",
      "5   Positive Ctrl  \n",
      "6        Baseline  \n",
      "7        Baseline  \n",
      "8        Baseline  \n",
      "9            TSTR  \n",
      "10           TSTR  \n",
      "11           TSTR  \n",
      "12   Augmentation  \n",
      "13   Augmentation  \n",
      "14   Augmentation  \n"
     ]
    }
   ],
   "source": [
    "if cfg.save_data:\n",
    "    summary.to_csv(f'{cfg.results_dir}/metrics_{current_timestamp}.csv', decimal=',', sep=';', encoding='utf-8', index=False)\n",
    "print(summary)"
   ]
  },
  {
   "cell_type": "markdown",
   "metadata": {},
   "source": [
    "# Visualization"
   ]
  },
  {
   "cell_type": "markdown",
   "metadata": {},
   "source": [
    "## ROC\n",
    "### The smaller ones"
   ]
  },
  {
   "cell_type": "code",
   "execution_count": 43,
   "metadata": {},
   "outputs": [
    {
     "data": {
      "image/png": "[encoded data removed]",
      "text/plain": [
       "<Figure size 240x180 with 1 Axes>"
      ]
     },
     "metadata": {},
     "output_type": "display_data"
    },
    {
     "data": {
      "image/png": "[encoded data removed]",
      "text/plain": [
       "<Figure size 240x180 with 1 Axes>"
      ]
     },
     "metadata": {},
     "output_type": "display_data"
    },
    {
     "data": {
      "image/png": "[encoded data removed]",
      "text/plain": [
       "<Figure size 240x180 with 1 Axes>"
      ]
     },
     "metadata": {},
     "output_type": "display_data"
    }
   ],
   "source": [
    "# Szenarien mit den korrekten true-label-Vektoren\n",
    "scenario_data = [\n",
    "    ('Baseline',      preds_baseline,      y_test),\n",
    "    ('Negative_Ctrl', preds_negative,      y_train_real),\n",
    "    ('Positive_Ctrl', preds_positive,      y_train_real),\n",
    "]\n",
    "\n",
    "for scenario_name, preds_dict, y_true in scenario_data:\n",
    "    plt.figure(figsize=(2.4, 1.8))\n",
    "    \n",
    "    for model_name, (_, y_prob) in preds_dict.items():\n",
    "        fpr, tpr, _ = roc_curve(y_true, y_prob)\n",
    "        auc = roc_auc_score(y_true, y_prob)\n",
    "        plt.plot(fpr, tpr, label=f\"{model_name} (AUC={auc:.2f})\")\n",
    "    \n",
    "    plt.plot([0, 1], [0, 1], 'k--', alpha=0.7)    # Zufallslinie\n",
    "    # plt.xlabel('False Positive Rate')\n",
    "    # plt.ylabel('True Positive Rate')\n",
    "    plt.title(f'{scenario_name}')\n",
    "    # plt.legend(loc='lower right')\n",
    "    plt.tight_layout()\n",
    "    if cfg.save_data:\n",
    "        plt.savefig(\n",
    "            f'{cfg.figures_dir}/ROC_{scenario_name}_{current_timestamp}.tiff',\n",
    "            dpi=300, format='tiff', bbox_inches='tight', pil_kwargs={'compression': 'tiff_lzw'}\n",
    "        )\n",
    "    plt.show()\n"
   ]
  },
  {
   "cell_type": "markdown",
   "metadata": {},
   "source": [
    "### The bigger ones"
   ]
  },
  {
   "cell_type": "code",
   "execution_count": 42,
   "metadata": {},
   "outputs": [
    {
     "data": {
      "image/png": "[encoded data removed]",
      "text/plain": [
       "<Figure size 360x270 with 1 Axes>"
      ]
     },
     "metadata": {},
     "output_type": "display_data"
    },
    {
     "data": {
      "image/png": "[encoded data removed]",
      "text/plain": [
       "<Figure size 360x270 with 1 Axes>"
      ]
     },
     "metadata": {},
     "output_type": "display_data"
    }
   ],
   "source": [
    "# Szenarien mit den korrekten true-label-Vektoren\n",
    "scenario_data = [\n",
    "    ('TSTR',          preds_tstr,          y_test),\n",
    "    ('Augmentation',  preds_aug,            y_test),\n",
    "]\n",
    "\n",
    "for scenario_name, preds_dict, y_true in scenario_data:\n",
    "    plt.figure(figsize=(3.6, 2.7))\n",
    "    \n",
    "    for model_name, (_, y_prob) in preds_dict.items():\n",
    "        fpr, tpr, _ = roc_curve(y_true, y_prob)\n",
    "        auc = roc_auc_score(y_true, y_prob)\n",
    "        plt.plot(fpr, tpr, label=f\"{model_name} (AUC={auc:.2f})\")\n",
    "    \n",
    "    plt.plot([0, 1], [0, 1], 'k--', alpha=0.7)    # Zufallslinie\n",
    "    # plt.xlabel('False Positive Rate')\n",
    "    # plt.ylabel('True Positive Rate')\n",
    "    plt.title(f'{scenario_name}')\n",
    "    # plt.legend(loc='lower right')\n",
    "    plt.tight_layout()\n",
    "    if cfg.save_data:\n",
    "        plt.savefig(\n",
    "            f'{cfg.figures_dir}/ROC_{scenario_name}_{current_timestamp}.tiff',\n",
    "            dpi=300, format='tiff', bbox_inches='tight', pil_kwargs={'compression': 'tiff_lzw'}\n",
    "        )\n",
    "    plt.show()\n"
   ]
  },
  {
   "cell_type": "markdown",
   "metadata": {},
   "source": [
    "cave: KNN ist sehr datenhungrig. Bei einem Subset von 1000 Punkten kann KNN schlichtweg keine \"echten\" Nachbarschaften finden, daher bleibt die AUC niedrig, erhöht sich jedoch mit mehr Daten."
   ]
  },
  {
   "cell_type": "markdown",
   "metadata": {},
   "source": [
    "## Prediction / Confusion Matrices"
   ]
  },
  {
   "cell_type": "code",
   "execution_count": 54,
   "metadata": {},
   "outputs": [
    {
     "data": {
      "image/png": "[encoded data removed]",
      "text/plain": [
       "<Figure size 240x180 with 1 Axes>"
      ]
     },
     "metadata": {},
     "output_type": "display_data"
    },
    {
     "data": {
      "image/png": "[encoded data removed]",
      "text/plain": [
       "<Figure size 240x180 with 1 Axes>"
      ]
     },
     "metadata": {},
     "output_type": "display_data"
    },
    {
     "data": {
      "image/png": "[encoded data removed]",
      "text/plain": [
       "<Figure size 240x180 with 1 Axes>"
      ]
     },
     "metadata": {},
     "output_type": "display_data"
    },
    {
     "data": {
      "image/png": "[encoded data removed]",
      "text/plain": [
       "<Figure size 240x180 with 1 Axes>"
      ]
     },
     "metadata": {},
     "output_type": "display_data"
    },
    {
     "data": {
      "image/png": "[encoded data removed]",
      "text/plain": [
       "<Figure size 240x180 with 1 Axes>"
      ]
     },
     "metadata": {},
     "output_type": "display_data"
    },
    {
     "data": {
      "image/png": "[encoded data removed]",
      "text/plain": [
       "<Figure size 240x180 with 1 Axes>"
      ]
     },
     "metadata": {},
     "output_type": "display_data"
    },
    {
     "data": {
      "image/png": "[encoded data removed]",
      "text/plain": [
       "<Figure size 240x180 with 1 Axes>"
      ]
     },
     "metadata": {},
     "output_type": "display_data"
    },
    {
     "data": {
      "image/png": "[encoded data removed]",
      "text/plain": [
       "<Figure size 240x180 with 1 Axes>"
      ]
     },
     "metadata": {},
     "output_type": "display_data"
    },
    {
     "data": {
      "image/png": "[encoded data removed]",
      "text/plain": [
       "<Figure size 240x180 with 1 Axes>"
      ]
     },
     "metadata": {},
     "output_type": "display_data"
    },
    {
     "data": {
      "image/png": "[encoded data removed]",
      "text/plain": [
       "<Figure size 240x180 with 1 Axes>"
      ]
     },
     "metadata": {},
     "output_type": "display_data"
    },
    {
     "data": {
      "image/png": "[encoded data removed]",
      "text/plain": [
       "<Figure size 240x180 with 1 Axes>"
      ]
     },
     "metadata": {},
     "output_type": "display_data"
    },
    {
     "data": {
      "image/png": "[encoded data removed]",
      "text/plain": [
       "<Figure size 240x180 with 1 Axes>"
      ]
     },
     "metadata": {},
     "output_type": "display_data"
    },
    {
     "data": {
      "image/png": "[encoded data removed]",
      "text/plain": [
       "<Figure size 240x180 with 1 Axes>"
      ]
     },
     "metadata": {},
     "output_type": "display_data"
    },
    {
     "data": {
      "image/png": "[encoded data removed]",
      "text/plain": [
       "<Figure size 240x180 with 1 Axes>"
      ]
     },
     "metadata": {},
     "output_type": "display_data"
    },
    {
     "data": {
      "image/png": "[encoded data removed]",
      "text/plain": [
       "<Figure size 240x180 with 1 Axes>"
      ]
     },
     "metadata": {},
     "output_type": "display_data"
    }
   ],
   "source": [
    "def plot_cm(cm, title, vmax):\n",
    "    fig, ax = plt.subplots(figsize=(2.4, 1.8))\n",
    "    im = ax.matshow(cm, cmap='viridis', vmin=0, vmax=vmax)\n",
    "    ax.set_title(title)\n",
    "    ax.set_xlabel('Predicted')\n",
    "    ax.set_ylabel('True')\n",
    "\n",
    "    # Werte in die Felder schreiben\n",
    "    for (i, j), v in np.ndenumerate(cm):\n",
    "        ax.text(j, i, str(v), ha='center', va='center',\n",
    "                 color='white' if v < vmax*0.5 else 'black')\n",
    "\n",
    "    # ein Farbbalken für die einheitliche Skala\n",
    "    # cb = fig.colorbar(im)\n",
    "    # cb.set_ticks(np.linspace(0, vmax, 5, dtype=int))  # z. B. 0, 200, 400, 600, 800\n",
    "\n",
    "    if cfg:\n",
    "        plt.savefig(f'{cfg.figures_dir}/CM_{title.strip()}_{current_timestamp}.tiff',\n",
    "                    dpi=300, format='tiff', bbox_inches='tight',\n",
    "                    pil_kwargs={'compression': 'tiff_lzw'})\n",
    "    plt.show()\n",
    "\n",
    "scenario_data = [\n",
    "    ('Baseline',       preds_baseline,     y_test),\n",
    "    ('TSTR',           preds_tstr,         y_test),\n",
    "    ('Augmentation',   preds_aug,          y_test),\n",
    "    ('Negative Ctrl',  preds_negative,     y_train_real),\n",
    "    ('Positive Ctrl',  preds_positive,     y_train_real),\n",
    "]\n",
    "\n",
    "# Berechne die maximale Anzahl an Vorhersagen für eine einheitliche Farbskala über alle Plots\n",
    "conf_matrices = []\n",
    "for _, preds_dict, y_true in scenario_data:\n",
    "    for _, (y_pred, _) in preds_dict.items():\n",
    "        conf_matrices.append(confusion_matrix(y_true, y_pred))\n",
    "global_max = max(cm.max() for cm in conf_matrices)\n",
    "global_max = round_up_auto(global_max)\n",
    "\n",
    "idx = 0\n",
    "for scenario_name, preds_dict, y_true in scenario_data:\n",
    "    for model_name, (y_pred, _) in preds_dict.items():\n",
    "        cm = conf_matrices[idx]\n",
    "        plot_cm(cm, f\"{scenario_name} - {model_name}\", vmax=global_max)\n",
    "        idx += 1"
   ]
  },
  {
   "cell_type": "markdown",
   "metadata": {},
   "source": [
    "Klassischer Use-Case ist Baseline vs. TSTR (synthetische gegen reale Ergebnisse)\n",
    "Cohen’s Kappa (κ) misst die Übereinstimmung zweier Klassifikatoren über den Zufalls­level hinaus. Die Kennzahl liegt zwischen –1 und 1:\n",
    "\n",
    "κ = 1: perfekte Übereinstimmung\n",
    "\n",
    "κ = 0: nur Zufalls­übereinstimmung\n",
    "\n",
    "κ < 0: weniger Übereinstimmung als erwartet (systematischer Widerspruch)\n",
    "\n",
    "\n",
    "\n",
    "Gängige Interpretation nach Landis & Koch:\n",
    "\n",
    "κ-Wert\tStärke der Übereinstimmung\n",
    "\n",
    "< 0.00\tschlechte (keine)\n",
    "\n",
    "0.00 – 0.20\tgering\n",
    "\n",
    "0.21 – 0.40\tfair\n",
    "\n",
    "0.41 – 0.60\tmoderat\n",
    "\n",
    "0.61 – 0.80\tsubstanziell\n",
    "\n",
    "0.81 – 1.00\tnahezu perfekt\n",
    "\n",
    "Je höher κ, desto stärker weicht die beobachtete Übereinstimmung von der reinen Zufalls­wahrscheinlichkeit ab. Werte um 0.6 und höher gelten üblicherweise als „gut“.\n"
   ]
  },
  {
   "cell_type": "markdown",
   "metadata": {},
   "source": [
    "## Cohen's Kappa"
   ]
  },
  {
   "cell_type": "code",
   "execution_count": 31,
   "metadata": {},
   "outputs": [
    {
     "name": "stdout",
     "output_type": "stream",
     "text": [
      "                 model     scenario_1     scenario_2     kappa\n",
      "0   LogisticRegression       Baseline           TSTR  0.468289\n",
      "1         RandomForest       Baseline           TSTR  0.566577\n",
      "2                  KNN       Baseline           TSTR  0.329189\n",
      "3   LogisticRegression       Baseline   Augmentation  0.780111\n",
      "4         RandomForest       Baseline   Augmentation  0.825371\n",
      "5                  KNN       Baseline   Augmentation  0.780058\n",
      "6   LogisticRegression       Baseline  Negative Ctrl  0.008674\n",
      "7         RandomForest       Baseline  Negative Ctrl -0.000522\n",
      "8                  KNN       Baseline  Negative Ctrl  0.008383\n",
      "9   LogisticRegression       Baseline  Positive Ctrl -0.001549\n",
      "10        RandomForest       Baseline  Positive Ctrl  0.000017\n",
      "11                 KNN       Baseline  Positive Ctrl  0.000479\n",
      "12  LogisticRegression           TSTR   Augmentation  0.664597\n",
      "13        RandomForest           TSTR   Augmentation  0.706553\n",
      "14                 KNN           TSTR   Augmentation  0.435213\n",
      "15  LogisticRegression           TSTR  Negative Ctrl  0.006723\n",
      "16        RandomForest           TSTR  Negative Ctrl -0.000057\n",
      "17                 KNN           TSTR  Negative Ctrl -0.000303\n",
      "18  LogisticRegression           TSTR  Positive Ctrl  0.002298\n",
      "19        RandomForest           TSTR  Positive Ctrl  0.005355\n",
      "20                 KNN           TSTR  Positive Ctrl  0.000325\n",
      "21  LogisticRegression   Augmentation  Negative Ctrl  0.006869\n",
      "22        RandomForest   Augmentation  Negative Ctrl -0.000736\n",
      "23                 KNN   Augmentation  Negative Ctrl  0.003317\n",
      "24  LogisticRegression   Augmentation  Positive Ctrl  0.001498\n",
      "25        RandomForest   Augmentation  Positive Ctrl -0.002601\n",
      "26                 KNN   Augmentation  Positive Ctrl -0.003531\n",
      "27  LogisticRegression  Negative Ctrl  Positive Ctrl  0.021999\n",
      "28        RandomForest  Negative Ctrl  Positive Ctrl -0.002848\n",
      "29                 KNN  Negative Ctrl  Positive Ctrl  0.000433\n"
     ]
    }
   ],
   "source": [
    "scenario_preds = {\n",
    "    'Baseline':     preds_baseline,\n",
    "    'TSTR':         preds_tstr,\n",
    "    'Augmentation': preds_aug,\n",
    "    'Negative Ctrl': preds_negative,\n",
    "    'Positive Ctrl': preds_positive\n",
    "}\n",
    "\n",
    "records = []\n",
    "for (s1, p1), (s2, p2) in combinations(scenario_preds.items(), 2):\n",
    "    for model_name in ['LogisticRegression', 'RandomForest', 'KNN']:\n",
    "        # turn each prediction vector into a Series (using default RangeIndex)\n",
    "        pred1 = pd.Series(p1[model_name][0])\n",
    "        pred2 = pd.Series(p2[model_name][0])\n",
    "        \n",
    "        # align on index → only keep indices present in both\n",
    "        a1, a2 = pred1.align(pred2, join='inner')\n",
    "        \n",
    "        if len(a1) == 0:\n",
    "            # no overlap (unlikely if both start at 0), skip\n",
    "            continue\n",
    "        \n",
    "        k = cohen_kappa_score(a1, a2)\n",
    "\n",
    "        # k = cohen_kappa_score(p1[model_name][0], p2[model_name][0])\n",
    "            \n",
    "        records.append({\n",
    "            'model': model_name,\n",
    "            'scenario_1': s1,\n",
    "            'scenario_2': s2,\n",
    "            'kappa': k\n",
    "        })\n",
    "\n",
    "df = pd.DataFrame(records)\n",
    "if cfg.save_data:\n",
    "    df.to_csv(f'{cfg.results_dir}/Cohens-Kappa_{current_timestamp}.csv', decimal=',', sep=';', encoding='utf-8', index=False)\n",
    "print(df)\n"
   ]
  },
  {
   "cell_type": "markdown",
   "metadata": {},
   "source": [
    "# Memory Cache leeren"
   ]
  },
  {
   "cell_type": "code",
   "execution_count": 32,
   "metadata": {},
   "outputs": [],
   "source": [
    "memory.clear(warn=False)"
   ]
  }
 ],
 "metadata": {
  "kernelspec": {
   "display_name": "General Purpose",
   "language": "python",
   "name": "venv"
  },
  "language_info": {
   "codemirror_mode": {
    "name": "ipython",
    "version": 3
   },
   "file_extension": ".py",
   "mimetype": "text/x-python",
   "name": "python",
   "nbconvert_exporter": "python",
   "pygments_lexer": "ipython3",
   "version": "3.12.4"
  }
 },
 "nbformat": 4,
 "nbformat_minor": 2
}
