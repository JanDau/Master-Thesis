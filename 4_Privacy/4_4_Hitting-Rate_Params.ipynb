{
 "cells": [
  {
   "cell_type": "markdown",
   "metadata": {},
   "source": [
    "# Imports"
   ]
  },
  {
   "cell_type": "code",
   "execution_count": 1,
   "metadata": {},
   "outputs": [],
   "source": [
    "from dataclasses import dataclass\n",
    "from pathlib import Path\n",
    "import pandas as pd\n",
    "from datetime import datetime\n",
    "import numpy as np\n",
    "import random\n",
    "import seaborn as sns\n",
    "from typing import Optional, Tuple, Union\n",
    "import matplotlib.pyplot as plt\n",
    "from syntheval import SynthEval\n",
    "from tqdm.notebook import tqdm  # für Jupyter kompatibel\n",
    "from concurrent.futures import ThreadPoolExecutor, as_completed"
   ]
  },
  {
   "cell_type": "markdown",
   "metadata": {},
   "source": [
    "# User Settings"
   ]
  },
  {
   "cell_type": "code",
   "execution_count": 2,
   "metadata": {},
   "outputs": [],
   "source": [
    "@dataclass\n",
    "class Config:\n",
    "    data_dir: Path = Path(\"../../data\")\n",
    "    figures_dir: Path = Path(\"figures\")\n",
    "    results_dir: Path = Path(\"results\")\n",
    "\n",
    "    real_file: str = \"20250301_data_20250510_122405_final_100_train.csv\"\n",
    "    synth_file: str = \"20250301_data_20250510_122405_final_100_synth.csv\"\n",
    "    holdout_file: str = \"20250301_data_20250510_122405_final_100_holdout.csv\"\n",
    "\n",
    "    random_seed: int = 42\n",
    "    bootstrap_sizes = [100, 500, 1000, 2000, 3500, 5000, 7500, 10000]\n",
    "    # bootstrap_sizes = [100, 200, 500] # Debug\n",
    "    # bootstrap_sizes = [100, 1000, 2000] # Debug\n",
    "    n_bootstrap = 30\n",
    "    thres = 0.075  # 1/30=0.0333 ist Standardwert wie in SynthEval\n",
    "\n",
    "    save_data: bool = True\n",
    "\n",
    "# Set my design\n",
    "sns.set_theme(\n",
    "    style=\"white\",\n",
    "    context=\"paper\",\n",
    "    palette=\"colorblind\",\n",
    "    rc={\n",
    "        \"font.family\": \"sans-serif\",\n",
    "        \"font.sans-serif\": [\"Arial\"],\n",
    "        \"font.size\": 7,\n",
    "        \"axes.titlesize\": 7,\n",
    "        \"axes.labelsize\": 7,\n",
    "        \"xtick.labelsize\": 7,\n",
    "        \"ytick.labelsize\": 7,\n",
    "        \"legend.fontsize\": 7\n",
    "    }\n",
    ")\n"
   ]
  },
  {
   "cell_type": "markdown",
   "metadata": {},
   "source": [
    "# Utility Functions"
   ]
  },
  {
   "cell_type": "code",
   "execution_count": 3,
   "metadata": {},
   "outputs": [],
   "source": [
    "def convert_dtypes(df: pd.DataFrame) -> pd.DataFrame:\n",
    "    \"\"\"\n",
    "    Konvertiert bestimmte Spalten des DataFrames in die gewünschten Datentypen:\n",
    "     - definierte Spalten als category\n",
    "     - definierte Spalten als pandas Nullable Integer (Int64)\n",
    "     - consciousness_level und news_score als geordnete Categoricals\n",
    "    \"\"\"\n",
    "    df = df.copy()  # Änderungen nicht am Original vornehmen\n",
    "\n",
    "    # 1) Kategorische Spalten\n",
    "    cat_cols = ['gender', 'ethnicity', 'chief_complaint', 'icd_block']\n",
    "    for col in cat_cols:\n",
    "        # df[col] = df[col].astype('category')\n",
    "        df[col] = df[col].astype('object') # 'category' führt zu Problemen mit dem OneHotEncoder\n",
    "\n",
    "    # 2) Integer-Spalten mit Nullable Integer dtype\n",
    "    int_cols = ['age', 'systolic_bp', 'diastolic_bp',\n",
    "                'heart_rate', 'respiratory_rate', 'oxygen_saturation']\n",
    "    for col in int_cols:\n",
    "        df[col] = df[col].astype('Int64')\n",
    "        # df[col] = df[col].astype('int32')\n",
    "\n",
    "    # 3) Geordnete Categoricals\n",
    "    df['consciousness_level'] = pd.Categorical(\n",
    "        df['consciousness_level'],\n",
    "        categories=['A', 'C', 'V', 'P', 'U'],\n",
    "        ordered=True\n",
    "    )\n",
    "    df['news_score'] = pd.Categorical(\n",
    "        df['news_score'],\n",
    "        categories=list(range(19)),\n",
    "        ordered=True\n",
    "    )\n",
    "\n",
    "    return df\n",
    "\n",
    "def load_data(\n",
    "    real_filename: Union[str, Path],\n",
    "    synth_filename: Optional[Union[str, Path]] = None,\n",
    "    holdout_filename: Optional[Union[str, Path]] = None,\n",
    "    data_dir: Path = None,\n",
    ") -> Tuple[pd.DataFrame, Optional[pd.DataFrame], Optional[pd.DataFrame]]:\n",
    "    \"\"\"\n",
    "    Lädt die realen, synthetischen und optionalen Holdout-CSV-Dateien\n",
    "    aus data_dir und wandelt sie über convert_dtypes um.\n",
    "\n",
    "    Returns:\n",
    "        df_real: pd.DataFrame\n",
    "        df_synth: Optional[pd.DataFrame]\n",
    "        df_holdout: Optional[pd.DataFrame]\n",
    "    \"\"\"\n",
    "    def _read_and_convert(fn: Union[str, Path]) -> pd.DataFrame:\n",
    "        return (\n",
    "            pd.read_csv(data_dir / fn, low_memory=False)\n",
    "              .pipe(convert_dtypes)\n",
    "        )\n",
    "\n",
    "    df_real    = _read_and_convert(real_filename)\n",
    "    df_synth   = _read_and_convert(synth_filename)   if synth_filename   else None\n",
    "    df_holdout = _read_and_convert(holdout_filename) if holdout_filename else None\n",
    "\n",
    "    return df_real, df_synth, df_holdout"
   ]
  },
  {
   "cell_type": "markdown",
   "metadata": {},
   "source": [
    "# Main Routine\n",
    "## Data Import"
   ]
  },
  {
   "cell_type": "code",
   "execution_count": 4,
   "metadata": {},
   "outputs": [],
   "source": [
    "cfg = Config()\n",
    "current_timestamp = datetime.now().strftime(\"%Y%m%d_%H%M%S\")\n",
    "\n",
    "df_train, df_synth, df_holdout = load_data(\n",
    "    cfg.real_file,\n",
    "    cfg.synth_file,\n",
    "    cfg.holdout_file,\n",
    "    data_dir=cfg.data_dir\n",
    ")\n",
    "\n",
    "df_holdout = df_holdout.dropna().reset_index(drop=True)"
   ]
  },
  {
   "cell_type": "code",
   "execution_count": 5,
   "metadata": {},
   "outputs": [
    {
     "name": "stdout",
     "output_type": "stream",
     "text": [
      "['gender', 'ethnicity', 'chief_complaint', 'icd_block', 'night_arrival', 'weekend_arrival', 'consciousness_level', 'news_score', 'icu_admission_24h']\n"
     ]
    }
   ],
   "source": [
    "target_col = 'icu_admission_24h'\n",
    "num_cols = ['age', 'temperature', 'heart_rate', 'respiratory_rate', 'oxygen_saturation', 'systolic_bp', 'diastolic_bp']\n",
    "cat_cols = ['gender', 'ethnicity', 'chief_complaint', 'icd_block', 'night_arrival', 'weekend_arrival']\n",
    "ord_cols = ['consciousness_level','news_score']\n",
    "bool_cols = ['night_arrival', 'weekend_arrival']\n",
    "\n",
    "cat_ord_cols = cat_cols + ord_cols\n",
    "cat_ord_cols.append(target_col)\n",
    "print(cat_ord_cols)"
   ]
  },
  {
   "cell_type": "code",
   "execution_count": 6,
   "metadata": {},
   "outputs": [],
   "source": [
    "# df_train_sampled = df_train.sample(n=100, random_state=cfg.random_seed, replace=False)\n",
    "# df_synth_sampled = df_synth.sample(n=100, random_state=cfg.random_seed, replace=False)\n",
    "\n",
    "# Train_vs_Synth = SynthEval(real_dataframe=df_train_sampled, cat_cols=cat_ord_cols, verbose=False)\n",
    "# res = Train_vs_Synth.evaluate(df_synth_sampled, hit_rate={'thres_percent': cfg.thres})\n",
    "# val = res.loc[res['metric']=='hit_rate', 'val'].iloc[0]"
   ]
  },
  {
   "cell_type": "code",
   "execution_count": 7,
   "metadata": {},
   "outputs": [],
   "source": [
    "# print(res)"
   ]
  },
  {
   "cell_type": "markdown",
   "metadata": {},
   "source": [
    "## Stabilitätsanalyse\n",
    "Aktuell formal noch kein Bootstrap, daher Replacement ausgeschaltet. Hier geht es um konstante Stichprobengröße ohne Verzerrung durch Mehrfachziehungen, daher Subsampling.\n",
    "Echtes Bootstrap (mit Replacement) kommt später bei der Fehlerintervall-Berechnung."
   ]
  },
  {
   "cell_type": "markdown",
   "metadata": {},
   "source": [
    "### bootstrap_size"
   ]
  },
  {
   "cell_type": "markdown",
   "metadata": {},
   "source": [
    "Parallelisierung"
   ]
  },
  {
   "cell_type": "code",
   "execution_count": null,
   "metadata": {},
   "outputs": [],
   "source": [
    "def hitting_rate_job(args):\n",
    "    bsize, boot = args\n",
    "    df_train_sampled = df_train.sample(n=bsize, random_state=cfg.random_seed + boot, replace=False)\n",
    "    df_synth_sampled = df_synth.sample(n=bsize, random_state=cfg.random_seed + boot, replace=False)\n",
    "    Train_vs_Synth = SynthEval(real_dataframe=df_train_sampled, cat_cols=cat_ord_cols, verbose=False)\n",
    "    res = Train_vs_Synth.evaluate(df_synth_sampled, hit_rate={'thres_percent': cfg.thres})\n",
    "    val = res.loc[res['metric']=='hit_rate', 'val'].iloc[0]\n",
    "    return {'sample_size': bsize, 'bootstrap': boot, 'val': val}\n"
   ]
  },
  {
   "cell_type": "code",
   "execution_count": null,
   "metadata": {},
   "outputs": [],
   "source": [
    "# Aufgabenliste erstellen\n",
    "all_tasks = [(bsize, boot)\n",
    "             for bsize in cfg.bootstrap_sizes\n",
    "             for boot in range(cfg.n_bootstrap)]\n",
    "\n",
    "results = []\n",
    "with ThreadPoolExecutor(max_workers=12) as executor:  # Passe max_workers ggf. an\n",
    "    futures = [executor.submit(hitting_rate_job, task) for task in all_tasks]\n",
    "    for f in tqdm(as_completed(futures), total=len(futures), desc='Bootstraps (Threads)'):\n",
    "        results.append(f.result())"
   ]
  },
  {
   "cell_type": "markdown",
   "metadata": {},
   "source": [
    "Ohne Parallelisierung"
   ]
  },
  {
   "cell_type": "code",
   "execution_count": null,
   "metadata": {},
   "outputs": [],
   "source": [
    "# results = []\n",
    "\n",
    "# for bsize in tqdm(cfg.bootstrap_sizes, desc='Sample Size'):\n",
    "#     # for boot in range(cfg.n_bootstrap):\n",
    "#     for boot in tqdm(range(cfg.n_bootstrap), desc='Bootstrap', leave=False, position=1):\n",
    "#         # Sampling (ohne replacement)\n",
    "#         df_train_sampled = df_train.sample(n=bsize, random_state=cfg.random_seed + boot, replace=False)\n",
    "#         df_synth_sampled = df_synth.sample(n=bsize, random_state=cfg.random_seed + boot, replace=False)\n",
    "\n",
    "#         # Hitting-Rate berechnen\n",
    "#         Train_vs_Synth = SynthEval(real_dataframe=df_train_sampled, cat_cols=cat_ord_cols, verbose=False)\n",
    "#         res = Train_vs_Synth.evaluate(df_synth_sampled, hit_rate={'thres_percent': cfg.thres})\n",
    "#         val = res.loc[res['metric']=='hit_rate', 'val'].iloc[0]\n",
    "#         results.append({\n",
    "#             'sample_size': bsize,\n",
    "#             'bootstrap': boot,\n",
    "#             'val': val\n",
    "#         })"
   ]
  },
  {
   "cell_type": "markdown",
   "metadata": {},
   "source": [
    "#### save results"
   ]
  },
  {
   "cell_type": "code",
   "execution_count": null,
   "metadata": {},
   "outputs": [],
   "source": [
    "df_bootstrap = pd.DataFrame(results)\n",
    "if cfg.save_data:\n",
    "    df_bootstrap.to_csv(cfg.results_dir / f\"bootstrap_size-test_n-{cfg.n_bootstrap}_tresh-{cfg.thres}_{current_timestamp}.csv\", index=False, header=True, decimal=',', sep=';', encoding='utf-8')\n",
    "    print(f\"Bootstrap results saved to {cfg.results_dir / f'bootstrap_size-test_n-{cfg.n_bootstrap}_tresh-{cfg.thres}_{current_timestamp}.csv'}\")\n",
    "# display(df_bootstrap)"
   ]
  },
  {
   "cell_type": "markdown",
   "metadata": {},
   "source": [
    "#### load instead"
   ]
  },
  {
   "cell_type": "code",
   "execution_count": 51,
   "metadata": {},
   "outputs": [],
   "source": [
    "df_bootstrap = pd.read_csv(cfg.results_dir / f\"bootstrap_size-test_n-30_tresh-0.075_20250515_162051.csv\", sep=';', decimal=',')"
   ]
  },
  {
   "cell_type": "code",
   "execution_count": 52,
   "metadata": {},
   "outputs": [
    {
     "name": "stdout",
     "output_type": "stream",
     "text": [
      "   sample_size      mean       std\n",
      "0          100  0.000000  0.000000\n",
      "1          500  0.000000  0.000000\n",
      "2         1000  0.000000  0.000000\n",
      "3         2000  0.000167  0.000273\n",
      "4         3500  0.000467  0.000379\n",
      "5         5000  0.000860  0.000404\n",
      "6         7500  0.001542  0.000596\n",
      "7        10000  0.002337  0.000528\n"
     ]
    }
   ],
   "source": [
    "summary = df_bootstrap.groupby(['sample_size'])['val'].agg(['mean', 'std']).reset_index()\n",
    "print(summary)"
   ]
  },
  {
   "cell_type": "code",
   "execution_count": 53,
   "metadata": {},
   "outputs": [
    {
     "name": "stdout",
     "output_type": "stream",
     "text": [
      "Abbildung gespeichert unter: figures\\bootstrap_size-test_n-30_thresh-0.075_20250601_144055.tiff\n"
     ]
    },
    {
     "data": {
      "image/png": "[encoded data removed]",
      "text/plain": [
       "<Figure size 230x172.5 with 2 Axes>"
      ]
     },
     "metadata": {},
     "output_type": "display_data"
    }
   ],
   "source": [
    "# Berechne CV\n",
    "summary['cv'] = summary['std'] / summary['mean']\n",
    "\n",
    "plt.figure(figsize=(2.3, 1.725))\n",
    "ax1 = plt.gca()\n",
    "\n",
    "# Mean und ±1 std\n",
    "sns.lineplot(data=summary, x='sample_size', y='mean', marker='o', label='Mean', ax=ax1)\n",
    "ax1.fill_between(summary['sample_size'], \n",
    "                 summary['mean'] - summary['std'], \n",
    "                 summary['mean'] + summary['std'], \n",
    "                 alpha=0.3, label='±1 SD')\n",
    "ax1.set_xlabel('Sample Size')\n",
    "# ax1.set_ylabel('Hitting Rate')\n",
    "ax1.set_ylabel('')\n",
    "ax1.set_ylim(-0.0005, 0.0035)\n",
    "ax1.legend(loc='upper right')\n",
    "\n",
    "# Zweite y-Achse für CV\n",
    "ax2 = ax1.twinx()\n",
    "sns.lineplot(data=summary, x='sample_size', y='cv', marker='s', color='tab:orange', label='CV', ax=ax2)\n",
    "ax2.set_ylabel('Coefficient of Variation')\n",
    "ax2.set_ylim(0, 1.75)\n",
    "ax2.legend(loc='upper left')\n",
    "\n",
    "# plt.title('Stabilität der Hitting-Rate in Abhängigkeit der Sample-Size')\n",
    "plt.tight_layout()\n",
    "\n",
    "if cfg.save_data:\n",
    "    fname = f'bootstrap_size-test_n-{cfg.n_bootstrap}_thresh-{cfg.thres}_{current_timestamp}.tiff'\n",
    "    fullpath = cfg.figures_dir / fname\n",
    "    plt.savefig(\n",
    "        fullpath,\n",
    "        dpi=300,\n",
    "        format='tiff',\n",
    "        bbox_inches='tight',\n",
    "        pil_kwargs={'compression': 'tiff_lzw'}\n",
    "    )\n",
    "    print(f\"Abbildung gespeichert unter: {fullpath}\")\n",
    "\n",
    "plt.show()\n"
   ]
  },
  {
   "cell_type": "markdown",
   "metadata": {},
   "source": [
    "### n_bootstraps"
   ]
  },
  {
   "cell_type": "code",
   "execution_count": 11,
   "metadata": {},
   "outputs": [],
   "source": [
    "bootstrap_size = 5000\n",
    "# n_bootstrap_list = [10, 20, 30, 40, 50, 60, 70, 80, 90, 100]\n",
    "n_bootstrap_list = [10, 30, 50]"
   ]
  },
  {
   "cell_type": "code",
   "execution_count": 12,
   "metadata": {},
   "outputs": [],
   "source": [
    "all_tasks = [(n_boot, boot)\n",
    "             for n_boot in n_bootstrap_list\n",
    "             for boot in range(n_boot)]"
   ]
  },
  {
   "cell_type": "code",
   "execution_count": 13,
   "metadata": {},
   "outputs": [],
   "source": [
    "def hitting_rate_job(args):\n",
    "    n_boot, boot = args\n",
    "    df_train_sampled = df_train.sample(n=bootstrap_size, random_state=cfg.random_seed + boot, replace=False)\n",
    "    df_synth_sampled = df_synth.sample(n=bootstrap_size, random_state=cfg.random_seed + boot, replace=False)\n",
    "    Train_vs_Synth = SynthEval(real_dataframe=df_train_sampled, cat_cols=cat_ord_cols, verbose=False)\n",
    "    res = Train_vs_Synth.evaluate(df_synth_sampled, hit_rate={'thres_percent': cfg.thres})\n",
    "    val = res.loc[res['metric']=='hit_rate', 'val'].iloc[0]\n",
    "    return {'n_bootstrap': n_boot, 'bootstrap': boot, 'val': val}\n"
   ]
  },
  {
   "cell_type": "code",
   "execution_count": 14,
   "metadata": {},
   "outputs": [
    {
     "data": {
      "application/vnd.jupyter.widget-view+json": {
       "model_id": "12aadd6733234e7d93f9a167d3454a5d",
       "version_major": 2,
       "version_minor": 0
      },
      "text/plain": [
       "Bootstraps (Threads):   0%|          | 0/90 [00:00<?, ?it/s]"
      ]
     },
     "metadata": {},
     "output_type": "display_data"
    }
   ],
   "source": [
    "results_n_bootstraps = []\n",
    "with ThreadPoolExecutor(max_workers=12) as executor:\n",
    "    futures = [executor.submit(hitting_rate_job, task) for task in all_tasks]\n",
    "    for f in tqdm(as_completed(futures), total=len(futures), desc='Bootstraps (Threads)'):\n",
    "        results_n_bootstraps.append(f.result())\n"
   ]
  },
  {
   "cell_type": "code",
   "execution_count": 15,
   "metadata": {},
   "outputs": [],
   "source": [
    "df_bootstrap_n_bootstraps = pd.DataFrame(results_n_bootstraps)\n"
   ]
  },
  {
   "cell_type": "code",
   "execution_count": 16,
   "metadata": {},
   "outputs": [],
   "source": [
    "summary_n_bootstraps = df_bootstrap_n_bootstraps.groupby(['n_bootstrap'])['val'].agg(['mean', 'std']).reset_index()"
   ]
  },
  {
   "cell_type": "markdown",
   "metadata": {},
   "source": [
    "#### save"
   ]
  },
  {
   "cell_type": "code",
   "execution_count": 17,
   "metadata": {},
   "outputs": [
    {
     "name": "stdout",
     "output_type": "stream",
     "text": [
      "   n_bootstrap      mean       std\n",
      "0           10  0.000940  0.000453\n",
      "1           30  0.000860  0.000404\n",
      "2           50  0.000784  0.000402\n",
      "Bootstrap results saved to results\\hitting-rate_n_bootstrap-finding_s-5000_tresh-0.075_20250601_144055.csv\n"
     ]
    }
   ],
   "source": [
    "print(summary_n_bootstraps)\n",
    "if cfg.save_data:\n",
    "    summary_n_bootstraps.to_csv(cfg.results_dir / f\"hitting-rate_n_bootstrap-finding_s-{bootstrap_size}_tresh-{cfg.thres}_{current_timestamp}.csv\", index=False, header=True, decimal=',', sep=';', encoding='utf-8')\n",
    "    print(f\"Bootstrap results saved to {cfg.results_dir / f'hitting-rate_n_bootstrap-finding_s-{bootstrap_size}_tresh-{cfg.thres}_{current_timestamp}.csv'}\")"
   ]
  },
  {
   "cell_type": "markdown",
   "metadata": {},
   "source": [
    "#### load instead"
   ]
  },
  {
   "cell_type": "code",
   "execution_count": null,
   "metadata": {},
   "outputs": [],
   "source": [
    "summary_n_bootstraps = pd.read_csv(cfg.results_dir / f\"hitting-rate_n_bootstrap-finding_s-5000_tresh-0.075_20250601_144055.csv\", sep=';', decimal=',')"
   ]
  },
  {
   "cell_type": "code",
   "execution_count": 67,
   "metadata": {},
   "outputs": [
    {
     "name": "stdout",
     "output_type": "stream",
     "text": [
      "Abbildung gespeichert unter: figures\\hitting-rate_n_bootstrap-finding_s-5000_tresh-0.075_20250601_144055.tiff\n"
     ]
    },
    {
     "data": {
      "image/png": "[encoded data removed]",
      "text/plain": [
       "<Figure size 230x172.5 with 2 Axes>"
      ]
     },
     "metadata": {},
     "output_type": "display_data"
    }
   ],
   "source": [
    "# CV berechnen\n",
    "summary_n_bootstraps['cv'] = summary_n_bootstraps['std'] / summary_n_bootstraps['mean']\n",
    "\n",
    "plt.figure(figsize=(2.3, 1.725))\n",
    "ax1 = plt.gca()\n",
    "\n",
    "# Mean und ±1 std\n",
    "sns.lineplot(data=summary_n_bootstraps, x='n_bootstrap', y='mean', marker='o', label='Mean', ax=ax1)\n",
    "plt.fill_between(summary_n_bootstraps['n_bootstrap'],\n",
    "                 summary_n_bootstraps['mean'] - summary_n_bootstraps['std'],\n",
    "                 summary_n_bootstraps['mean'] + summary_n_bootstraps['std'],\n",
    "                 alpha=0.3, label='±1 SD')\n",
    "ax1.set_xlabel('Number of Bootstraps')\n",
    "ax1.set_ylabel('')\n",
    "# ax1.set_ylabel('Hitting Rate')\n",
    "# ax1.set_ylim(0.00025, 0.002)\n",
    "ax1.set_ylim(-0.0005, 0.0035)\n",
    "ax1.legend(loc='upper right')\n",
    "\n",
    "# CV als zweite Linie\n",
    "ax2 = ax1.twinx()\n",
    "sns.lineplot(data=summary_n_bootstraps, x='n_bootstrap', y='cv', marker='s', linestyle='--', label='CV', ax=ax2, color='tab:orange')\n",
    "ax2.set_ylabel('Coefficient of Variation')\n",
    "# ax2.set_ylim(0.4, 0.6)\n",
    "ax2.set_ylim(0, 1.75)\n",
    "ax2.legend(loc='upper left')\n",
    "\n",
    "plt.tight_layout()\n",
    "\n",
    "if cfg.save_data:\n",
    "    fname = f'hitting-rate_n_bootstrap-finding_s-{bootstrap_size}_tresh-{cfg.thres}_{current_timestamp}.tiff'\n",
    "    fullpath = cfg.figures_dir / f'{fname}'\n",
    "    plt.savefig(\n",
    "        fullpath,\n",
    "        dpi=300,\n",
    "        format='tiff',\n",
    "        bbox_inches='tight',\n",
    "        pil_kwargs={'compression': 'tiff_lzw'}\n",
    "    )\n",
    "    print(f\"Abbildung gespeichert unter: {fullpath}\")\n",
    "plt.show()\n",
    "\n"
   ]
  },
  {
   "cell_type": "code",
   "execution_count": null,
   "metadata": {},
   "outputs": [],
   "source": []
  },
  {
   "cell_type": "markdown",
   "metadata": {},
   "source": [
    "## thresh_percent Bestimmung"
   ]
  },
  {
   "cell_type": "code",
   "execution_count": 38,
   "metadata": {},
   "outputs": [],
   "source": [
    "thres_grid = np.linspace(0, 0.1, 21) # 0%, 0.5%, 1%, 1.5%, ..., 10%\n",
    "thres_grid_coarse = np.linspace(0, 0.1, 11)  # 0%, 1%, …, 10%\n",
    "thres_grid_fine = np.linspace(0.045, 0.055, 11)  # 0%, 1%, …, 10%\n",
    "\n",
    "bootstrap_size = 5000\n",
    "n_bootstrap = 30"
   ]
  },
  {
   "cell_type": "code",
   "execution_count": null,
   "metadata": {},
   "outputs": [],
   "source": [
    "for thres in tqdm(thres_grid_fine, desc=\"thres_percent\"):\n",
    "    for boot in tqdm(range(n_bootstrap), desc=\"Bootstrap\", leave=False, position=1):\n",
    "        # Sample jeweils 5000 aus Train, Holdout, Synth\n",
    "        tr_sample = df_train.sample(bootstrap_size, replace=False, random_state=cfg.random_seed + boot)\n",
    "        ho_sample = df_holdout.sample(bootstrap_size, replace=False, random_state=cfg.random_seed + boot)\n",
    "        sy_sample = df_synth.sample(bootstrap_size, replace=False, random_state=cfg.random_seed + boot)\n",
    "\n",
    "        # Train vs. Synth\n",
    "        Train_vs_Synth = SynthEval(real_dataframe=tr_sample, cat_cols=cat_ord_cols, verbose=False)\n",
    "        res_tr = Train_vs_Synth.evaluate(sy_sample, hit_rate={'thres_percent': thres})\n",
    "        hr_train = res_tr.loc[res_tr['metric']=='hit_rate', 'val'].iloc[0]\n",
    "\n",
    "        # Holdout vs. Synth\n",
    "        Holdout_vs_Synth = SynthEval(real_dataframe=ho_sample, cat_cols=cat_ord_cols, verbose=False)\n",
    "        res_ho = Holdout_vs_Synth.evaluate(sy_sample, hit_rate={'thres_percent': thres})\n",
    "        hr_hold = res_ho.loc[res_ho['metric']=='hit_rate', 'val'].iloc[0]\n",
    "\n",
    "        results.append({'thres': thres, 'bootstrap': boot,\n",
    "                        'hr_train': hr_train, 'hr_hold': hr_hold})"
   ]
  },
  {
   "cell_type": "code",
   "execution_count": null,
   "metadata": {},
   "outputs": [],
   "source": [
    "df_res = pd.DataFrame(results)\n",
    "\n"
   ]
  },
  {
   "cell_type": "markdown",
   "metadata": {},
   "source": [
    "### save res"
   ]
  },
  {
   "cell_type": "code",
   "execution_count": null,
   "metadata": {},
   "outputs": [],
   "source": [
    "if cfg.save_data:\n",
    "    fname = f\"hitting-rate_thresh-finding_fine_s-5000_n30_{current_timestamp}.csv\"\n",
    "    df_res.to_csv(cfg.results_dir / fname, index=False, header=True, decimal=',', sep=';', encoding='utf-8')\n",
    "    print(f\"Bootstrap results saved to {cfg.results_dir / fname}\")"
   ]
  },
  {
   "cell_type": "markdown",
   "metadata": {},
   "source": [
    "### load instead"
   ]
  },
  {
   "cell_type": "code",
   "execution_count": 56,
   "metadata": {},
   "outputs": [],
   "source": [
    "df_res = pd.read_csv(cfg.results_dir / f\"hitting-rate_thresh-finding_fine_s-5000_n30_20250515_162051.csv\", sep=';', decimal=',')"
   ]
  },
  {
   "cell_type": "code",
   "execution_count": 57,
   "metadata": {},
   "outputs": [
    {
     "name": "stdout",
     "output_type": "stream",
     "text": [
      "    thres  hr_train_mean  hr_train_se  hr_hold_mean  hr_hold_se  privacy_gap\n",
      "0   0.000       0.000000     0.000000      0.000000    0.000000     0.000000\n",
      "1   0.010       0.000000     0.000000      0.000000    0.000000     0.000000\n",
      "2   0.020       0.000000     0.000000      0.000000    0.000000     0.000000\n",
      "3   0.030       0.000000     0.000000      0.000000    0.000000     0.000000\n",
      "4   0.040       0.000007     0.000007      0.000007    0.000007     0.000000\n",
      "5   0.045       0.000033     0.000014      0.000027    0.000013     0.000007\n",
      "6   0.046       0.000047     0.000016      0.000040    0.000015     0.000007\n",
      "7   0.047       0.000047     0.000016      0.000040    0.000015     0.000007\n",
      "8   0.048       0.000060     0.000024      0.000040    0.000015     0.000020\n",
      "9   0.049       0.000073     0.000026      0.000053    0.000016     0.000020\n",
      "10  0.050       0.000093     0.000019      0.000060    0.000012     0.000033\n",
      "11  0.051       0.000093     0.000027      0.000073    0.000020     0.000020\n",
      "12  0.052       0.000120     0.000030      0.000080    0.000021     0.000040\n",
      "13  0.053       0.000127     0.000030      0.000087    0.000021     0.000040\n",
      "14  0.054       0.000133     0.000029      0.000093    0.000021     0.000040\n",
      "15  0.055       0.000187     0.000036      0.000140    0.000029     0.000047\n",
      "16  0.060       0.000253     0.000041      0.000307    0.000040    -0.000053\n",
      "17  0.070       0.000587     0.000058      0.000667    0.000061    -0.000080\n",
      "18  0.080       0.001007     0.000083      0.001160    0.000097    -0.000153\n",
      "19  0.090       0.001800     0.000126      0.001873    0.000118    -0.000073\n",
      "20  0.100       0.003273     0.000161      0.003260    0.000169     0.000013\n"
     ]
    }
   ],
   "source": [
    "summary = df_res.groupby('thres').agg(\n",
    "    hr_train_mean = ('hr_train', 'mean'),\n",
    "    hr_train_se   = ('hr_train', 'sem'),\n",
    "    hr_hold_mean  = ('hr_hold', 'mean'),\n",
    "    hr_hold_se    = ('hr_hold', 'sem'),\n",
    ").reset_index()\n",
    "\n",
    "summary['privacy_gap'] = summary['hr_train_mean'] - summary['hr_hold_mean']\n",
    "print(summary)"
   ]
  },
  {
   "cell_type": "code",
   "execution_count": 66,
   "metadata": {},
   "outputs": [
    {
     "name": "stdout",
     "output_type": "stream",
     "text": [
      "Abbildung gespeichert unter: figures\\hitting-rate_thresh-finding_fine_s-5000_n30_20250601_144055.tiff\n"
     ]
    },
    {
     "data": {
      "image/png": "[encoded data removed]",
      "text/plain": [
       "<Figure size 240x172.5 with 1 Axes>"
      ]
     },
     "metadata": {},
     "output_type": "display_data"
    }
   ],
   "source": [
    "fig, ax = plt.subplots(figsize=(2.4, 1.725))\n",
    "\n",
    "# Hitting-Rate Kurven mit Fehlerbändern\n",
    "sns.lineplot(ax=ax, data=summary, x='thres', y='hr_train_mean', marker='o', label='Train vs. Synth')\n",
    "sns.lineplot(ax=ax, data=summary, x='thres', y='hr_hold_mean', marker='o', label='Holdout vs. Synth')\n",
    "ax.fill_between(summary['thres'],\n",
    "                 summary['hr_train_mean'] - summary['hr_train_se'],\n",
    "                 summary['hr_train_mean'] + summary['hr_train_se'],\n",
    "                 alpha=0.2)\n",
    "ax.fill_between(summary['thres'],\n",
    "                 summary['hr_hold_mean'] - summary['hr_hold_se'],\n",
    "                 summary['hr_hold_mean'] + summary['hr_hold_se'],\n",
    "                 alpha=0.2)\n",
    "\n",
    "# Privacy-Gap als eigene Kurve\n",
    "sns.lineplot(ax=ax, data=summary, x='thres', y='privacy_gap', color='black', linestyle='--', label='Privacy Gap')\n",
    "\n",
    "ax.set_xlabel('thres_percent')\n",
    "# plt.ylabel('Hitting Rate')\n",
    "ax.set_ylabel('')\n",
    "ax.set_ylim(-0.0005, 0.0035)\n",
    "# plt.title('Hitting-Rate Sensitivitätsanalyse mit Bootstrapping')\n",
    "\n",
    "ax.yaxis.set_ticks_position('left')\n",
    "ax.tick_params(\n",
    "    axis='y',\n",
    "    which='both',\n",
    "    left=True,       # draw ticks on the left\n",
    "    right=False,     # (optional) disable ticks on the right\n",
    "    labelleft=True,  # show tick labels on the left\n",
    "    length=4,\n",
    "    width=1,\n",
    "    direction='out'\n",
    ")\n",
    "\n",
    "ax.legend()\n",
    "plt.tight_layout()\n",
    "if cfg.save_data:\n",
    "    fname = f'hitting-rate_thresh-finding_fine_s-5000_n30_{current_timestamp}.tiff'\n",
    "    fullpath = cfg.figures_dir / f'{fname}'\n",
    "    plt.savefig(\n",
    "        fullpath,\n",
    "        dpi=300,\n",
    "        format='tiff',\n",
    "        bbox_inches='tight',\n",
    "        pil_kwargs={'compression': 'tiff_lzw'}\n",
    "    )\n",
    "    print(f\"Abbildung gespeichert unter: {fullpath}\")\n",
    "plt.show()"
   ]
  }
 ],
 "metadata": {
  "kernelspec": {
   "display_name": "SynthEval",
   "language": "python",
   "name": "syntheval"
  },
  "language_info": {
   "codemirror_mode": {
    "name": "ipython",
    "version": 3
   },
   "file_extension": ".py",
   "mimetype": "text/x-python",
   "name": "python",
   "nbconvert_exporter": "python",
   "pygments_lexer": "ipython3",
   "version": "3.12.6"
  }
 },
 "nbformat": 4,
 "nbformat_minor": 2
}
