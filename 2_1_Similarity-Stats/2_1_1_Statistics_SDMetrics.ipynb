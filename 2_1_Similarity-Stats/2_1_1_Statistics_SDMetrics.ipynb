{
 "cells": [
  {
   "cell_type": "markdown",
   "metadata": {},
   "source": [
    "# Code\n",
    "...\n",
    "# Imports"
   ]
  },
  {
   "cell_type": "code",
   "execution_count": 1,
   "metadata": {},
   "outputs": [],
   "source": [
    "import pandas as pd\n",
    "from pathlib import Path\n",
    "import pandas as pd\n",
    "import numpy as np\n",
    "from pathlib import Path\n",
    "from typing import Optional, Tuple, Union\n",
    "import seaborn as sns\n",
    "import matplotlib.pyplot as plt\n",
    "from sdmetrics.single_column import StatisticSimilarity"
   ]
  },
  {
   "cell_type": "markdown",
   "metadata": {},
   "source": [
    "# User Configuration"
   ]
  },
  {
   "cell_type": "code",
   "execution_count": 2,
   "metadata": {},
   "outputs": [],
   "source": [
    "SAVE_CSV = True  # Save figures\n",
    "\n",
    "REAL_FILE = \"20250301_data_20250510_122405_final_100_train.csv\"\n",
    "SYNTH_FILE = \"20250301_data_20250510_122405_final_100_synth.csv\"\n",
    "HOLDOUT_FILE = \"20250301_data_20250510_122405_final_100_holdout.csv\"\n",
    "\n",
    "DATA_DIR = Path(\"../../data\")\n",
    "OUTPUT_DIR_CSV = Path(\"results\")\n",
    "OUTPUT_DIR_CSV.mkdir(parents=True, exist_ok=True)  # ensure output folder exists\n",
    "\n",
    "# Set my design\n",
    "sns.set_theme(\n",
    "    style=\"white\",\n",
    "    context=\"talk\",\n",
    "    palette=\"colorblind\"\n",
    ")"
   ]
  },
  {
   "cell_type": "markdown",
   "metadata": {},
   "source": [
    "# Utility Functions"
   ]
  },
  {
   "cell_type": "markdown",
   "metadata": {},
   "source": [
    "## Load Data & Assign Correct Datatypes"
   ]
  },
  {
   "cell_type": "code",
   "execution_count": 3,
   "metadata": {},
   "outputs": [],
   "source": [
    "def convert_dtypes(df: pd.DataFrame) -> pd.DataFrame:\n",
    "    \"\"\"\n",
    "    Konvertiert bestimmte Spalten des DataFrames in die gewünschten Datentypen:\n",
    "     - definierte Spalten als category\n",
    "     - definierte Spalten als pandas Nullable Integer (Int64)\n",
    "     - consciousness_level und news_score als geordnete Categoricals\n",
    "    \"\"\"\n",
    "    df = df.copy()  # Änderungen nicht am Original vornehmen\n",
    "\n",
    "    # 1) Kategorische Spalten\n",
    "    cat_cols = ['gender', 'ethnicity', 'chief_complaint', 'icd_block']\n",
    "    for col in cat_cols:\n",
    "        df[col] = df[col].astype('category')\n",
    "\n",
    "    # 2) Integer-Spalten mit Nullable Integer dtype\n",
    "    int_cols = ['age', 'systolic_bp', 'diastolic_bp',\n",
    "                'heart_rate', 'respiratory_rate', 'oxygen_saturation']\n",
    "    for col in int_cols:\n",
    "        df[col] = df[col].astype('Int64')\n",
    "\n",
    "    # 3) Geordnete Categoricals\n",
    "    df['consciousness_level'] = pd.Categorical(\n",
    "        df['consciousness_level'],\n",
    "        categories=['A', 'C', 'V', 'P', 'U'],\n",
    "        ordered=True\n",
    "    )\n",
    "    df['news_score'] = pd.Categorical(\n",
    "        df['news_score'],\n",
    "        categories=list(range(19)),\n",
    "        ordered=True\n",
    "    )\n",
    "\n",
    "    return df\n",
    "\n",
    "def load_data(\n",
    "    real_filename: Union[str, Path],\n",
    "    synth_filename: Optional[Union[str, Path]] = None,\n",
    "    holdout_filename: Optional[Union[str, Path]] = None,\n",
    "    data_dir: Path = DATA_DIR\n",
    ") -> Tuple[pd.DataFrame, Optional[pd.DataFrame], Optional[pd.DataFrame]]:\n",
    "    \"\"\"\n",
    "    Lädt die realen, synthetischen und optionalen Holdout-CSV-Dateien\n",
    "    aus data_dir und wandelt sie über convert_dtypes um.\n",
    "\n",
    "    Returns:\n",
    "        df_real: pd.DataFrame\n",
    "        df_synth: Optional[pd.DataFrame]\n",
    "        df_holdout: Optional[pd.DataFrame]\n",
    "    \"\"\"\n",
    "    def _read_and_convert(fn: Union[str, Path]) -> pd.DataFrame:\n",
    "        return (\n",
    "            pd.read_csv(data_dir / fn, low_memory=False)\n",
    "              .pipe(convert_dtypes)\n",
    "        )\n",
    "\n",
    "    df_real    = _read_and_convert(real_filename)\n",
    "    df_synth   = _read_and_convert(synth_filename)   if synth_filename   else None\n",
    "    df_holdout = _read_and_convert(holdout_filename) if holdout_filename else None\n",
    "\n",
    "    return df_real, df_synth, df_holdout"
   ]
  },
  {
   "cell_type": "code",
   "execution_count": null,
   "metadata": {},
   "outputs": [],
   "source": [
    "def compute_statistics_for_attributes(df_real, df_synth, num_attrs, statistic='mean'):\n",
    "    results = []\n",
    "    \n",
    "    # Stelle sicher, dass statistic eine Liste ist\n",
    "    statistics = [statistic] if isinstance(statistic, str) else statistic\n",
    "\n",
    "    for attr in num_attrs:\n",
    "        for stat in statistics:\n",
    "            stat_result = StatisticSimilarity.compute(\n",
    "                real_data=df_real[attr],\n",
    "                synthetic_data=df_synth[attr],\n",
    "                statistic=stat\n",
    "            )\n",
    "            results.append({'feature': attr, 'statistic': stat, 'result': stat_result})\n",
    "\n",
    "    return pd.DataFrame(results)"
   ]
  },
  {
   "cell_type": "markdown",
   "metadata": {},
   "source": [
    "# Main Routine\n",
    "## Daten Laden"
   ]
  },
  {
   "cell_type": "code",
   "execution_count": 5,
   "metadata": {},
   "outputs": [],
   "source": [
    "df_real, df_synth, df_holdout = load_data(\n",
    "    REAL_FILE,\n",
    "    SYNTH_FILE,\n",
    "    HOLDOUT_FILE,\n",
    "    data_dir=DATA_DIR\n",
    ")"
   ]
  },
  {
   "cell_type": "code",
   "execution_count": 6,
   "metadata": {},
   "outputs": [],
   "source": [
    "num_attrs = df_real.select_dtypes(include=['number']).columns\n",
    "cat_attrs = df_real.select_dtypes(exclude=['number']).columns"
   ]
  },
  {
   "cell_type": "code",
   "execution_count": null,
   "metadata": {},
   "outputs": [
    {
     "name": "stdout",
     "output_type": "stream",
     "text": [
      "0.9786451743978586\n"
     ]
    }
   ],
   "source": [
    "stats_age = StatisticSimilarity.compute(\n",
    "    real_data=df_real['age'],\n",
    "    synthetic_data=df_synth['age'],\n",
    "    statistic='mean'\n",
    ")\n",
    "print(stats_age)"
   ]
  },
  {
   "cell_type": "code",
   "execution_count": 9,
   "metadata": {},
   "outputs": [
    {
     "name": "stdout",
     "output_type": "stream",
     "text": [
      "              feature statistic    result\n",
      "0                 age      mean  0.978645\n",
      "1                 age       std  0.988089\n",
      "2                 age    median  1.000000\n",
      "3         temperature      mean  0.999872\n",
      "4         temperature       std  0.999429\n",
      "5         temperature    median  1.000000\n",
      "6          heart_rate      mean  0.996679\n",
      "7          heart_rate       std  0.992629\n",
      "8          heart_rate    median  0.980676\n",
      "9    respiratory_rate      mean  0.996877\n",
      "10   respiratory_rate       std  0.999291\n",
      "11   respiratory_rate    median  1.000000\n",
      "12  oxygen_saturation      mean  0.992750\n",
      "13  oxygen_saturation       std  0.999507\n",
      "14  oxygen_saturation    median  0.980000\n",
      "15        systolic_bp      mean  0.997299\n",
      "16        systolic_bp       std  0.996995\n",
      "17        systolic_bp    median  0.977679\n",
      "18       diastolic_bp      mean  0.995563\n",
      "19       diastolic_bp       std  0.997600\n",
      "20       diastolic_bp    median  1.000000\n"
     ]
    }
   ],
   "source": [
    "result_df = compute_statistics_for_attributes(df_real, df_synth, num_attrs, statistic=['mean', 'std', 'median'])\n",
    "print(result_df)\n",
    "if SAVE_CSV:\n",
    "    result_df.to_csv(OUTPUT_DIR_CSV / \"statistics.csv\", index=False, sep=';', encoding='utf-8', decimal=',')"
   ]
  }
 ],
 "metadata": {
  "kernelspec": {
   "display_name": "SDMetrics",
   "language": "python",
   "name": "sdmetrics"
  },
  "language_info": {
   "codemirror_mode": {
    "name": "ipython",
    "version": 3
   },
   "file_extension": ".py",
   "mimetype": "text/x-python",
   "name": "python",
   "nbconvert_exporter": "python",
   "pygments_lexer": "ipython3",
   "version": "3.12.4"
  }
 },
 "nbformat": 4,
 "nbformat_minor": 2
}
