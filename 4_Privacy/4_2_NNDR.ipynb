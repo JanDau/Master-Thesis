{
 "cells": [
  {
   "cell_type": "markdown",
   "metadata": {},
   "source": [
    "# Imports"
   ]
  },
  {
   "cell_type": "code",
   "execution_count": 1,
   "metadata": {},
   "outputs": [],
   "source": [
    "from dataclasses import dataclass\n",
    "import pandas as pd\n",
    "from pathlib import Path\n",
    "from typing import Optional, Tuple, Union\n",
    "from datetime import datetime\n",
    "import numpy as np\n",
    "import seaborn as sns\n",
    "from tqdm import tqdm\n",
    "from joblib import Parallel, delayed\n",
    "import matplotlib.pyplot as plt\n",
    "from sklearn.preprocessing import StandardScaler, OneHotEncoder, OrdinalEncoder\n",
    "from scipy.spatial.distance import cdist, hamming"
   ]
  },
  {
   "cell_type": "markdown",
   "metadata": {},
   "source": [
    "# User Settings"
   ]
  },
  {
   "cell_type": "code",
   "execution_count": 2,
   "metadata": {},
   "outputs": [],
   "source": [
    "@dataclass\n",
    "class Config:\n",
    "    data_dir: Path = Path(\"../../data\")\n",
    "    figures_dir: Path = Path(\"figures\")\n",
    "    results_dir: Path = Path(\"results\")\n",
    "\n",
    "    real_file: str = \"20250301_data_20250510_122405_final_100_train.csv\"\n",
    "    synth_file: str = \"20250301_data_20250510_122405_final_100_synth.csv\"\n",
    "    holdout_file: str = \"20250301_data_20250510_122405_final_100_holdout.csv\"\n",
    "\n",
    "    # Bootstrap parameters\n",
    "    n_bootstrap: int = 100\n",
    "    bootstrap_size: int = 5_000\n",
    "    random_seed: int = 42\n",
    "    \n",
    "    save_data: bool = True\n",
    "\n",
    "# Set my design\n",
    "sns.set_theme(\n",
    "    style=\"white\",\n",
    "    context=\"paper\",\n",
    "    palette=\"colorblind\",\n",
    "    rc={\n",
    "        \"font.family\": \"sans-serif\",\n",
    "        \"font.sans-serif\": [\"Arial\"],\n",
    "        \"font.size\": 7,\n",
    "        \"axes.titlesize\": 7,\n",
    "        \"axes.labelsize\": 7,\n",
    "        \"xtick.labelsize\": 7,\n",
    "        \"ytick.labelsize\": 7,\n",
    "        \"legend.fontsize\": 7\n",
    "    }\n",
    ")\n"
   ]
  },
  {
   "cell_type": "code",
   "execution_count": 3,
   "metadata": {},
   "outputs": [],
   "source": [
    "def convert_dtypes(df: pd.DataFrame) -> pd.DataFrame:\n",
    "    \"\"\"\n",
    "    Konvertiert bestimmte Spalten des DataFrames in die gewünschten Datentypen:\n",
    "     - definierte Spalten als category\n",
    "     - definierte Spalten als pandas Nullable Integer (Int64)\n",
    "     - consciousness_level und news_score als geordnete Categoricals\n",
    "    \"\"\"\n",
    "    df = df.copy()  # Änderungen nicht am Original vornehmen\n",
    "\n",
    "    # 1) Kategorische Spalten\n",
    "    cat_cols = ['gender', 'ethnicity', 'chief_complaint', 'icd_block']\n",
    "    for col in cat_cols:\n",
    "        # df[col] = df[col].astype('category')\n",
    "        df[col] = df[col].astype('object') # 'category' führt zu Problemen mit dem OneHotEncoder\n",
    "\n",
    "    # 2) Integer-Spalten mit Nullable Integer dtype\n",
    "    int_cols = ['age', 'systolic_bp', 'diastolic_bp',\n",
    "                'heart_rate', 'respiratory_rate', 'oxygen_saturation']\n",
    "    for col in int_cols:\n",
    "        df[col] = df[col].astype('Int64')\n",
    "        # df[col] = df[col].astype('int32')\n",
    "\n",
    "    # 3) Geordnete Categoricals\n",
    "    df['consciousness_level'] = pd.Categorical(\n",
    "        df['consciousness_level'],\n",
    "        categories=['A', 'C', 'V', 'P', 'U'],\n",
    "        ordered=True\n",
    "    )\n",
    "    df['news_score'] = pd.Categorical(\n",
    "        df['news_score'],\n",
    "        categories=list(range(19)),\n",
    "        ordered=True\n",
    "    )\n",
    "\n",
    "    return df\n",
    "\n",
    "def load_data(\n",
    "    real_filename: Union[str, Path],\n",
    "    synth_filename: Optional[Union[str, Path]] = None,\n",
    "    holdout_filename: Optional[Union[str, Path]] = None,\n",
    "    data_dir: Path = None,\n",
    ") -> Tuple[pd.DataFrame, Optional[pd.DataFrame], Optional[pd.DataFrame]]:\n",
    "    \"\"\"\n",
    "    Lädt die realen, synthetischen und optionalen Holdout-CSV-Dateien\n",
    "    aus data_dir und wandelt sie über convert_dtypes um.\n",
    "\n",
    "    Returns:\n",
    "        df_real: pd.DataFrame\n",
    "        df_synth: Optional[pd.DataFrame]\n",
    "        df_holdout: Optional[pd.DataFrame]\n",
    "    \"\"\"\n",
    "    def _read_and_convert(fn: Union[str, Path]) -> pd.DataFrame:\n",
    "        return (\n",
    "            pd.read_csv(data_dir / fn, low_memory=False)\n",
    "              .pipe(convert_dtypes)\n",
    "        )\n",
    "\n",
    "    df_real    = _read_and_convert(real_filename)\n",
    "    df_synth   = _read_and_convert(synth_filename)   if synth_filename   else None\n",
    "    df_holdout = _read_and_convert(holdout_filename) if holdout_filename else None\n",
    "\n",
    "    return df_real, df_synth, df_holdout"
   ]
  },
  {
   "cell_type": "markdown",
   "metadata": {},
   "source": [
    "# 1. Datengrundlage\n",
    "## 1.1 Import"
   ]
  },
  {
   "cell_type": "code",
   "execution_count": 4,
   "metadata": {},
   "outputs": [
    {
     "name": "stdout",
     "output_type": "stream",
     "text": [
      "Removed 337 rows with NaN values from holdout set.\n"
     ]
    }
   ],
   "source": [
    "cfg = Config()\n",
    "\n",
    "current_timestamp = datetime.now().strftime(\"%Y%m%d_%H%M%S\")\n",
    "\n",
    "df_train, df_synth, df_holdout = load_data(\n",
    "    cfg.real_file,\n",
    "    cfg.synth_file,\n",
    "    cfg.holdout_file,\n",
    "    data_dir=cfg.data_dir\n",
    ")\n",
    "\n",
    "# Entferne Zeilen mit NaN-Werten\n",
    "len_before = len(df_holdout)\n",
    "df_holdout = df_holdout.dropna().reset_index(drop=True)\n",
    "print(f\"Removed {len_before - len(df_holdout)} rows with NaN values from holdout set.\")"
   ]
  },
  {
   "cell_type": "markdown",
   "metadata": {},
   "source": [
    "## 1.2 Col Description & Target"
   ]
  },
  {
   "cell_type": "code",
   "execution_count": 5,
   "metadata": {},
   "outputs": [],
   "source": [
    "num_cols = ['age', 'temperature', 'heart_rate', 'respiratory_rate', 'oxygen_saturation', 'systolic_bp', 'diastolic_bp']\n",
    "cat_cols = ['icu_admission_24h', 'gender', 'ethnicity', 'night_arrival', 'weekend_arrival','chief_complaint', 'icd_block']\n",
    "ord_cols = ['consciousness_level','news_score']\n",
    "ord_cats = {col: df_train[col].cat.categories.tolist() for col in ord_cols}"
   ]
  },
  {
   "cell_type": "markdown",
   "metadata": {},
   "source": [
    "# 2. Funktion"
   ]
  },
  {
   "cell_type": "markdown",
   "metadata": {},
   "source": [
    "## Preprocessing"
   ]
  },
  {
   "cell_type": "code",
   "execution_count": 6,
   "metadata": {},
   "outputs": [],
   "source": [
    "def preprocess_data(df, num_cols, cat_cols, ord_cols, ord_categories, ohe_fit=None):\n",
    "    # Numerische & Ordinale Daten: Encoding & Z-Standardisierung\n",
    "    scaler = StandardScaler()\n",
    "    processed = {}\n",
    "    \n",
    "    # Numerische Daten: Z-Standardisierung\n",
    "    if num_cols:\n",
    "        processed['num'] = scaler.fit_transform(df[num_cols])\n",
    "    else:\n",
    "        processed['num'] = np.empty((len(df), 0))\n",
    "\n",
    "    # Ordinale Daten: Ordinal-Encoding\n",
    "    if ord_cols:\n",
    "        ordered_categories = [ord_categories[col] for col in ord_cols]\n",
    "        ord_enc = OrdinalEncoder(categories=ordered_categories)\n",
    "        ord_encoded = ord_enc.fit_transform(df[ord_cols])\n",
    "        processed['ord'] = scaler.fit_transform(ord_encoded)\n",
    "    else:\n",
    "        processed['ord'] = np.empty((len(df), 0))\n",
    "    \n",
    "    # Kategoriale Daten: One-Hot-Encoding\n",
    "    if cat_cols:\n",
    "        if ohe_fit is None:\n",
    "            ohe = OneHotEncoder(sparse_output=False, drop=None, handle_unknown='ignore')\n",
    "            ohe_fit = ohe.fit(df[cat_cols])\n",
    "        processed['cat'] = ohe_fit.transform(df[cat_cols])\n",
    "    else:\n",
    "        processed['cat'] = np.empty((len(df), 0))\n",
    "\n",
    "    return processed, ohe_fit\n",
    "\n",
    "\n"
   ]
  },
  {
   "cell_type": "markdown",
   "metadata": {},
   "source": [
    "## Compute NNDR"
   ]
  },
  {
   "cell_type": "markdown",
   "metadata": {},
   "source": [
    "### Mit Bootstrap und Parallelisierung"
   ]
  },
  {
   "cell_type": "code",
   "execution_count": 7,
   "metadata": {},
   "outputs": [],
   "source": [
    "def bootstrap_iteration_nndr(query_proc, ref_proc, num_cols, ord_cols, cat_cols, sample_size, rng):\n",
    "    query_len = query_proc['num'].shape[0] if query_proc['num'].size > 0 else next(iter(query_proc.values())).shape[0]\n",
    "    ref_len = ref_proc['num'].shape[0] if ref_proc['num'].size > 0 else next(iter(ref_proc.values())).shape[0]\n",
    "\n",
    "    query_idx = rng.choice(query_len, size=sample_size, replace=True)\n",
    "    ref_idx = rng.choice(ref_len, size=sample_size, replace=True)\n",
    "\n",
    "    query_sample = {k: v[query_idx] for k, v in query_proc.items()}\n",
    "    ref_sample = {k: v[ref_idx] for k, v in ref_proc.items()}\n",
    "\n",
    "    num_dist = cdist(query_sample['num'], ref_sample['num'], metric='euclidean') if query_sample['num'].shape[1] > 0 else 0\n",
    "    ord_dist = cdist(query_sample['ord'], ref_sample['ord'], metric='euclidean') if query_sample['ord'].shape[1] > 0 else 0\n",
    "    if query_sample['cat'].shape[1] > 0:\n",
    "        cat_dist = cdist(query_sample['cat'], ref_sample['cat'], metric='hamming')\n",
    "    else:\n",
    "        cat_dist = 0\n",
    "\n",
    "    total_features = len(num_cols) + len(ord_cols) + len(cat_cols)\n",
    "    weights = {\n",
    "        'num': len(num_cols) / total_features if len(num_cols) > 0 else 0,\n",
    "        'ord': len(ord_cols) / total_features if len(ord_cols) > 0 else 0,\n",
    "        'cat': len(cat_cols) / total_features if len(cat_cols) > 0 else 0\n",
    "    }\n",
    "\n",
    "    combined_dist = (\n",
    "        (num_dist * weights['num'] if weights['num'] > 0 else 0) +\n",
    "        (ord_dist * weights['ord'] if weights['ord'] > 0 else 0) +\n",
    "        (cat_dist * weights['cat'] if weights['cat'] > 0 else 0)\n",
    "    )\n",
    "\n",
    "    sorted_dists = np.sort(combined_dist, axis=1)\n",
    "    nndr_values = sorted_dists[:, 0] / (sorted_dists[:, 1] + 1e-10)  # +epsilon zur Vermeidung von Division durch 0\n",
    "    return nndr_values\n",
    "\n",
    "def compute_nndr_bootstrap(query, reference, num_cols, cat_cols, ord_cols, ord_categories, n_bootstrap=None, sample_size=1_000, random_state=None):\n",
    "    \"\"\"\n",
    "    Für jeden Punkt in query werden die beiden nächstgelegenen Nachbarn in reference bestimmt und daraus d1 und d2 für den NNDR (= d1/d2) berechnet.\n",
    "    \"\"\"\n",
    "    rng = np.random.default_rng(random_state)\n",
    "\n",
    "    # Preprocessing\n",
    "    ref_proc, ohe_fit = preprocess_data(reference, num_cols, cat_cols, ord_cols, ord_categories)\n",
    "    query_proc, _ = preprocess_data(query, num_cols, cat_cols, ord_cols, ord_categories, ohe_fit=ohe_fit) # ohe_fit stellt sich, dass der One-Hot-Encoder alle Kategorien aus beiden Datensätzen kennt\n",
    "    \n",
    "    if n_bootstrap is not None:\n",
    "        all_nndr_values = []\n",
    "        \n",
    "        all_nndr_values = Parallel(n_jobs=-1)(\n",
    "            delayed(bootstrap_iteration_nndr)(\n",
    "                query_proc, ref_proc, num_cols, ord_cols, cat_cols, sample_size, rng\n",
    "            ) for seed in tqdm(range(n_bootstrap), desc='Bootstrapping NNDR (parallel)')\n",
    "        )\n",
    "    \n",
    "        # Alle Bootstrapping-Ergebnisse zusammenfassen\n",
    "        nndr_values_all = np.concatenate(all_nndr_values)\n",
    "\n",
    "        # Statistische Kennzahlen\n",
    "        stats = {\n",
    "            'min': nndr_values_all.min(),\n",
    "            'q1': np.percentile(nndr_values_all, 25),\n",
    "            'median': np.median(nndr_values_all),\n",
    "            'mean': nndr_values_all.mean(),\n",
    "            'q3': np.percentile(nndr_values_all, 75),\n",
    "            'max': nndr_values_all.max(),\n",
    "            'share_below_0.5': (nndr_values_all < 0.5).mean()\n",
    "        }\n",
    "\n",
    "        return stats, nndr_values_all\n",
    "    else:\n",
    "        print(\"No bootstrapping not implemented yet.\")\n",
    "        return None, None\n"
   ]
  },
  {
   "cell_type": "markdown",
   "metadata": {},
   "source": [
    "## Plot Functions"
   ]
  },
  {
   "cell_type": "code",
   "execution_count": 18,
   "metadata": {},
   "outputs": [],
   "source": [
    "def plot_nndr_distribution(vals_1, vals_2, label_1, label_2, title='NNDR Distribution', fig_size=(10,6), bins=50, save_fig=False):\n",
    "    \n",
    "    plt.figure(figsize=fig_size)\n",
    "\n",
    "    # 99.5%-Quantil als Grenze für das Clamping\n",
    "    values_all = np.concatenate([vals_1, vals_2])\n",
    "    clamp_threshold = np.percentile(values_all, 0.5)\n",
    "\n",
    "    # Werte anheben (alle Werte < clamp_threshold auf clamp_threshold setzen)\n",
    "    vals_1_clamped = np.maximum(vals_1, clamp_threshold)\n",
    "    vals_2_clamped = np.maximum(vals_2, clamp_threshold)\n",
    "\n",
    "    # Freedman-Diaconis-Regel der Binbreite\n",
    "    # iqr = np.percentile(values_all, 75) - np.percentile(values_all, 25)\n",
    "    # bin_width = 2 * iqr / np.cbrt(len(values_all))\n",
    "    # bins = int((values_all.max() - values_all.min()) / bin_width)\n",
    "    # bins = max(10, min(bins, 200))  # Sicherheitsgrenze: mindestens 10 und maximal 200 Bins\n",
    "\n",
    "    values_all_clamped = np.concatenate([vals_1_clamped, vals_2_clamped])\n",
    "    iqr = np.percentile(values_all_clamped, 75) - np.percentile(values_all_clamped, 25)\n",
    "    bin_width = 2 * iqr / np.cbrt(len(values_all_clamped))\n",
    "    bins = int((values_all_clamped.max() - values_all_clamped.min()) / bin_width)\n",
    "    bins = max(10, min(bins, 200))\n",
    "\n",
    "    # Histogramm\n",
    "    sns.histplot(vals_1_clamped, bins=bins, kde=False, label=label_1, stat='density', edgecolor='black', alpha=0.6)\n",
    "    sns.histplot(vals_2_clamped, bins=bins, kde=False, label=label_2, stat='density', edgecolor='black', alpha=0.6)\n",
    "    \n",
    "        # Letztes xtick-Label als \"> Schwellenwert\" umbenennen\n",
    "    ax = plt.gca()\n",
    "    xticks = ax.get_xticks()\n",
    "    xticks = xticks[xticks >= clamp_threshold]  # nur Ticks innerhalb der Grenze\n",
    "    if clamp_threshold not in xticks:\n",
    "        xticks = np.append(xticks, clamp_threshold)  # Clamp-Grenze sicherstellen\n",
    "    xticks = np.sort(xticks)  # Reihenfolge wieder aufsteigend sortieren\n",
    "    xticklabels = [f'{tick:.2f}' if tick > clamp_threshold else f'<{clamp_threshold:.2f}' for tick in xticks]\n",
    "    plt.xticks(xticks, labels=xticklabels)\n",
    "\n",
    "    # Achsenbeschriftung und Titel\n",
    "    plt.xlabel('NNDR')\n",
    "    plt.ylabel('Density')\n",
    "    plt.title(title)\n",
    "    plt.tick_params(axis='both')\n",
    "    plt.legend(loc='upper left')\n",
    "    # xrange = values_all_clamped.max() - clamp_threshold\n",
    "    # plt.xlim(clamp_threshold - 0.02 * xrange, values_all_clamped.max() + 0.02 * xrange)\n",
    "    plt.margins(x=0.01)\n",
    "    plt.tight_layout()\n",
    "\n",
    "    if save_fig:\n",
    "        fname = f'NNDR_n-{cfg.n_bootstrap}_s-{cfg.bootstrap_size}_{current_timestamp}.tiff'\n",
    "        fullpath = cfg.figures_dir / f'{fname}'\n",
    "        plt.savefig(\n",
    "            fullpath,\n",
    "            dpi=300,\n",
    "            format='tiff',\n",
    "            bbox_inches='tight',\n",
    "            pil_kwargs={'compression': 'tiff_lzw'}\n",
    "        )\n",
    "        print(f\"Abbildung gespeichert unter: {fullpath}\")\n",
    "\n",
    "    plt.show()\n"
   ]
  },
  {
   "cell_type": "code",
   "execution_count": 24,
   "metadata": {},
   "outputs": [],
   "source": [
    "def plot_bootstrap_stabilization(values_all, sample_size, ci_band: bool = True, log_scale: bool = True, title='NNDR Quality', save_fig: bool = False):\n",
    "    n_bootstrap = len(values_all) // sample_size\n",
    "\n",
    "    # Kumulative Berechnung von Median, Q1, Q3\n",
    "    cumulative_median = []\n",
    "    cumulative_q1 = []\n",
    "    cumulative_q3 = []\n",
    "\n",
    "    for i in range(1, n_bootstrap + 1):\n",
    "        subset = values_all[:i * sample_size]\n",
    "        cumulative_median.append(np.median(subset))\n",
    "        cumulative_q1.append(np.percentile(subset, 25))\n",
    "        cumulative_q3.append(np.percentile(subset, 75))\n",
    "\n",
    "    # DataFrame für Seaborn\n",
    "    df_plot = pd.DataFrame({\n",
    "        'Iteration': np.arange(1, n_bootstrap + 1),\n",
    "        'Median': cumulative_median,\n",
    "        'Q1': cumulative_q1,\n",
    "        'Q3': cumulative_q3\n",
    "    })\n",
    "\n",
    "    # Plot\n",
    "    plt.figure(figsize=(2.4, 1.8))\n",
    "    sns.lineplot(data=df_plot, x='Iteration', y='Median', label='Median')\n",
    "    if ci_band:\n",
    "        plt.fill_between(df_plot['Iteration'], df_plot['Q1'], df_plot['Q3'], alpha=0.3, label='IQR Band')\n",
    "    if log_scale:\n",
    "        plt.xscale('log')\n",
    "\n",
    "    plt.xlabel('Bootstrap Iteration')\n",
    "    plt.ylabel('NNDR Value')\n",
    "    plt.title(title)\n",
    "    plt.ylim(0.8, 1.0)\n",
    "    # plt.legend(loc='upper right')\n",
    "    plt.legend().remove()\n",
    "    plt.grid(True, linestyle='--', alpha=0.5)\n",
    "    plt.tick_params(axis='both')\n",
    "    plt.tight_layout()\n",
    "    if save_fig:\n",
    "        fname = f'NNDR_Stability_{title}_n-{cfg.n_bootstrap}_s-{cfg.bootstrap_size}_{current_timestamp}.tiff'\n",
    "        fullpath = cfg.figures_dir / f'{fname}'\n",
    "        plt.savefig(\n",
    "            fullpath,\n",
    "            dpi=300,\n",
    "            format='tiff',\n",
    "            bbox_inches='tight',\n",
    "            pil_kwargs={'compression': 'tiff_lzw'}\n",
    "        )\n",
    "        print(f\"Abbildung gespeichert unter: {fullpath}\")\n",
    "    plt.show()"
   ]
  },
  {
   "cell_type": "markdown",
   "metadata": {},
   "source": [
    "# Main Routine"
   ]
  },
  {
   "cell_type": "markdown",
   "metadata": {},
   "source": [
    "## Synth -> Train\n",
    "Synthetic = query, Train = reference"
   ]
  },
  {
   "cell_type": "code",
   "execution_count": 10,
   "metadata": {},
   "outputs": [
    {
     "name": "stderr",
     "output_type": "stream",
     "text": [
      "Bootstrapping NNDR (parallel): 100%|██████████| 100/100 [04:34<00:00,  2.74s/it]\n"
     ]
    }
   ],
   "source": [
    "stats_syn_train, plot_syn_train = compute_nndr_bootstrap(\n",
    "    query=df_synth, \n",
    "    reference=df_train, \n",
    "    num_cols=num_cols, \n",
    "    cat_cols=cat_cols, \n",
    "    ord_cols=ord_cols, \n",
    "    ord_categories=ord_cats, \n",
    "    n_bootstrap=cfg.n_bootstrap, \n",
    "    sample_size=cfg.bootstrap_size, \n",
    "    random_state=cfg.random_seed\n",
    ")"
   ]
  },
  {
   "cell_type": "markdown",
   "metadata": {},
   "source": [
    "## Synth -> Holdout"
   ]
  },
  {
   "cell_type": "code",
   "execution_count": 11,
   "metadata": {},
   "outputs": [
    {
     "name": "stderr",
     "output_type": "stream",
     "text": [
      "Bootstrapping NNDR (parallel): 100%|██████████| 100/100 [03:53<00:00,  2.33s/it]\n"
     ]
    }
   ],
   "source": [
    "stats_syn_holdout, plot_syn_holdout = compute_nndr_bootstrap(\n",
    "    query=df_synth, \n",
    "    reference=df_holdout, \n",
    "    num_cols=num_cols, \n",
    "    cat_cols=cat_cols, \n",
    "    ord_cols=ord_cols, \n",
    "    ord_categories=ord_cats, \n",
    "    n_bootstrap=cfg.n_bootstrap, \n",
    "    sample_size=cfg.bootstrap_size, \n",
    "    random_state=cfg.random_seed\n",
    ")"
   ]
  },
  {
   "cell_type": "markdown",
   "metadata": {},
   "source": [
    "## Holdout -> Train"
   ]
  },
  {
   "cell_type": "code",
   "execution_count": 12,
   "metadata": {},
   "outputs": [
    {
     "name": "stderr",
     "output_type": "stream",
     "text": [
      "Bootstrapping NNDR (parallel): 100%|██████████| 100/100 [03:53<00:00,  2.33s/it]\n"
     ]
    }
   ],
   "source": [
    "stats_holdout_train, plot_holdout_train = compute_nndr_bootstrap(\n",
    "    query=df_holdout, \n",
    "    reference=df_train, \n",
    "    num_cols=num_cols, \n",
    "    cat_cols=cat_cols, \n",
    "    ord_cols=ord_cols, \n",
    "    ord_categories=ord_cats, \n",
    "    n_bootstrap=cfg.n_bootstrap, \n",
    "    sample_size=cfg.bootstrap_size, \n",
    "    random_state=cfg.random_seed\n",
    ")"
   ]
  },
  {
   "cell_type": "markdown",
   "metadata": {},
   "source": [
    "## Save Results for Analysis"
   ]
  },
  {
   "cell_type": "code",
   "execution_count": 13,
   "metadata": {},
   "outputs": [],
   "source": [
    "if cfg.save_data:\n",
    "    np.savetxt(\"cache/nndr_plot_syn_train.csv\", plot_syn_train, delimiter=\";\", encoding=\"utf-8\")\n",
    "    np.savetxt(\"cache/nndr_plot_syn_holdout.csv\", plot_syn_holdout, delimiter=\";\", encoding=\"utf-8\")\n",
    "    np.savetxt(\"cache/nndr_plot_train_train.csv\", plot_holdout_train, delimiter=\";\", encoding=\"utf-8\")"
   ]
  },
  {
   "cell_type": "markdown",
   "metadata": {},
   "source": [
    "# Results"
   ]
  },
  {
   "cell_type": "code",
   "execution_count": 14,
   "metadata": {},
   "outputs": [
    {
     "data": {
      "text/html": [
       "<div>\n",
       "<style scoped>\n",
       "    .dataframe tbody tr th:only-of-type {\n",
       "        vertical-align: middle;\n",
       "    }\n",
       "\n",
       "    .dataframe tbody tr th {\n",
       "        vertical-align: top;\n",
       "    }\n",
       "\n",
       "    .dataframe thead th {\n",
       "        text-align: right;\n",
       "    }\n",
       "</style>\n",
       "<table border=\"1\" class=\"dataframe\">\n",
       "  <thead>\n",
       "    <tr style=\"text-align: right;\">\n",
       "      <th></th>\n",
       "      <th>min</th>\n",
       "      <th>q1</th>\n",
       "      <th>median</th>\n",
       "      <th>mean</th>\n",
       "      <th>q3</th>\n",
       "      <th>max</th>\n",
       "      <th>share_below_0.5</th>\n",
       "    </tr>\n",
       "  </thead>\n",
       "  <tbody>\n",
       "    <tr>\n",
       "      <th>Synth→Train</th>\n",
       "      <td>0.265263</td>\n",
       "      <td>0.842980</td>\n",
       "      <td>0.922030</td>\n",
       "      <td>0.891272</td>\n",
       "      <td>0.967837</td>\n",
       "      <td>1.0</td>\n",
       "      <td>0.0042</td>\n",
       "    </tr>\n",
       "    <tr>\n",
       "      <th>Synth→Holdout</th>\n",
       "      <td>0.355691</td>\n",
       "      <td>0.846397</td>\n",
       "      <td>0.925412</td>\n",
       "      <td>0.895190</td>\n",
       "      <td>0.973003</td>\n",
       "      <td>1.0</td>\n",
       "      <td>0.0048</td>\n",
       "    </tr>\n",
       "    <tr>\n",
       "      <th>Holdout→Train</th>\n",
       "      <td>0.016966</td>\n",
       "      <td>0.812039</td>\n",
       "      <td>0.904813</td>\n",
       "      <td>0.868335</td>\n",
       "      <td>0.960396</td>\n",
       "      <td>1.0</td>\n",
       "      <td>0.0156</td>\n",
       "    </tr>\n",
       "  </tbody>\n",
       "</table>\n",
       "</div>"
      ],
      "text/plain": [
       "                    min        q1    median      mean        q3  max  \\\n",
       "Synth→Train    0.265263  0.842980  0.922030  0.891272  0.967837  1.0   \n",
       "Synth→Holdout  0.355691  0.846397  0.925412  0.895190  0.973003  1.0   \n",
       "Holdout→Train  0.016966  0.812039  0.904813  0.868335  0.960396  1.0   \n",
       "\n",
       "               share_below_0.5  \n",
       "Synth→Train             0.0042  \n",
       "Synth→Holdout           0.0048  \n",
       "Holdout→Train           0.0156  "
      ]
     },
     "metadata": {},
     "output_type": "display_data"
    }
   ],
   "source": [
    "stats_combined = pd.DataFrame([\n",
    "    stats_syn_train,\n",
    "    stats_syn_holdout,\n",
    "    stats_holdout_train\n",
    "], index=['Synth→Train', 'Synth→Holdout', 'Holdout→Train'])\n",
    "\n",
    "display(stats_combined)\n",
    "\n",
    "if cfg.save_data:\n",
    "    # Speichern der Statistiken\n",
    "    stats_combined.to_csv(cfg.results_dir / f\"NNDR_n-{cfg.n_bootstrap}_s-{cfg.bootstrap_size}_{current_timestamp}.csv\", sep=\";\", index=True, decimal=\",\", encoding=\"utf-8\", header=True)"
   ]
  },
  {
   "cell_type": "markdown",
   "metadata": {},
   "source": [
    "# Plots"
   ]
  },
  {
   "cell_type": "code",
   "execution_count": 19,
   "metadata": {},
   "outputs": [
    {
     "name": "stdout",
     "output_type": "stream",
     "text": [
      "Abbildung gespeichert unter: figures\\NNDR_n-100_s-5000_20250601_100120.tiff\n"
     ]
    },
    {
     "data": {
      "image/png": "[encoded data removed]",
      "text/plain": [
       "<Figure size 360x270 with 1 Axes>"
      ]
     },
     "metadata": {},
     "output_type": "display_data"
    }
   ],
   "source": [
    "plot_nndr_distribution(plot_holdout_train, plot_syn_train, label_1='Holdout -> Train', label_2='Synth -> Train', title='NNDR (xmin = 0.5 Percentile)', fig_size=(3.6, 2.7), save_fig=cfg.save_data)"
   ]
  },
  {
   "cell_type": "code",
   "execution_count": 26,
   "metadata": {},
   "outputs": [
    {
     "name": "stdout",
     "output_type": "stream",
     "text": [
      "Abbildung gespeichert unter: figures\\NNDR_Stability_Synth-Train_n-100_s-5000_20250601_100120.tiff\n"
     ]
    },
    {
     "data": {
      "image/png": "[encoded data removed]",
      "text/plain": [
       "<Figure size 240x180 with 1 Axes>"
      ]
     },
     "metadata": {},
     "output_type": "display_data"
    },
    {
     "name": "stdout",
     "output_type": "stream",
     "text": [
      "Abbildung gespeichert unter: figures\\NNDR_Stability_Synth-Holdout_n-100_s-5000_20250601_100120.tiff\n"
     ]
    },
    {
     "data": {
      "image/png": "[encoded data removed]",
      "text/plain": [
       "<Figure size 240x180 with 1 Axes>"
      ]
     },
     "metadata": {},
     "output_type": "display_data"
    },
    {
     "name": "stdout",
     "output_type": "stream",
     "text": [
      "Abbildung gespeichert unter: figures\\NNDR_Stability_Holdout-Train_n-100_s-5000_20250601_100120.tiff\n"
     ]
    },
    {
     "data": {
      "image/png": "[encoded data removed]",
      "text/plain": [
       "<Figure size 240x180 with 1 Axes>"
      ]
     },
     "metadata": {},
     "output_type": "display_data"
    }
   ],
   "source": [
    "plot_bootstrap_stabilization(plot_syn_train, sample_size=cfg.bootstrap_size, log_scale=True, ci_band=True, title='Synth-Train', save_fig=cfg.save_data)\n",
    "plot_bootstrap_stabilization(plot_syn_holdout, sample_size=cfg.bootstrap_size, title='Synth-Holdout', save_fig=cfg.save_data)\n",
    "plot_bootstrap_stabilization(plot_holdout_train, sample_size=cfg.bootstrap_size, title='Holdout-Train', save_fig=cfg.save_data)"
   ]
  }
 ],
 "metadata": {
  "kernelspec": {
   "display_name": "General Purpose",
   "language": "python",
   "name": "venv"
  },
  "language_info": {
   "codemirror_mode": {
    "name": "ipython",
    "version": 3
   },
   "file_extension": ".py",
   "mimetype": "text/x-python",
   "name": "python",
   "nbconvert_exporter": "python",
   "pygments_lexer": "ipython3",
   "version": "3.12.4"
  }
 },
 "nbformat": 4,
 "nbformat_minor": 2
}
