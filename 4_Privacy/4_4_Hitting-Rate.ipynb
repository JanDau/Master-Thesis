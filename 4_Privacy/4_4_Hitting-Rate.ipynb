{
 "cells": [
  {
   "cell_type": "markdown",
   "metadata": {},
   "source": [
    "# Imports"
   ]
  },
  {
   "cell_type": "code",
   "execution_count": 1,
   "metadata": {},
   "outputs": [],
   "source": [
    "from dataclasses import dataclass\n",
    "from pathlib import Path\n",
    "import pandas as pd\n",
    "from datetime import datetime\n",
    "import numpy as np\n",
    "import random\n",
    "import seaborn as sns\n",
    "from typing import Optional, Tuple, Union\n",
    "import matplotlib.pyplot as plt\n",
    "from syntheval import SynthEval\n",
    "from tqdm.notebook import tqdm  # für Jupyter kompatibel"
   ]
  },
  {
   "cell_type": "markdown",
   "metadata": {},
   "source": [
    "# User Settings"
   ]
  },
  {
   "cell_type": "code",
   "execution_count": 2,
   "metadata": {},
   "outputs": [],
   "source": [
    "@dataclass\n",
    "class Config:\n",
    "    data_dir: Path = Path(\"../../data\")\n",
    "    figures_dir: Path = Path(\"figures\")\n",
    "    results_dir: Path = Path(\"results\")\n",
    "\n",
    "    real_file: str = \"20250301_data_20250510_122405_final_100_train.csv\"\n",
    "    synth_file: str = \"20250301_data_20250510_122405_final_100_synth.csv\"\n",
    "    holdout_file: str = \"20250301_data_20250510_122405_final_100_holdout.csv\"\n",
    "\n",
    "    random_seed: int = 42\n",
    "    bootstrap_size = 5000\n",
    "    n_bootstrap = 30\n",
    "    replace = True\n",
    "    thres = 0.05\n",
    "\n",
    "    save_data: bool = True\n",
    "\n",
    "# Set my design\n",
    "sns.set_theme(\n",
    "    style=\"white\",\n",
    "    context=\"paper\",\n",
    "    palette=\"colorblind\",\n",
    "    rc={\n",
    "        \"font.family\": \"sans-serif\",\n",
    "        \"font.sans-serif\": [\"Arial\"],\n",
    "        \"font.size\": 7,\n",
    "        \"axes.titlesize\": 7,\n",
    "        \"axes.labelsize\": 7,\n",
    "        \"xtick.labelsize\": 7,\n",
    "        \"ytick.labelsize\": 7,\n",
    "        \"legend.fontsize\": 7\n",
    "    }\n",
    ")\n"
   ]
  },
  {
   "cell_type": "markdown",
   "metadata": {},
   "source": [
    "# Utility Functions"
   ]
  },
  {
   "cell_type": "code",
   "execution_count": 3,
   "metadata": {},
   "outputs": [],
   "source": [
    "def convert_dtypes(df: pd.DataFrame) -> pd.DataFrame:\n",
    "    \"\"\"\n",
    "    Konvertiert bestimmte Spalten des DataFrames in die gewünschten Datentypen:\n",
    "     - definierte Spalten als category\n",
    "     - definierte Spalten als pandas Nullable Integer (Int64)\n",
    "     - consciousness_level und news_score als geordnete Categoricals\n",
    "    \"\"\"\n",
    "    df = df.copy()  # Änderungen nicht am Original vornehmen\n",
    "\n",
    "    # 1) Kategorische Spalten\n",
    "    cat_cols = ['gender', 'ethnicity', 'chief_complaint', 'icd_block']\n",
    "    for col in cat_cols:\n",
    "        # df[col] = df[col].astype('category')\n",
    "        df[col] = df[col].astype('object') # 'category' führt zu Problemen mit dem OneHotEncoder\n",
    "\n",
    "    # 2) Integer-Spalten mit Nullable Integer dtype\n",
    "    int_cols = ['age', 'systolic_bp', 'diastolic_bp',\n",
    "                'heart_rate', 'respiratory_rate', 'oxygen_saturation']\n",
    "    for col in int_cols:\n",
    "        df[col] = df[col].astype('Int64')\n",
    "        # df[col] = df[col].astype('int32')\n",
    "\n",
    "    # 3) Geordnete Categoricals\n",
    "    df['consciousness_level'] = pd.Categorical(\n",
    "        df['consciousness_level'],\n",
    "        categories=['A', 'C', 'V', 'P', 'U'],\n",
    "        ordered=True\n",
    "    )\n",
    "    df['news_score'] = pd.Categorical(\n",
    "        df['news_score'],\n",
    "        categories=list(range(19)),\n",
    "        ordered=True\n",
    "    )\n",
    "\n",
    "    return df\n",
    "\n",
    "def load_data(\n",
    "    real_filename: Union[str, Path],\n",
    "    synth_filename: Optional[Union[str, Path]] = None,\n",
    "    holdout_filename: Optional[Union[str, Path]] = None,\n",
    "    data_dir: Path = None,\n",
    ") -> Tuple[pd.DataFrame, Optional[pd.DataFrame], Optional[pd.DataFrame]]:\n",
    "    \"\"\"\n",
    "    Lädt die realen, synthetischen und optionalen Holdout-CSV-Dateien\n",
    "    aus data_dir und wandelt sie über convert_dtypes um.\n",
    "\n",
    "    Returns:\n",
    "        df_real: pd.DataFrame\n",
    "        df_synth: Optional[pd.DataFrame]\n",
    "        df_holdout: Optional[pd.DataFrame]\n",
    "    \"\"\"\n",
    "    def _read_and_convert(fn: Union[str, Path]) -> pd.DataFrame:\n",
    "        return (\n",
    "            pd.read_csv(data_dir / fn, low_memory=False)\n",
    "              .pipe(convert_dtypes)\n",
    "        )\n",
    "\n",
    "    df_real    = _read_and_convert(real_filename)\n",
    "    df_synth   = _read_and_convert(synth_filename)   if synth_filename   else None\n",
    "    df_holdout = _read_and_convert(holdout_filename) if holdout_filename else None\n",
    "\n",
    "    return df_real, df_synth, df_holdout"
   ]
  },
  {
   "cell_type": "markdown",
   "metadata": {},
   "source": [
    "# Main Routine\n",
    "## Data Import"
   ]
  },
  {
   "cell_type": "code",
   "execution_count": 4,
   "metadata": {},
   "outputs": [],
   "source": [
    "cfg = Config()\n",
    "current_timestamp = datetime.now().strftime(\"%Y%m%d_%H%M%S\")\n",
    "\n",
    "df_train, df_synth, df_holdout = load_data(\n",
    "    cfg.real_file,\n",
    "    cfg.synth_file,\n",
    "    cfg.holdout_file,\n",
    "    data_dir=cfg.data_dir\n",
    ")\n",
    "\n",
    "df_holdout = df_holdout.dropna().reset_index(drop=True)"
   ]
  },
  {
   "cell_type": "code",
   "execution_count": 5,
   "metadata": {},
   "outputs": [
    {
     "name": "stdout",
     "output_type": "stream",
     "text": [
      "['gender', 'ethnicity', 'chief_complaint', 'icd_block', 'night_arrival', 'weekend_arrival', 'consciousness_level', 'news_score', 'icu_admission_24h']\n"
     ]
    }
   ],
   "source": [
    "target_col = 'icu_admission_24h'\n",
    "num_cols = ['age', 'temperature', 'heart_rate', 'respiratory_rate', 'oxygen_saturation', 'systolic_bp', 'diastolic_bp']\n",
    "cat_cols = ['gender', 'ethnicity', 'chief_complaint', 'icd_block', 'night_arrival', 'weekend_arrival']\n",
    "ord_cols = ['consciousness_level','news_score']\n",
    "bool_cols = ['night_arrival', 'weekend_arrival']\n",
    "\n",
    "cat_ord_cols = cat_cols + ord_cols\n",
    "cat_ord_cols.append(target_col)\n",
    "print(cat_ord_cols)"
   ]
  },
  {
   "cell_type": "markdown",
   "metadata": {},
   "source": [
    "## Train -> Synth"
   ]
  },
  {
   "cell_type": "code",
   "execution_count": 6,
   "metadata": {},
   "outputs": [
    {
     "data": {
      "application/vnd.jupyter.widget-view+json": {
       "model_id": "d14159d8a86c48dbb80aab414996ee8d",
       "version_major": 2,
       "version_minor": 0
      },
      "text/plain": [
       "Bootstrap:   0%|          | 0/30 [00:00<?, ?it/s]"
      ]
     },
     "metadata": {},
     "output_type": "display_data"
    }
   ],
   "source": [
    "results_train_synth = []\n",
    "\n",
    "for boot in tqdm(range(cfg.n_bootstrap), desc=\"Bootstrap\"):\n",
    "    # Ziehe 5.000 zufällige Zeilen aus Train und Synth\n",
    "    tr_sample = df_train.sample(cfg.bootstrap_size, replace=cfg.replace, random_state=cfg.random_seed + boot)\n",
    "    sy_sample = df_synth.sample(cfg.bootstrap_size, replace=cfg.replace, random_state=cfg.random_seed + boot)\n",
    "\n",
    "    # Hitting-Rate berechnen\n",
    "    Train_vs_Synth = SynthEval(real_dataframe=tr_sample, cat_cols=cat_ord_cols, verbose=False)\n",
    "    res = Train_vs_Synth.evaluate(sy_sample, hit_rate={'thres_percent': cfg.thres})\n",
    "    val = res.loc[res['metric']=='hit_rate', 'val'].iloc[0]\n",
    "\n",
    "    results_train_synth.append({'bootstrap': boot, 'val': val})"
   ]
  },
  {
   "cell_type": "markdown",
   "metadata": {},
   "source": [
    "## Holdout -> Synth"
   ]
  },
  {
   "cell_type": "code",
   "execution_count": 7,
   "metadata": {},
   "outputs": [
    {
     "data": {
      "application/vnd.jupyter.widget-view+json": {
       "model_id": "4d281f9ca5f94a49b26523dab20c4985",
       "version_major": 2,
       "version_minor": 0
      },
      "text/plain": [
       "Bootstrap:   0%|          | 0/30 [00:00<?, ?it/s]"
      ]
     },
     "metadata": {},
     "output_type": "display_data"
    }
   ],
   "source": [
    "results_holdout_synth = []\n",
    "\n",
    "for boot in tqdm(range(cfg.n_bootstrap), desc=\"Bootstrap\"):\n",
    "    # Ziehe 5.000 zufällige Zeilen aus Train und Synth\n",
    "    ho_sample = df_holdout.sample(cfg.bootstrap_size, replace=cfg.replace, random_state=cfg.random_seed + boot)\n",
    "    sy_sample = df_synth.sample(cfg.bootstrap_size, replace=cfg.replace, random_state=cfg.random_seed + boot)\n",
    "\n",
    "    # Hitting-Rate berechnen\n",
    "    Holdout_vs_Synth = SynthEval(real_dataframe=ho_sample, cat_cols=cat_ord_cols, verbose=False)\n",
    "    res = Holdout_vs_Synth.evaluate(sy_sample, hit_rate={'thres_percent': cfg.thres})\n",
    "    val = res.loc[res['metric']=='hit_rate', 'val'].iloc[0]\n",
    "\n",
    "    results_holdout_synth.append({'bootstrap': boot, 'val': val})"
   ]
  },
  {
   "cell_type": "markdown",
   "metadata": {},
   "source": [
    "## Aggregation"
   ]
  },
  {
   "cell_type": "code",
   "execution_count": null,
   "metadata": {},
   "outputs": [
    {
     "name": "stdout",
     "output_type": "stream",
     "text": [
      "          comparison      mean       sem\n",
      "0  Holdout vs. Synth  0.000087  0.000025\n",
      "1    Train vs. Synth  0.000053  0.000019\n"
     ]
    }
   ],
   "source": [
    "# In DataFrames umwandeln\n",
    "df_train_synth = pd.DataFrame(results_train_synth)\n",
    "df_train_synth['comparison'] = 'Train vs. Synth'\n",
    "\n",
    "df_holdout_synth = pd.DataFrame(results_holdout_synth)\n",
    "df_holdout_synth['comparison'] = 'Holdout vs. Synth'\n",
    "\n",
    "# Zusammenführen\n",
    "df_results = pd.concat([df_train_synth, df_holdout_synth], ignore_index=True)\n",
    "\n",
    "if cfg.save_data:\n",
    "    # Speichern der Ergebnisse\n",
    "    df_results.to_csv(cfg.results_dir / f\"hitting-rate_results_{current_timestamp}.csv\", index=False, header=True, decimal=',', sep=';', encoding='utf-8')"
   ]
  },
  {
   "cell_type": "code",
   "execution_count": 6,
   "metadata": {},
   "outputs": [],
   "source": [
    "df_results = pd.read_csv(cfg.results_dir / f\"hitting-rate_results_20250516_064959.csv\", sep=';', decimal=',', encoding='utf-8')"
   ]
  },
  {
   "cell_type": "code",
   "execution_count": 8,
   "metadata": {},
   "outputs": [
    {
     "name": "stdout",
     "output_type": "stream",
     "text": [
      "          comparison      mean       sem\n",
      "0  Holdout vs. Synth  0.000087  0.000025\n",
      "1    Train vs. Synth  0.000053  0.000019\n"
     ]
    }
   ],
   "source": [
    "# Aggregation: Mittelwert und Standardfehler je Vergleich\n",
    "summary = df_results.groupby('comparison')['val'].agg(['mean', 'sem']).reset_index()\n",
    "print(summary)"
   ]
  },
  {
   "cell_type": "markdown",
   "metadata": {},
   "source": [
    "## Visualisierung"
   ]
  },
  {
   "cell_type": "code",
   "execution_count": 21,
   "metadata": {},
   "outputs": [
    {
     "name": "stdout",
     "output_type": "stream",
     "text": [
      "Abbildung gespeichert unter: figures\\hitting-rate_s-5000_n-30_tresh-0.05_20250601_155621.tiff\n"
     ]
    },
    {
     "data": {
      "image/png": "[encoded data removed]",
      "text/plain": [
       "<Figure size 120x172.5 with 1 Axes>"
      ]
     },
     "metadata": {},
     "output_type": "display_data"
    }
   ],
   "source": [
    "import matplotlib.pyplot as plt\n",
    "import seaborn as sns\n",
    "\n",
    "fig, ax = plt.subplots(figsize=(1.2, 1.725))\n",
    "\n",
    "# 1) Draw the point‐plot (no built‐in errorbars)\n",
    "sns.pointplot(\n",
    "    ax=ax,\n",
    "    data=summary,\n",
    "    x=\"comparison\",\n",
    "    y=\"mean\",\n",
    "    errorbar=None,      # turn off Seaborn's CI bars\n",
    "    linestyle=\"none\",\n",
    "    markersize=6,\n",
    "    color=\"black\",\n",
    ")\n",
    "\n",
    "# 2) Grab the x‐positions that pointplot actually placed the points at:\n",
    "x_positions = ax.get_xticks()\n",
    "\n",
    "# 3) Add your own error bars at exactly those x‐positions:\n",
    "ax.errorbar(\n",
    "    x=x_positions,\n",
    "    y=summary[\"mean\"],\n",
    "    yerr=summary[\"sem\"],\n",
    "    fmt=\"o\",\n",
    "    ecolor=\"black\",\n",
    "    capsize=5,\n",
    ")\n",
    "\n",
    "# --- axis labels / title / limits ---\n",
    "ax.set_ylabel(\"\")       # no y‐label text\n",
    "ax.set_xlabel(\"\")       # no x‐label text\n",
    "# ax.set_title(\"Hitting Rate\")\n",
    "ax.set_xmargin(0.3)\n",
    "ax.set_ylim(-0.0005, 0.0035)\n",
    "\n",
    "# --- force y‐axis ticks on the left (and make them visible) ---\n",
    "ax.yaxis.set_ticks_position(\"left\")\n",
    "ax.tick_params(\n",
    "    axis=\"y\",\n",
    "    which=\"both\",\n",
    "    left=True,\n",
    "    right=False,\n",
    "    labelleft=True,\n",
    "    length=4,\n",
    "    width=1,\n",
    "    direction=\"out\",\n",
    ")\n",
    "\n",
    "# --- set custom x‐tick labels at those same positions ---\n",
    "ax.set_xticks(x_positions)\n",
    "ax.set_xticklabels(\n",
    "    [\"Hout vs. Synth\", \"Train vs. Synth\"],\n",
    "    rotation=35,\n",
    "    ha=\"right\",\n",
    ")\n",
    "\n",
    "plt.tight_layout()\n",
    "if cfg.save_data:\n",
    "    fname = f'hitting-rate_s-{cfg.bootstrap_size}_n-{cfg.n_bootstrap}_tresh-{cfg.thres}_{current_timestamp}.tiff'\n",
    "    fullpath = cfg.figures_dir / f'{fname}'\n",
    "    plt.savefig(\n",
    "        fullpath,\n",
    "        dpi=300,\n",
    "        format='tiff',\n",
    "        bbox_inches='tight',\n",
    "        pil_kwargs={'compression': 'tiff_lzw'}\n",
    "    )\n",
    "    print(f\"Abbildung gespeichert unter: {fullpath}\")\n",
    "plt.show()\n"
   ]
  }
 ],
 "metadata": {
  "kernelspec": {
   "display_name": "SynthEval",
   "language": "python",
   "name": "syntheval"
  },
  "language_info": {
   "codemirror_mode": {
    "name": "ipython",
    "version": 3
   },
   "file_extension": ".py",
   "mimetype": "text/x-python",
   "name": "python",
   "nbconvert_exporter": "python",
   "pygments_lexer": "ipython3",
   "version": "3.12.6"
  }
 },
 "nbformat": 4,
 "nbformat_minor": 2
}
