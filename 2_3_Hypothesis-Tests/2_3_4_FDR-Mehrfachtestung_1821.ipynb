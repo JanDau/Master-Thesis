{
 "cells": [
  {
   "cell_type": "markdown",
   "metadata": {},
   "source": [
    "# Code\n",
    "\n",
    "\n",
    "# Imports"
   ]
  },
  {
   "cell_type": "code",
   "execution_count": null,
   "metadata": {},
   "outputs": [],
   "source": [
    "import pandas as pd\n",
    "from pathlib import Path\n",
    "import numpy as np\n",
    "import seaborn as sns\n",
    "from typing import Tuple\n",
    "import matplotlib.pyplot as plt"
   ]
  },
  {
   "cell_type": "markdown",
   "metadata": {},
   "source": [
    "# User Configuration"
   ]
  },
  {
   "cell_type": "code",
   "execution_count": null,
   "metadata": {},
   "outputs": [],
   "source": [
    "SAVE_CSV = True  # Save figures\n",
    "SAVE_FIG = True  # Save figures\n",
    "\n",
    "AD_FILE = \"ad_bootstrap_1000_results.csv\"\n",
    "CV_FILE = \"cramersV_bootstrap_1000_results.csv\"\n",
    "KS_FILE = \"ks_bootstrap_1000_results.csv\"\n",
    "\n",
    "OUTPUT_DIR_CSV = Path(\"results\")\n",
    "OUTPUT_DIR_CSV.mkdir(parents=True, exist_ok=True)\n",
    "OUTPUT_DIR_FIG = Path(\"figures\")\n",
    "OUTPUT_DIR_FIG.mkdir(parents=True, exist_ok=True)\n",
    "\n",
    "sns.set_theme(\n",
    "    style=\"white\",\n",
    "    context=\"paper\",\n",
    "    palette=\"colorblind\",\n",
    "    rc={\n",
    "        \"font.family\": \"sans-serif\",\n",
    "        \"font.sans-serif\": [\"Arial\"],\n",
    "        \"font.size\": 7,\n",
    "        \"axes.titlesize\": 7,\n",
    "        \"axes.labelsize\": 7,\n",
    "        \"xtick.labelsize\": 7,\n",
    "        \"ytick.labelsize\": 7,\n",
    "        \"legend.fontsize\": 7\n",
    "    }\n",
    ")"
   ]
  },
  {
   "cell_type": "markdown",
   "metadata": {},
   "source": [
    "# Utility Functions\n",
    "## Simultane Bootstrap-CIs"
   ]
  },
  {
   "cell_type": "code",
   "execution_count": null,
   "metadata": {},
   "outputs": [],
   "source": [
    "def calc_featurewise_ci_fwer(\n",
    "    df_results: pd.DataFrame,\n",
    "    delta: float = 0.05,          # Äquivalenzgrenze\n",
    "    alpha_global: float = 0.05,   # gewünschtes family-wise α\n",
    "    title: str = \"ks_stat\"\n",
    "):\n",
    "    m = df_results.shape[1]                 # Zahl der parallelen Features\n",
    "    alpha_local = alpha_global / m          # Bonferroni-Teilung\n",
    "    lo_p  = 100 * (alpha_local / 2)         # z. B. 0.125 %\n",
    "    hi_p  = 100 * (1 - alpha_local / 2)     # z. B. 99.875 %\n",
    "\n",
    "    # --------------------------------------------------------\n",
    "    # 1) simultane CIs + Mittelwerte berechnen\n",
    "    # --------------------------------------------------------\n",
    "    summary = []\n",
    "    for feat, vals in df_results.items():\n",
    "        lower = np.percentile(vals, lo_p)\n",
    "        upper = np.percentile(vals, hi_p)\n",
    "        mean_ = vals.mean()\n",
    "        summary.append(\n",
    "            dict(feature=feat,\n",
    "                 mean_stat=mean_,\n",
    "                 ci_lower=lower,\n",
    "                 ci_upper=upper,\n",
    "                 equiv = upper < delta)     # Entscheidung\n",
    "        )\n",
    "    df_sum = pd.DataFrame(summary)\n",
    "\n",
    "    # Fehlerbalken für Matplotlib\n",
    "    df_sum[\"err_low\"]  = df_sum[\"mean_stat\"] - df_sum[\"ci_lower\"]\n",
    "    df_sum[\"err_high\"] = df_sum[\"ci_upper\"] - df_sum[\"mean_stat\"]\n",
    "    df_sum[\"data\"] = title\n",
    "    return df_sum"
   ]
  },
  {
   "cell_type": "markdown",
   "metadata": {},
   "source": [
    "## Plotting Function"
   ]
  },
  {
   "cell_type": "code",
   "execution_count": null,
   "metadata": {},
   "outputs": [],
   "source": [
    "def plot_featurewise_ci_fwer(\n",
    "    df_sum: pd.DataFrame,\n",
    "    delta: float = 0.05,          # Equivalence threshold\n",
    "    alpha_global: float = 0.05,   # Desired family-wise α\n",
    "    title: str = \"KS statistic\",\n",
    "    figsize: tuple[int, int] = (4, 4),\n",
    "    save_fig: bool = SAVE_FIG,\n",
    "    leg_pos: str = \"upper right\",\n",
    "):\n",
    "    fig, ax = plt.subplots(figsize=figsize)\n",
    "\n",
    "    # Color assignment: equivalent = blue, not equivalent = orange\n",
    "    palette_cb = sns.color_palette(\"colorblind\", 2)\n",
    "    colors = df_sum[\"equiv\"].map({True: palette_cb[0], False: palette_cb[1]})\n",
    "\n",
    "    # Points\n",
    "    ax.scatter(x=df_sum.index,\n",
    "               y=df_sum[\"mean_stat\"],\n",
    "               c=colors,\n",
    "               s=90,\n",
    "               zorder=3)\n",
    "\n",
    "    # Error bars (asymmetric)\n",
    "    for idx, row in df_sum.iterrows():\n",
    "        ax.errorbar(x=idx,\n",
    "                    y=row[\"mean_stat\"],\n",
    "                    yerr=[[row[\"err_low\"]], [row[\"err_high\"]]],\n",
    "                    fmt=\"none\",\n",
    "                    ecolor=colors.iloc[idx],\n",
    "                    elinewidth=1.5,\n",
    "                    capsize=4,\n",
    "                    zorder=2)\n",
    "\n",
    "    # Threshold δ\n",
    "    ax.axhline(delta, color=\"grey\", ls=\"--\", lw=1, label=f\"δ = {delta}\", zorder=1)\n",
    "\n",
    "    # Axis styling\n",
    "    ax.set_xticks(df_sum.index)\n",
    "    ax.set_xticklabels(df_sum[\"feature\"], rotation=45, ha=\"right\")\n",
    "    ax.set_ylabel(title)\n",
    "    ax.set_xlabel(\"Feature\")\n",
    "    ax.set_title(f\"{title}: simultaneous {(1-alpha_global):.0%} CIs (Bonferroni-corrected)\")\n",
    "    ax.grid(axis=\"y\", ls=\"--\", alpha=0.5)\n",
    "\n",
    "    # Legend\n",
    "    from matplotlib.patches import Patch\n",
    "    handles = [Patch(color=palette_cb[0], label=\"Equiv. (CI < δ)\"),\n",
    "               Patch(color=palette_cb[1], label=\"Not equiv.\"),\n",
    "               ax.lines[-1]]        # δ line\n",
    "    ax.legend(handles=handles, loc=leg_pos)\n",
    "\n",
    "    plt.tight_layout()\n",
    "    if save_fig:\n",
    "        fig.savefig(OUTPUT_DIR_FIG / f'{title}.tiff', dpi=300, format='tiff', bbox_inches='tight', pil_kwargs={'compression': 'tiff_lzw'})\n",
    "    return fig, ax, df_sum            # df_sum contains the full table\n"
   ]
  },
  {
   "cell_type": "markdown",
   "metadata": {},
   "source": [
    "# Main Routine\n",
    "## Daten Laden"
   ]
  },
  {
   "cell_type": "code",
   "execution_count": null,
   "metadata": {},
   "outputs": [],
   "source": [
    "ad = pd.read_csv(OUTPUT_DIR_CSV / AD_FILE, decimal=\",\", sep=\";\", encoding=\"utf-8\")\n",
    "cv = pd.read_csv(OUTPUT_DIR_CSV / CV_FILE, decimal=\",\", sep=\";\", encoding=\"utf-8\")\n",
    "ks = pd.read_csv(OUTPUT_DIR_CSV / KS_FILE, decimal=\",\", sep=\";\", encoding=\"utf-8\")"
   ]
  },
  {
   "cell_type": "code",
   "execution_count": null,
   "metadata": {},
   "outputs": [],
   "source": [
    "ad_wide = ad.copy()\n",
    "ad_wide['run_id'] = ad_wide.index\n",
    "\n",
    "ad_long = ad_wide.melt(\n",
    "    id_vars='run_id',\n",
    "    var_name='feature',\n",
    "    value_name='ad_stat'\n",
    ")\n",
    "\n",
    "ad_long['feature'] = ad_long['feature'].str.replace('_stat', '', regex=False)"
   ]
  },
  {
   "cell_type": "code",
   "execution_count": null,
   "metadata": {},
   "outputs": [],
   "source": [
    "cv_df = cv.filter(like='_V')\n",
    "cv_wide = cv_df.copy()\n",
    "cv_wide['run_id'] = cv_df.index\n",
    "\n",
    "cv_long = cv_wide.melt(\n",
    "    id_vars='run_id',\n",
    "    var_name='feature',\n",
    "    value_name='cv_stat'\n",
    ")\n",
    "\n",
    "cv_long['feature'] = cv_long['feature'].str.replace('_V', '', regex=False)"
   ]
  },
  {
   "cell_type": "code",
   "execution_count": null,
   "metadata": {},
   "outputs": [],
   "source": [
    "ks_wide = ks.copy()\n",
    "ks_wide['run_id'] = ks_wide.index\n",
    "\n",
    "ks_long = ks_wide.melt(\n",
    "    id_vars='run_id',\n",
    "    var_name='feature',\n",
    "    value_name='ks_stat'\n",
    ")"
   ]
  },
  {
   "cell_type": "markdown",
   "metadata": {},
   "source": [
    "## KS"
   ]
  },
  {
   "cell_type": "code",
   "execution_count": null,
   "metadata": {},
   "outputs": [],
   "source": [
    "ks_sum = calc_featurewise_ci_fwer(\n",
    "    df_results   = ks_long.pivot(index=\"run_id\", columns=\"feature\", values=\"ks_stat\"),\n",
    "    delta        = 0.05,\n",
    "    alpha_global = 0.05,\n",
    "    title = \"ks_stat\"\n",
    ")\n",
    "# ks.to_csv(OUTPUT_DIR_CSV / f\"ks_new.csv\", sep=\";\", decimal=\",\", index=False)"
   ]
  },
  {
   "cell_type": "markdown",
   "metadata": {},
   "source": [
    "## CV"
   ]
  },
  {
   "cell_type": "code",
   "execution_count": null,
   "metadata": {},
   "outputs": [],
   "source": [
    "cv_sum = calc_featurewise_ci_fwer(\n",
    "    df_results   = cv_long.pivot(index=\"run_id\", columns=\"feature\", values=\"cv_stat\"),\n",
    "    delta        = 0.05,\n",
    "    alpha_global = 0.05,\n",
    "    title= \"cv_stat\"\n",
    ")\n",
    "# cv_sum.to_csv(OUTPUT_DIR_CSV / f\"cv_new.csv\", sep=\";\", decimal=\",\", index=False)\n",
    "\n"
   ]
  },
  {
   "cell_type": "markdown",
   "metadata": {},
   "source": [
    "## AD"
   ]
  },
  {
   "cell_type": "code",
   "execution_count": null,
   "metadata": {},
   "outputs": [],
   "source": [
    "ad_sum = calc_featurewise_ci_fwer(\n",
    "    df_results   = ad_long.pivot(index=\"run_id\", columns=\"feature\", values=\"ad_stat\"),\n",
    "    delta        = 25,\n",
    "    alpha_global = 0.05,\n",
    "    title= \"ad_stat\"\n",
    ")\n",
    "# ad_sum.to_csv(OUTPUT_DIR_CSV / f\"ad_new.csv\", sep=\";\", decimal=\",\", index=False)"
   ]
  },
  {
   "cell_type": "markdown",
   "metadata": {},
   "source": [
    "## Combination"
   ]
  },
  {
   "cell_type": "code",
   "execution_count": null,
   "metadata": {},
   "outputs": [],
   "source": [
    "def load_summary(df: pd.DataFrame, stat_label: str) -> pd.DataFrame:\n",
    "    \"\"\"\n",
    "    Lädt eine Bootstrap-Zusammenfassung und bereitet sie auf.\n",
    "    Erwartet CSV ohne Header, Semikolon-separiert, mit Zeile 1 als Header.\n",
    "    \"\"\"\n",
    "    # Überspringe die erste Zeile (evtl. doppelter Header) und lese rest\n",
    "    df.columns = [\"feature\", \"mean_stat\", \"ci_lower\", \"ci_upper\", \"equiv\", \"err_low\", \"err_high\", \"stat_type\"]\n",
    "    # Numerische Spalten umwandeln\n",
    "    for col in [\"mean_stat\", \"ci_lower\", \"ci_upper\", \"err_low\", \"err_high\"]:\n",
    "        df[col] = df[col].astype(str).str.replace(\",\", \".\").str.replace(\" \", \"\").astype(float)\n",
    "    df[\"equiv\"] = df[\"equiv\"].astype(str).str.lower() == \"true\"\n",
    "    df[\"stat\"] = stat_label\n",
    "    return df\n",
    "\n",
    "# Lade alle drei Statistiken\n",
    "ks_df = load_summary(ks_sum, \"KS\")\n",
    "cv_df = load_summary(cv_sum, \"CV\")\n",
    "ad_df = load_summary(ad_sum, \"AD\")\n"
   ]
  },
  {
   "cell_type": "code",
   "execution_count": null,
   "metadata": {},
   "outputs": [],
   "source": [
    "combined = pd.concat([ks_df, cv_df, ad_df], ignore_index=True)\n",
    "combined.loc[combined['feature'].str.endswith('_TVD'), 'stat'] = 'TVD'\n",
    "combined['feature'] = combined['feature'].str.replace('_TVD', '', regex=False).str.replace('_KS', '', regex=False)"
   ]
  },
  {
   "cell_type": "markdown",
   "metadata": {},
   "source": [
    "# Plotting\n",
    "## KS"
   ]
  },
  {
   "cell_type": "code",
   "execution_count": null,
   "metadata": {},
   "outputs": [],
   "source": [
    "ks_isolated = combined[combined[\"stat\"] == \"KS\"].reset_index(drop=True)\n",
    "fig, ax, tbl = plot_featurewise_ci_fwer(\n",
    "    df_sum       = ks_isolated,\n",
    "    delta        = 0.05,\n",
    "    alpha_global = 0.05,\n",
    "    title        = \"KS_statistic\",\n",
    "    figsize      = (4, 4.5)\n",
    ")"
   ]
  },
  {
   "cell_type": "markdown",
   "metadata": {},
   "source": [
    "## TVD"
   ]
  },
  {
   "cell_type": "code",
   "execution_count": null,
   "metadata": {},
   "outputs": [],
   "source": [
    "tvd_isolated = combined[combined[\"stat\"] == \"TVD\"].reset_index(drop=True)\n",
    "fig, ax, tbl = plot_featurewise_ci_fwer(\n",
    "    df_sum       = tvd_isolated,\n",
    "    delta        = 0.05,\n",
    "    alpha_global = 0.05,\n",
    "    title        = \"TVD_statistic\",\n",
    "    figsize      = (1.8, 2)\n",
    ")"
   ]
  },
  {
   "cell_type": "markdown",
   "metadata": {},
   "source": [
    "## CV"
   ]
  },
  {
   "cell_type": "code",
   "execution_count": null,
   "metadata": {},
   "outputs": [],
   "source": [
    "cv_isolated = combined[combined[\"stat\"] == \"CV\"].reset_index(drop=True)\n",
    "fig, ax, tbl = plot_featurewise_ci_fwer(\n",
    "    df_sum       = cv_isolated,\n",
    "    delta        = 0.05,\n",
    "    alpha_global = 0.05,\n",
    "    title        = \"CV statistic\",\n",
    "    figsize      = (4, 4.5),\n",
    "    leg_pos = \"upper left\"\n",
    ")"
   ]
  },
  {
   "cell_type": "markdown",
   "metadata": {},
   "source": [
    "## AD"
   ]
  },
  {
   "cell_type": "code",
   "execution_count": null,
   "metadata": {},
   "outputs": [],
   "source": [
    "ad_isolated = combined[combined[\"stat\"] == \"AD\"].reset_index(drop=True)\n",
    "fig, ax, tbl = plot_featurewise_ci_fwer(\n",
    "    df_sum       = ad_isolated,\n",
    "    delta        = 25,\n",
    "    alpha_global = 0.05,\n",
    "    title        = \"AD_statistic\",\n",
    "    figsize      = (3.5, 4)\n",
    ")"
   ]
  }
 ],
 "metadata": {
  "kernelspec": {
   "display_name": "General Purpose",
   "language": "python",
   "name": "venv"
  },
  "language_info": {
   "codemirror_mode": {
    "name": "ipython",
    "version": 3
   },
   "file_extension": ".py",
   "mimetype": "text/x-python",
   "name": "python",
   "nbconvert_exporter": "python",
   "pygments_lexer": "ipython3",
   "version": "3.12.4"
  }
 },
 "nbformat": 4,
 "nbformat_minor": 2
}
