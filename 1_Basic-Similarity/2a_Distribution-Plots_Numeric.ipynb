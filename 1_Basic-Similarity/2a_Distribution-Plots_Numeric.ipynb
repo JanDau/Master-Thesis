{
 "cells": [
  {
   "cell_type": "markdown",
   "metadata": {},
   "source": [
    "# Code\n",
    "...\n",
    "# Imports"
   ]
  },
  {
   "cell_type": "code",
   "execution_count": 1,
   "metadata": {},
   "outputs": [],
   "source": [
    "import pandas as pd\n",
    "from pathlib import Path\n",
    "import pandas as pd\n",
    "import numpy as np\n",
    "from pathlib import Path\n",
    "from typing import Optional, Tuple, Union\n",
    "import seaborn as sns\n",
    "import matplotlib.pyplot as plt"
   ]
  },
  {
   "cell_type": "markdown",
   "metadata": {},
   "source": [
    "# User Configuration"
   ]
  },
  {
   "cell_type": "code",
   "execution_count": 36,
   "metadata": {},
   "outputs": [],
   "source": [
    "SAVE_FIGS = True  # Save figures\n",
    "\n",
    "REAL_FILE = \"20250301_data_20250510_122405_final_100_train.csv\"\n",
    "SYNTH_FILE = \"20250301_data_20250510_122405_final_100_synth.csv\"\n",
    "HOLDOUT_FILE = \"20250301_data_20250510_122405_final_100_holdout.csv\"\n",
    "\n",
    "DATA_DIR = Path(\"../../data\")\n",
    "OUTPUT_DIR_FIG = Path(\"figures\")\n",
    "OUTPUT_DIR_FIG.mkdir(parents=True, exist_ok=True)  # ensure output folder exists\n",
    "\n",
    "# Set my design\n",
    "sns.set_theme(\n",
    "    style=\"white\",\n",
    "    context=\"paper\",\n",
    "    palette=\"colorblind\",\n",
    "    rc={\n",
    "        \"font.family\": \"sans-serif\",\n",
    "        \"font.sans-serif\": [\"Arial\"],\n",
    "        \"font.size\": 7,\n",
    "        \"axes.titlesize\": 7,\n",
    "        \"axes.labelsize\": 7,\n",
    "        \"xtick.labelsize\": 7,\n",
    "        \"ytick.labelsize\": 7,\n",
    "        \"legend.fontsize\": 7\n",
    "    }\n",
    ")"
   ]
  },
  {
   "cell_type": "markdown",
   "metadata": {},
   "source": [
    "# Utility Functions"
   ]
  },
  {
   "cell_type": "markdown",
   "metadata": {},
   "source": [
    "## Load Data & Assign Correct Datatypes"
   ]
  },
  {
   "cell_type": "code",
   "execution_count": 3,
   "metadata": {},
   "outputs": [],
   "source": [
    "def convert_dtypes(df: pd.DataFrame) -> pd.DataFrame:\n",
    "    \"\"\"\n",
    "    Konvertiert bestimmte Spalten des DataFrames in die gewünschten Datentypen:\n",
    "     - definierte Spalten als category\n",
    "     - definierte Spalten als pandas Nullable Integer (Int64)\n",
    "     - consciousness_level und news_score als geordnete Categoricals\n",
    "    \"\"\"\n",
    "    df = df.copy()  # Änderungen nicht am Original vornehmen\n",
    "\n",
    "    # 1) Kategorische Spalten\n",
    "    cat_cols = ['gender', 'ethnicity', 'chief_complaint', 'icd_block']\n",
    "    for col in cat_cols:\n",
    "        df[col] = df[col].astype('category')\n",
    "\n",
    "    # 2) Integer-Spalten mit Nullable Integer dtype\n",
    "    int_cols = ['age', 'systolic_bp', 'diastolic_bp',\n",
    "                'heart_rate', 'respiratory_rate', 'oxygen_saturation']\n",
    "    for col in int_cols:\n",
    "        df[col] = df[col].astype('Int64')\n",
    "\n",
    "    # 3) Geordnete Categoricals\n",
    "    df['consciousness_level'] = pd.Categorical(\n",
    "        df['consciousness_level'],\n",
    "        categories=['A', 'C', 'V', 'P', 'U'],\n",
    "        ordered=True\n",
    "    )\n",
    "    df['news_score'] = pd.Categorical(\n",
    "        df['news_score'],\n",
    "        categories=list(range(19)),\n",
    "        ordered=True\n",
    "    )\n",
    "\n",
    "    return df\n",
    "\n",
    "def load_data(\n",
    "    real_filename: Union[str, Path],\n",
    "    synth_filename: Optional[Union[str, Path]] = None,\n",
    "    holdout_filename: Optional[Union[str, Path]] = None,\n",
    "    data_dir: Path = DATA_DIR\n",
    ") -> Tuple[pd.DataFrame, Optional[pd.DataFrame], Optional[pd.DataFrame]]:\n",
    "    \"\"\"\n",
    "    Lädt die realen, synthetischen und optionalen Holdout-CSV-Dateien\n",
    "    aus data_dir und wandelt sie über convert_dtypes um.\n",
    "\n",
    "    Returns:\n",
    "        df_real: pd.DataFrame\n",
    "        df_synth: Optional[pd.DataFrame]\n",
    "        df_holdout: Optional[pd.DataFrame]\n",
    "    \"\"\"\n",
    "    def _read_and_convert(fn: Union[str, Path]) -> pd.DataFrame:\n",
    "        return (\n",
    "            pd.read_csv(data_dir / fn, low_memory=False)\n",
    "              .pipe(convert_dtypes)\n",
    "        )\n",
    "\n",
    "    df_real    = _read_and_convert(real_filename)\n",
    "    df_synth   = _read_and_convert(synth_filename)   if synth_filename   else None\n",
    "    df_holdout = _read_and_convert(holdout_filename) if holdout_filename else None\n",
    "\n",
    "    return df_real, df_synth, df_holdout"
   ]
  },
  {
   "cell_type": "markdown",
   "metadata": {},
   "source": [
    "## Boxenplots (Numeric Values)"
   ]
  },
  {
   "cell_type": "code",
   "execution_count": 38,
   "metadata": {},
   "outputs": [],
   "source": [
    "def plot_metric_comparison(\n",
    "    df_real: pd.DataFrame,\n",
    "    df_synth: pd.DataFrame,\n",
    "    metric_col: str = 'heart_rate',\n",
    "    type_col: str = 'type',\n",
    "    synth_metric_col: str = None,\n",
    "    figsize: tuple = (4, 6),\n",
    "    title: str = None,\n",
    "    lower_bound: float = None,\n",
    "    upper_bound: float = None,\n",
    "    yticks_step: float = 10\n",
    "):\n",
    "    \"\"\"\n",
    "    Vergleicht real- vs. synthetische Verteilungen einer Metrik mithilfe eines Boxen-Plots.\n",
    "\n",
    "    Parameters\n",
    "    ----------\n",
    "    df_real : pd.DataFrame\n",
    "        DataFrame mit den realen Messwerten. Muss Spalte `metric_col` und `type_col` enthalten.\n",
    "    df_synth : pd.DataFrame\n",
    "        DataFrame mit den synthetischen Messwerten. \n",
    "        Wenn `synth_metric_col` angegeben ist, wird diese auf `metric_col` umbenannt.\n",
    "        Muss zusätzlich Spalte `type_col` enthalten.\n",
    "    metric_col : str, default 'heart_rate'\n",
    "        Name der Ziel-Spalte in `df_real` (und in `df_synth` nach Umbenennen).\n",
    "    type_col : str, default 'type'\n",
    "        Name der Spalte, nach der auf der x-Achse gruppiert wird.\n",
    "    synth_metric_col : str, optional\n",
    "        Ursprünglicher Name der Messspalte in `df_synth`. \n",
    "        Wenn None (Default), wird angenommen, dass sie schon `metric_col` heißt.\n",
    "    figsize : tuple, default (4, 6)\n",
    "        Größe der Abbildung (Breite, Höhe) in Zoll.\n",
    "    title : str, optional\n",
    "        Titel der Grafik. Wenn None, wird `metric_col` verwendet.\n",
    "    lower_bound : float, optional\n",
    "        Untere Begrenzung der y-Achse.\n",
    "    upper_bound : float, optional\n",
    "        Obere Begrenzung der y-Achse.\n",
    "    yticks_step : float, default 10\n",
    "        Schrittweite für die y-Achsen-Ticks, falls `lower_bound` und `upper_bound` gesetzt sind.\n",
    "\n",
    "    Returns\n",
    "    -------\n",
    "    fig, ax : matplotlib Figure und Axes\n",
    "        Objekte der erstellten Abbildung und Achse, falls weitere Feineinstellungen nötig sind.\n",
    "    \"\"\"\n",
    "    # --- 1) Synthetische Daten vorbereiten ---\n",
    "    # ggf. umbenennen\n",
    "    if synth_metric_col is not None and synth_metric_col != metric_col:\n",
    "        df_temp = df_synth[[synth_metric_col, type_col]].copy()\n",
    "        df_temp = df_temp.rename(columns={synth_metric_col: metric_col})\n",
    "    else:\n",
    "        df_temp = df_synth[[metric_col, type_col]].copy()\n",
    "    \n",
    "    # zusammenführen\n",
    "    df_concat = pd.concat(\n",
    "        [df_real[[metric_col, type_col]], df_temp[[metric_col, type_col]]],\n",
    "        ignore_index=True\n",
    "    )\n",
    "    \n",
    "    # --- 2) Plot erzeugen ---\n",
    "    fig, ax = plt.subplots(figsize=figsize)\n",
    "    sns.boxenplot(\n",
    "        data=df_concat,\n",
    "        x=type_col,\n",
    "        y=metric_col,\n",
    "        hue=type_col,\n",
    "        ax=ax,\n",
    "        linecolor='white',\n",
    "        linewidth=1.5,\n",
    "        width=0.6,\n",
    "        line_kws=dict(linewidth=1.5, color='black'),\n",
    "        flier_kws=dict(linewidth=0.25, s=5),\n",
    "        dodge=False\n",
    "    )\n",
    "    \n",
    "    # Achsen-Ticks feinjustieren\n",
    "    ax.tick_params(axis='x', which='both', bottom=True, top=False, labelbottom=True)\n",
    "    ax.tick_params(axis='y', which='both', left=True, right=False, labelleft=True)\n",
    "    \n",
    "    # Achsenbegrenzung und Ticks\n",
    "    if lower_bound is not None and upper_bound is not None:\n",
    "        ax.set_ylim(lower_bound, upper_bound)\n",
    "        ax.set_yticks(np.arange(lower_bound, upper_bound + yticks_step, yticks_step))\n",
    "    \n",
    "    # obere/rechte Rahmenlinien entfernen\n",
    "    ax.spines['top'].set_visible(False)\n",
    "    ax.spines['right'].set_visible(False)\n",
    "    \n",
    "    # Titel setzen\n",
    "    ax.set_title(title or metric_col)\n",
    "    \n",
    "    plt.tight_layout()\n",
    " \n",
    "    return fig, ax\n"
   ]
  },
  {
   "cell_type": "markdown",
   "metadata": {},
   "source": [
    "# Main Routine\n",
    "## Daten Laden"
   ]
  },
  {
   "cell_type": "code",
   "execution_count": 5,
   "metadata": {},
   "outputs": [],
   "source": [
    "df_real, df_synth, df_holdout = load_data(\n",
    "    REAL_FILE,\n",
    "    SYNTH_FILE,\n",
    "    HOLDOUT_FILE,\n",
    "    data_dir=DATA_DIR\n",
    ")"
   ]
  },
  {
   "cell_type": "code",
   "execution_count": 6,
   "metadata": {},
   "outputs": [],
   "source": [
    "df_real['type'] = 'Real'\n",
    "df_synth['type'] = 'Synthetisch'"
   ]
  },
  {
   "cell_type": "markdown",
   "metadata": {},
   "source": [
    "## Age"
   ]
  },
  {
   "cell_type": "code",
   "execution_count": 39,
   "metadata": {},
   "outputs": [
    {
     "data": {
      "image/png": "[encoded data removed]",
      "text/plain": [
       "<Figure size 180x250 with 1 Axes>"
      ]
     },
     "metadata": {},
     "output_type": "display_data"
    }
   ],
   "source": [
    "fig, ax = plot_metric_comparison(\n",
    "    df_real=df_real,\n",
    "    df_synth=df_synth,\n",
    "    metric_col='age',\n",
    "    type_col='type',\n",
    "    figsize=(1.8, 2.5),\n",
    "    title='Age',\n",
    "    lower_bound=0,\n",
    "    upper_bound=110,\n",
    "    yticks_step=10\n",
    ")\n",
    "\n",
    "plt.show()\n",
    "if SAVE_FIGS:\n",
    "    fig.savefig(OUTPUT_DIR_FIG / f\"age.tiff\", dpi=300, format='tiff', bbox_inches='tight', pil_kwargs={'compression': 'tiff_lzw'})\n",
    "plt.close(fig)"
   ]
  },
  {
   "cell_type": "markdown",
   "metadata": {},
   "source": [
    "## Heart Rate"
   ]
  },
  {
   "cell_type": "code",
   "execution_count": 40,
   "metadata": {},
   "outputs": [
    {
     "data": {
      "image/png": "[encoded data removed]",
      "text/plain": [
       "<Figure size 180x250 with 1 Axes>"
      ]
     },
     "metadata": {},
     "output_type": "display_data"
    }
   ],
   "source": [
    "fig, ax = plot_metric_comparison(\n",
    "    df_real=df_real,\n",
    "    df_synth=df_synth,\n",
    "    metric_col='heart_rate',\n",
    "    type_col='type',\n",
    "    figsize=(1.8, 2.5),\n",
    "    title='Heart Rate',\n",
    "    lower_bound=0,\n",
    "    upper_bound=240,\n",
    "    yticks_step=50\n",
    ")\n",
    "\n",
    "plt.show()\n",
    "if SAVE_FIGS:\n",
    "    fig.savefig(OUTPUT_DIR_FIG / f\"heart_rate.tiff\", dpi=300, format='tiff', bbox_inches='tight', pil_kwargs={'compression': 'tiff_lzw'})\n",
    "plt.close(fig)"
   ]
  },
  {
   "cell_type": "markdown",
   "metadata": {},
   "source": [
    "## Respiratory Rate"
   ]
  },
  {
   "cell_type": "code",
   "execution_count": 41,
   "metadata": {},
   "outputs": [
    {
     "data": {
      "image/png": "[encoded data removed]",
      "text/plain": [
       "<Figure size 180x250 with 1 Axes>"
      ]
     },
     "metadata": {},
     "output_type": "display_data"
    }
   ],
   "source": [
    "fig, ax = plot_metric_comparison(\n",
    "    df_real=df_real,\n",
    "    df_synth=df_synth,\n",
    "    metric_col='respiratory_rate',\n",
    "    type_col='type',\n",
    "    figsize=(1.8, 2.5),\n",
    "    title='Respiratory Rate',\n",
    "    lower_bound=0,\n",
    "    upper_bound=61,\n",
    "    yticks_step=10\n",
    ")\n",
    "\n",
    "plt.show()\n",
    "if SAVE_FIGS:\n",
    "    fig.savefig(OUTPUT_DIR_FIG / f\"respiratory_rate.tiff\", dpi=300, format='tiff', bbox_inches='tight', pil_kwargs={'compression': 'tiff_lzw'})\n",
    "plt.close(fig)"
   ]
  },
  {
   "cell_type": "markdown",
   "metadata": {},
   "source": [
    "## Oxygen Saturation"
   ]
  },
  {
   "cell_type": "code",
   "execution_count": 42,
   "metadata": {},
   "outputs": [
    {
     "data": {
      "image/png": "[encoded data removed]",
      "text/plain": [
       "<Figure size 180x250 with 1 Axes>"
      ]
     },
     "metadata": {},
     "output_type": "display_data"
    }
   ],
   "source": [
    "fig, ax = plot_metric_comparison(\n",
    "    df_real=df_real,\n",
    "    df_synth=df_synth,\n",
    "    metric_col='oxygen_saturation',\n",
    "    type_col='type',\n",
    "    figsize=(1.8, 2.5),\n",
    "    title='Oxygen Saturation',\n",
    "    lower_bound=40,\n",
    "    upper_bound=100,\n",
    "    yticks_step=10\n",
    ")\n",
    "\n",
    "plt.show()\n",
    "if SAVE_FIGS:\n",
    "    fig.savefig(OUTPUT_DIR_FIG / f\"oxygen_saturation.tiff\", dpi=300, format='tiff', bbox_inches='tight', pil_kwargs={'compression': 'tiff_lzw'})\n",
    "plt.close(fig)"
   ]
  },
  {
   "cell_type": "markdown",
   "metadata": {},
   "source": [
    "## Temperature"
   ]
  },
  {
   "cell_type": "code",
   "execution_count": 43,
   "metadata": {},
   "outputs": [
    {
     "data": {
      "image/png": "[encoded data removed]",
      "text/plain": [
       "<Figure size 180x250 with 1 Axes>"
      ]
     },
     "metadata": {},
     "output_type": "display_data"
    }
   ],
   "source": [
    "fig, ax = plot_metric_comparison(\n",
    "    df_real=df_real,\n",
    "    df_synth=df_synth,\n",
    "    metric_col='temperature',\n",
    "    type_col='type',\n",
    "    figsize=(1.8, 2.5),\n",
    "    title='Temperature',\n",
    "    lower_bound=30,\n",
    "    upper_bound=45,\n",
    "    yticks_step=2\n",
    ")\n",
    "\n",
    "plt.show()\n",
    "if SAVE_FIGS:\n",
    "    fig.savefig(OUTPUT_DIR_FIG / f\"temperature.tiff\", dpi=300, format='tiff', bbox_inches='tight', pil_kwargs={'compression': 'tiff_lzw'})\n",
    "plt.close(fig)"
   ]
  },
  {
   "cell_type": "markdown",
   "metadata": {},
   "source": [
    "## Systolic BP"
   ]
  },
  {
   "cell_type": "code",
   "execution_count": 44,
   "metadata": {},
   "outputs": [
    {
     "data": {
      "image/png": "[encoded data removed]",
      "text/plain": [
       "<Figure size 180x250 with 1 Axes>"
      ]
     },
     "metadata": {},
     "output_type": "display_data"
    }
   ],
   "source": [
    "fig, ax = plot_metric_comparison(\n",
    "    df_real=df_real,\n",
    "    df_synth=df_synth,\n",
    "    metric_col='systolic_bp',\n",
    "    type_col='type',\n",
    "    figsize=(1.8, 2.5),\n",
    "    title='Systolic BP',\n",
    "    lower_bound=50,\n",
    "    upper_bound=290,\n",
    "    yticks_step=40\n",
    ")\n",
    "\n",
    "plt.show()\n",
    "if SAVE_FIGS:\n",
    "    fig.savefig(OUTPUT_DIR_FIG / f\"systolic_bp.tiff\", dpi=300, format='tiff', bbox_inches='tight', pil_kwargs={'compression': 'tiff_lzw'})\n",
    "plt.close(fig)"
   ]
  },
  {
   "cell_type": "markdown",
   "metadata": {},
   "source": [
    "## Diastolic BP"
   ]
  },
  {
   "cell_type": "code",
   "execution_count": 45,
   "metadata": {},
   "outputs": [
    {
     "data": {
      "image/png": "[encoded data removed]",
      "text/plain": [
       "<Figure size 180x250 with 1 Axes>"
      ]
     },
     "metadata": {},
     "output_type": "display_data"
    }
   ],
   "source": [
    "fig, ax = plot_metric_comparison(\n",
    "    df_real=df_real,\n",
    "    df_synth=df_synth,\n",
    "    metric_col='diastolic_bp',\n",
    "    type_col='type',\n",
    "    figsize=(1.8, 2.5),\n",
    "    title='Diastolic BP',\n",
    "    lower_bound=10,\n",
    "    upper_bound=160,\n",
    "    yticks_step=20\n",
    ")\n",
    "\n",
    "plt.show()\n",
    "if SAVE_FIGS:\n",
    "    fig.savefig(OUTPUT_DIR_FIG / f\"diastolic_bp.tiff\", dpi=300, format='tiff', bbox_inches='tight', pil_kwargs={'compression': 'tiff_lzw'})\n",
    "plt.close(fig)"
   ]
  }
 ],
 "metadata": {
  "kernelspec": {
   "display_name": "General Purpose",
   "language": "python",
   "name": "venv"
  },
  "language_info": {
   "codemirror_mode": {
    "name": "ipython",
    "version": 3
   },
   "file_extension": ".py",
   "mimetype": "text/x-python",
   "name": "python",
   "nbconvert_exporter": "python",
   "pygments_lexer": "ipython3",
   "version": "3.12.4"
  }
 },
 "nbformat": 4,
 "nbformat_minor": 2
}
