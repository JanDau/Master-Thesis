{
 "cells": [
  {
   "cell_type": "markdown",
   "metadata": {},
   "source": [
    "# Imports"
   ]
  },
  {
   "cell_type": "code",
   "execution_count": 1,
   "metadata": {},
   "outputs": [],
   "source": [
    "from dataclasses import dataclass\n",
    "from pathlib import Path\n",
    "import pandas as pd\n",
    "from datetime import datetime\n",
    "import numpy as np\n",
    "import seaborn as sns\n",
    "from typing import Optional, Tuple, Union\n",
    "import matplotlib.pyplot as plt\n",
    "from syntheval import SynthEval"
   ]
  },
  {
   "cell_type": "markdown",
   "metadata": {},
   "source": [
    "# User Settings"
   ]
  },
  {
   "cell_type": "code",
   "execution_count": 2,
   "metadata": {},
   "outputs": [],
   "source": [
    "@dataclass\n",
    "class Config:\n",
    "    data_dir: Path = Path(\"../../data\")\n",
    "    figures_dir: Path = Path(\"figures\")\n",
    "    results_dir: Path = Path(\"results\")\n",
    "\n",
    "    real_file: str = \"20250301_data_20250510_122405_final_100_train.csv\"\n",
    "    synth_file: str = \"20250301_data_20250510_122405_final_100_synth.csv\"\n",
    "    holdout_file: str = \"20250301_data_20250510_122405_final_100_holdout.csv\"\n",
    "\n",
    "    random_seed: int = 42\n",
    "    num_eval_iter: int = 30\n",
    "\n",
    "    save_data: bool = True\n",
    "\n",
    "# Set my design\n",
    "sns.set_theme(\n",
    "    style=\"white\",\n",
    "    context=\"paper\",\n",
    "    palette=\"colorblind\",\n",
    "    rc={\n",
    "        \"font.family\": \"sans-serif\",\n",
    "        \"font.sans-serif\": [\"Arial\"],\n",
    "        \"font.size\": 7,\n",
    "        \"axes.titlesize\": 7,\n",
    "        \"axes.labelsize\": 7,\n",
    "        \"xtick.labelsize\": 7,\n",
    "        \"ytick.labelsize\": 7,\n",
    "        \"legend.fontsize\": 7\n",
    "    }\n",
    ")"
   ]
  },
  {
   "cell_type": "markdown",
   "metadata": {},
   "source": [
    "# Utility Functions"
   ]
  },
  {
   "cell_type": "code",
   "execution_count": 3,
   "metadata": {},
   "outputs": [],
   "source": [
    "def convert_dtypes(df: pd.DataFrame) -> pd.DataFrame:\n",
    "    \"\"\"\n",
    "    Konvertiert bestimmte Spalten des DataFrames in die gewünschten Datentypen:\n",
    "     - definierte Spalten als category\n",
    "     - definierte Spalten als pandas Nullable Integer (Int64)\n",
    "     - consciousness_level und news_score als geordnete Categoricals\n",
    "    \"\"\"\n",
    "    df = df.copy()  # Änderungen nicht am Original vornehmen\n",
    "\n",
    "    # 1) Kategorische Spalten\n",
    "    cat_cols = ['gender', 'ethnicity', 'chief_complaint', 'icd_block']\n",
    "    for col in cat_cols:\n",
    "        # df[col] = df[col].astype('category')\n",
    "        df[col] = df[col].astype('object') # 'category' führt zu Problemen mit dem OneHotEncoder\n",
    "\n",
    "    # 2) Integer-Spalten mit Nullable Integer dtype\n",
    "    int_cols = ['age', 'systolic_bp', 'diastolic_bp',\n",
    "                'heart_rate', 'respiratory_rate', 'oxygen_saturation']\n",
    "    for col in int_cols:\n",
    "        df[col] = df[col].astype('Int64')\n",
    "        # df[col] = df[col].astype('int32')\n",
    "\n",
    "    # 3) Geordnete Categoricals\n",
    "    df['consciousness_level'] = pd.Categorical(\n",
    "        df['consciousness_level'],\n",
    "        categories=['A', 'C', 'V', 'P', 'U'],\n",
    "        ordered=True\n",
    "    )\n",
    "    df['news_score'] = pd.Categorical(\n",
    "        df['news_score'],\n",
    "        categories=list(range(19)),\n",
    "        ordered=True\n",
    "    )\n",
    "\n",
    "    return df\n",
    "\n",
    "def load_data(\n",
    "    real_filename: Union[str, Path],\n",
    "    synth_filename: Optional[Union[str, Path]] = None,\n",
    "    holdout_filename: Optional[Union[str, Path]] = None,\n",
    "    data_dir: Path = None,\n",
    ") -> Tuple[pd.DataFrame, Optional[pd.DataFrame], Optional[pd.DataFrame]]:\n",
    "    \"\"\"\n",
    "    Lädt die realen, synthetischen und optionalen Holdout-CSV-Dateien\n",
    "    aus data_dir und wandelt sie über convert_dtypes um.\n",
    "\n",
    "    Returns:\n",
    "        df_real: pd.DataFrame\n",
    "        df_synth: Optional[pd.DataFrame]\n",
    "        df_holdout: Optional[pd.DataFrame]\n",
    "    \"\"\"\n",
    "    def _read_and_convert(fn: Union[str, Path]) -> pd.DataFrame:\n",
    "        return (\n",
    "            pd.read_csv(data_dir / fn, low_memory=False)\n",
    "              .pipe(convert_dtypes)\n",
    "        )\n",
    "\n",
    "    df_real    = _read_and_convert(real_filename)\n",
    "    df_synth   = _read_and_convert(synth_filename)   if synth_filename   else None\n",
    "    df_holdout = _read_and_convert(holdout_filename) if holdout_filename else None\n",
    "\n",
    "    return df_real, df_synth, df_holdout"
   ]
  },
  {
   "cell_type": "markdown",
   "metadata": {},
   "source": [
    "# Main Routine\n",
    "## Data Import"
   ]
  },
  {
   "cell_type": "code",
   "execution_count": 4,
   "metadata": {},
   "outputs": [],
   "source": [
    "cfg = Config()\n",
    "current_timestamp = datetime.now().strftime(\"%Y%m%d_%H%M%S\")\n",
    "\n",
    "df_train, df_synth, df_holdout = load_data(\n",
    "    cfg.real_file,\n",
    "    cfg.synth_file,\n",
    "    cfg.holdout_file,\n",
    "    data_dir=cfg.data_dir\n",
    ")\n",
    "\n",
    "df_holdout = df_holdout.dropna().reset_index(drop=True)"
   ]
  },
  {
   "cell_type": "code",
   "execution_count": 5,
   "metadata": {},
   "outputs": [
    {
     "name": "stdout",
     "output_type": "stream",
     "text": [
      "['gender', 'ethnicity', 'chief_complaint', 'night_arrival', 'weekend_arrival', 'icu_admission_24h', 'icd_block', 'consciousness_level', 'news_score']\n"
     ]
    }
   ],
   "source": [
    "num_cols = ['age', 'temperature', 'heart_rate', 'respiratory_rate', 'oxygen_saturation', 'systolic_bp', 'diastolic_bp']\n",
    "cat_cols = ['gender', 'ethnicity', 'chief_complaint', 'night_arrival', 'weekend_arrival', 'icu_admission_24h', 'icd_block']\n",
    "ord_cols = ['consciousness_level','news_score']\n",
    "\n",
    "cat_ord_cols = cat_cols + ord_cols\n",
    "print(cat_ord_cols)"
   ]
  },
  {
   "cell_type": "markdown",
   "metadata": {},
   "source": [
    "# 2. Funktion"
   ]
  },
  {
   "cell_type": "code",
   "execution_count": 6,
   "metadata": {},
   "outputs": [
    {
     "name": "stdout",
     "output_type": "stream",
     "text": [
      "          metric     class     score     error\n",
      "0  mia_precision  negative  0.995313  0.001380\n",
      "1  mia_precision  positive  0.502344  0.001380\n",
      "2     mia_recall  negative  0.872551  0.000619\n",
      "3     mia_recall  positive  0.127449  0.000619\n",
      "4         mia_f1  negative  0.929897  0.001448\n",
      "5         mia_f1  positive  0.203316  0.001134\n",
      "Results saved to results\\mia_results_20250518_080243.csv\n"
     ]
    }
   ],
   "source": [
    "\n",
    "mia = SynthEval(\n",
    "    real_dataframe=df_train,\n",
    "    holdout_dataframe=df_holdout,\n",
    "    cat_cols=cat_ord_cols,\n",
    "    verbose=False\n",
    ")\n",
    "# Führe MIA aus\n",
    "result_mia = mia.evaluate(df_synth, mia={'num_eval_iter': cfg.num_eval_iter})\n",
    "\n",
    "# Auswertung wie von dir vorgegeben\n",
    "df_val = result_mia.melt(\n",
    "    id_vars=['metric'], value_vars=['val','n_val'],\n",
    "    var_name='class', value_name='score'\n",
    ").replace({'class': {'val':'positive','n_val':'negative'}})\n",
    "\n",
    "df_err = result_mia.melt(\n",
    "    id_vars=['metric'], value_vars=['err','n_err'],\n",
    "    var_name='class', value_name='error'\n",
    ").replace({'class': {'err':'positive','n_err':'negative'}})\n",
    "\n",
    "df = pd.merge(df_val, df_err, on=['metric','class'])\n",
    "df = df.sort_values(['metric','class'])\n",
    "\n",
    "# Pivot, F1 und Fehler berechnen\n",
    "pivot = df.pivot(index='class', columns='metric')\n",
    "p = pivot['score','mia_precision']\n",
    "r = pivot['score','mia_recall']\n",
    "ep = pivot['error','mia_precision']\n",
    "er = pivot['error','mia_recall']\n",
    "\n",
    "f1  = 2 * (p * r) / (p + r)\n",
    "e_f1 = f1 * np.sqrt((ep/p)**2 + (er/r)**2)\n",
    "\n",
    "# Neues F1-DF erstellen und anhängen\n",
    "f1_df = pd.DataFrame({\n",
    "    'metric': ['mia_f1']*len(f1),\n",
    "    'class':  f1.index,\n",
    "    'score':  f1.values,\n",
    "    'error':  e_f1.values\n",
    "})\n",
    "df_full = pd.concat([df, f1_df], ignore_index=True)\n",
    "\n",
    "\n",
    "\n",
    "print(df_full)\n",
    "if cfg.save_data:\n",
    "    # Speichern der Ergebnisse\n",
    "    df_full.to_csv(cfg.results_dir / f\"mia_results_{current_timestamp}.csv\", index=False, sep=';', decimal=',', encoding='utf-8')\n",
    "    print(f\"Results saved to {cfg.results_dir / f'mia_results_{current_timestamp}.csv'}\")"
   ]
  },
  {
   "cell_type": "markdown",
   "metadata": {},
   "source": [
    "„Precision (positive): 0.5008 ± 0.0016; Recall (positive): 0.1278 ± 0.0007; F1 (positive): 0.2036 ± 0.0013.“"
   ]
  },
  {
   "cell_type": "code",
   "execution_count": 6,
   "metadata": {},
   "outputs": [],
   "source": [
    "df_full = pd.read_csv(\n",
    "    cfg.results_dir / f\"mia_results_20250518_080243.csv\",\n",
    "    sep=';',\n",
    "    decimal=',',\n",
    "    encoding='utf-8'\n",
    ")"
   ]
  },
  {
   "cell_type": "code",
   "execution_count": 8,
   "metadata": {},
   "outputs": [
    {
     "name": "stdout",
     "output_type": "stream",
     "text": [
      "Abbildung gespeichert unter: figures\\MIA_20250601_165011.tiff\n"
     ]
    },
    {
     "data": {
      "image/png": "[encoded data removed]",
      "text/plain": [
       "<Figure size 150x250 with 1 Axes>"
      ]
     },
     "metadata": {},
     "output_type": "display_data"
    }
   ],
   "source": [
    "df_pos = df_full[df_full['class'] == 'positive']\n",
    "\n",
    "metrics = ['mia_precision', 'mia_recall', 'mia_f1']\n",
    "scores = df_pos.set_index('metric').loc[metrics, 'score']\n",
    "errors = df_pos.set_index('metric').loc[metrics, 'error']\n",
    "\n",
    "x = range(len(metrics))\n",
    "\n",
    "plt.subplots(figsize=(1.5,2.5))\n",
    "plt.errorbar(x, scores, yerr=errors, fmt='o', capsize=5)\n",
    "plt.xticks(x, ['Precision', 'Recall', 'F1'])\n",
    "plt.ylabel('Score')\n",
    "# plt.title('MIA Results')\n",
    "plt.ylim(0, 1)\n",
    "plt.xlim(-0.5, 2.5)\n",
    "\n",
    "plt.grid(axis='y', linestyle='--', alpha=0.7)\n",
    "if cfg.save_data:\n",
    "    fname = f'MIA_{current_timestamp}.tiff'\n",
    "    fullpath = cfg.figures_dir / fname\n",
    "    plt.savefig(\n",
    "        fullpath,\n",
    "        dpi=300,\n",
    "        format='tiff',\n",
    "        bbox_inches='tight',\n",
    "        pil_kwargs={'compression': 'tiff_lzw'}\n",
    "    )\n",
    "    print(f\"Abbildung gespeichert unter: {fullpath}\")\n",
    "plt.show()"
   ]
  },
  {
   "cell_type": "markdown",
   "metadata": {},
   "source": [
    "# Interpretation\n",
    "✅ Nein, n_val und n_err (negative) stehen nicht direkt für „Nicht-Mitglied-Test“.\n",
    "→ Sie sind komplementäre Werte zu val (also z.B. 1 - recall oder 1 - 2*|0.5 - precision|), um die „Abweichung von idealer Privacy“ darzustellen.\n",
    "👉 Sie dienen der Darstellung der „Nicht-Privacy“ oder „Fehlerrate“:\n",
    "- n_val ≈ 1 → gute Privacy (Angreifer kann wenig)\n",
    "- n_val ≈ 0 → schwache Privacy (Angreifer kann viel)\n",
    "➡️ Also eher eine Interpretationshilfe, kein expliziter Test auf „nicht enthalten“.\n",
    "\n",
    "\n",
    "✅ In der Literatur gibt es keinen festen universellen Schwellenwert für val (z.B. Precision, Recall oder F1 bei MIA).\n",
    "➡️ Oft wird ein Wert deutlich über Zufallsniveau (~0.5) als Hinweis auf Privacy-Risiko betrachtet (vgl. Shokri et al., 2017).\n",
    "📚 Referenz:\n",
    "Shokri, R., Stronati, M., Song, C., & Shmatikov, V. (2017). Membership Inference Attacks Against Machine Learning Models. IEEE S&P.\n",
    "Dort gilt: „significantly better than random guessing“ → Risiko.\n",
    "Typisch: >0.6–0.7 als kritisch, aber abhängig von Kontext & Use-Case.\n",
    "\n",
    "\n",
    "## Precision: Anteil korrekter „Mitglied“-Vorhersagen unter allen vorhergesagten Mitgliedern\n",
    "- Precision ≈ 0: Vorhersagen sind fast alle falsch → Angreifer rät schlecht.\n",
    "- Precision ≈ 0.5: Vorhersagen sind wie Zufall → keine verwertbare Information.\n",
    "- Precision ≈ 1: Vorhersagen sind alle korrekt → Angreifer kann Mitglieder perfekt erkennen → hohes Privacy-Risiko.\n",
    "\n",
    "\n",
    "## Recall: Anteil der tatsächlichen Mitglieder, die korrekt erkannt wurden\n",
    "- Recall ≈ 0: Angreifer erkennt fast kein Mitglied → sehr geringe Leakage.\n",
    "- Recall ≈ 0.5: Angreifer erkennt 50% der Mitglieder → besser als Zufall, mildes Risiko.\n",
    "- Recall ≈ 1: Angreifer erkennt alle Mitglieder → sehr hohes Risiko.\n",
    "\n",
    "\n",
    "## Macro-F1: Harmonie zwischen Precision und Recall (balancierter Mittelwert)\n",
    "- Macro-F1 ≈ 0: keine sinnvolle Erkennung (Precision & Recall schlecht).\n",
    "- Macro-F1 ≈ 0.5: durchschnittliche Performance, nahe Zufall → akzeptabel.\n",
    "- Macro-F1 ≈ 1: perfekte Erkennung → hohes Risiko.\n",
    "\n"
   ]
  }
 ],
 "metadata": {
  "kernelspec": {
   "display_name": "SynthEval",
   "language": "python",
   "name": "syntheval"
  },
  "language_info": {
   "codemirror_mode": {
    "name": "ipython",
    "version": 3
   },
   "file_extension": ".py",
   "mimetype": "text/x-python",
   "name": "python",
   "nbconvert_exporter": "python",
   "pygments_lexer": "ipython3",
   "version": "3.12.6"
  }
 },
 "nbformat": 4,
 "nbformat_minor": 2
}
