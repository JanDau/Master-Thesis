{
 "cells": [
  {
   "cell_type": "markdown",
   "metadata": {},
   "source": [
    "# Imports"
   ]
  },
  {
   "cell_type": "code",
   "execution_count": 20,
   "metadata": {},
   "outputs": [],
   "source": [
    "from dataclasses import dataclass\n",
    "from pathlib import Path\n",
    "import pandas as pd\n",
    "from datetime import datetime\n",
    "import numpy as np\n",
    "import random\n",
    "import seaborn as sns\n",
    "from tqdm.contrib.concurrent import thread_map\n",
    "from typing import Optional, Tuple, Union, Sequence, Dict, Callable, Any\n",
    "import matplotlib.pyplot as plt\n",
    "from tqdm import tqdm\n",
    "from anonymeter.evaluators import SinglingOutEvaluator\n",
    "from tqdm.notebook import tqdm, trange"
   ]
  },
  {
   "cell_type": "markdown",
   "metadata": {},
   "source": [
    "# User Settings"
   ]
  },
  {
   "cell_type": "code",
   "execution_count": 21,
   "metadata": {},
   "outputs": [],
   "source": [
    "@dataclass\n",
    "class Config:\n",
    "    data_dir: Path = Path(\"../../data\")\n",
    "    figures_dir: Path = Path(\"figures\")\n",
    "    results_dir: Path = Path(\"results\")\n",
    "\n",
    "    real_file: str = \"20250301_data_20250510_122405_final_100_train.csv\"\n",
    "    synth_file: str = \"20250301_data_20250510_122405_final_100_synth.csv\"\n",
    "    holdout_file: str = \"20250301_data_20250510_122405_final_100_holdout.csv\"\n",
    "\n",
    "    random_seed: int = 42\n",
    "    sampling_size: int = None # None if no sampling\n",
    "\n",
    "    save_data: bool = True\n",
    "\n",
    "# Set my design\n",
    "sns.set_theme(\n",
    "    style=\"white\",\n",
    "    context=\"paper\",\n",
    "    palette=\"colorblind\",\n",
    "    rc={\n",
    "        \"font.family\": \"sans-serif\",\n",
    "        \"font.sans-serif\": [\"Arial\"],\n",
    "        \"font.size\": 7,\n",
    "        \"axes.titlesize\": 7,\n",
    "        \"axes.labelsize\": 7,\n",
    "        \"xtick.labelsize\": 7,\n",
    "        \"ytick.labelsize\": 7,\n",
    "        \"legend.fontsize\": 7\n",
    "    }\n",
    ")"
   ]
  },
  {
   "cell_type": "markdown",
   "metadata": {},
   "source": [
    "# Utility Functions"
   ]
  },
  {
   "cell_type": "code",
   "execution_count": 22,
   "metadata": {},
   "outputs": [],
   "source": [
    "def convert_dtypes(df: pd.DataFrame) -> pd.DataFrame:\n",
    "    \"\"\"\n",
    "    Konvertiert bestimmte Spalten des DataFrames in die gewünschten Datentypen:\n",
    "     - definierte Spalten als category\n",
    "     - definierte Spalten als pandas Nullable Integer (Int64)\n",
    "     - consciousness_level und news_score als geordnete Categoricals\n",
    "    \"\"\"\n",
    "    df = df.copy()  # Änderungen nicht am Original vornehmen\n",
    "\n",
    "    # 1) Kategorische Spalten\n",
    "    cat_cols = ['gender', 'ethnicity', 'chief_complaint', 'icd_block']\n",
    "    for col in cat_cols:\n",
    "        # df[col] = df[col].astype('category')\n",
    "        df[col] = df[col].astype('object') # 'category' führt zu Problemen mit dem OneHotEncoder\n",
    "\n",
    "    # 2) Integer-Spalten mit Nullable Integer dtype\n",
    "    int_cols = ['age', 'systolic_bp', 'diastolic_bp',\n",
    "                'heart_rate', 'respiratory_rate', 'oxygen_saturation']\n",
    "    for col in int_cols:\n",
    "        df[col] = df[col].astype('Int64')\n",
    "        # df[col] = df[col].astype('int32')\n",
    "\n",
    "    # 3) Geordnete Categoricals\n",
    "    df['consciousness_level'] = pd.Categorical(\n",
    "        df['consciousness_level'],\n",
    "        categories=['A', 'C', 'V', 'P', 'U'],\n",
    "        ordered=True\n",
    "    )\n",
    "    df['news_score'] = pd.Categorical(\n",
    "        df['news_score'],\n",
    "        categories=list(range(19)),\n",
    "        ordered=True\n",
    "    )\n",
    "\n",
    "    return df\n",
    "\n",
    "def load_data(\n",
    "    real_filename: Union[str, Path],\n",
    "    synth_filename: Optional[Union[str, Path]] = None,\n",
    "    holdout_filename: Optional[Union[str, Path]] = None,\n",
    "    data_dir: Path = None,\n",
    ") -> Tuple[pd.DataFrame, Optional[pd.DataFrame], Optional[pd.DataFrame]]:\n",
    "    \"\"\"\n",
    "    Lädt die realen, synthetischen und optionalen Holdout-CSV-Dateien\n",
    "    aus data_dir und wandelt sie über convert_dtypes um.\n",
    "\n",
    "    Returns:\n",
    "        df_real: pd.DataFrame\n",
    "        df_synth: Optional[pd.DataFrame]\n",
    "        df_holdout: Optional[pd.DataFrame]\n",
    "    \"\"\"\n",
    "    def _read_and_convert(fn: Union[str, Path]) -> pd.DataFrame:\n",
    "        return (\n",
    "            pd.read_csv(data_dir / fn, low_memory=False)\n",
    "              .pipe(convert_dtypes)\n",
    "        )\n",
    "\n",
    "    df_real    = _read_and_convert(real_filename)\n",
    "    df_synth   = _read_and_convert(synth_filename)   if synth_filename   else None\n",
    "    df_holdout = _read_and_convert(holdout_filename) if holdout_filename else None\n",
    "\n",
    "    return df_real, df_synth, df_holdout"
   ]
  },
  {
   "cell_type": "markdown",
   "metadata": {},
   "source": [
    "# Main Routine\n",
    "## Data Import"
   ]
  },
  {
   "cell_type": "code",
   "execution_count": 23,
   "metadata": {},
   "outputs": [],
   "source": [
    "cfg = Config()\n",
    "current_timestamp = datetime.now().strftime(\"%Y%m%d_%H%M%S\")\n",
    "\n",
    "df_train, df_synth, df_holdout = load_data(\n",
    "    cfg.real_file,\n",
    "    cfg.synth_file,\n",
    "    cfg.holdout_file,\n",
    "    data_dir=cfg.data_dir\n",
    ")"
   ]
  },
  {
   "cell_type": "code",
   "execution_count": 24,
   "metadata": {},
   "outputs": [],
   "source": [
    "target_col = 'icu_admission_24h'\n",
    "num_cols = ['age', 'temperature', 'heart_rate', 'respiratory_rate', 'oxygen_saturation', 'systolic_bp', 'diastolic_bp']\n",
    "cat_cols = ['gender', 'ethnicity', 'chief_complaint', 'icd_block', 'night_arrival', 'weekend_arrival']\n",
    "ord_cols = ['consciousness_level','news_score']\n",
    "bool_cols = ['night_arrival', 'weekend_arrival']"
   ]
  },
  {
   "cell_type": "markdown",
   "metadata": {},
   "source": [
    "## Sampling"
   ]
  },
  {
   "cell_type": "code",
   "execution_count": 25,
   "metadata": {},
   "outputs": [],
   "source": [
    "if cfg.sampling_size is not None: # stratify bzw. weights führt zu Fehler: ausschließlich True\n",
    "    df_train = df_train.sample(n=cfg.sampling_size, replace=True, random_state=cfg.random_seed).reset_index(drop=True)\n",
    "    df_synth = df_synth.sample(n=cfg.sampling_size, replace=True, random_state=cfg.random_seed).reset_index(drop=True)\n",
    "    df_holdout = df_holdout.sample(n=cfg.sampling_size, replace=True, random_state=cfg.random_seed).reset_index(drop=True)"
   ]
  },
  {
   "cell_type": "markdown",
   "metadata": {},
   "source": [
    "# Pilot-Studie\n",
    "**Ziel:**\n",
    "- Prüfen, ob Angriffe erfolgreich sind.\n",
    "- Erste grobe Schätzung des Singling-Out-Risikos.\n",
    "\n",
    "**Vorgehen:**\n",
    "1. Parameter:\n",
    "   - n_attacks = 500\n",
    "   - max_attempts = 50 000\n",
    "   - n_cols = 3\n",
    "2. SinglingOutEvaluation durchführen (parallelisiert).\n",
    "3. Ergebnis:\n",
    "   1. Ich erhielt zunächst unter max_attemps = n_attacks * 10 viele Warnungen, dass die n_attacks nicht erreicht wurden Die Singling-Out-Erfolgsrate war ca. 4 +/- 2%. Der Anteil genutzter max_attemps war praktisch 100%\n",
    "   2. Nach zunächst Singulärer Testung mit n_attacks 50 und max_attemps 50_000 gab es keine Warnungen mehr.\n",
    "   3. In Parallelislierung mit n_attacks = 500 und max_attemps = None war (logischerweise) der Anteil genutzter max_attemps = 0%, die Singling-Out-Rate 0.1471, die Laufzeit ca. 5 Min.\n",
    "   4. Nunmehr max_attemps = n_attacks*1000 bei n_attacks=500 in Parallel: Lief ebenfalls durch. Anteil genutzter max_attemps = 0%, Singling-Out Erfolgsrate: 0.1397. Laufzeit ca. 6 Min. (warum auch immer)\n",
    "\n",
    "Nebenbefund: \"UserWarning: Attack is as good or worse as baseline model.\" bedeutet, dass die n_attacks zu klein ist (Erfolgsrate entspricht dem Zufallsmodell)\n",
    "\n",
    "## Ohne Parallelisierung"
   ]
  },
  {
   "cell_type": "code",
   "execution_count": null,
   "metadata": {},
   "outputs": [],
   "source": [
    "def run_singling_out(ori, syn, n_attacks, n_cols, max_attempts):\n",
    "    evaluator = SinglingOutEvaluator(\n",
    "        ori=ori,\n",
    "        syn=syn,\n",
    "        n_attacks=n_attacks,\n",
    "        n_cols=n_cols,\n",
    "        max_attempts=max_attempts\n",
    "    )\n",
    "    result = evaluator.evaluate()\n",
    "    # return result['success_rate']\n",
    "    return result"
   ]
  },
  {
   "cell_type": "code",
   "execution_count": null,
   "metadata": {},
   "outputs": [],
   "source": [
    "pilot_success = run_singling_out(df_train, df_synth, n_attacks=50, n_cols=3, max_attempts=50000)\n",
    "\n"
   ]
  },
  {
   "cell_type": "code",
   "execution_count": null,
   "metadata": {},
   "outputs": [],
   "source": [
    "pilot_success.risk().value\n",
    "pilot_success.risk().ci[1]"
   ]
  },
  {
   "cell_type": "markdown",
   "metadata": {},
   "source": [
    "## Mit Parallelisierung"
   ]
  },
  {
   "cell_type": "code",
   "execution_count": null,
   "metadata": {},
   "outputs": [],
   "source": [
    "total_n_attacks = 50  # Gesamtziel Pilot-Studie\n",
    "n_jobs = 11             # Anzahl paralleler Kerne\n",
    "attacks_per_job = total_n_attacks // n_jobs\n",
    "n_cols = 3\n",
    "# Safety für max_attempts pro Job (z.B. 10x Angriffe pro Job)\n",
    "max_attempts_per_job = attacks_per_job * 1000"
   ]
  },
  {
   "cell_type": "code",
   "execution_count": null,
   "metadata": {},
   "outputs": [],
   "source": [
    "def partial_singling_out(random_seed):\n",
    "    # Explizites Setzen des Random Seeds, hoffentlich durch Anonymeter intern angewandt.\n",
    "    random.seed(random_seed)\n",
    "    np.random.seed(random_seed)\n",
    "    \n",
    "    evaluator = SinglingOutEvaluator(\n",
    "        ori=df_train,\n",
    "        syn=df_synth,\n",
    "        n_attacks=attacks_per_job,\n",
    "        n_cols=n_cols,\n",
    "        max_attempts=max_attempts_per_job\n",
    "        # max_attempts=None\n",
    "    )\n",
    "    \n",
    "    pr = evaluator.evaluate().risk()\n",
    "    return {\"value\": pr.value, \"ci_lower\": pr.ci[0], \"ci_upper\": pr.ci[1]}\n",
    "\n"
   ]
  },
  {
   "cell_type": "code",
   "execution_count": null,
   "metadata": {},
   "outputs": [],
   "source": [
    "# 5 Min auf None\n",
    "seeds = list(range(n_jobs))\n",
    "risk = thread_map(partial_singling_out, seeds, max_workers=n_jobs)"
   ]
  },
  {
   "cell_type": "code",
   "execution_count": null,
   "metadata": {},
   "outputs": [],
   "source": [
    "risk = pd.DataFrame(risk, columns=['value', 'ci_lower', 'ci_upper'])\n",
    "print(risk['value'].mean(), risk['ci_lower'].mean(), risk['ci_upper'].mean())\n",
    "\n",
    "# overall_success_rate = np.mean(risk, axis=0)[0]\n",
    "# print(f\"Pilot-Studie (parallelisiert) Singling-Out Erfolgsrate: {overall_success_rate:.4f}\")"
   ]
  },
  {
   "cell_type": "markdown",
   "metadata": {},
   "source": [
    "# Konvergenz-Check\n",
    "**Ziel:**\n",
    "- Sicherstellen, dass mehr Angriffe zu keiner starken Änderung der Risikoschätzung führen.\n",
    "\n",
    "**Vorgehen:**\n",
    "1. Gleiche Analyse mit steigendem n_attacks aus:\n",
    "   - z.B. 500 → 1 000 → 2 500 → 5 000.\n",
    "   - Der ermittelte max_attempts Faktor (1000x) wird beibehalten (n_attacks = 5 000 → max_attemps = 5_000_000).\n",
    "2. Beobachte:\n",
    "   - Wie stark verändert sich die Singling-Out-Erfolgsrate?\n",
    "   - Ist der Unterschied zwischen 2 500 und 5 000 Angriffen < 1 % → Konvergenz erreicht.\n",
    "   - Wird max_attempts ausgeschöpft?\n",
    "   - Falls ja: Erhöhung nötig."
   ]
  },
  {
   "cell_type": "markdown",
   "metadata": {},
   "source": [
    "## Ohne Parallelisierung"
   ]
  },
  {
   "cell_type": "code",
   "execution_count": null,
   "metadata": {},
   "outputs": [],
   "source": [
    "# n_attacks_list = [500, 1000, 2500, 5000]\n",
    "# convergence_results = []\n",
    "\n",
    "# for n_attacks in n_attacks_list:\n",
    "#     success_rate = run_singling_out(original_data, synthetic_data, n_attacks=n_attacks, n_cols=3, max_attempts=n_attacks*10)\n",
    "#     convergence_results.append(success_rate)\n",
    "#     print(f\"n_attacks={n_attacks}: Erfolgsrate = {success_rate:.4f}\")\n",
    "\n",
    "# # Plot Konvergenz-Check\n",
    "# plt.figure()\n",
    "# plt.plot(n_attacks_list, convergence_results, marker='o')\n",
    "# plt.xlabel('n_attacks')\n",
    "# plt.ylabel('Singling-Out Erfolgsrate')\n",
    "# plt.title('Konvergenz-Check')\n",
    "# plt.grid(True)\n",
    "# plt.show()"
   ]
  },
  {
   "cell_type": "markdown",
   "metadata": {},
   "source": [
    "## Mit Parallelisierung"
   ]
  },
  {
   "cell_type": "code",
   "execution_count": 26,
   "metadata": {},
   "outputs": [],
   "source": [
    "n_jobs = 12             # Anzahl paralleler Kerne\n",
    "n_cols = 3"
   ]
  },
  {
   "cell_type": "code",
   "execution_count": null,
   "metadata": {},
   "outputs": [],
   "source": [
    "# n_attacks_list = [500, 1000, 2500, 5000]\n",
    "# n_attacks_list = [12, 30, 50, 100]\n",
    "n_attacks_list = [12, 30, 50, 100, 200, 500, 1000, 1500, 2000, 2500]\n",
    "convergence_results_parallel = {}\n",
    "\n",
    "for n_attacks in n_attacks_list:\n",
    "    print(f\"n_attacks={n_attacks} ------------------------------------\")\n",
    "    # Aufteilung der Angriffe pro Job\n",
    "    attacks_per_job = n_attacks // n_jobs\n",
    "    max_attempts_per_job = attacks_per_job * 1000\n",
    "\n",
    "    # Partial-Funktion für diesen n_attacks-Wert\n",
    "    def partial_convergence(random_seed):\n",
    "\n",
    "        random.seed(random_seed)\n",
    "        np.random.seed(random_seed)\n",
    "\n",
    "        evaluator = SinglingOutEvaluator(\n",
    "            ori=df_train,\n",
    "            syn=df_synth,\n",
    "            n_attacks=attacks_per_job,\n",
    "            n_cols=n_cols,\n",
    "            max_attempts=max_attempts_per_job\n",
    "        )\n",
    "        pr = evaluator.evaluate().risk()\n",
    "        return {\"value\": pr.value, \"ci_lower\": pr.ci[0], \"ci_upper\": pr.ci[1]}\n",
    "\n",
    "    # Paralleler Aufruf mit Fortschrittsbalken\n",
    "    seeds = list(range(n_jobs))\n",
    "    results = thread_map(partial_convergence, seeds, max_workers=n_jobs)\n",
    "    convergence_results_parallel[n_attacks] = results"
   ]
  },
  {
   "cell_type": "code",
   "execution_count": null,
   "metadata": {},
   "outputs": [],
   "source": [
    "rows = []\n",
    "for n_attacks, runs in convergence_results_parallel.items():\n",
    "    values    = [r[\"value\"]    for r in runs]\n",
    "    ci_lowers = [r[\"ci_lower\"] for r in runs]\n",
    "    ci_uppers = [r[\"ci_upper\"] for r in runs]\n",
    "    rows.append({\n",
    "        \"n_attacks\":    n_attacks,\n",
    "        \"mean_value\":   np.mean(values),\n",
    "        \"mean_ci_low\":  np.mean(ci_lowers),\n",
    "        \"mean_ci_high\": np.mean(ci_uppers),\n",
    "    })\n",
    "\n",
    "df_convergence = pd.DataFrame(rows).sort_values(\"n_attacks\")\n",
    "print(df_convergence)\n",
    "if cfg.save_data:\n",
    "    df_convergence.to_csv(cfg.results_dir / f\"Singling-Out_convergence_ncols-{n_cols}_{current_timestamp}.csv\", index=False, header=True, decimal=\",\", sep=\";\", encoding=\"utf-8\")"
   ]
  },
  {
   "cell_type": "code",
   "execution_count": 27,
   "metadata": {},
   "outputs": [],
   "source": [
    "df_convergence = pd.read_csv(cfg.results_dir / f\"Singling-Out_convergence_ncols-3_20250515_002024.csv\", sep=\";\", decimal=\",\")"
   ]
  },
  {
   "cell_type": "code",
   "execution_count": 28,
   "metadata": {},
   "outputs": [
    {
     "name": "stdout",
     "output_type": "stream",
     "text": [
      "Abbildung gespeichert unter: figures\\Singling-Out_convergence_ncols-3_20250601_124329.tiff\n"
     ]
    },
    {
     "data": {
      "image/png": "[encoded data removed]",
      "text/plain": [
       "<Figure size 280x210 with 1 Axes>"
      ]
     },
     "metadata": {},
     "output_type": "display_data"
    }
   ],
   "source": [
    "plt.figure(figsize=(2.8, 2.1))\n",
    "plt.plot(\n",
    "    df_convergence[\"n_attacks\"],\n",
    "    df_convergence[\"mean_value\"],\n",
    "    marker=\"o\",\n",
    "    label=\"Mean success rate\"\n",
    ")\n",
    "plt.fill_between(\n",
    "    df_convergence[\"n_attacks\"],\n",
    "    df_convergence[\"mean_ci_low\"],\n",
    "    df_convergence[\"mean_ci_high\"],\n",
    "    alpha=0.2,\n",
    "    label=\"Mean 95% CI\"\n",
    ")\n",
    "plt.xlabel(\"Number of attacks\")\n",
    "plt.ylabel(\"Singling-out success rate\")\n",
    "plt.title(\"Convergence analysis (parallel) with CI band\")\n",
    "plt.grid(True)\n",
    "plt.legend()\n",
    "if cfg.save_data:\n",
    "    fname = f'Singling-Out_convergence_ncols-{n_cols}_{current_timestamp}.tiff'\n",
    "    fullpath = cfg.figures_dir / f'{fname}'\n",
    "    plt.savefig(\n",
    "        fullpath,\n",
    "        dpi=300,\n",
    "        format='tiff',\n",
    "        bbox_inches='tight',\n",
    "        pil_kwargs={'compression': 'tiff_lzw'}\n",
    "    )\n",
    "    print(f\"Abbildung gespeichert unter: {fullpath}\")\n",
    "plt.show()\n"
   ]
  },
  {
   "cell_type": "markdown",
   "metadata": {},
   "source": [
    "# Sensitivitätsanalyse\n",
    "**Ziel:**\n",
    "- Prüfen, wie das Risiko auf andere Angreiferfähigkeiten reagiert.\n",
    "\n",
    "Vorgehen:\n",
    "1. Variiere n_cols:\n",
    "   - z.B. Werte wie 2, 3, 4, 5 testen.\n",
    "   - Halte n_attacks fix bei z.B. 2 500.\n",
    "   - Setze max_attempts großzügig (z.B. 100 000), da hohe n_cols schwieriger sind.\n",
    "2. Dokumentiere:\n",
    "   - Wie steigt/sinkt das Singling-Out-Risiko mit mehr bekannten Attributen?\n",
    "   - Wie stark sinkt die Angriffserfolgsrate bei höherem n_cols?\n",
    "3. Ergebnisse:\n",
    "   - Plot: Singling-Out-Risiko vs. n_attacks (für Konvergenzcheck).\n",
    "   - Plot: Singling-Out-Risiko vs. n_cols (für Sensitivitätsanalyse).\n",
    "   - Angabe der jeweils verwendeten Parameter (n_attacks, max_attempts, n_cols)\n",
    "   - Hinweis auf Limitierungen (falls z.B. bei hohen n_cols kaum noch Angriffe erfolgreich)."
   ]
  },
  {
   "cell_type": "code",
   "execution_count": 29,
   "metadata": {},
   "outputs": [],
   "source": [
    "n_cols_list = [2, 3, 4, 5]\n",
    "n_attacks = 2500\n",
    "n_jobs = 12"
   ]
  },
  {
   "cell_type": "code",
   "execution_count": null,
   "metadata": {},
   "outputs": [],
   "source": [
    "sensitivity_results_parallel = {}\n",
    "\n",
    "for n_cols in n_cols_list:\n",
    "    attacks_per_job = n_attacks // n_jobs\n",
    "    max_attempts_per_job = attacks_per_job * 1000\n",
    "    print(f\"n_cols={n_cols} ------------------------------------\")\n",
    "    \n",
    "    def partial_sensitivity(random_seed):\n",
    "        random.seed(random_seed)\n",
    "        np.random.seed(random_seed)\n",
    "\n",
    "        evaluator = SinglingOutEvaluator(\n",
    "            ori=df_train,\n",
    "            syn=df_synth,\n",
    "            n_attacks=attacks_per_job,\n",
    "            n_cols=n_cols,\n",
    "            max_attempts=max_attempts_per_job\n",
    "        )\n",
    "        pr = evaluator.evaluate().risk()\n",
    "        return {\"value\": pr.value, \"ci_lower\": pr.ci[0], \"ci_upper\": pr.ci[1]}\n",
    "\n",
    "    seeds = list(range(n_jobs))\n",
    "    results = thread_map(partial_sensitivity, seeds, max_workers=n_jobs)\n",
    "\n",
    "    sensitivity_results_parallel[n_cols] = results"
   ]
  },
  {
   "cell_type": "code",
   "execution_count": null,
   "metadata": {},
   "outputs": [],
   "source": [
    "rows = []\n",
    "for n_cols, runs in sensitivity_results_parallel.items():\n",
    "    values    = [r[\"value\"]    for r in runs]\n",
    "    ci_lowers = [r[\"ci_lower\"] for r in runs]\n",
    "    ci_uppers = [r[\"ci_upper\"] for r in runs]\n",
    "    rows.append({\n",
    "        \"n_cols\": n_cols,\n",
    "        \"mean_value\": np.mean(values),\n",
    "        \"mean_ci_low\": np.mean(ci_lowers),\n",
    "        \"mean_ci_high\": np.mean(ci_uppers),\n",
    "    })\n",
    "\n",
    "df_sensitivity = pd.DataFrame(rows).sort_values(\"n_cols\")\n",
    "display(df_sensitivity)\n",
    "if cfg.save_data:\n",
    "    df_sensitivity.to_csv(cfg.results_dir / f\"Singling-Out_sensitivity_attacks-{n_attacks}_{current_timestamp}.csv\", index=False, header=True, decimal=\",\", sep=\";\", encoding=\"utf-8\")"
   ]
  },
  {
   "cell_type": "code",
   "execution_count": 14,
   "metadata": {},
   "outputs": [],
   "source": [
    "df_sensitivity = pd.read_csv(cfg.results_dir / f\"Singling-Out_sensitivity_attacks-2500_20250515_042224.csv\", sep=\";\", decimal=\",\")"
   ]
  },
  {
   "cell_type": "code",
   "execution_count": 30,
   "metadata": {},
   "outputs": [
    {
     "name": "stdout",
     "output_type": "stream",
     "text": [
      "Abbildung gespeichert unter: figures\\Singling-Out_sensitivity_attacks-2500_20250601_124329.tiff\n"
     ]
    },
    {
     "data": {
      "image/png": "[encoded data removed]",
      "text/plain": [
       "<Figure size 280x210 with 1 Axes>"
      ]
     },
     "metadata": {},
     "output_type": "display_data"
    }
   ],
   "source": [
    "plt.figure(figsize=(2.8, 2.1))\n",
    "plt.plot(\n",
    "    df_sensitivity[\"n_cols\"],\n",
    "    df_sensitivity[\"mean_value\"],\n",
    "    marker=\"o\",\n",
    "    label=\"Mean success rate\"\n",
    ")\n",
    "plt.fill_between(\n",
    "    df_sensitivity[\"n_cols\"],\n",
    "    df_sensitivity[\"mean_ci_low\"],\n",
    "    df_sensitivity[\"mean_ci_high\"],\n",
    "    alpha=0.2,\n",
    "    label=\"Mean 95% confidence interval\"\n",
    ")\n",
    "plt.xlabel(\"Number of quasi-identifiers (n_cols)\")\n",
    "plt.ylabel(\"Singling-out success rate\")\n",
    "plt.ylim(0.05, 0.22)\n",
    "plt.title(\"Sensitivity analysis (parallel) with CI band\")\n",
    "plt.grid(True)\n",
    "plt.legend(loc='upper right')\n",
    "if cfg.save_data:\n",
    "    fname = f'Singling-Out_sensitivity_attacks-{n_attacks}_{current_timestamp}.tiff'\n",
    "    fullpath = cfg.figures_dir / f'{fname}'\n",
    "    plt.savefig(\n",
    "        fullpath,\n",
    "        dpi=300,\n",
    "        format='tiff',\n",
    "        bbox_inches='tight',\n",
    "        pil_kwargs={'compression': 'tiff_lzw'}\n",
    "    )\n",
    "    print(f\"Abbildung gespeichert unter: {fullpath}\")\n",
    "plt.show()"
   ]
  }
 ],
 "metadata": {
  "kernelspec": {
   "display_name": "Anonymeter",
   "language": "python",
   "name": "anonymeter"
  },
  "language_info": {
   "codemirror_mode": {
    "name": "ipython",
    "version": 3
   },
   "file_extension": ".py",
   "mimetype": "text/x-python",
   "name": "python",
   "nbconvert_exporter": "python",
   "pygments_lexer": "ipython3",
   "version": "3.10.0"
  }
 },
 "nbformat": 4,
 "nbformat_minor": 2
}
