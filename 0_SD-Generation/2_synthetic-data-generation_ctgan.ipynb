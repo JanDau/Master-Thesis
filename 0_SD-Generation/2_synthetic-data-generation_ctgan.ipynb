{
 "cells": [
  {
   "cell_type": "markdown",
   "metadata": {},
   "source": [
    "# Code\n",
    "...\n",
    "# Imports"
   ]
  },
  {
   "cell_type": "code",
   "execution_count": 1,
   "metadata": {},
   "outputs": [],
   "source": [
    "from ctgan import CTGAN\n",
    "import pandas as pd\n",
    "from pathlib import Path\n",
    "from typing import Optional, Tuple, Union\n",
    "from sklearn.model_selection import train_test_split\n",
    "from ctgan.data_transformer import DataTransformer\n",
    "import json\n",
    "DataTransformer._parallel_transform = DataTransformer._synchronous_transform"
   ]
  },
  {
   "cell_type": "markdown",
   "metadata": {},
   "source": [
    "# User Configuration"
   ]
  },
  {
   "cell_type": "code",
   "execution_count": 2,
   "metadata": {},
   "outputs": [],
   "source": [
    "# Raw data file\n",
    "RAW_FILE = \"20250301_data_20250510_122405_final.csv\"\n",
    "DATA_DIR = Path(\"data\")\n",
    "\n",
    "# Holdout parameters\n",
    "RANDOM_STATE = 42  # Random state for reproducibility\n",
    "HOLDOUT_SIZE = 0.3  # Proportion of data to hold out for testing\n",
    "\n",
    "# CTGAN parameters, 10 epochs = 8 min\n",
    "NUM_EPOCHS = 100\n",
    "SAVE_MODEL = True\n",
    "USE_PRETRAINED_MODEL = False\n",
    "MODEL_DIR = Path(\"data/models\")\n",
    "MODEL_NAME = \"20250301_data_20250510_100_epochs.pkl\""
   ]
  },
  {
   "cell_type": "markdown",
   "metadata": {},
   "source": [
    "# Utility Functions"
   ]
  },
  {
   "cell_type": "markdown",
   "metadata": {},
   "source": [
    "## Convert Dtypes"
   ]
  },
  {
   "cell_type": "code",
   "execution_count": 3,
   "metadata": {},
   "outputs": [],
   "source": [
    "def convert_dtypes(df: pd.DataFrame) -> pd.DataFrame:\n",
    "    \"\"\"\n",
    "    Konvertiert bestimmte Spalten des DataFrames in die gewünschten Datentypen:\n",
    "     - definierte Spalten als category\n",
    "     - definierte Spalten als pandas Nullable Integer (Int64)\n",
    "     - consciousness_level und news_score als geordnete Categoricals\n",
    "    \"\"\"\n",
    "    df = df.copy()  # Änderungen nicht am Original vornehmen\n",
    "\n",
    "    # 1) Kategorische Spalten\n",
    "    cat_cols = ['gender', 'ethnicity', 'chief_complaint', 'icd_block']\n",
    "    for col in cat_cols:\n",
    "        df[col] = df[col].astype('category')\n",
    "\n",
    "    # 2) Integer-Spalten mit Nullable Integer dtype\n",
    "    int_cols = ['age', 'systolic_bp', 'diastolic_bp',\n",
    "                'heart_rate', 'respiratory_rate', 'oxygen_saturation']\n",
    "    for col in int_cols:\n",
    "        df[col] = df[col].astype('Int64')\n",
    "\n",
    "    # 3) Geordnete Categoricals\n",
    "    df['consciousness_level'] = pd.Categorical(\n",
    "        df['consciousness_level'],\n",
    "        categories=['A', 'C', 'V', 'P', 'U'],\n",
    "        ordered=True\n",
    "    )\n",
    "    df['news_score'] = pd.Categorical(\n",
    "        df['news_score'],\n",
    "        categories=list(range(19)),\n",
    "        ordered=True\n",
    "    )\n",
    "\n",
    "    return df"
   ]
  },
  {
   "cell_type": "markdown",
   "metadata": {},
   "source": [
    "## Load Data"
   ]
  },
  {
   "cell_type": "code",
   "execution_count": 4,
   "metadata": {},
   "outputs": [],
   "source": [
    "def load_data(\n",
    "    real_filename: Union[str, Path],\n",
    "    synth_filename: Optional[Union[str, Path]] = None,\n",
    "    holdout_filename: Optional[Union[str, Path]] = None,\n",
    "    data_dir: Path = DATA_DIR\n",
    ") -> Tuple[pd.DataFrame, Optional[pd.DataFrame], Optional[pd.DataFrame]]:\n",
    "    \"\"\"\n",
    "    Lädt die realen, synthetischen und optionalen Holdout-CSV-Dateien\n",
    "    aus data_dir und wandelt sie über convert_dtypes um.\n",
    "\n",
    "    Returns:\n",
    "        df_real: pd.DataFrame\n",
    "        df_synth: Optional[pd.DataFrame]\n",
    "        df_holdout: Optional[pd.DataFrame]\n",
    "    \"\"\"\n",
    "    def _read_and_convert(fn: Union[str, Path]) -> pd.DataFrame:\n",
    "        return (\n",
    "            pd.read_csv(data_dir / fn, low_memory=False)\n",
    "              .pipe(convert_dtypes)\n",
    "        )\n",
    "\n",
    "    df_real    = _read_and_convert(real_filename)\n",
    "    df_synth   = _read_and_convert(synth_filename)   if synth_filename   else None\n",
    "    df_holdout = _read_and_convert(holdout_filename) if holdout_filename else None\n",
    "\n",
    "    return df_real, df_synth, df_holdout"
   ]
  },
  {
   "cell_type": "markdown",
   "metadata": {},
   "source": [
    "## CTGAN Model"
   ]
  },
  {
   "cell_type": "code",
   "execution_count": 5,
   "metadata": {},
   "outputs": [],
   "source": [
    "def load_or_compute(train_data: pd.DataFrame, cat_cols: pd.Series, epochs: int, use_pretrained_model: bool, model_dir: Path, model_name: str, save_model: bool) -> CTGAN:\n",
    "    model_path = model_dir / model_name\n",
    "\n",
    "    if use_pretrained_model and model_path.exists():\n",
    "        with model_path.open(\"rb\") as f:\n",
    "            ctgan = CTGAN.load(f)\n",
    "        print(f\"Vortrainiertes Modell geladen: {model_path}\")\n",
    "        return ctgan\n",
    "    \n",
    "    print(f\"Erstelle neues Modell: {model_path}\")\n",
    "    ctgan = CTGAN(epochs=epochs, verbose=True)\n",
    "    ctgan.fit(train_data, cat_cols)\n",
    "    print(f\"Neues CTGAN-Modell erstellt mit {epochs} Epochen\")\n",
    "    \n",
    "    loss_csv_path = model_path.with_name(model_name + \"_losses.csv\")\n",
    "    ctgan.loss_values.to_csv(loss_csv_path, index=False, sep=\";\", decimal=\",\", encoding=\"utf-8\")\n",
    "    print(f\"Loss-Werte gespeichert: {loss_csv_path}\")\n",
    "\n",
    "    if save_model:\n",
    "        model_path.parent.mkdir(parents=True, exist_ok=True)\n",
    "        with model_path.open(\"wb\") as f:\n",
    "            ctgan.save(f)\n",
    "        print(f\"Modell gespeichert: {model_path}\")\n",
    "    return ctgan"
   ]
  },
  {
   "cell_type": "markdown",
   "metadata": {},
   "source": [
    "# Main Routine"
   ]
  },
  {
   "cell_type": "code",
   "execution_count": 6,
   "metadata": {},
   "outputs": [],
   "source": [
    "df = load_data(RAW_FILE, data_dir= DATA_DIR / \"raw\")[0]"
   ]
  },
  {
   "cell_type": "markdown",
   "metadata": {},
   "source": [
    "## Abtrennen des Holdout-Datensatzes"
   ]
  },
  {
   "cell_type": "code",
   "execution_count": 7,
   "metadata": {},
   "outputs": [
    {
     "name": "stdout",
     "output_type": "stream",
     "text": [
      "Holdout ⟶ _holdout_100_epochs.csv (42439 rows)\n"
     ]
    }
   ],
   "source": [
    "train_df, holdout_df = train_test_split(df, test_size=HOLDOUT_SIZE, random_state=RANDOM_STATE)\n",
    "p = Path(RAW_FILE)\n",
    "holdout_df.to_csv(DATA_DIR / p.with_name(p.stem + \"_\" + str(NUM_EPOCHS) + \"_holdout.csv\"), index=False)\n",
    "print(f\"Holdout ⟶ _holdout_{str(NUM_EPOCHS)}_epochs.csv ({len(holdout_df)} rows)\")"
   ]
  },
  {
   "cell_type": "markdown",
   "metadata": {},
   "source": [
    "## Ordinal Encoding of consciousness_level and news_score"
   ]
  },
  {
   "cell_type": "code",
   "execution_count": 8,
   "metadata": {},
   "outputs": [],
   "source": [
    "train_df['consciousness_level'] = train_df['consciousness_level'].cat.codes\n",
    "train_df['news_score'] = train_df['news_score'].cat.codes.replace(-1, pd.NA).astype('Int64')"
   ]
  },
  {
   "cell_type": "markdown",
   "metadata": {},
   "source": [
    "## Define Discrete Cols for CTGAN & Remove NAs\n",
    "'CTGAN does not support null values in the continuous training data. '"
   ]
  },
  {
   "cell_type": "code",
   "execution_count": 9,
   "metadata": {},
   "outputs": [],
   "source": [
    "# print(df.dtypes)\n",
    "cat_cols = train_df.select_dtypes(include=['category', 'bool']).columns.tolist()"
   ]
  },
  {
   "cell_type": "code",
   "execution_count": 10,
   "metadata": {},
   "outputs": [
    {
     "name": "stdout",
     "output_type": "stream",
     "text": [
      "Length of df before dropping NAs: 99022\n",
      "Dropped 783 rows; length of df after dropping NAs: 98239\n"
     ]
    }
   ],
   "source": [
    "length_of_df = len(train_df)\n",
    "print(f\"Length of df before dropping NAs: {length_of_df}\")\n",
    "\n",
    "# Drop rows with any NA values\n",
    "train_df = train_df.dropna(how='any').reset_index(drop=True)\n",
    "print(f\"Dropped {abs(len(train_df)-length_of_df)} rows; length of df after dropping NAs: {len(train_df)}\")"
   ]
  },
  {
   "cell_type": "markdown",
   "metadata": {},
   "source": [
    "## Train the Model"
   ]
  },
  {
   "cell_type": "code",
   "execution_count": 11,
   "metadata": {},
   "outputs": [
    {
     "name": "stdout",
     "output_type": "stream",
     "text": [
      "Erstelle neues Modell: data\\models\\20250301_data_20250510_100_epochs.pkl\n"
     ]
    },
    {
     "name": "stderr",
     "output_type": "stream",
     "text": [
      "Gen. (-0.61) | Discrim. (-0.11): 100%|██████████| 100/100 [1:45:54<00:00, 63.54s/it]"
     ]
    },
    {
     "name": "stdout",
     "output_type": "stream",
     "text": [
      "Neues CTGAN-Modell erstellt mit 100 Epochen\n",
      "Loss-Werte gespeichert: data\\models\\20250301_data_20250510_100_epochs.pkl_losses.csv\n",
      "Modell gespeichert: data\\models\\20250301_data_20250510_100_epochs.pkl\n"
     ]
    },
    {
     "name": "stderr",
     "output_type": "stream",
     "text": [
      "\n"
     ]
    }
   ],
   "source": [
    "ctgan = load_or_compute(\n",
    "    train_data=train_df, \n",
    "    cat_cols=cat_cols, \n",
    "    epochs=NUM_EPOCHS, \n",
    "    use_pretrained_model=USE_PRETRAINED_MODEL, \n",
    "    model_dir=MODEL_DIR, \n",
    "    model_name=MODEL_NAME, \n",
    "    save_model=SAVE_MODEL\n",
    ")"
   ]
  },
  {
   "cell_type": "markdown",
   "metadata": {},
   "source": [
    "## Generate Synthetic Dataset"
   ]
  },
  {
   "cell_type": "code",
   "execution_count": 12,
   "metadata": {},
   "outputs": [],
   "source": [
    "synthetic_data = ctgan.sample(len(train_df))"
   ]
  },
  {
   "cell_type": "markdown",
   "metadata": {},
   "source": [
    "## Value Adaptation"
   ]
  },
  {
   "cell_type": "code",
   "execution_count": 13,
   "metadata": {},
   "outputs": [
    {
     "data": {
      "text/html": [
       "<div>\n",
       "<style scoped>\n",
       "    .dataframe tbody tr th:only-of-type {\n",
       "        vertical-align: middle;\n",
       "    }\n",
       "\n",
       "    .dataframe tbody tr th {\n",
       "        vertical-align: top;\n",
       "    }\n",
       "\n",
       "    .dataframe thead th {\n",
       "        text-align: right;\n",
       "    }\n",
       "</style>\n",
       "<table border=\"1\" class=\"dataframe\">\n",
       "  <thead>\n",
       "    <tr style=\"text-align: right;\">\n",
       "      <th></th>\n",
       "      <th>icu_admission_24h</th>\n",
       "      <th>age</th>\n",
       "      <th>gender</th>\n",
       "      <th>ethnicity</th>\n",
       "      <th>consciousness_level</th>\n",
       "      <th>temperature</th>\n",
       "      <th>heart_rate</th>\n",
       "      <th>respiratory_rate</th>\n",
       "      <th>oxygen_saturation</th>\n",
       "      <th>systolic_bp</th>\n",
       "      <th>diastolic_bp</th>\n",
       "      <th>news_score</th>\n",
       "      <th>night_arrival</th>\n",
       "      <th>weekend_arrival</th>\n",
       "      <th>chief_complaint</th>\n",
       "      <th>icd_block</th>\n",
       "    </tr>\n",
       "  </thead>\n",
       "  <tbody>\n",
       "    <tr>\n",
       "      <th>0</th>\n",
       "      <td>False</td>\n",
       "      <td>56</td>\n",
       "      <td>M</td>\n",
       "      <td>Other</td>\n",
       "      <td>0</td>\n",
       "      <td>36.3</td>\n",
       "      <td>87</td>\n",
       "      <td>22</td>\n",
       "      <td>98</td>\n",
       "      <td>148</td>\n",
       "      <td>96</td>\n",
       "      <td>2</td>\n",
       "      <td>False</td>\n",
       "      <td>True</td>\n",
       "      <td>Other</td>\n",
       "      <td>E08-E13</td>\n",
       "    </tr>\n",
       "    <tr>\n",
       "      <th>1</th>\n",
       "      <td>False</td>\n",
       "      <td>54</td>\n",
       "      <td>F</td>\n",
       "      <td>Black</td>\n",
       "      <td>0</td>\n",
       "      <td>36.6</td>\n",
       "      <td>99</td>\n",
       "      <td>18</td>\n",
       "      <td>100</td>\n",
       "      <td>132</td>\n",
       "      <td>77</td>\n",
       "      <td>0</td>\n",
       "      <td>False</td>\n",
       "      <td>True</td>\n",
       "      <td>chest pain</td>\n",
       "      <td>I10-I1A</td>\n",
       "    </tr>\n",
       "    <tr>\n",
       "      <th>2</th>\n",
       "      <td>False</td>\n",
       "      <td>68</td>\n",
       "      <td>M</td>\n",
       "      <td>Asian</td>\n",
       "      <td>0</td>\n",
       "      <td>36.7</td>\n",
       "      <td>72</td>\n",
       "      <td>16</td>\n",
       "      <td>100</td>\n",
       "      <td>109</td>\n",
       "      <td>68</td>\n",
       "      <td>0</td>\n",
       "      <td>False</td>\n",
       "      <td>False</td>\n",
       "      <td>Other</td>\n",
       "      <td>I70-I79</td>\n",
       "    </tr>\n",
       "    <tr>\n",
       "      <th>3</th>\n",
       "      <td>False</td>\n",
       "      <td>66</td>\n",
       "      <td>F</td>\n",
       "      <td>Black</td>\n",
       "      <td>0</td>\n",
       "      <td>37.5</td>\n",
       "      <td>76</td>\n",
       "      <td>15</td>\n",
       "      <td>98</td>\n",
       "      <td>91</td>\n",
       "      <td>58</td>\n",
       "      <td>0</td>\n",
       "      <td>False</td>\n",
       "      <td>True</td>\n",
       "      <td>agitation</td>\n",
       "      <td>J40-J4A</td>\n",
       "    </tr>\n",
       "    <tr>\n",
       "      <th>4</th>\n",
       "      <td>False</td>\n",
       "      <td>40</td>\n",
       "      <td>M</td>\n",
       "      <td>White</td>\n",
       "      <td>0</td>\n",
       "      <td>36.4</td>\n",
       "      <td>97</td>\n",
       "      <td>18</td>\n",
       "      <td>100</td>\n",
       "      <td>137</td>\n",
       "      <td>89</td>\n",
       "      <td>1</td>\n",
       "      <td>True</td>\n",
       "      <td>False</td>\n",
       "      <td>chest pain</td>\n",
       "      <td>E08-E13</td>\n",
       "    </tr>\n",
       "  </tbody>\n",
       "</table>\n",
       "</div>"
      ],
      "text/plain": [
       "   icu_admission_24h  age gender ethnicity  consciousness_level  temperature  \\\n",
       "0              False   56      M     Other                    0         36.3   \n",
       "1              False   54      F     Black                    0         36.6   \n",
       "2              False   68      M     Asian                    0         36.7   \n",
       "3              False   66      F     Black                    0         37.5   \n",
       "4              False   40      M     White                    0         36.4   \n",
       "\n",
       "   heart_rate  respiratory_rate  oxygen_saturation  systolic_bp  diastolic_bp  \\\n",
       "0          87                22                 98          148            96   \n",
       "1          99                18                100          132            77   \n",
       "2          72                16                100          109            68   \n",
       "3          76                15                 98           91            58   \n",
       "4          97                18                100          137            89   \n",
       "\n",
       "   news_score  night_arrival  weekend_arrival chief_complaint icd_block  \n",
       "0           2          False             True           Other   E08-E13  \n",
       "1           0          False             True      chest pain   I10-I1A  \n",
       "2           0          False            False           Other   I70-I79  \n",
       "3           0          False             True       agitation   J40-J4A  \n",
       "4           1           True            False      chest pain   E08-E13  "
      ]
     },
     "execution_count": 13,
     "metadata": {},
     "output_type": "execute_result"
    }
   ],
   "source": [
    "synthetic_data[\"temperature\"] = synthetic_data[\"temperature\"].round(1)\n",
    "synthetic_data.head()"
   ]
  },
  {
   "cell_type": "markdown",
   "metadata": {},
   "source": [
    "## Reverse Ordinal Encoding"
   ]
  },
  {
   "cell_type": "code",
   "execution_count": 14,
   "metadata": {},
   "outputs": [],
   "source": [
    "mapping = {0: 'A', 1: 'C', 2: 'V', 3: 'P', 4: 'U'}\n",
    "train_df['consciousness_level'] = train_df['consciousness_level'].map(mapping)\n",
    "synthetic_data['consciousness_level'] = synthetic_data['consciousness_level'].map(mapping)\n",
    "train_df['news_score'] = train_df['news_score'].astype('Int64')\n",
    "synthetic_data['news_score'] = synthetic_data['news_score'].astype('Int64')"
   ]
  },
  {
   "cell_type": "markdown",
   "metadata": {},
   "source": [
    "## Export Datasets"
   ]
  },
  {
   "cell_type": "code",
   "execution_count": 15,
   "metadata": {},
   "outputs": [
    {
     "name": "stdout",
     "output_type": "stream",
     "text": [
      "Train    ⟶ _train_100_epochs.csv    (98239    rows)\n",
      "Synthetic    ⟶ _synth_100_epochs.csv    (98239 rows)\n"
     ]
    }
   ],
   "source": [
    "train_df.to_csv(DATA_DIR / p.with_name(p.stem + \"_\" + str(NUM_EPOCHS) + \"_train.csv\"), index=False)\n",
    "print(f\"Train    ⟶ _train_{str(NUM_EPOCHS)}_epochs.csv    ({len(train_df)}    rows)\")\n",
    "\n",
    "synthetic_data.to_csv(DATA_DIR / p.with_name(p.stem + \"_\" + str(NUM_EPOCHS) + \"_synth.csv\"), index=False)\n",
    "print(f\"Synthetic    ⟶ _synth_{str(NUM_EPOCHS)}_epochs.csv    ({len(synthetic_data)} rows)\")"
   ]
  },
  {
   "cell_type": "markdown",
   "metadata": {},
   "source": [
    "## Export Metadata"
   ]
  },
  {
   "cell_type": "code",
   "execution_count": 16,
   "metadata": {},
   "outputs": [
    {
     "data": {
      "text/plain": [
       "icu_admission_24h          bool\n",
       "age                       Int64\n",
       "gender                 category\n",
       "ethnicity              category\n",
       "consciousness_level      object\n",
       "temperature             float64\n",
       "heart_rate                Int64\n",
       "respiratory_rate          Int64\n",
       "oxygen_saturation         Int64\n",
       "systolic_bp               Int64\n",
       "diastolic_bp              Int64\n",
       "news_score                Int64\n",
       "night_arrival              bool\n",
       "weekend_arrival            bool\n",
       "chief_complaint        category\n",
       "icd_block              category\n",
       "dtype: object"
      ]
     },
     "execution_count": 16,
     "metadata": {},
     "output_type": "execute_result"
    }
   ],
   "source": [
    "synthetic_data.dtypes"
   ]
  },
  {
   "cell_type": "code",
   "execution_count": 17,
   "metadata": {},
   "outputs": [
    {
     "name": "stdout",
     "output_type": "stream",
     "text": [
      "Metadata ⟶ data\\20250301_data_20250510_122405_final_metadata.json\n"
     ]
    }
   ],
   "source": [
    "# map pandas dtypes to SDV sdtypes\n",
    "dtype_map = {\n",
    "    \"int64\":     \"numerical\",\n",
    "    \"Int64\":     \"numerical\",\n",
    "    \"float64\":   \"numerical\",\n",
    "    \"object\":    \"categorical\",\n",
    "    \"bool\":      \"boolean\",\n",
    "    \"category\": \"categorical\"\n",
    "}\n",
    "\n",
    "# build the metadata dict\n",
    "metadata = {\n",
    "    \"METADATA_SPEC_VERSION\": \"SINGLE_TABLE_V1\",\n",
    "    \"columns\": {},\n",
    "    \"primary_key\": None\n",
    "}\n",
    "\n",
    "for col, dtype in df.dtypes.items():\n",
    "    sdtype = dtype_map.get(str(dtype), \"categorical\")\n",
    "    metadata[\"columns\"][col] = {\"sdtype\": sdtype}\n",
    "\n",
    "# write it out\n",
    "file_path_meta = DATA_DIR / p.with_name(p.stem + \"_metadata.json\")\n",
    "\n",
    "with open(file_path_meta, \"w\") as f:\n",
    "    json.dump(metadata, f, indent=4)\n",
    "\n",
    "print(f\"Metadata ⟶ {file_path_meta}\")\n"
   ]
  },
  {
   "cell_type": "code",
   "execution_count": 18,
   "metadata": {},
   "outputs": [],
   "source": [
    "d = holdout_df.dtypes.reset_index()\n",
    "d.columns = ['Feature','Dtype']\n",
    "d['Type'] = d['Dtype'].apply(\n",
    "    lambda x: 'numeric' \n",
    "    if pd.api.types.is_numeric_dtype(x) and not pd.api.types.is_bool_dtype(x) \n",
    "    else 'categorical'\n",
    ")\n",
    "d[['Feature','Type']].to_csv(DATA_DIR / 'features_types_synthcheck.csv', index=False)"
   ]
  }
 ],
 "metadata": {
  "kernelspec": {
   "display_name": "CTGAN",
   "language": "python",
   "name": "ctgan"
  },
  "language_info": {
   "codemirror_mode": {
    "name": "ipython",
    "version": 3
   },
   "file_extension": ".py",
   "mimetype": "text/x-python",
   "name": "python",
   "nbconvert_exporter": "python",
   "pygments_lexer": "ipython3",
   "version": "3.12.4"
  }
 },
 "nbformat": 4,
 "nbformat_minor": 2
}
