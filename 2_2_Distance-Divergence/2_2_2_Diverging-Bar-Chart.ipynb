{
 "cells": [
  {
   "cell_type": "markdown",
   "metadata": {},
   "source": [
    "# Code\n",
    "...\n",
    "# Imports"
   ]
  },
  {
   "cell_type": "code",
   "execution_count": 7,
   "metadata": {},
   "outputs": [],
   "source": [
    "import pandas as pd\n",
    "from pathlib import Path\n",
    "import numpy as np\n",
    "from pathlib import Path\n",
    "from typing import Optional, Tuple, Union\n",
    "import seaborn as sns\n",
    "import matplotlib.pyplot as plt\n"
   ]
  },
  {
   "cell_type": "markdown",
   "metadata": {},
   "source": [
    "# User Configuration"
   ]
  },
  {
   "cell_type": "code",
   "execution_count": 8,
   "metadata": {},
   "outputs": [],
   "source": [
    "SAVE_FIGS = True  # Save figures\n",
    "\n",
    "REAL_FILE = \"20250301_data_20250510_122405_final_100_train.csv\"\n",
    "SYNTH_FILE = \"20250301_data_20250510_122405_final_100_synth.csv\"\n",
    "HOLDOUT_FILE = \"20250301_data_20250510_122405_final_100_holdout.csv\"\n",
    "\n",
    "DATA_DIR = Path(\"../../data\")\n",
    "OUTPUT_DIR_FIG = Path(\"figures\")\n",
    "OUTPUT_DIR_FIG.mkdir(parents=True, exist_ok=True)  # ensure output folder exists\n",
    "\n",
    "# Set my design\n",
    "sns.set_theme(\n",
    "    style=\"white\",\n",
    "    context=\"talk\",\n",
    "    palette=\"colorblind\"\n",
    ")"
   ]
  },
  {
   "cell_type": "markdown",
   "metadata": {},
   "source": [
    "# Utility Functions"
   ]
  },
  {
   "cell_type": "markdown",
   "metadata": {},
   "source": [
    "## Data Loading"
   ]
  },
  {
   "cell_type": "code",
   "execution_count": 9,
   "metadata": {},
   "outputs": [],
   "source": [
    "def convert_dtypes(df: pd.DataFrame) -> pd.DataFrame:\n",
    "    \"\"\"\n",
    "    Konvertiert bestimmte Spalten des DataFrames in die gewünschten Datentypen:\n",
    "     - definierte Spalten als category\n",
    "     - definierte Spalten als pandas Nullable Integer (Int64)\n",
    "     - consciousness_level und news_score als geordnete Categoricals\n",
    "    \"\"\"\n",
    "    df = df.copy()  # Änderungen nicht am Original vornehmen\n",
    "\n",
    "    # 1) Kategorische Spalten\n",
    "    cat_cols = ['gender', 'ethnicity', 'chief_complaint', 'icd_block', 'night_arrival', 'weekend_arrival']\n",
    "    for col in cat_cols:\n",
    "        df[col] = df[col].astype('category')\n",
    "\n",
    "    # 2) Integer-Spalten mit Nullable Integer dtype\n",
    "    int_cols = ['age', 'systolic_bp', 'diastolic_bp',\n",
    "                'heart_rate', 'respiratory_rate', 'oxygen_saturation']\n",
    "    for col in int_cols:\n",
    "        df[col] = df[col].astype('Int64')\n",
    "\n",
    "    # 3) Geordnete Categoricals\n",
    "    df['consciousness_level'] = pd.Categorical(\n",
    "        df['consciousness_level'],\n",
    "        categories=['A', 'C', 'V', 'P', 'U'],\n",
    "        ordered=True\n",
    "    )\n",
    "    df['news_score'] = pd.Categorical(\n",
    "        df['news_score'],\n",
    "        categories=list(range(19)),\n",
    "        ordered=True\n",
    "    )\n",
    "\n",
    "    return df\n",
    "\n",
    "def load_data(\n",
    "    real_filename: Union[str, Path],\n",
    "    synth_filename: Optional[Union[str, Path]] = None,\n",
    "    holdout_filename: Optional[Union[str, Path]] = None,\n",
    "    data_dir: Path = DATA_DIR\n",
    ") -> Tuple[pd.DataFrame, Optional[pd.DataFrame], Optional[pd.DataFrame]]:\n",
    "    \"\"\"\n",
    "    Lädt die realen, synthetischen und optionalen Holdout-CSV-Dateien\n",
    "    aus data_dir und wandelt sie über convert_dtypes um.\n",
    "\n",
    "    Returns:\n",
    "        df_real: pd.DataFrame\n",
    "        df_synth: Optional[pd.DataFrame]\n",
    "        df_holdout: Optional[pd.DataFrame]\n",
    "    \"\"\"\n",
    "    def _read_and_convert(fn: Union[str, Path]) -> pd.DataFrame:\n",
    "        return (\n",
    "            pd.read_csv(data_dir / fn, low_memory=False)\n",
    "              .pipe(convert_dtypes)\n",
    "        )\n",
    "\n",
    "    df_real    = _read_and_convert(real_filename)\n",
    "    df_synth   = _read_and_convert(synth_filename)   if synth_filename   else None\n",
    "    df_holdout = _read_and_convert(holdout_filename) if holdout_filename else None\n",
    "\n",
    "    return df_real, df_synth, df_holdout"
   ]
  },
  {
   "cell_type": "markdown",
   "metadata": {},
   "source": [
    "# Main Routine"
   ]
  },
  {
   "cell_type": "code",
   "execution_count": 10,
   "metadata": {},
   "outputs": [],
   "source": [
    "df_real, df_synth, df_holdout = load_data(\n",
    "    REAL_FILE,\n",
    "    SYNTH_FILE,\n",
    "    HOLDOUT_FILE,\n",
    "    data_dir=DATA_DIR\n",
    ")\n",
    "num_attrs = df_real.select_dtypes(include=['number']).columns\n",
    "cat_attrs = df_real.select_dtypes(exclude=['number']).columns"
   ]
  },
  {
   "cell_type": "markdown",
   "metadata": {},
   "source": [
    "### Diverging Bar Chart\n",
    "Zur Visualisierung der Abweichungen bei ICD-Diagnosen (Gower-Similarity sehr diskrepant zw. real und synthetisch)"
   ]
  },
  {
   "cell_type": "code",
   "execution_count": 11,
   "metadata": {},
   "outputs": [],
   "source": [
    "def compare_categorical_distributions(\n",
    "    real_df: pd.DataFrame,\n",
    "    synth_df: pd.DataFrame,\n",
    "    attribute: str,\n",
    "    top_k: int = 20,\n",
    "    figsize: Tuple[float, float] = (8, 6),\n",
    "    cmap_name: str = 'colorblind',\n",
    "    label: bool = True\n",
    ") -> Tuple[plt.Figure, plt.Axes, pd.DataFrame]:\n",
    "    \"\"\"\n",
    "    Vergleich der relativen Häufigkeiten einer kategorialen Spalte:\n",
    "    zeigt die Top-k-Kategorien + 'Other' als Diverging-Bar-Chart.\n",
    "\n",
    "    Returns\n",
    "    -------\n",
    "    fig, ax, freqs_df\n",
    "      freqs_df enthält die relativen Häufigkeiten (Real vs. Synth)\n",
    "      für die geplotteten Kategorien.\n",
    "    \"\"\"\n",
    "\n",
    "    # 2) relative Häufigkeiten berechnen\n",
    "    real_freq  = real_df[attribute].value_counts(normalize=True)\n",
    "    synth_freq = synth_df[attribute].value_counts(normalize=True)\n",
    "\n",
    "    # 3) Top-k nach absoluter Differenz auswählen\n",
    "    diff = (real_freq.subtract(synth_freq, fill_value=0)\n",
    "                      .abs()\n",
    "                      .sort_values(ascending=False))\n",
    "    top_cats = list(diff.index[:top_k])\n",
    "\n",
    "    # 4) 'Other' berechnen und anhängen\n",
    "    def select_and_add_other(freqs: pd.Series, cats: list) -> pd.Series:\n",
    "        sel = freqs.reindex(cats, fill_value=0).copy()\n",
    "        sel['Other'] = 1.0 - sel.sum()\n",
    "        return sel\n",
    "\n",
    "    real_sel  = select_and_add_other(real_freq,  top_cats)\n",
    "    synth_sel = select_and_add_other(synth_freq, top_cats)\n",
    "\n",
    "    # 5) DataFrame zum Plotten aufbauen\n",
    "    df_plot = pd.DataFrame({\n",
    "        'Real': real_sel,\n",
    "        'Synthetic': synth_sel\n",
    "    })\n",
    "    df_plot['Diff'] = df_plot['Real'] - df_plot['Synthetic']\n",
    "    df_plot = df_plot.sort_values('Diff')  # für geordnete Anzeige\n",
    "\n",
    "    # 6) Plot erstellen\n",
    "    fig, ax = plt.subplots(figsize=figsize)\n",
    "    # Diverging Bar Chart: Diff-Werte horizontal\n",
    "    bars = ax.barh(\n",
    "        y=df_plot.index,\n",
    "        width=df_plot['Diff'],\n",
    "        height=0.8,\n",
    "        zorder=2\n",
    "    )\n",
    "    ax.axvline(0, color='black', linewidth=0.8)\n",
    "\n",
    "    # Farben aus einem Seaborn-Cycle\n",
    "    palette = sns.color_palette(cmap_name, 2)\n",
    "    for bar in bars:\n",
    "        bar.set_color(palette[0] if bar.get_width() >= 0 else palette[1])\n",
    "\n",
    "    # 7) Annotationen\n",
    "    if label:\n",
    "        ax.text(\n",
    "            0.95, 0.15,\n",
    "            'More frequent in →\\nthe real dataset →',\n",
    "            transform=ax.transAxes,\n",
    "            ha='right', va='bottom',\n",
    "            fontsize=10, style='italic'\n",
    "        )\n",
    "        ax.text(\n",
    "            0.15, 0.75,\n",
    "            '← More frequent in\\n← the synthetic dataset',\n",
    "            transform=ax.transAxes,\n",
    "            ha='left', va='top',\n",
    "            fontsize=10, style='italic'\n",
    "        )\n",
    "\n",
    "    ax.set_xlabel('Differenz (Real - Synthetic)')\n",
    "    ax.set_ylabel(attribute.capitalize())\n",
    "    ax.set_title(f'{attribute}', fontsize=12)\n",
    "\n",
    "    plt.tight_layout()\n",
    "    return fig, ax, df_plot[['Real', 'Synthetic']]\n"
   ]
  },
  {
   "cell_type": "code",
   "execution_count": 14,
   "metadata": {},
   "outputs": [
    {
     "data": {
      "text/plain": [
       "night_arrival\n",
       "False    0.812875\n",
       "True     0.187125\n",
       "Name: proportion, dtype: float64"
      ]
     },
     "execution_count": 14,
     "metadata": {},
     "output_type": "execute_result"
    }
   ],
   "source": [
    "# df_real.head()\n",
    "df_real['night_arrival'].value_counts(normalize=True)"
   ]
  },
  {
   "cell_type": "code",
   "execution_count": 16,
   "metadata": {},
   "outputs": [
    {
     "data": {
      "image/png": "[encoded data removed]",
      "text/plain": [
       "<Figure size 600x300 with 1 Axes>"
      ]
     },
     "metadata": {},
     "output_type": "display_data"
    }
   ],
   "source": [
    "# attr = 'icd_block'\n",
    "# attr = 'chief_complaint'\n",
    "# attr = 'consciousness_level'\n",
    "# attr = 'ethnicity'\n",
    "attr = 'gender'\n",
    "# attr = 'night_arrival'\n",
    "\n",
    "\n",
    "\n",
    "fig, ax, freqs = compare_categorical_distributions(\n",
    "    df_real, df_synth, attribute=attr, top_k=20, figsize=(6, 3), label = False\n",
    ")\n",
    "plt.show()\n",
    "if SAVE_FIGS:\n",
    "    fig.savefig(OUTPUT_DIR_FIG / f'{attr}_diverging-bar-chart.tiff', dpi=300, format='tiff', bbox_inches='tight', pil_kwargs={'compression': 'tiff_lzw'})\n",
    "plt.close(fig)"
   ]
  }
 ],
 "metadata": {
  "kernelspec": {
   "display_name": "General Purpose",
   "language": "python",
   "name": "venv"
  },
  "language_info": {
   "codemirror_mode": {
    "name": "ipython",
    "version": 3
   },
   "file_extension": ".py",
   "mimetype": "text/x-python",
   "name": "python",
   "nbconvert_exporter": "python",
   "pygments_lexer": "ipython3",
   "version": "3.12.4"
  }
 },
 "nbformat": 4,
 "nbformat_minor": 2
}
