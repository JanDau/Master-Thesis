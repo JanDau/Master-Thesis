{
 "cells": [
  {
   "cell_type": "markdown",
   "metadata": {},
   "source": [
    "# User Settings"
   ]
  },
  {
   "cell_type": "code",
   "execution_count": 6,
   "metadata": {},
   "outputs": [],
   "source": [
    "\"\"\"\n",
    "Alle Daten können nicht analysiert werden:\n",
    "    MemoryError: Unable to allocate 72.7 GiB for an array with shape (98777, 98777) and data type float64\n",
    "Daher wurde sich für ein Sampling entschieden.\n",
    "\"\"\"\n",
    "# --- Sampling-Parameter ---\n",
    "sample_frac = 0.1   # 10 % der Daten pro Stichprobe\n",
    "n_runs      = 5    # 20 unabhängige Stichprobenläufe\n",
    "seed        = 42     # Basis-Seed für Reproduzierbarkeit\n",
    "\n",
    "\n",
    "save_data = False"
   ]
  },
  {
   "cell_type": "markdown",
   "metadata": {},
   "source": [
    "# 1. Datengrundlage\n",
    "## 1.1 Import"
   ]
  },
  {
   "cell_type": "code",
   "execution_count": 7,
   "metadata": {},
   "outputs": [],
   "source": [
    "import pandas as pd\n",
    "from pathlib import Path\n",
    "from datetime import datetime\n",
    "\n",
    "current_timestamp = datetime.now().strftime(\"%Y%m%d_%H%M%S\")\n",
    "data_path = Path(\"../../data/\")\n",
    "\n",
    "file_real = data_path / \"20250301_data_20250421_133906_final_10_train.csv\"\n",
    "df_real = pd.read_csv(file_real, low_memory=False) # Use low_memory=False to prevent dtype issues with large files\n",
    "path_real = Path(file_real)\n",
    "# print(df_real.head())\n",
    "\n",
    "file_synth = data_path / \"20250301_data_20250421_133906_final_synth_10_epochs.csv\"\n",
    "df_synth = pd.read_csv(file_synth, low_memory=False) # Use low_memory=False to prevent dtype issues with large files\n",
    "path_synth = Path(file_synth)\n",
    "# print(df_synth.head())\n",
    "\n",
    "file_holdout = data_path / \"20250301_data_20250421_133906_final_10_holdout.csv\"\n",
    "df_holdout = pd.read_csv(file_holdout, low_memory=False) # Use low_memory=False to prevent dtype issues with large files\n",
    "path_holdout = Path(file_holdout)"
   ]
  },
  {
   "cell_type": "code",
   "execution_count": 8,
   "metadata": {},
   "outputs": [],
   "source": [
    "numerical_cols = ['age', 'temperature', 'heart_rate', 'respiratory_rate', 'oxygen_saturation', 'systolic_bp', 'diastolic_bp']\n",
    "categorical_cols = ['icu_admission_24h', 'gender', 'ethnicity', 'consciousness_level','news_score', 'night_arrival', 'weekend_arrival','chief_complaint', 'icd_block']"
   ]
  },
  {
   "cell_type": "markdown",
   "metadata": {},
   "source": [
    "# 2. Funktion"
   ]
  },
  {
   "cell_type": "code",
   "execution_count": 9,
   "metadata": {},
   "outputs": [
    {
     "data": {
      "application/vnd.jupyter.widget-view+json": {
       "model_id": "a3a00255278d45d8b854b2a212b3f232",
       "version_major": 2,
       "version_minor": 0
      },
      "text/plain": [
       "Scenarios:   0%|          | 0/2 [00:00<?, ?it/s]"
      ]
     },
     "metadata": {},
     "output_type": "display_data"
    },
    {
     "data": {
      "application/vnd.jupyter.widget-view+json": {
       "model_id": "44db3aff75ea48bf93d20d2d7c6196ae",
       "version_major": 2,
       "version_minor": 0
      },
      "text/plain": [
       "Sampling runs:   0%|          | 0/5 [00:00<?, ?it/s]"
      ]
     },
     "metadata": {},
     "output_type": "display_data"
    },
    {
     "data": {
      "application/vnd.jupyter.widget-view+json": {
       "model_id": "393e08e111de4ccbb1177b397ed93fea",
       "version_major": 2,
       "version_minor": 0
      },
      "text/plain": [
       "Sampling runs:   0%|          | 0/5 [00:00<?, ?it/s]"
      ]
     },
     "metadata": {},
     "output_type": "display_data"
    },
    {
     "name": "stdout",
     "output_type": "stream",
     "text": [
      "  scenario  eps_identif_risk_val  eps_identif_risk_err  priv_loss_eps_val  \\\n",
      "0     real              0.250456              0.003761                NaN   \n",
      "1  holdout              0.250253              0.003046           0.072505   \n",
      "\n",
      "   priv_loss_eps_err  \n",
      "0                NaN  \n",
      "1           0.002542  \n"
     ]
    }
   ],
   "source": [
    "from syntheval import SynthEval\n",
    "import pandas as pd\n",
    "import numpy as np\n",
    "from tqdm.auto import tqdm\n",
    "\n",
    "# --- 1) Szenarien mit Konstruktor-Funktionen definieren ---\n",
    "scenarios = {\n",
    "    'real': {\n",
    "        'constructor': lambda df_r, df_h: SynthEval(\n",
    "            real_dataframe=df_r,\n",
    "            cat_cols=categorical_cols,\n",
    "            verbose=False\n",
    "        ),\n",
    "        'metrics': ['eps_identif_risk']\n",
    "    },\n",
    "    'holdout': {\n",
    "        'constructor': lambda df_r, df_h: SynthEval(\n",
    "            real_dataframe=df_r,\n",
    "            holdout_dataframe=df_h,\n",
    "            cat_cols=categorical_cols,\n",
    "            verbose=False\n",
    "        ),\n",
    "        'metrics': ['eps_identif_risk', 'priv_loss_eps']\n",
    "    },\n",
    "}\n",
    "\n",
    "# --- 2) Sampling + Evaluate + Aggregation mit reproducible random_state ---\n",
    "def sample_evaluate(constructor, df_real, df_synth, df_holdout, metrics,\n",
    "                    sample_frac, n_runs, seed):\n",
    "    vals = {m: [] for m in metrics}\n",
    "    errs = {m: [] for m in metrics}\n",
    "\n",
    "    for run_idx in tqdm(range(n_runs), desc=\"Sampling runs\", leave=False):\n",
    "        rs = seed + run_idx\n",
    "        # sowohl real-, synth- als auch holdout-DataFrame stichprobenartig verkleinern\n",
    "        df_r_samp = df_real.sample(frac=sample_frac, replace=False, random_state=rs)\n",
    "        df_s_samp = df_synth.sample(frac=sample_frac, replace=False, random_state=rs)\n",
    "        df_h_samp = (df_holdout.sample(frac=sample_frac, replace=False, random_state=rs)\n",
    "                     if df_holdout is not None else None)\n",
    "\n",
    "        # neuen Evaluator mit gesampelten Daten erzeugen\n",
    "        evaluator = constructor(df_r_samp, df_h_samp)\n",
    "        df_eval   = evaluator.evaluate(df_s_samp, eps_risk={}).set_index('metric')\n",
    "\n",
    "        for m in metrics:\n",
    "            if m in df_eval.index:\n",
    "                row = df_eval.loc[m]\n",
    "                vals[m].append(row['val'])\n",
    "                errs[m].append(row['err'])\n",
    "            else:\n",
    "                vals[m].append(np.nan)\n",
    "                errs[m].append(np.nan)\n",
    "\n",
    "    # Aggregation: Mittelwert der vals, Standardfehler des Mittels\n",
    "    agg = {}\n",
    "    for m in metrics:\n",
    "        arr = np.array(vals[m])\n",
    "        agg[f'{m}_val'] = arr.mean()\n",
    "        agg[f'{m}_err'] = arr.std(ddof=1) / np.sqrt(len(arr))\n",
    "    return agg\n",
    "\n",
    "# --- 3) Runs über alle Szenarien ---\n",
    "records = []\n",
    "for name, cfg in tqdm(scenarios.items(), desc=\"Scenarios\"):\n",
    "    agg = sample_evaluate(\n",
    "        cfg['constructor'],\n",
    "        df_real,\n",
    "        df_synth,\n",
    "        df_holdout if name == 'holdout' else None,\n",
    "        cfg['metrics'],\n",
    "        sample_frac,\n",
    "        n_runs,\n",
    "        seed\n",
    "    )\n",
    "    rec = {'scenario': name}\n",
    "    rec.update(agg)\n",
    "    records.append(rec)\n",
    "\n",
    "# --- 4) Ergebnis-DataFrame ---\n",
    "df_results = pd.DataFrame(records)\n",
    "print(df_results)"
   ]
  },
  {
   "cell_type": "code",
   "execution_count": 11,
   "metadata": {},
   "outputs": [
    {
     "data": {
      "image/png": "[encoded data removed]",
      "text/plain": [
       "<Figure size 800x600 with 1 Axes>"
      ]
     },
     "metadata": {},
     "output_type": "display_data"
    }
   ],
   "source": [
    "import numpy as np\n",
    "import matplotlib.pyplot as plt\n",
    "import seaborn as sns\n",
    "\n",
    "fig, ax = plt.subplots(figsize=(8, 6))\n",
    "\n",
    "# Barplot für eps_identif_risk\n",
    "bars = sns.barplot(\n",
    "    data=df_results,\n",
    "    x='scenario',\n",
    "    y='eps_identif_risk_val',\n",
    "    errorbar=None,       # eigene Fehlerbalken\n",
    "    palette='Set2',\n",
    "    hue='scenario',\n",
    "    ax=ax\n",
    ")\n",
    "\n",
    "# Fehlerbalken hinzufügen\n",
    "ax.errorbar(\n",
    "    x=np.arange(len(df_results)),\n",
    "    y=df_results['eps_identif_risk_val'],\n",
    "    yerr=df_results['eps_identif_risk_err'],\n",
    "    fmt='none',\n",
    "    capsize=5,\n",
    "    linewidth=1,\n",
    "    color='black'\n",
    ")\n",
    "\n",
    "# 1. Werte in den Bars (z.B. zentriert)\n",
    "for p in ax.patches:\n",
    "    height = p.get_height()\n",
    "    ax.text(\n",
    "        p.get_x() + p.get_width() / 2,  # x-Position: Mitte der Bar\n",
    "        height / 2,                     # y-Position: in der Bar-Mitte\n",
    "        f\"{height:.4f}\",                # Label‐Text\n",
    "        ha='center',\n",
    "        va='center',\n",
    "        fontsize='small',\n",
    "        color='white'                   # passt gut auf dunklere Bars\n",
    "    )\n",
    "\n",
    "# 2. Privacy‐Loss‐Labels über den Balken mit Prefix\n",
    "offset = df_results['eps_identif_risk_err'].max() * 1.1\n",
    "for i, row in df_results.iterrows():\n",
    "    pl_val = row['priv_loss_eps_val']\n",
    "    pl_err = row['priv_loss_eps_err']\n",
    "    if not np.isnan(pl_val):\n",
    "        label = f\"Privacy Loss = {pl_val:.4f} ± {pl_err:.4f}\"\n",
    "        ax.text(\n",
    "            i,\n",
    "            row['eps_identif_risk_val'] + row['eps_identif_risk_err'] + offset,\n",
    "            label,\n",
    "            ha='center',\n",
    "            va='bottom',\n",
    "            fontsize='small'\n",
    "        )\n",
    "\n",
    "ax.set_xlabel('Szenario')\n",
    "ax.set_ylabel('Eps Identification Risk')\n",
    "plt.tight_layout()\n",
    "\n",
    "if save_data:\n",
    "    plt.savefig(\n",
    "        f'figures/Epsilon_Identif_Risk_{current_timestamp}.tiff',\n",
    "        dpi=300, format='tiff', bbox_inches='tight',\n",
    "        pil_kwargs={'compression': 'tiff_lzw'}\n",
    "    )\n",
    "\n",
    "plt.show()\n"
   ]
  },
  {
   "cell_type": "markdown",
   "metadata": {},
   "source": [
    "# Interpretation\n",
    "- Allgemein: eps_risk >0.2: viele reale Datensätze können mit synthetischen verlinkt werden → Privacy-Risiko\n",
    "- Privacy Loss $\\approx0$: kein signifikanter Unterschied → gute Privacy\n",
    "   - cave: Privacy Loss >=0.1 als Hinweis für Memorization (Yoon et al., 2020)\n",
    "   - dennoch zeigen Privacy Loss-Werte >0 die Tendenz zur Trainingskopie\n",
    "\n"
   ]
  }
 ],
 "metadata": {
  "kernelspec": {
   "display_name": "SynthEval",
   "language": "python",
   "name": "syntheval"
  },
  "language_info": {
   "codemirror_mode": {
    "name": "ipython",
    "version": 3
   },
   "file_extension": ".py",
   "mimetype": "text/x-python",
   "name": "python",
   "nbconvert_exporter": "python",
   "pygments_lexer": "ipython3",
   "version": "3.12.4"
  }
 },
 "nbformat": 4,
 "nbformat_minor": 2
}
