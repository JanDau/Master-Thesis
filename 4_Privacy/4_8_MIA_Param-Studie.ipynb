{
 "cells": [
  {
   "cell_type": "markdown",
   "metadata": {},
   "source": [
    "# Imports"
   ]
  },
  {
   "cell_type": "code",
   "execution_count": 1,
   "metadata": {},
   "outputs": [],
   "source": [
    "from dataclasses import dataclass\n",
    "from pathlib import Path\n",
    "import pandas as pd\n",
    "from datetime import datetime\n",
    "import numpy as np\n",
    "import seaborn as sns\n",
    "from typing import Optional, Tuple, Union\n",
    "import matplotlib.pyplot as plt\n",
    "from syntheval import SynthEval\n",
    "from tqdm import tqdm"
   ]
  },
  {
   "cell_type": "markdown",
   "metadata": {},
   "source": [
    "# User Settings"
   ]
  },
  {
   "cell_type": "code",
   "execution_count": 2,
   "metadata": {},
   "outputs": [],
   "source": [
    "@dataclass\n",
    "class Config:\n",
    "    data_dir: Path = Path(\"../../data\")\n",
    "    figures_dir: Path = Path(\"figures\")\n",
    "    results_dir: Path = Path(\"results\")\n",
    "\n",
    "    real_file: str = \"20250301_data_20250510_122405_final_100_train.csv\"\n",
    "    synth_file: str = \"20250301_data_20250510_122405_final_100_synth.csv\"\n",
    "    holdout_file: str = \"20250301_data_20250510_122405_final_100_holdout.csv\"\n",
    "\n",
    "    random_seed: int = 42\n",
    "    # iteration_list = [3, 5, 7, 10, 15]\n",
    "\n",
    "    save_data: bool = True\n",
    "\n",
    "# Set my design\n",
    "sns.set_theme(\n",
    "    style=\"white\",\n",
    "    context=\"paper\",\n",
    "    palette=\"colorblind\",\n",
    "    rc={\n",
    "        \"font.family\": \"sans-serif\",\n",
    "        \"font.sans-serif\": [\"Arial\"],\n",
    "        \"font.size\": 7,\n",
    "        \"axes.titlesize\": 7,\n",
    "        \"axes.labelsize\": 7,\n",
    "        \"xtick.labelsize\": 7,\n",
    "        \"ytick.labelsize\": 7,\n",
    "        \"legend.fontsize\": 7\n",
    "    }\n",
    ")\n"
   ]
  },
  {
   "cell_type": "markdown",
   "metadata": {},
   "source": [
    "# Utility Functions"
   ]
  },
  {
   "cell_type": "code",
   "execution_count": 3,
   "metadata": {},
   "outputs": [],
   "source": [
    "def convert_dtypes(df: pd.DataFrame) -> pd.DataFrame:\n",
    "    \"\"\"\n",
    "    Konvertiert bestimmte Spalten des DataFrames in die gewünschten Datentypen:\n",
    "     - definierte Spalten als category\n",
    "     - definierte Spalten als pandas Nullable Integer (Int64)\n",
    "     - consciousness_level und news_score als geordnete Categoricals\n",
    "    \"\"\"\n",
    "    df = df.copy()  # Änderungen nicht am Original vornehmen\n",
    "\n",
    "    # 1) Kategorische Spalten\n",
    "    cat_cols = ['gender', 'ethnicity', 'chief_complaint', 'icd_block']\n",
    "    for col in cat_cols:\n",
    "        # df[col] = df[col].astype('category')\n",
    "        df[col] = df[col].astype('object') # 'category' führt zu Problemen mit dem OneHotEncoder\n",
    "\n",
    "    # 2) Integer-Spalten mit Nullable Integer dtype\n",
    "    int_cols = ['age', 'systolic_bp', 'diastolic_bp',\n",
    "                'heart_rate', 'respiratory_rate', 'oxygen_saturation']\n",
    "    for col in int_cols:\n",
    "        df[col] = df[col].astype('Int64')\n",
    "        # df[col] = df[col].astype('int32')\n",
    "\n",
    "    # 3) Geordnete Categoricals\n",
    "    df['consciousness_level'] = pd.Categorical(\n",
    "        df['consciousness_level'],\n",
    "        categories=['A', 'C', 'V', 'P', 'U'],\n",
    "        ordered=True\n",
    "    )\n",
    "    df['news_score'] = pd.Categorical(\n",
    "        df['news_score'],\n",
    "        categories=list(range(19)),\n",
    "        ordered=True\n",
    "    )\n",
    "\n",
    "    return df\n",
    "\n",
    "def load_data(\n",
    "    real_filename: Union[str, Path],\n",
    "    synth_filename: Optional[Union[str, Path]] = None,\n",
    "    holdout_filename: Optional[Union[str, Path]] = None,\n",
    "    data_dir: Path = None,\n",
    ") -> Tuple[pd.DataFrame, Optional[pd.DataFrame], Optional[pd.DataFrame]]:\n",
    "    \"\"\"\n",
    "    Lädt die realen, synthetischen und optionalen Holdout-CSV-Dateien\n",
    "    aus data_dir und wandelt sie über convert_dtypes um.\n",
    "\n",
    "    Returns:\n",
    "        df_real: pd.DataFrame\n",
    "        df_synth: Optional[pd.DataFrame]\n",
    "        df_holdout: Optional[pd.DataFrame]\n",
    "    \"\"\"\n",
    "    def _read_and_convert(fn: Union[str, Path]) -> pd.DataFrame:\n",
    "        return (\n",
    "            pd.read_csv(data_dir / fn, low_memory=False)\n",
    "              .pipe(convert_dtypes)\n",
    "        )\n",
    "\n",
    "    df_real    = _read_and_convert(real_filename)\n",
    "    df_synth   = _read_and_convert(synth_filename)   if synth_filename   else None\n",
    "    df_holdout = _read_and_convert(holdout_filename) if holdout_filename else None\n",
    "\n",
    "    return df_real, df_synth, df_holdout"
   ]
  },
  {
   "cell_type": "markdown",
   "metadata": {},
   "source": [
    "# Main Routine\n",
    "## Data Import"
   ]
  },
  {
   "cell_type": "code",
   "execution_count": 4,
   "metadata": {},
   "outputs": [],
   "source": [
    "cfg = Config()\n",
    "current_timestamp = datetime.now().strftime(\"%Y%m%d_%H%M%S\")\n",
    "\n",
    "df_train, df_synth, df_holdout = load_data(\n",
    "    cfg.real_file,\n",
    "    cfg.synth_file,\n",
    "    cfg.holdout_file,\n",
    "    data_dir=cfg.data_dir\n",
    ")\n",
    "\n",
    "df_holdout = df_holdout.dropna().reset_index(drop=True)"
   ]
  },
  {
   "cell_type": "code",
   "execution_count": 5,
   "metadata": {},
   "outputs": [
    {
     "name": "stdout",
     "output_type": "stream",
     "text": [
      "['gender', 'ethnicity', 'chief_complaint', 'night_arrival', 'weekend_arrival', 'icu_admission_24h', 'icd_block', 'consciousness_level', 'news_score']\n"
     ]
    }
   ],
   "source": [
    "num_cols = ['age', 'temperature', 'heart_rate', 'respiratory_rate', 'oxygen_saturation', 'systolic_bp', 'diastolic_bp']\n",
    "cat_cols = ['gender', 'ethnicity', 'chief_complaint', 'night_arrival', 'weekend_arrival', 'icu_admission_24h', 'icd_block']\n",
    "ord_cols = ['consciousness_level','news_score']\n",
    "\n",
    "cat_ord_cols = cat_cols + ord_cols\n",
    "print(cat_ord_cols)"
   ]
  },
  {
   "cell_type": "markdown",
   "metadata": {},
   "source": [
    "# 2. Funktion"
   ]
  },
  {
   "cell_type": "code",
   "execution_count": 6,
   "metadata": {},
   "outputs": [],
   "source": [
    "# df_train = df_train.sample(n=1000, random_state=cfg.random_seed).reset_index(drop=True)\n",
    "# df_synth = df_synth.sample(n=1000, random_state=cfg.random_seed).reset_index(drop=True)\n",
    "# df_holdout = df_holdout.sample(n=1000, random_state=cfg.random_seed).reset_index(drop=True)"
   ]
  },
  {
   "cell_type": "markdown",
   "metadata": {},
   "source": [
    "## Erster Test"
   ]
  },
  {
   "cell_type": "code",
   "execution_count": 7,
   "metadata": {},
   "outputs": [],
   "source": [
    "# results = {}\n",
    "# mia = SynthEval(real_dataframe=df_train, holdout_dataframe=df_holdout, cat_cols=cat_ord_cols, verbose=False)\n",
    "# result_mia = mia.evaluate(df_synth, mia={'num_eval_iter': 3})\n",
    "# print(result_mia)"
   ]
  },
  {
   "cell_type": "code",
   "execution_count": 8,
   "metadata": {},
   "outputs": [],
   "source": [
    "# df_val = result_mia.melt(\n",
    "#     id_vars=['metric'], value_vars=['val','n_val'],\n",
    "#     var_name='class', value_name='score'\n",
    "# ).replace({'class': {'val':'positive','n_val':'negative'}})\n",
    "\n",
    "# df_err = result_mia.melt(\n",
    "#     id_vars=['metric'], value_vars=['err','n_err'],\n",
    "#     var_name='class', value_name='error'\n",
    "# ).replace({'class': {'err':'positive','n_err':'negative'}})\n",
    "\n",
    "# df = pd.merge(df_val, df_err, on=['metric','class'])\n",
    "# df = df.sort_values(['metric','class'])\n",
    "\n",
    "\n",
    "# # Pivot to get precision & recall per class\n",
    "# pivot = df.pivot(index='class', columns='metric')\n",
    "# p = pivot['score','mia_precision']\n",
    "# r = pivot['score','mia_recall']\n",
    "# ep = pivot['error','mia_precision']\n",
    "# er = pivot['error','mia_recall']\n",
    "\n",
    "# # Compute F1 and its propagated error\n",
    "# f1  = 2 * (p * r) / (p + r)\n",
    "# e_f1 = f1 * np.sqrt((ep/p)**2 + (er/r)**2)\n",
    "\n",
    "# # Build new rows and append\n",
    "# f1_df = pd.DataFrame({\n",
    "#     'metric': ['mia_f1']*len(f1),\n",
    "#     'class':  f1.index,\n",
    "#     'score':  f1.values,\n",
    "#     'error':  e_f1.values\n",
    "# })\n",
    "# df = pd.concat([df, f1_df], ignore_index=True)\n",
    "# print(df)"
   ]
  },
  {
   "cell_type": "markdown",
   "metadata": {},
   "source": [
    "## Pilot-Studie"
   ]
  },
  {
   "cell_type": "code",
   "execution_count": 9,
   "metadata": {},
   "outputs": [
    {
     "name": "stderr",
     "output_type": "stream",
     "text": [
      "Pilotstudie: 100%|██████████| 9/9 [05:04<00:00, 33.82s/it]"
     ]
    },
    {
     "name": "stdout",
     "output_type": "stream",
     "text": [
      "           metric     class     score     error  num_eval_iter\n",
      "0   mia_precision  negative  0.995907  0.001979              3\n",
      "1   mia_precision  positive  0.502046  0.001979              3\n",
      "2      mia_recall  negative  0.873488  0.001401              3\n",
      "3      mia_recall  positive  0.126512  0.001401              3\n",
      "4          mia_f1  negative  0.930689  0.002377              3\n",
      "5          mia_f1  positive  0.202097  0.002375              3\n",
      "6   mia_precision  negative  0.998155  0.005149              5\n",
      "7   mia_precision  positive  0.500923  0.005149              5\n",
      "8      mia_recall  negative  0.874292  0.002690              5\n",
      "9      mia_recall  positive  0.125708  0.002690              5\n",
      "10         mia_f1  negative  0.932127  0.005599              5\n",
      "11         mia_f1  positive  0.200979  0.004771              5\n",
      "12  mia_precision  negative  0.999837  0.002839             10\n",
      "13  mia_precision  positive  0.500081  0.002839             10\n",
      "14     mia_recall  negative  0.872136  0.001578             10\n",
      "15     mia_recall  positive  0.127864  0.001578             10\n",
      "16         mia_f1  negative  0.931631  0.003137             10\n",
      "17         mia_f1  positive  0.203656  0.002766             10\n",
      "18  mia_precision  negative  0.997529  0.001515             20\n",
      "19  mia_precision  positive  0.501236  0.001515             20\n",
      "20     mia_recall  negative  0.872634  0.000793             20\n",
      "21     mia_recall  positive  0.127366  0.000793             20\n",
      "22         mia_f1  negative  0.930911  0.001648             20\n",
      "23         mia_f1  positive  0.203118  0.001406             20\n",
      "24  mia_precision  negative  0.997375  0.001579             30\n",
      "25  mia_precision  positive  0.501313  0.001579             30\n",
      "26     mia_recall  negative  0.872642  0.000652             30\n",
      "27     mia_recall  positive  0.127358  0.000652             30\n",
      "28         mia_f1  negative  0.930849  0.001629             30\n",
      "29         mia_f1  positive  0.203114  0.001221             30\n",
      "30  mia_precision  negative  0.994107  0.001288             40\n",
      "31  mia_precision  positive  0.502946  0.001288             40\n",
      "32     mia_recall  negative  0.872250  0.000534             40\n",
      "33     mia_recall  positive  0.127750  0.000534             40\n",
      "34         mia_f1  negative  0.929200  0.001332             40\n",
      "35         mia_f1  positive  0.203748  0.000999             40\n",
      "36  mia_precision  negative  0.997762  0.001240             50\n",
      "37  mia_precision  positive  0.501119  0.001240             50\n",
      "38     mia_recall  negative  0.872003  0.000562             50\n",
      "39     mia_recall  positive  0.127997  0.000562             50\n",
      "40         mia_f1  negative  0.930653  0.001303             50\n",
      "41         mia_f1  positive  0.203911  0.001027             50\n",
      "42  mia_precision  negative  0.999330  0.000995             75\n",
      "43  mia_precision  positive  0.500335  0.000995             75\n",
      "44     mia_recall  negative  0.872402  0.000513             75\n",
      "45     mia_recall  positive  0.127598  0.000513             75\n",
      "46         mia_f1  negative  0.931563  0.001077             75\n",
      "47         mia_f1  positive  0.203339  0.000912             75\n",
      "48  mia_precision  negative  0.997381  0.000819            100\n",
      "49  mia_precision  positive  0.501310  0.000819            100\n",
      "50     mia_recall  negative  0.872568  0.000391            100\n",
      "51     mia_recall  positive  0.127432  0.000391            100\n",
      "52         mia_f1  negative  0.930809  0.000870            100\n",
      "53         mia_f1  positive  0.203209  0.000706            100\n"
     ]
    },
    {
     "name": "stderr",
     "output_type": "stream",
     "text": [
      "\n"
     ]
    }
   ],
   "source": [
    "\n",
    "# Anzahl Iterationen in der Pilotstudie\n",
    "iter_list = [3, 5, 10, 20, 30, 40, 50, 75, 100]\n",
    "results = []\n",
    "\n",
    "for num_iter in tqdm(iter_list, desc=\"Pilotstudie\"):\n",
    "    # Init SynthEval (angepasst an deinen Beispielcode)\n",
    "    mia = SynthEval(\n",
    "        real_dataframe=df_train,\n",
    "        holdout_dataframe=df_holdout,\n",
    "        cat_cols=cat_ord_cols,\n",
    "        verbose=False\n",
    "    )\n",
    "    # Führe MIA aus\n",
    "    result_mia = mia.evaluate(df_synth, mia={'num_eval_iter': num_iter})\n",
    "    \n",
    "    # Auswertung wie von dir vorgegeben\n",
    "    df_val = result_mia.melt(\n",
    "        id_vars=['metric'], value_vars=['val','n_val'],\n",
    "        var_name='class', value_name='score'\n",
    "    ).replace({'class': {'val':'positive','n_val':'negative'}})\n",
    "\n",
    "    df_err = result_mia.melt(\n",
    "        id_vars=['metric'], value_vars=['err','n_err'],\n",
    "        var_name='class', value_name='error'\n",
    "    ).replace({'class': {'err':'positive','n_err':'negative'}})\n",
    "\n",
    "    df = pd.merge(df_val, df_err, on=['metric','class'])\n",
    "    df = df.sort_values(['metric','class'])\n",
    "\n",
    "    # Pivot, F1 und Fehler berechnen\n",
    "    pivot = df.pivot(index='class', columns='metric')\n",
    "    p = pivot['score','mia_precision']\n",
    "    r = pivot['score','mia_recall']\n",
    "    ep = pivot['error','mia_precision']\n",
    "    er = pivot['error','mia_recall']\n",
    "\n",
    "    f1  = 2 * (p * r) / (p + r)\n",
    "    e_f1 = f1 * np.sqrt((ep/p)**2 + (er/r)**2)\n",
    "\n",
    "    # Neues F1-DF erstellen und anhängen\n",
    "    f1_df = pd.DataFrame({\n",
    "        'metric': ['mia_f1']*len(f1),\n",
    "        'class':  f1.index,\n",
    "        'score':  f1.values,\n",
    "        'error':  e_f1.values\n",
    "    })\n",
    "    df_full = pd.concat([df, f1_df], ignore_index=True)\n",
    "    df_full['num_eval_iter'] = num_iter\n",
    "    results.append(df_full)\n",
    "\n",
    "# Alle Ergebnisse in ein DataFrame\n",
    "df_results = pd.concat(results, ignore_index=True)\n",
    "print(df_results)\n",
    "if cfg.save_data:\n",
    "    df_results.to_csv(cfg.results_dir / f\"mia_pilot_study_{current_timestamp}.csv\", index=False, header=True, decimal=',', sep=';', encoding='utf-8')"
   ]
  },
  {
   "cell_type": "code",
   "execution_count": 9,
   "metadata": {},
   "outputs": [],
   "source": [
    "df_results = pd.read_csv(cfg.results_dir / f\"mia_pilot_study_20250518_075002.csv\", sep=';', decimal=',', encoding='utf-8')"
   ]
  },
  {
   "cell_type": "code",
   "execution_count": 14,
   "metadata": {},
   "outputs": [
    {
     "name": "stdout",
     "output_type": "stream",
     "text": [
      "Abbildung gespeichert unter: figures\\MIA_Pilot-Studie_20250601_164544.tiff\n"
     ]
    },
    {
     "data": {
      "image/png": "[encoded data removed]",
      "text/plain": [
       "<Figure size 350x250 with 2 Axes>"
      ]
     },
     "metadata": {},
     "output_type": "display_data"
    }
   ],
   "source": [
    "# CV berechnen: error / score\n",
    "df_results['cv'] = df_results['error'] / df_results['score']\n",
    "\n",
    "# Nur F1-Werte (z.B. für positive Klasse) auswählen\n",
    "df_f1_pos = df_results[(df_results['metric'] == 'mia_f1') & (df_results['class'] == 'positive')]\n",
    "df_f1_neg = df_results[(df_results['metric'] == 'mia_f1') & (df_results['class'] == 'negative')]\n",
    "\n",
    "cb_colors = sns.color_palette(\"colorblind\")[:2]\n",
    "\n",
    "# Plot F1, Fehler und CV für positive Klasse\n",
    "fig, ax1 = plt.subplots(figsize=(3.5,2.5))\n",
    "\n",
    "ax1.errorbar(df_f1_pos['num_eval_iter'], df_f1_pos['score'], yerr=df_f1_pos['error'],\n",
    "             fmt='o-', label='F1', color=cb_colors[0])\n",
    "ax1.set_xlabel('num_eval_iter')\n",
    "ax1.set_ylabel('F1 Score')\n",
    "ax1.set_ylim(0.19, 0.21)  # Setze y-Achse für F1 Score\n",
    "ax1.tick_params(axis='y')\n",
    "\n",
    "ax2 = ax1.twinx()\n",
    "ax2.plot(df_f1_pos['num_eval_iter'], df_f1_pos['cv'], 's--', label='CV', color=cb_colors[1])\n",
    "ax2.set_ylabel('Coefficient of Variation')\n",
    "ax2.set_ylim(0, 0.035)  # Setze y-Achse für CV\n",
    "ax2.tick_params(axis='y')\n",
    "\n",
    "# fig.suptitle('Konvergenz & CV der F1-Metrik (positive)')\n",
    "fig.legend(loc=\"upper right\", bbox_to_anchor=(1,1), bbox_transform=ax1.transAxes, fontsize=7)\n",
    "if cfg.save_data:\n",
    "    fname = f'MIA_Pilot-Studie_{current_timestamp}.tiff'\n",
    "    fullpath = cfg.figures_dir / fname\n",
    "    plt.savefig(\n",
    "        fullpath,\n",
    "        dpi=300,\n",
    "        format='tiff',\n",
    "        bbox_inches='tight',\n",
    "        pil_kwargs={'compression': 'tiff_lzw'}\n",
    "    )\n",
    "    print(f\"Abbildung gespeichert unter: {fullpath}\")\n",
    "plt.show()"
   ]
  },
  {
   "cell_type": "markdown",
   "metadata": {},
   "source": [
    "# 3. Visualisierung"
   ]
  },
  {
   "cell_type": "code",
   "execution_count": 30,
   "metadata": {},
   "outputs": [],
   "source": [
    "import pandas as pd\n",
    "import seaborn as sns\n",
    "import matplotlib.pyplot as plt\n",
    "\n",
    "# 1) Wissenschaftlichen Look einstellen\n",
    "sns.set_theme(context='paper', style='whitegrid')\n",
    "\n",
    "df_val = result_mia.melt(\n",
    "    id_vars=['metric'], value_vars=['val','n_val'],\n",
    "    var_name='class', value_name='score'\n",
    ").replace({'class': {'val':'positive','n_val':'negative'}})\n",
    "\n",
    "df_err = result_mia.melt(\n",
    "    id_vars=['metric'], value_vars=['err','n_err'],\n",
    "    var_name='class', value_name='error'\n",
    ").replace({'class': {'err':'positive','n_err':'negative'}})\n",
    "\n",
    "df = pd.merge(df_val, df_err, on=['metric','class'])\n",
    "df = df.sort_values(['metric','class'])\n",
    "\n"
   ]
  },
  {
   "cell_type": "code",
   "execution_count": null,
   "metadata": {},
   "outputs": [
    {
     "name": "stdout",
     "output_type": "stream",
     "text": [
      "          metric     class     score     error\n",
      "3  mia_precision  negative  0.963389  0.030301\n",
      "1  mia_precision  positive  0.518306  0.030301\n",
      "2     mia_recall  negative  0.755200  0.014500\n",
      "0     mia_recall  positive  0.244800  0.014500\n"
     ]
    }
   ],
   "source": [
    "print(df)"
   ]
  },
  {
   "cell_type": "markdown",
   "metadata": {},
   "source": [
    "### Macro-F1-Score"
   ]
  },
  {
   "cell_type": "code",
   "execution_count": 39,
   "metadata": {},
   "outputs": [
    {
     "name": "stdout",
     "output_type": "stream",
     "text": [
      "          metric     class     score     error\n",
      "0  mia_precision  negative  0.963389  0.030301\n",
      "1  mia_precision  positive  0.518306  0.030301\n",
      "2     mia_recall  negative  0.755200  0.014500\n",
      "3     mia_recall  positive  0.244800  0.014500\n",
      "4         mia_f1  negative  0.846684  0.031200\n",
      "5         mia_f1  positive  0.332539  0.027675\n"
     ]
    }
   ],
   "source": [
    "import numpy as np\n",
    "# Pivot to get precision & recall per class\n",
    "pivot = df.pivot(index='class', columns='metric')\n",
    "p = pivot['score','mia_precision']\n",
    "r = pivot['score','mia_recall']\n",
    "ep = pivot['error','mia_precision']\n",
    "er = pivot['error','mia_recall']\n",
    "\n",
    "# Compute F1 and its propagated error\n",
    "f1  = 2 * (p * r) / (p + r)\n",
    "e_f1 = f1 * np.sqrt((ep/p)**2 + (er/r)**2)\n",
    "\n",
    "# Build new rows and append\n",
    "f1_df = pd.DataFrame({\n",
    "    'metric': ['mia_f1']*len(f1),\n",
    "    'class':  f1.index,\n",
    "    'score':  f1.values,\n",
    "    'error':  e_f1.values\n",
    "})\n",
    "df = pd.concat([df, f1_df], ignore_index=True)\n",
    "print(df)"
   ]
  },
  {
   "cell_type": "code",
   "execution_count": 43,
   "metadata": {},
   "outputs": [
    {
     "name": "stdout",
     "output_type": "stream",
     "text": [
      "          metric     class     score     error\n",
      "1  mia_precision  positive  0.518306  0.030301\n",
      "3     mia_recall  positive  0.244800  0.014500\n",
      "5         mia_f1  positive  0.332539  0.027675\n"
     ]
    }
   ],
   "source": [
    "df_plot = df[df['class']=='positive'].copy()\n",
    "print(df_plot)"
   ]
  },
  {
   "cell_type": "code",
   "execution_count": 47,
   "metadata": {},
   "outputs": [
    {
     "data": {
      "image/png": "[encoded data removed]",
      "text/plain": [
       "<Figure size 800x600 with 1 Axes>"
      ]
     },
     "metadata": {},
     "output_type": "display_data"
    }
   ],
   "source": [
    "plt.figure(figsize=(8, 6))\n",
    "ax = sns.barplot(data=df_plot, x='metric', y='score', hue='class', errorbar=None)\n",
    "\n",
    "# Fehlerbalken hinzufügen (synchron mit df['error'])\n",
    "for bar, err in zip(ax.patches, df_plot['error']):\n",
    "    x = bar.get_x() + bar.get_width()/2\n",
    "    y = bar.get_height()\n",
    "    plt.errorbar(x, y, yerr=err, fmt='none', capsize=5, color='black', elinewidth=1, capthick=1)\n",
    "\n",
    "# --- 5a) Horizontale Threshold-Linie einzeichnen ---\n",
    "ax.axhline(\n",
    "    y=0.5,\n",
    "    color='grey',        # Farbe der Linie\n",
    "    linestyle='--',      # gestrichelte Linie\n",
    "    linewidth=2,         # Linienstärke\n",
    "    label='Threshold',\n",
    "    zorder=0\n",
    ")\n",
    "\n",
    "plt.ylabel('Score')\n",
    "plt.xlabel('Metric')\n",
    "plt.title('MIA: Recall und Precision für Klasse p')\n",
    "plt.ylim(0, 1)\n",
    "plt.tight_layout()\n",
    "plt.show()"
   ]
  },
  {
   "cell_type": "markdown",
   "metadata": {},
   "source": [
    "# Interpretation\n",
    "✅ Nein, n_val und n_err (negative) stehen nicht direkt für „Nicht-Mitglied-Test“.\n",
    "→ Sie sind komplementäre Werte zu val (also z.B. 1 - recall oder 1 - 2*|0.5 - precision|), um die „Abweichung von idealer Privacy“ darzustellen.\n",
    "👉 Sie dienen der Darstellung der „Nicht-Privacy“ oder „Fehlerrate“:\n",
    "- n_val ≈ 1 → gute Privacy (Angreifer kann wenig)\n",
    "- n_val ≈ 0 → schwache Privacy (Angreifer kann viel)\n",
    "➡️ Also eher eine Interpretationshilfe, kein expliziter Test auf „nicht enthalten“.\n",
    "\n",
    "\n",
    "✅ In der Literatur gibt es keinen festen universellen Schwellenwert für val (z.B. Precision, Recall oder F1 bei MIA).\n",
    "➡️ Oft wird ein Wert deutlich über Zufallsniveau (~0.5) als Hinweis auf Privacy-Risiko betrachtet (vgl. Shokri et al., 2017).\n",
    "📚 Referenz:\n",
    "Shokri, R., Stronati, M., Song, C., & Shmatikov, V. (2017). Membership Inference Attacks Against Machine Learning Models. IEEE S&P.\n",
    "Dort gilt: „significantly better than random guessing“ → Risiko.\n",
    "Typisch: >0.6–0.7 als kritisch, aber abhängig von Kontext & Use-Case.\n",
    "\n",
    "\n",
    "## Precision: Anteil korrekter „Mitglied“-Vorhersagen unter allen vorhergesagten Mitgliedern\n",
    "- Precision ≈ 0: Vorhersagen sind fast alle falsch → Angreifer rät schlecht.\n",
    "- Precision ≈ 0.5: Vorhersagen sind wie Zufall → keine verwertbare Information.\n",
    "- Precision ≈ 1: Vorhersagen sind alle korrekt → Angreifer kann Mitglieder perfekt erkennen → hohes Privacy-Risiko.\n",
    "\n",
    "\n",
    "## Recall: Anteil der tatsächlichen Mitglieder, die korrekt erkannt wurden\n",
    "- Recall ≈ 0: Angreifer erkennt fast kein Mitglied → sehr geringe Leakage.\n",
    "- Recall ≈ 0.5: Angreifer erkennt 50% der Mitglieder → besser als Zufall, mildes Risiko.\n",
    "- Recall ≈ 1: Angreifer erkennt alle Mitglieder → sehr hohes Risiko.\n",
    "\n",
    "\n",
    "## Macro-F1: Harmonie zwischen Precision und Recall (balancierter Mittelwert)\n",
    "- Macro-F1 ≈ 0: keine sinnvolle Erkennung (Precision & Recall schlecht).\n",
    "- Macro-F1 ≈ 0.5: durchschnittliche Performance, nahe Zufall → akzeptabel.\n",
    "- Macro-F1 ≈ 1: perfekte Erkennung → hohes Risiko.\n",
    "\n"
   ]
  }
 ],
 "metadata": {
  "kernelspec": {
   "display_name": "SynthEval",
   "language": "python",
   "name": "syntheval"
  },
  "language_info": {
   "codemirror_mode": {
    "name": "ipython",
    "version": 3
   },
   "file_extension": ".py",
   "mimetype": "text/x-python",
   "name": "python",
   "nbconvert_exporter": "python",
   "pygments_lexer": "ipython3",
   "version": "3.12.6"
  }
 },
 "nbformat": 4,
 "nbformat_minor": 2
}
