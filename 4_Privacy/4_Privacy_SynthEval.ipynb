{
 "cells": [
  {
   "cell_type": "markdown",
   "metadata": {},
   "source": [
    "# 1. Datengrundlage\n",
    "## 1.1 Import"
   ]
  },
  {
   "cell_type": "code",
   "execution_count": 2,
   "metadata": {},
   "outputs": [],
   "source": [
    "import pandas as pd\n",
    "from pathlib import Path\n",
    "from datetime import datetime\n",
    "\n",
    "current_timestamp = datetime.now().strftime(\"%Y%m%d_%H%M%S\")\n",
    "data_path = Path(\"../../data/\")\n",
    "\n",
    "file_real = data_path / \"20250301_data_20250421_133906_final_10_train.csv\"\n",
    "df_real = pd.read_csv(file_real, low_memory=False) # Use low_memory=False to prevent dtype issues with large files\n",
    "path_real = Path(file_real)\n",
    "# print(df_real.head())\n",
    "\n",
    "file_synth = data_path / \"20250301_data_20250421_133906_final_synth_10_epochs.csv\"\n",
    "df_synth = pd.read_csv(file_synth, low_memory=False) # Use low_memory=False to prevent dtype issues with large files\n",
    "path_synth = Path(file_synth)\n",
    "# print(df_synth.head())\n",
    "\n",
    "file_holdout = data_path / \"20250301_data_20250421_133906_final_10_holdout.csv\"\n",
    "df_holdout = pd.read_csv(file_holdout, low_memory=False) # Use low_memory=False to prevent dtype issues with large files\n",
    "path_holdout = Path(file_holdout)\n"
   ]
  },
  {
   "cell_type": "markdown",
   "metadata": {},
   "source": [
    "## 1.2 Col Description & Target"
   ]
  },
  {
   "cell_type": "code",
   "execution_count": 3,
   "metadata": {},
   "outputs": [],
   "source": [
    "target_col = 'icu_admission_24h'\n",
    "\n",
    "numerical_cols = ['age', 'temperature', 'heart_rate', 'respiratory_rate', 'oxygen_saturation', 'systolic_bp', 'diastolic_bp']\n",
    "categorical_cols = ['icu_admission_24h', 'gender', 'ethnicity', 'consciousness_level','news_score', 'night_arrival', 'weekend_arrival','chief_complaint', 'icd_block']"
   ]
  },
  {
   "cell_type": "code",
   "execution_count": 4,
   "metadata": {},
   "outputs": [],
   "source": [
    "use_subset = True\n",
    "subset_size = 1000"
   ]
  },
  {
   "cell_type": "code",
   "execution_count": 5,
   "metadata": {},
   "outputs": [],
   "source": [
    "if use_subset:\n",
    "    df_real     = df_real.sample(n=subset_size, random_state=42)\n",
    "    df_synth    = df_synth.sample(n=subset_size, random_state=42)\n",
    "    df_holdout  = df_holdout.sample(n=subset_size, random_state=42)"
   ]
  },
  {
   "cell_type": "markdown",
   "metadata": {},
   "source": [
    "# NNDR"
   ]
  },
  {
   "cell_type": "code",
   "execution_count": 6,
   "metadata": {},
   "outputs": [
    {
     "name": "stdout",
     "output_type": "stream",
     "text": [
      "SynthEval: synthetic data read successfully\n"
     ]
    },
    {
     "name": "stderr",
     "output_type": "stream",
     "text": [
      "Syntheval: nndr: 100%|██████████| 1/1 [00:00<00:00,  9.71it/s]"
     ]
    },
    {
     "name": "stdout",
     "output_type": "stream",
     "text": [
      "\n",
      "SynthEval results\n",
      "=================================================================\n",
      "\n",
      "Privacy metric description                    value   error                                 \n",
      "+---------------------------------------------------------------+\n",
      "| Nearest neighbour distance ratio         :   0.8991  0.0034   |\n",
      "| Privacy loss (diff. in NNDR)             :   -0.0039  0.0048   |\n",
      "+---------------------------------------------------------------+\n",
      "    \n"
     ]
    },
    {
     "name": "stderr",
     "output_type": "stream",
     "text": [
      "\n"
     ]
    },
    {
     "data": {
      "text/html": [
       "<div>\n",
       "<style scoped>\n",
       "    .dataframe tbody tr th:only-of-type {\n",
       "        vertical-align: middle;\n",
       "    }\n",
       "\n",
       "    .dataframe tbody tr th {\n",
       "        vertical-align: top;\n",
       "    }\n",
       "\n",
       "    .dataframe thead th {\n",
       "        text-align: right;\n",
       "    }\n",
       "</style>\n",
       "<table border=\"1\" class=\"dataframe\">\n",
       "  <thead>\n",
       "    <tr style=\"text-align: right;\">\n",
       "      <th></th>\n",
       "      <th>metric</th>\n",
       "      <th>dim</th>\n",
       "      <th>val</th>\n",
       "      <th>err</th>\n",
       "      <th>n_val</th>\n",
       "      <th>n_err</th>\n",
       "    </tr>\n",
       "  </thead>\n",
       "  <tbody>\n",
       "    <tr>\n",
       "      <th>0</th>\n",
       "      <td>avg_nndr</td>\n",
       "      <td>p</td>\n",
       "      <td>0.899082</td>\n",
       "      <td>0.003350</td>\n",
       "      <td>0.899082</td>\n",
       "      <td>0.00335</td>\n",
       "    </tr>\n",
       "    <tr>\n",
       "      <th>1</th>\n",
       "      <td>priv_loss_nndr</td>\n",
       "      <td>p</td>\n",
       "      <td>-0.003892</td>\n",
       "      <td>0.004829</td>\n",
       "      <td>0.996108</td>\n",
       "      <td>0.00335</td>\n",
       "    </tr>\n",
       "  </tbody>\n",
       "</table>\n",
       "</div>"
      ],
      "text/plain": [
       "           metric dim       val       err     n_val    n_err\n",
       "0        avg_nndr   p  0.899082  0.003350  0.899082  0.00335\n",
       "1  priv_loss_nndr   p -0.003892  0.004829  0.996108  0.00335"
      ]
     },
     "execution_count": 6,
     "metadata": {},
     "output_type": "execute_result"
    }
   ],
   "source": [
    "from syntheval import SynthEval\n",
    "\n",
    "# S = SynthEval(df_real_small, holdout_dataframe=df_holdout_small, cat_cols=categorical_columns)\n",
    "S = SynthEval(df_real, holdout_dataframe=df_holdout, cat_cols=categorical_cols)\n",
    "S.evaluate(df_synth, analysis_target_var=\"icu_admission_24h\",  nndr={})"
   ]
  },
  {
   "cell_type": "markdown",
   "metadata": {},
   "source": [
    "# NNAA"
   ]
  },
  {
   "cell_type": "code",
   "execution_count": 7,
   "metadata": {},
   "outputs": [
    {
     "name": "stdout",
     "output_type": "stream",
     "text": [
      "SynthEval: synthetic data read successfully\n"
     ]
    },
    {
     "name": "stderr",
     "output_type": "stream",
     "text": [
      "Syntheval: nnaa: 100%|██████████| 1/1 [00:00<00:00,  2.43it/s]"
     ]
    },
    {
     "name": "stdout",
     "output_type": "stream",
     "text": [
      "\n",
      "SynthEval results\n",
      "=================================================================\n",
      "\n",
      "Utility metric description                    value   error                                 \n",
      "+---------------------------------------------------------------+\n",
      "| Nearest neighbour adversarial accuracy   :   0.6605  0.0000   |\n",
      "+---------------------------------------------------------------+\n",
      "    \n",
      "Privacy metric description                    value   error                                 \n",
      "+---------------------------------------------------------------+\n",
      "| Privacy loss (diff. in NNAA)             :   -0.0030  0.0000   |\n",
      "+---------------------------------------------------------------+\n",
      "    \n"
     ]
    },
    {
     "name": "stderr",
     "output_type": "stream",
     "text": [
      "\n"
     ]
    },
    {
     "data": {
      "text/html": [
       "<div>\n",
       "<style scoped>\n",
       "    .dataframe tbody tr th:only-of-type {\n",
       "        vertical-align: middle;\n",
       "    }\n",
       "\n",
       "    .dataframe tbody tr th {\n",
       "        vertical-align: top;\n",
       "    }\n",
       "\n",
       "    .dataframe thead th {\n",
       "        text-align: right;\n",
       "    }\n",
       "</style>\n",
       "<table border=\"1\" class=\"dataframe\">\n",
       "  <thead>\n",
       "    <tr style=\"text-align: right;\">\n",
       "      <th></th>\n",
       "      <th>metric</th>\n",
       "      <th>dim</th>\n",
       "      <th>val</th>\n",
       "      <th>err</th>\n",
       "      <th>n_val</th>\n",
       "      <th>n_err</th>\n",
       "    </tr>\n",
       "  </thead>\n",
       "  <tbody>\n",
       "    <tr>\n",
       "      <th>0</th>\n",
       "      <td>nnaa</td>\n",
       "      <td>u</td>\n",
       "      <td>0.6605</td>\n",
       "      <td>0.0</td>\n",
       "      <td>0.3395</td>\n",
       "      <td>0.0</td>\n",
       "    </tr>\n",
       "    <tr>\n",
       "      <th>1</th>\n",
       "      <td>priv_loss_nnaa</td>\n",
       "      <td>p</td>\n",
       "      <td>-0.0030</td>\n",
       "      <td>0.0</td>\n",
       "      <td>0.9970</td>\n",
       "      <td>0.0</td>\n",
       "    </tr>\n",
       "  </tbody>\n",
       "</table>\n",
       "</div>"
      ],
      "text/plain": [
       "           metric dim     val  err   n_val  n_err\n",
       "0            nnaa   u  0.6605  0.0  0.3395    0.0\n",
       "1  priv_loss_nnaa   p -0.0030  0.0  0.9970    0.0"
      ]
     },
     "execution_count": 7,
     "metadata": {},
     "output_type": "execute_result"
    }
   ],
   "source": [
    "from syntheval import SynthEval\n",
    "\n",
    "# S = SynthEval(df_real_small, holdout_dataframe=df_holdout_small, cat_cols=categorical_columns)\n",
    "S = SynthEval(df_real, holdout_dataframe=df_holdout, cat_cols=categorical_cols)\n",
    "S.evaluate(df_synth, analysis_target_var=\"icu_admission_24h\",  nnaa={})"
   ]
  },
  {
   "cell_type": "markdown",
   "metadata": {},
   "source": [
    "# DCR"
   ]
  },
  {
   "cell_type": "code",
   "execution_count": 11,
   "metadata": {},
   "outputs": [
    {
     "name": "stdout",
     "output_type": "stream",
     "text": [
      "SynthEval: synthetic data read successfully\n"
     ]
    },
    {
     "name": "stderr",
     "output_type": "stream",
     "text": [
      "Syntheval: dcr: 100%|██████████| 1/1 [00:00<00:00,  1.41it/s]"
     ]
    },
    {
     "name": "stdout",
     "output_type": "stream",
     "text": [
      "\n",
      "SynthEval results\n",
      "=================================================================\n",
      "\n",
      "Privacy metric description                    value   error                                 \n",
      "+---------------------------------------------------------------+\n",
      "| Median distance to closest record        :   1.1575           |\n",
      "+---------------------------------------------------------------+\n",
      "    \n"
     ]
    },
    {
     "name": "stderr",
     "output_type": "stream",
     "text": [
      "\n"
     ]
    },
    {
     "data": {
      "text/html": [
       "<div>\n",
       "<style scoped>\n",
       "    .dataframe tbody tr th:only-of-type {\n",
       "        vertical-align: middle;\n",
       "    }\n",
       "\n",
       "    .dataframe tbody tr th {\n",
       "        vertical-align: top;\n",
       "    }\n",
       "\n",
       "    .dataframe thead th {\n",
       "        text-align: right;\n",
       "    }\n",
       "</style>\n",
       "<table border=\"1\" class=\"dataframe\">\n",
       "  <thead>\n",
       "    <tr style=\"text-align: right;\">\n",
       "      <th></th>\n",
       "      <th>metric</th>\n",
       "      <th>dim</th>\n",
       "      <th>val</th>\n",
       "      <th>err</th>\n",
       "      <th>n_val</th>\n",
       "      <th>n_err</th>\n",
       "    </tr>\n",
       "  </thead>\n",
       "  <tbody>\n",
       "    <tr>\n",
       "      <th>0</th>\n",
       "      <td>median_DCR</td>\n",
       "      <td>p</td>\n",
       "      <td>1.157522</td>\n",
       "      <td>NaN</td>\n",
       "      <td>0.820231</td>\n",
       "      <td>NaN</td>\n",
       "    </tr>\n",
       "  </tbody>\n",
       "</table>\n",
       "</div>"
      ],
      "text/plain": [
       "       metric dim       val  err     n_val  n_err\n",
       "0  median_DCR   p  1.157522  NaN  0.820231    NaN"
      ]
     },
     "execution_count": 11,
     "metadata": {},
     "output_type": "execute_result"
    }
   ],
   "source": [
    "from syntheval import SynthEval\n",
    "\n",
    "# S = SynthEval(df_real_small, holdout_dataframe=df_holdout_small, cat_cols=categorical_columns)\n",
    "S = SynthEval(df_real, holdout_dataframe=df_holdout, cat_cols=categorical_cols)\n",
    "S.evaluate(df_synth, dcr={})\n",
    "\n"
   ]
  },
  {
   "cell_type": "markdown",
   "metadata": {},
   "source": [
    "# Hitting-Rate"
   ]
  },
  {
   "cell_type": "code",
   "execution_count": 14,
   "metadata": {},
   "outputs": [
    {
     "name": "stdout",
     "output_type": "stream",
     "text": [
      "SynthEval: synthetic data read successfully\n"
     ]
    },
    {
     "name": "stderr",
     "output_type": "stream",
     "text": [
      "Syntheval: hit_rate: 100%|██████████| 1/1 [00:01<00:00,  1.01s/it]"
     ]
    },
    {
     "name": "stdout",
     "output_type": "stream",
     "text": [
      "\n",
      "SynthEval results\n",
      "=================================================================\n",
      "\n",
      "Privacy metric description                    value   error                                 \n",
      "+---------------------------------------------------------------+\n",
      "| Hitting rate (0.03 x range(att))         :   0.0000           |\n",
      "+---------------------------------------------------------------+\n",
      "    \n"
     ]
    },
    {
     "name": "stderr",
     "output_type": "stream",
     "text": [
      "\n"
     ]
    },
    {
     "data": {
      "text/html": [
       "<div>\n",
       "<style scoped>\n",
       "    .dataframe tbody tr th:only-of-type {\n",
       "        vertical-align: middle;\n",
       "    }\n",
       "\n",
       "    .dataframe tbody tr th {\n",
       "        vertical-align: top;\n",
       "    }\n",
       "\n",
       "    .dataframe thead th {\n",
       "        text-align: right;\n",
       "    }\n",
       "</style>\n",
       "<table border=\"1\" class=\"dataframe\">\n",
       "  <thead>\n",
       "    <tr style=\"text-align: right;\">\n",
       "      <th></th>\n",
       "      <th>metric</th>\n",
       "      <th>dim</th>\n",
       "      <th>val</th>\n",
       "      <th>err</th>\n",
       "      <th>n_val</th>\n",
       "      <th>n_err</th>\n",
       "    </tr>\n",
       "  </thead>\n",
       "  <tbody>\n",
       "    <tr>\n",
       "      <th>0</th>\n",
       "      <td>hit_rate</td>\n",
       "      <td>p</td>\n",
       "      <td>0.0</td>\n",
       "      <td>NaN</td>\n",
       "      <td>1.0</td>\n",
       "      <td>NaN</td>\n",
       "    </tr>\n",
       "  </tbody>\n",
       "</table>\n",
       "</div>"
      ],
      "text/plain": [
       "     metric dim  val  err  n_val  n_err\n",
       "0  hit_rate   p  0.0  NaN    1.0    NaN"
      ]
     },
     "execution_count": 14,
     "metadata": {},
     "output_type": "execute_result"
    }
   ],
   "source": [
    "from syntheval import SynthEval\n",
    "\n",
    "# S = SynthEval(df_real_small, holdout_dataframe=df_holdout_small, cat_cols=categorical_columns)\n",
    "S = SynthEval(df_real, holdout_dataframe=df_holdout, cat_cols=categorical_cols)\n",
    "S.evaluate(df_synth, analysis_target_var=\"icu_admission_24h\",  hit_rate={})"
   ]
  },
  {
   "cell_type": "markdown",
   "metadata": {},
   "source": [
    "# EPS Risk"
   ]
  },
  {
   "cell_type": "code",
   "execution_count": 15,
   "metadata": {},
   "outputs": [
    {
     "name": "stdout",
     "output_type": "stream",
     "text": [
      "SynthEval: synthetic data read successfully\n"
     ]
    },
    {
     "name": "stderr",
     "output_type": "stream",
     "text": [
      "Syntheval: eps_risk: 100%|██████████| 1/1 [00:00<00:00,  5.17it/s]"
     ]
    },
    {
     "name": "stdout",
     "output_type": "stream",
     "text": [
      "\n",
      "SynthEval results\n",
      "=================================================================\n",
      "\n",
      "Privacy metric description                    value   error                                 \n",
      "+---------------------------------------------------------------+\n",
      "| Epsilon identifiability risk             :   0.3270           |       \n",
      "| Privacy loss (diff. in eps. risk)        :   -0.0100           |\n",
      "+---------------------------------------------------------------+\n",
      "    \n"
     ]
    },
    {
     "name": "stderr",
     "output_type": "stream",
     "text": [
      "\n"
     ]
    },
    {
     "data": {
      "text/html": [
       "<div>\n",
       "<style scoped>\n",
       "    .dataframe tbody tr th:only-of-type {\n",
       "        vertical-align: middle;\n",
       "    }\n",
       "\n",
       "    .dataframe tbody tr th {\n",
       "        vertical-align: top;\n",
       "    }\n",
       "\n",
       "    .dataframe thead th {\n",
       "        text-align: right;\n",
       "    }\n",
       "</style>\n",
       "<table border=\"1\" class=\"dataframe\">\n",
       "  <thead>\n",
       "    <tr style=\"text-align: right;\">\n",
       "      <th></th>\n",
       "      <th>metric</th>\n",
       "      <th>dim</th>\n",
       "      <th>val</th>\n",
       "      <th>err</th>\n",
       "      <th>n_val</th>\n",
       "      <th>n_err</th>\n",
       "    </tr>\n",
       "  </thead>\n",
       "  <tbody>\n",
       "    <tr>\n",
       "      <th>0</th>\n",
       "      <td>eps_identif_risk</td>\n",
       "      <td>p</td>\n",
       "      <td>0.327</td>\n",
       "      <td>NaN</td>\n",
       "      <td>0.673</td>\n",
       "      <td>NaN</td>\n",
       "    </tr>\n",
       "    <tr>\n",
       "      <th>1</th>\n",
       "      <td>priv_loss_eps</td>\n",
       "      <td>p</td>\n",
       "      <td>-0.010</td>\n",
       "      <td>NaN</td>\n",
       "      <td>0.990</td>\n",
       "      <td>NaN</td>\n",
       "    </tr>\n",
       "  </tbody>\n",
       "</table>\n",
       "</div>"
      ],
      "text/plain": [
       "             metric dim    val  err  n_val  n_err\n",
       "0  eps_identif_risk   p  0.327  NaN  0.673    NaN\n",
       "1     priv_loss_eps   p -0.010  NaN  0.990    NaN"
      ]
     },
     "execution_count": 15,
     "metadata": {},
     "output_type": "execute_result"
    }
   ],
   "source": [
    "from syntheval import SynthEval\n",
    "\n",
    "# S = SynthEval(df_real_small, holdout_dataframe=df_holdout_small, cat_cols=categorical_columns)\n",
    "S = SynthEval(df_real, holdout_dataframe=df_holdout, cat_cols=categorical_cols)\n",
    "S.evaluate(df_synth, analysis_target_var=\"icu_admission_24h\",  eps_risk={})"
   ]
  },
  {
   "cell_type": "markdown",
   "metadata": {},
   "source": [
    "# MIA"
   ]
  },
  {
   "cell_type": "code",
   "execution_count": 16,
   "metadata": {},
   "outputs": [
    {
     "name": "stdout",
     "output_type": "stream",
     "text": [
      "SynthEval: synthetic data read successfully\n"
     ]
    },
    {
     "name": "stderr",
     "output_type": "stream",
     "text": [
      "Syntheval: mia_risk: 100%|██████████| 1/1 [00:00<00:00, 1000.07it/s]"
     ]
    },
    {
     "name": "stdout",
     "output_type": "stream",
     "text": [
      "Unrecognised keyword: mia_risk\n",
      "\n",
      "SynthEval results\n",
      "=================================================================\n",
      "\n"
     ]
    },
    {
     "name": "stderr",
     "output_type": "stream",
     "text": [
      "\n"
     ]
    }
   ],
   "source": [
    "from syntheval import SynthEval\n",
    "\n",
    "# S = SynthEval(df_real_small, holdout_dataframe=df_holdout_small, cat_cols=categorical_columns)\n",
    "S = SynthEval(df_real, holdout_dataframe=df_holdout, cat_cols=categorical_cols)\n",
    "S.evaluate(df_synth, analysis_target_var=\"icu_admission_24h\",  mia_risk={})"
   ]
  },
  {
   "cell_type": "markdown",
   "metadata": {},
   "source": [
    "# AIA"
   ]
  },
  {
   "cell_type": "code",
   "execution_count": 17,
   "metadata": {},
   "outputs": [
    {
     "name": "stdout",
     "output_type": "stream",
     "text": [
      "SynthEval: synthetic data read successfully\n"
     ]
    },
    {
     "name": "stderr",
     "output_type": "stream",
     "text": [
      "Syntheval: att_discl: 100%|██████████| 1/1 [00:06<00:00,  6.30s/it]"
     ]
    },
    {
     "name": "stdout",
     "output_type": "stream",
     "text": [
      "\n",
      "SynthEval results\n",
      "=================================================================\n",
      "\n",
      "Privacy metric description                    value   error                                 \n",
      "+---------------------------------------------------------------+\n",
      "| Attr. disclosure risk (acc. with holdout):   0.4274  0.0714   |\n",
      "+---------------------------------------------------------------+\n",
      "    \n"
     ]
    },
    {
     "name": "stderr",
     "output_type": "stream",
     "text": [
      "\n"
     ]
    },
    {
     "data": {
      "text/html": [
       "<div>\n",
       "<style scoped>\n",
       "    .dataframe tbody tr th:only-of-type {\n",
       "        vertical-align: middle;\n",
       "    }\n",
       "\n",
       "    .dataframe tbody tr th {\n",
       "        vertical-align: top;\n",
       "    }\n",
       "\n",
       "    .dataframe thead th {\n",
       "        text-align: right;\n",
       "    }\n",
       "</style>\n",
       "<table border=\"1\" class=\"dataframe\">\n",
       "  <thead>\n",
       "    <tr style=\"text-align: right;\">\n",
       "      <th></th>\n",
       "      <th>metric</th>\n",
       "      <th>dim</th>\n",
       "      <th>val</th>\n",
       "      <th>err</th>\n",
       "      <th>n_val</th>\n",
       "      <th>n_err</th>\n",
       "    </tr>\n",
       "  </thead>\n",
       "  <tbody>\n",
       "    <tr>\n",
       "      <th>0</th>\n",
       "      <td>att_discl_risk</td>\n",
       "      <td>p</td>\n",
       "      <td>0.427375</td>\n",
       "      <td>0.071382</td>\n",
       "      <td>0.572625</td>\n",
       "      <td>0.071382</td>\n",
       "    </tr>\n",
       "  </tbody>\n",
       "</table>\n",
       "</div>"
      ],
      "text/plain": [
       "           metric dim       val       err     n_val     n_err\n",
       "0  att_discl_risk   p  0.427375  0.071382  0.572625  0.071382"
      ]
     },
     "execution_count": 17,
     "metadata": {},
     "output_type": "execute_result"
    }
   ],
   "source": [
    "from syntheval import SynthEval\n",
    "\n",
    "# S = SynthEval(df_real_small, holdout_dataframe=df_holdout_small, cat_cols=categorical_columns)\n",
    "S = SynthEval(df_real, holdout_dataframe=df_holdout, cat_cols=categorical_cols)\n",
    "S.evaluate(df_synth, analysis_target_var=\"icu_admission_24h\",  att_discl={})"
   ]
  }
 ],
 "metadata": {
  "kernelspec": {
   "display_name": "SynthEval",
   "language": "python",
   "name": "syntheval"
  },
  "language_info": {
   "codemirror_mode": {
    "name": "ipython",
    "version": 3
   },
   "file_extension": ".py",
   "mimetype": "text/x-python",
   "name": "python",
   "nbconvert_exporter": "python",
   "pygments_lexer": "ipython3",
   "version": "3.12.4"
  }
 },
 "nbformat": 4,
 "nbformat_minor": 2
}
