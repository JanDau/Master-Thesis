{
 "cells": [
  {
   "cell_type": "markdown",
   "metadata": {},
   "source": [
    "# Imports"
   ]
  },
  {
   "cell_type": "code",
   "execution_count": 1,
   "metadata": {},
   "outputs": [],
   "source": [
    "from dataclasses import dataclass\n",
    "from pathlib import Path\n",
    "import pandas as pd\n",
    "from datetime import datetime\n",
    "import numpy as np\n",
    "import seaborn as sns\n",
    "from typing import Optional, Tuple, Union\n",
    "import matplotlib.pyplot as plt\n",
    "from syntheval import SynthEval"
   ]
  },
  {
   "cell_type": "markdown",
   "metadata": {},
   "source": [
    "# User Settings"
   ]
  },
  {
   "cell_type": "code",
   "execution_count": 2,
   "metadata": {},
   "outputs": [],
   "source": [
    "@dataclass\n",
    "class Config:\n",
    "    data_dir: Path = Path(\"../../data\")\n",
    "    figures_dir: Path = Path(\"figures\")\n",
    "    results_dir: Path = Path(\"results\")\n",
    "\n",
    "    real_file: str = \"20250301_data_20250510_122405_final_100_train.csv\"\n",
    "    synth_file: str = \"20250301_data_20250510_122405_final_100_synth.csv\"\n",
    "    holdout_file: str = \"20250301_data_20250510_122405_final_100_holdout.csv\"\n",
    "\n",
    "    random_seed: int = 42\n",
    "    sensitive_cols = [\"icu_admission_24h\", \"icd_block\"]\n",
    "\n",
    "    save_data: bool = True\n",
    "\n",
    "# Set my design\n",
    "sns.set_theme(\n",
    "    style=\"white\",\n",
    "    context=\"paper\",\n",
    "    palette=\"colorblind\",\n",
    "    rc={\n",
    "        \"font.family\": \"sans-serif\",\n",
    "        \"font.sans-serif\": [\"Arial\"],\n",
    "        \"font.size\": 7,\n",
    "        \"axes.titlesize\": 7,\n",
    "        \"axes.labelsize\": 7,\n",
    "        \"xtick.labelsize\": 7,\n",
    "        \"ytick.labelsize\": 7,\n",
    "        \"legend.fontsize\": 7\n",
    "    }\n",
    ")\n"
   ]
  },
  {
   "cell_type": "markdown",
   "metadata": {},
   "source": [
    "# Utility Functions"
   ]
  },
  {
   "cell_type": "code",
   "execution_count": 3,
   "metadata": {},
   "outputs": [],
   "source": [
    "def convert_dtypes(df: pd.DataFrame) -> pd.DataFrame:\n",
    "    \"\"\"\n",
    "    Konvertiert bestimmte Spalten des DataFrames in die gewünschten Datentypen:\n",
    "     - definierte Spalten als category\n",
    "     - definierte Spalten als pandas Nullable Integer (Int64)\n",
    "     - consciousness_level und news_score als geordnete Categoricals\n",
    "    \"\"\"\n",
    "    df = df.copy()  # Änderungen nicht am Original vornehmen\n",
    "\n",
    "    # 1) Kategorische Spalten\n",
    "    cat_cols = ['gender', 'ethnicity', 'chief_complaint', 'icd_block']\n",
    "    for col in cat_cols:\n",
    "        # df[col] = df[col].astype('category')\n",
    "        df[col] = df[col].astype('object') # 'category' führt zu Problemen mit dem OneHotEncoder\n",
    "\n",
    "    # 2) Integer-Spalten mit Nullable Integer dtype\n",
    "    int_cols = ['age', 'systolic_bp', 'diastolic_bp',\n",
    "                'heart_rate', 'respiratory_rate', 'oxygen_saturation']\n",
    "    for col in int_cols:\n",
    "        df[col] = df[col].astype('Int64')\n",
    "        # df[col] = df[col].astype('int32')\n",
    "\n",
    "    # 3) Geordnete Categoricals\n",
    "    df['consciousness_level'] = pd.Categorical(\n",
    "        df['consciousness_level'],\n",
    "        categories=['A', 'C', 'V', 'P', 'U'],\n",
    "        ordered=True\n",
    "    )\n",
    "    df['news_score'] = pd.Categorical(\n",
    "        df['news_score'],\n",
    "        categories=list(range(19)),\n",
    "        ordered=True\n",
    "    )\n",
    "\n",
    "    return df\n",
    "\n",
    "def load_data(\n",
    "    real_filename: Union[str, Path],\n",
    "    synth_filename: Optional[Union[str, Path]] = None,\n",
    "    holdout_filename: Optional[Union[str, Path]] = None,\n",
    "    data_dir: Path = None,\n",
    ") -> Tuple[pd.DataFrame, Optional[pd.DataFrame], Optional[pd.DataFrame]]:\n",
    "    \"\"\"\n",
    "    Lädt die realen, synthetischen und optionalen Holdout-CSV-Dateien\n",
    "    aus data_dir und wandelt sie über convert_dtypes um.\n",
    "\n",
    "    Returns:\n",
    "        df_real: pd.DataFrame\n",
    "        df_synth: Optional[pd.DataFrame]\n",
    "        df_holdout: Optional[pd.DataFrame]\n",
    "    \"\"\"\n",
    "    def _read_and_convert(fn: Union[str, Path]) -> pd.DataFrame:\n",
    "        return (\n",
    "            pd.read_csv(data_dir / fn, low_memory=False)\n",
    "              .pipe(convert_dtypes)\n",
    "        )\n",
    "\n",
    "    df_real    = _read_and_convert(real_filename)\n",
    "    df_synth   = _read_and_convert(synth_filename)   if synth_filename   else None\n",
    "    df_holdout = _read_and_convert(holdout_filename) if holdout_filename else None\n",
    "\n",
    "    return df_real, df_synth, df_holdout"
   ]
  },
  {
   "cell_type": "markdown",
   "metadata": {},
   "source": [
    "# Main Routine\n",
    "## Data Import"
   ]
  },
  {
   "cell_type": "code",
   "execution_count": 4,
   "metadata": {},
   "outputs": [],
   "source": [
    "cfg = Config()\n",
    "current_timestamp = datetime.now().strftime(\"%Y%m%d_%H%M%S\")\n",
    "\n",
    "df_train, df_synth, df_holdout = load_data(\n",
    "    cfg.real_file,\n",
    "    cfg.synth_file,\n",
    "    cfg.holdout_file,\n",
    "    data_dir=cfg.data_dir\n",
    ")\n",
    "\n",
    "df_holdout = df_holdout.dropna().reset_index(drop=True)"
   ]
  },
  {
   "cell_type": "code",
   "execution_count": 5,
   "metadata": {},
   "outputs": [
    {
     "name": "stdout",
     "output_type": "stream",
     "text": [
      "['gender', 'ethnicity', 'chief_complaint', 'night_arrival', 'weekend_arrival', 'icu_admission_24h', 'icd_block', 'consciousness_level', 'news_score']\n"
     ]
    }
   ],
   "source": [
    "num_cols = ['age', 'temperature', 'heart_rate', 'respiratory_rate', 'oxygen_saturation', 'systolic_bp', 'diastolic_bp']\n",
    "cat_cols = ['gender', 'ethnicity', 'chief_complaint', 'night_arrival', 'weekend_arrival', 'icu_admission_24h', 'icd_block']\n",
    "ord_cols = ['consciousness_level','news_score']\n",
    "\n",
    "cat_ord_cols = cat_cols + ord_cols\n",
    "print(cat_ord_cols)"
   ]
  },
  {
   "cell_type": "markdown",
   "metadata": {},
   "source": [
    "## Vor-Test / Debugging"
   ]
  },
  {
   "cell_type": "markdown",
   "metadata": {},
   "source": [
    "Die Funktion berechnet für jedes angegebene sensitive Attribut die Metriken Accuracy, Precision, usw. und gibt letztlich, bei Angabe mehrerer sensitiver Attribute, den Mittelwert und den SE aus.\n",
    "In der einfachen Ausgabe wird nur die Accuracy ausgegeben. Auf die anderen Metriken lässt sich via _raw_results zugreifen.\n",
    "\n",
    "\n",
    "Folgender Code erzeugt\n",
    "RuntimeWarning: Degrees of freedom <= 0 for slice\n",
    "  ret = _var(a, axis=axis, dtype=dtype, out=out, ddof=ddof,\n",
    "Wenn man nur mit einem sensitiven Attribut prüft → Wurden ignoriert."
   ]
  },
  {
   "cell_type": "code",
   "execution_count": 6,
   "metadata": {},
   "outputs": [],
   "source": [
    "# df_synth = df_synth.sample(n=1000, random_state=cfg.random_seed).reset_index(drop=True)\n",
    "# df_holdout = df_holdout.sample(n=1000, random_state=cfg.random_seed).reset_index(drop=True)\n",
    "\n",
    "# sens = ['icu_admission_24h']\n",
    "# cat_ord_cols.remove('icu_admission_24h')\n",
    "# cat_ord_cols.remove('icd_block')\n",
    "# df_holdout.drop(columns='icd_block', inplace=True)\n",
    "# df_synth.drop(columns='icd_block', inplace=True)"
   ]
  },
  {
   "cell_type": "code",
   "execution_count": 7,
   "metadata": {},
   "outputs": [],
   "source": [
    "# aia = SynthEval(real_dataframe=df_holdout, cat_cols=cat_ord_cols, verbose=False)\n",
    "# aia_res = aia.evaluate(df_synth, att_discl={'sensitive': sens})\n",
    "# aia_raw = aia._raw_results['att_discl'].copy()\n"
   ]
  },
  {
   "cell_type": "code",
   "execution_count": 8,
   "metadata": {},
   "outputs": [],
   "source": [
    "# # print(aia_res)\n",
    "# # print(aia_res['val'][0])\n",
    "\n",
    "# # print(aia_raw)\n",
    "# test = pd.DataFrame.from_dict(aia_raw, orient='index', columns=['value']).reset_index().rename(columns={'index': 'metric'})\n",
    "# print(test)\n"
   ]
  },
  {
   "cell_type": "markdown",
   "metadata": {},
   "source": [
    "## Functions\n",
    "### Calculation"
   ]
  },
  {
   "cell_type": "code",
   "execution_count": 9,
   "metadata": {},
   "outputs": [],
   "source": [
    "def run_attribute_disclosure(\n",
    "    real_df: pd.DataFrame,\n",
    "    synth_df: pd.DataFrame,\n",
    "    cat_cols: list[str],\n",
    "    sensitive_cols: list[str],\n",
    "    verbose: bool = False\n",
    ") -> pd.DataFrame:\n",
    "    \"\"\"\n",
    "    Führt für jedes sensitive Feature eine Attribute Disclosure Analyse durch.\n",
    "    \n",
    "    Args:\n",
    "        real_df: DataFrame, das als Testdaten dient (z.B. Holdout oder Train).\n",
    "        synth_df: DataFrame, auf dem das Angriffsmodell trainiert wird (synthetische Daten).\n",
    "        cat_cols: Liste aller kategorialen Spalten (inkl. aller sensitiven Features).\n",
    "        sensitive_cols: Liste der sensitiven Feature-Namen.\n",
    "        verbose: Ob SynthEval verbose laufen soll.\n",
    "    \n",
    "    Returns:\n",
    "        DataFrame mit den Disclosure-Metriken für jedes sensitive Feature.\n",
    "    \"\"\"\n",
    "    results_list = []\n",
    "\n",
    "    for sens in sensitive_cols:\n",
    "        # 1. aktuelles sensitive fokussieren\n",
    "        current_sensitive = [sens]\n",
    "\n",
    "        # 2. cat_cols ohne die anderen sens. Features\n",
    "        cat_cols_iter = [c for c in cat_cols if c in cat_cols and c not in [s for s in sensitive_cols if s != sens]]\n",
    "\n",
    "        # 3. droppe die anderen sensitiven Features aus den DataFrames\n",
    "        others = [s for s in sensitive_cols if s != sens]\n",
    "        real_iter = real_df.drop(columns=others, errors='ignore')\n",
    "        synth_iter = synth_df.drop(columns=others, errors='ignore')\n",
    "\n",
    "        # 4. SynthEval initialisieren\n",
    "        aia = SynthEval(\n",
    "            real_dataframe=real_iter,\n",
    "            cat_cols=cat_cols_iter,\n",
    "            verbose=verbose\n",
    "        )\n",
    "\n",
    "        # 5. ausführen\n",
    "        aia.evaluate(\n",
    "            synthetic_dataframe=synth_iter,\n",
    "            att_discl={'sensitive': current_sensitive}\n",
    "        )\n",
    "\n",
    "        # 6. rohdaten holen und in DataFrame transformieren\n",
    "        aia_raw = aia._raw_results['att_discl'].copy()\n",
    "        df_res = (\n",
    "            pd.DataFrame\n",
    "            .from_dict(aia_raw, orient='index', columns=['value'])\n",
    "            .reset_index()\n",
    "            .rename(columns={'index': 'metric'})\n",
    "        )\n",
    "        df_res['sensitive_feature'] = sens\n",
    "\n",
    "        results_list.append(df_res)\n",
    "\n",
    "    # 7. zusammenführen\n",
    "    final_results = pd.concat(results_list, ignore_index=True)\n",
    "    return final_results\n"
   ]
  },
  {
   "cell_type": "markdown",
   "metadata": {},
   "source": [
    "### Plotting Function"
   ]
  },
  {
   "cell_type": "code",
   "execution_count": 55,
   "metadata": {},
   "outputs": [],
   "source": [
    "def plot_attribute_disclosure(final_results: pd.DataFrame, fname_suffix: str):\n",
    "    \"\"\"\n",
    "    Plots radar charts of Attribute Disclosure metrics for each sensitive feature.\n",
    "\n",
    "    Args:\n",
    "        final_results: DataFrame with columns ['metric', 'value', 'sensitive_feature'].\n",
    "    \"\"\"\n",
    "    metrics = [\n",
    "        'Attr Dis accuracy',\n",
    "        'Attr Dis precision',\n",
    "        'Attr Dis recall',\n",
    "        'Attr Dis macro F1',\n",
    "    ]\n",
    "    metrics_short = ['Acc', 'Prec', 'Rec', 'M-F1']\n",
    "\n",
    "    # Winkel für das Radar Chart berechnen\n",
    "    angles = np.linspace(0, 2 * np.pi, len(metrics), endpoint=False).tolist()\n",
    "    angles += angles[:1]  # Kreis schließen\n",
    "\n",
    "    # Einzigartige sensitive Features\n",
    "    unique_features = final_results['sensitive_feature'].unique()\n",
    "    fig, axes = plt.subplots(\n",
    "        1,\n",
    "        len(unique_features),\n",
    "        subplot_kw=dict(polar=True),\n",
    "        figsize=(1.9 * len(unique_features), 1.9)\n",
    "    )\n",
    "\n",
    "    # Sicherstellen, dass axes iterierbar ist\n",
    "    if len(unique_features) == 1:\n",
    "        axes = [axes]\n",
    "\n",
    "    # Für jedes Feature einen Radar-Plot zeichnen\n",
    "    for ax, feature in zip(axes, unique_features):\n",
    "        df_attr = final_results[\n",
    "            (final_results['sensitive_feature'] == feature) &\n",
    "            (final_results['metric'].isin(metrics))\n",
    "        ]\n",
    "        values = df_attr['value'].tolist()\n",
    "        values += values[:1]\n",
    "\n",
    "        ax.plot(angles, values, marker='o')\n",
    "        ax.fill(angles, values, alpha=0.25)\n",
    "\n",
    "        ax.set_xticks(angles[:-1])\n",
    "        ax.set_rmin(0)\n",
    "        ax.set_rmax(1)\n",
    "        ax.set_rticks([0, 0.25, 0.5, 0.75, 1])\n",
    "        ax.set_yticklabels(['0', '', '0.5', '', '1'])\n",
    "        ax.set_xticklabels(metrics_short)\n",
    "        ax.xaxis.set_tick_params(pad=-3)\n",
    "        ax.set_title(feature, y=1.2)\n",
    "\n",
    "    plt.tight_layout()\n",
    "    if cfg.save_data:\n",
    "        fname = f'AIA_{fname_suffix}_{current_timestamp}.tiff'\n",
    "        fullpath = cfg.figures_dir / fname\n",
    "        plt.savefig(\n",
    "            fullpath,\n",
    "            dpi=300,\n",
    "            format='tiff',\n",
    "            bbox_inches='tight',\n",
    "            pil_kwargs={'compression': 'tiff_lzw'}\n",
    "        )\n",
    "        print(f\"Abbildung gespeichert unter: {fullpath}\")\n",
    "    plt.show()\n"
   ]
  },
  {
   "cell_type": "markdown",
   "metadata": {},
   "source": [
    "## Synth → Holdout"
   ]
  },
  {
   "cell_type": "markdown",
   "metadata": {},
   "source": [
    "### Code"
   ]
  },
  {
   "cell_type": "code",
   "execution_count": null,
   "metadata": {},
   "outputs": [
    {
     "name": "stderr",
     "output_type": "stream",
     "text": [
      "c:\\Masterarbeit\\venvs\\syntheval\\Lib\\site-packages\\numpy\\core\\_methods.py:206: RuntimeWarning: Degrees of freedom <= 0 for slice\n",
      "  ret = _var(a, axis=axis, dtype=dtype, out=out, ddof=ddof,\n",
      "c:\\Masterarbeit\\venvs\\syntheval\\Lib\\site-packages\\numpy\\core\\_methods.py:198: RuntimeWarning: invalid value encountered in scalar divide\n",
      "  ret = ret.dtype.type(ret / rcount)\n"
     ]
    },
    {
     "name": "stdout",
     "output_type": "stream",
     "text": [
      "Ergebnisse gespeichert unter: results\\AIA_Train_Synth_20250515_174654.csv\n"
     ]
    },
    {
     "name": "stderr",
     "output_type": "stream",
     "text": [
      "c:\\Masterarbeit\\venvs\\syntheval\\Lib\\site-packages\\numpy\\core\\_methods.py:206: RuntimeWarning: Degrees of freedom <= 0 for slice\n",
      "  ret = _var(a, axis=axis, dtype=dtype, out=out, ddof=ddof,\n",
      "c:\\Masterarbeit\\venvs\\syntheval\\Lib\\site-packages\\numpy\\core\\_methods.py:198: RuntimeWarning: invalid value encountered in scalar divide\n",
      "  ret = ret.dtype.type(ret / rcount)\n"
     ]
    }
   ],
   "source": [
    "df_sh = run_attribute_disclosure(\n",
    "    real_df=df_holdout,\n",
    "    synth_df=df_synth,\n",
    "    cat_cols=cat_ord_cols,\n",
    "    sensitive_cols=cfg.sensitive_cols,\n",
    "    verbose=False\n",
    ")\n",
    "\n",
    "if cfg.save_data:\n",
    "    fname = f'AIA_Holdout_Synth_{current_timestamp}.csv'\n",
    "    fullpath = cfg.results_dir / fname\n",
    "    df_sh.to_csv(fullpath, index=False, sep=';', encoding='utf-8', decimal=',')\n",
    "    print(f\"Ergebnisse gespeichert unter: {fullpath}\")"
   ]
  },
  {
   "cell_type": "markdown",
   "metadata": {},
   "source": [
    "### load instead"
   ]
  },
  {
   "cell_type": "code",
   "execution_count": 7,
   "metadata": {},
   "outputs": [],
   "source": [
    "df_sh = pd.read_csv(\n",
    "    cfg.results_dir / f'AIA_Holdout_Synth_20250515_174654.csv',\n",
    "    sep=';',\n",
    "    encoding='utf-8',\n",
    "    decimal=','\n",
    ")"
   ]
  },
  {
   "cell_type": "markdown",
   "metadata": {},
   "source": [
    "### Visualisierung"
   ]
  },
  {
   "cell_type": "code",
   "execution_count": 56,
   "metadata": {},
   "outputs": [
    {
     "name": "stdout",
     "output_type": "stream",
     "text": [
      "Abbildung gespeichert unter: figures\\AIA_synth_holdout_20250601_162135.tiff\n"
     ]
    },
    {
     "data": {
      "image/png": "[encoded data removed]",
      "text/plain": [
       "<Figure size 380x190 with 2 Axes>"
      ]
     },
     "metadata": {},
     "output_type": "display_data"
    }
   ],
   "source": [
    "plot_attribute_disclosure(df_sh, fname_suffix='synth_holdout')"
   ]
  },
  {
   "cell_type": "markdown",
   "metadata": {},
   "source": [
    "## Synthetic → Train\n",
    "### Berechnung"
   ]
  },
  {
   "cell_type": "code",
   "execution_count": 13,
   "metadata": {},
   "outputs": [
    {
     "name": "stderr",
     "output_type": "stream",
     "text": [
      "c:\\Masterarbeit\\venvs\\syntheval\\Lib\\site-packages\\numpy\\core\\_methods.py:206: RuntimeWarning: Degrees of freedom <= 0 for slice\n",
      "  ret = _var(a, axis=axis, dtype=dtype, out=out, ddof=ddof,\n",
      "c:\\Masterarbeit\\venvs\\syntheval\\Lib\\site-packages\\numpy\\core\\_methods.py:198: RuntimeWarning: invalid value encountered in scalar divide\n",
      "  ret = ret.dtype.type(ret / rcount)\n"
     ]
    },
    {
     "name": "stdout",
     "output_type": "stream",
     "text": [
      "Ergebnisse gespeichert unter: results\\AIA_Synth-Train_20250515_174654.csv\n"
     ]
    },
    {
     "name": "stderr",
     "output_type": "stream",
     "text": [
      "c:\\Masterarbeit\\venvs\\syntheval\\Lib\\site-packages\\numpy\\core\\_methods.py:206: RuntimeWarning: Degrees of freedom <= 0 for slice\n",
      "  ret = _var(a, axis=axis, dtype=dtype, out=out, ddof=ddof,\n",
      "c:\\Masterarbeit\\venvs\\syntheval\\Lib\\site-packages\\numpy\\core\\_methods.py:198: RuntimeWarning: invalid value encountered in scalar divide\n",
      "  ret = ret.dtype.type(ret / rcount)\n"
     ]
    }
   ],
   "source": [
    "df_st = run_attribute_disclosure(\n",
    "    real_df=df_train,\n",
    "    synth_df=df_synth,\n",
    "    cat_cols=cat_ord_cols,\n",
    "    sensitive_cols=cfg.sensitive_cols,\n",
    "    verbose=False\n",
    ")\n",
    "\n",
    "if cfg.save_data:\n",
    "    fname = f'AIA_Synth-Train_{current_timestamp}.csv'\n",
    "    fullpath = cfg.results_dir / fname\n",
    "    df_st.to_csv(fullpath, index=False, sep=';', encoding='utf-8', decimal=',')\n",
    "    print(f\"Ergebnisse gespeichert unter: {fullpath}\")"
   ]
  },
  {
   "cell_type": "code",
   "execution_count": 47,
   "metadata": {},
   "outputs": [],
   "source": [
    "df_st = pd.read_csv(\n",
    "    cfg.results_dir / f'AIA_Synth-Train_20250515_174654.csv',\n",
    "    sep=';',\n",
    "    encoding='utf-8',\n",
    "    decimal=','\n",
    ")"
   ]
  },
  {
   "cell_type": "markdown",
   "metadata": {},
   "source": [
    "### Visualisierung"
   ]
  },
  {
   "cell_type": "code",
   "execution_count": 57,
   "metadata": {},
   "outputs": [
    {
     "name": "stdout",
     "output_type": "stream",
     "text": [
      "Abbildung gespeichert unter: figures\\AIA_synth_train_20250601_162135.tiff\n"
     ]
    },
    {
     "data": {
      "image/png": "[encoded data removed]",
      "text/plain": [
       "<Figure size 380x190 with 2 Axes>"
      ]
     },
     "metadata": {},
     "output_type": "display_data"
    }
   ],
   "source": [
    "plot_attribute_disclosure(df_st, fname_suffix='synth_train')"
   ]
  },
  {
   "cell_type": "markdown",
   "metadata": {},
   "source": [
    "## Train → Holdout\n",
    "### Berechnung"
   ]
  },
  {
   "cell_type": "code",
   "execution_count": 15,
   "metadata": {},
   "outputs": [
    {
     "name": "stderr",
     "output_type": "stream",
     "text": [
      "c:\\Masterarbeit\\venvs\\syntheval\\Lib\\site-packages\\numpy\\core\\_methods.py:206: RuntimeWarning: Degrees of freedom <= 0 for slice\n",
      "  ret = _var(a, axis=axis, dtype=dtype, out=out, ddof=ddof,\n",
      "c:\\Masterarbeit\\venvs\\syntheval\\Lib\\site-packages\\numpy\\core\\_methods.py:198: RuntimeWarning: invalid value encountered in scalar divide\n",
      "  ret = ret.dtype.type(ret / rcount)\n"
     ]
    },
    {
     "name": "stdout",
     "output_type": "stream",
     "text": [
      "Ergebnisse gespeichert unter: results\\AIA_Train_Holdout_20250515_174654.csv\n"
     ]
    },
    {
     "name": "stderr",
     "output_type": "stream",
     "text": [
      "c:\\Masterarbeit\\venvs\\syntheval\\Lib\\site-packages\\numpy\\core\\_methods.py:206: RuntimeWarning: Degrees of freedom <= 0 for slice\n",
      "  ret = _var(a, axis=axis, dtype=dtype, out=out, ddof=ddof,\n",
      "c:\\Masterarbeit\\venvs\\syntheval\\Lib\\site-packages\\numpy\\core\\_methods.py:198: RuntimeWarning: invalid value encountered in scalar divide\n",
      "  ret = ret.dtype.type(ret / rcount)\n"
     ]
    }
   ],
   "source": [
    "df_th = run_attribute_disclosure(\n",
    "    real_df=df_holdout,\n",
    "    synth_df=df_train,\n",
    "    cat_cols=cat_ord_cols,\n",
    "    sensitive_cols=cfg.sensitive_cols,\n",
    "    verbose=False\n",
    ")\n",
    "\n",
    "if cfg.save_data:\n",
    "    fname = f'AIA_Train_Holdout_{current_timestamp}.csv'\n",
    "    fullpath = cfg.results_dir / fname\n",
    "    df_th.to_csv(fullpath, index=False, sep=';', encoding='utf-8', decimal=',')\n",
    "    print(f\"Ergebnisse gespeichert unter: {fullpath}\")"
   ]
  },
  {
   "cell_type": "code",
   "execution_count": 49,
   "metadata": {},
   "outputs": [],
   "source": [
    "df_th = pd.read_csv(\n",
    "    cfg.results_dir / f'AIA_Train_Holdout_20250515_174654.csv',\n",
    "    sep=';',\n",
    "    encoding='utf-8',\n",
    "    decimal=','\n",
    ")"
   ]
  },
  {
   "cell_type": "markdown",
   "metadata": {},
   "source": [
    "### Visualisierung"
   ]
  },
  {
   "cell_type": "code",
   "execution_count": 58,
   "metadata": {},
   "outputs": [
    {
     "name": "stdout",
     "output_type": "stream",
     "text": [
      "Abbildung gespeichert unter: figures\\AIA_train_holdout_20250601_162135.tiff\n"
     ]
    },
    {
     "data": {
      "image/png": "[encoded data removed]",
      "text/plain": [
       "<Figure size 380x190 with 2 Axes>"
      ]
     },
     "metadata": {},
     "output_type": "display_data"
    }
   ],
   "source": [
    "plot_attribute_disclosure(df_th, fname_suffix='train_holdout')"
   ]
  },
  {
   "cell_type": "markdown",
   "metadata": {},
   "source": [
    "# Interpretation\n",
    "✅ Accuracy\n",
    "→ Anteil der korrekt vorhergesagten Werte (egal ob Kategorie A oder B) an allen Vorhersagen.\n",
    "- 0.0: Angreifer liegt immer falsch → kein Risiko (sehr unwahrscheinlich).\n",
    "- 0.5: Angreifer rät wie Zufall → kein Privacy-Leakage.\n",
    "- 0.5 bis 1.0: Angreifer zunehmend besser als Zufall → steigendes Risiko.\n",
    "- 1.0: Angreifer immer korrekt → maximales Privacy-Risiko.\n",
    "\n",
    "\n",
    "✅ Precision (Präzision)\n",
    "→ Anteil der korrekt vorhergesagten positiven Klassen (z.B. „weiblich“) an allen vorhergesagten positiven Klassen.\n",
    "- 0.0: Alle vorhergesagten Attribute sind falsch → kein Risiko. (viele falsche positive → Angreifer oft daneben.)\n",
    "- 0.5: Hälfte der Vorhersagen korrekt → wie Zufall → kein signifikanter Leak.\n",
    "- 1.0: Alle vorhergesagten Attribute korrekt → sehr hohes Risiko. (Angreifer macht wenig falsche „Treffer“, ist „vorsichtig“.)\n",
    "\n",
    "\n",
    "✅ Recall (Sensitivität)\n",
    "→ Anteil der tatsächlichen positiven Klassen, die korrekt erkannt wurden.\n",
    "- 0.0: Kein einziges sensibles Attribut erkannt → sehr guter Privacy-Schutz. (Angreifer „übersieht“ viele → besserer Privacy-Schutz.)\n",
    "- 0.5: Hälfte der tatsächlichen Attribute erkannt → mittleres Risiko.\n",
    "- 1.0: alle Attribute korrekt erkannt → maximales Risiko. (Angreifer erkennt viele wahre Attribute.)\n",
    "\n",
    "\n",
    "✅ Macro-F1\n",
    "→ harmonischer Mittelwert aus Precision und Recall, gleichgewichtet über alle Klassen.\n",
    "- 0.0: Precision & Recall katastrophal → kein Leak.\n",
    "- 0.5: Angreifer wie Zufall → kein signifikanter Leak.\n",
    "- 1.0: Angreifer perfekt in Balance zwischen Precision & Recall → sehr hohes Risiko. (Angreifer hat echte Vorhersagekraft → Privacy-Risiko.)\n",
    "\n",
    "\n",
    "👉 Zusammenhang:\n",
    "Alle vier Metriken zeigen auf unterschiedliche Weise, wie erfolgreich ein Angreifer sensible Attribute aus synthetischen Daten vorhersagen kann.\n",
    "→ Je höher die Werte, desto größer das Privacy-Risiko. Je näher an 0.5 oder darunter, desto schlechter der Angreifer → geringeres Risiko.\n",
    "\n",
    "→ Besonders auf Macro-F1 achten: guter Gesamteindruck von Angriffsleistung.\n",
    "\n"
   ]
  }
 ],
 "metadata": {
  "kernelspec": {
   "display_name": "SynthEval",
   "language": "python",
   "name": "syntheval"
  },
  "language_info": {
   "codemirror_mode": {
    "name": "ipython",
    "version": 3
   },
   "file_extension": ".py",
   "mimetype": "text/x-python",
   "name": "python",
   "nbconvert_exporter": "python",
   "pygments_lexer": "ipython3",
   "version": "3.12.6"
  }
 },
 "nbformat": 4,
 "nbformat_minor": 2
}
