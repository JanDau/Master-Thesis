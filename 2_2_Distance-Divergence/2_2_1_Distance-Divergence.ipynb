{
 "cells": [
  {
   "cell_type": "markdown",
   "metadata": {},
   "source": [
    "# Code\n",
    "- **Primär für numerische Features**: \n",
    "   - Wasserstein-Distanz [0.0, ∞): 0.0 = identische Verteilungen; Höher = mehr „Transportarbeit“ zwischen Verteilungen\n",
    "      - Geeignet für: Numerische oder ordinal sortierte Daten (z. B. Einkommen, Alter)\n",
    "      - Misst, wie viel „Wahrscheinlichkeit“ verschoben werden muss, um die Verteilungen anzugleichen.\n",
    "      - Für kategoriale Daten nicht sinnvoll, es sei denn, eine Ordnung ist definiert.\n",
    "   - Hausdorff-Distanz [0.0, ∞): 0.0 = Punktmengen sind identisch oder vollständig überlappend; Höher = größerer Abstand der am weitesten entfernten Punkte\n",
    "      - Geeignet für: Mengen von Punkten (z. B. geometrische Formen, Sets)\n",
    "      - Extrem sensitiv auf Ausreißer – misst den maximalen minimalen Abstand. Für Verteilungen oder Durchschnittsverhalten nicht ideal.\n",
    "   - Cosine-Distanz [0.0, 1.0]: 0.0 = gleiche Richtung (hohe Ähnlichkeit); 1.0 = orthogonal (keine Ähnlichkeit)\n",
    "      - Geeignet für: Vektorielle Daten (z. B. Text-Vektoren, Häufigkeiten)\n",
    "      - Anmerkung: Unempfindlich gegenüber Betrag; misst nur den Winkel zwischen Vektoren. Gut für z. B. TF-IDF.\n",
    "\n",
    "- **Primär für kategoriale Features:**\n",
    "   - KL-Divergenz [0.0, ∞): 0.0 = Verteilungen sind identisch; Größere Werte = größere Abweichung von q zu p\n",
    "   - Reverse-KL-Divergenz [0.0, ∞): 0.0 = Verteilungen sind identisch; Größere Werte = größere Abweichung von p zu q (andere Richtung!)\n",
    "   - Jensen-Shannon-Divergenz [0.0, 1.0]: 0.0 = Verteilungen sind identisch; 1.0 = Verteilungen sind maximal unterschiedlich\n",
    "   - Hellinger-Distanz [0.0, 1.0]: 0.0 = Verteilungen sind identisch; 1.0 = Verteilungen sind maximal unterschiedlich\n",
    "   - Bhattacharyya-Distanz [0.0, ∞): 0.0 = identisch; Größere Werte = stärkere Unähnlichkeit\n",
    "   - Chi-Quadrat-Distanz [0.0, ∞): 0.0 = identisch; Größere Werte = größere Abweichung\n",
    "\n",
    "- **Für numerisch und kategorial:**\n",
    "   - Gower-Distanz [0.0, 1.0]: 0.0 = identisch; 1.0 = maximal unterschiedlich\n",
    "      - Geeignet für: Gemischte Datentypen (numerisch, ordinal, binär, kategorial)\n",
    "      - Anmerkung: Skaliert jede Variable einzeln und aggregiert – ideal für heterogene Datensätze. Robust und gut interpretierbar.\n",
    "\n",
    "Nach Binning sind viele kategoriale Metriken jedoch ebenfalls auf numerische Features anwendbar. Die Wahl der Bin‑Breite (z. B. 20 vs. 100 Bins) kann das Ergebnis stark beeinflussen:\n",
    "- Zu grobe Bins glätten Details\n",
    "- zu feine führen zu vielen Null‑Zellen (deshalb immer ein kleines 𝜀 addieren)\n",
    "\n",
    "**Weiteres:**\n",
    "- Für Cosine Similarity wird bei normalize=True aus [-1, 1] -> [0, 1] gemappt\n",
    "- Hellinger, Gower und JS (hier auf Basis von Natural‑Log umgerechnet) liegen bereits in [0,1] und bleiben unverändert.\n",
    "- Alle anderen Distanzen/Divergenzen werden mit d/(1+d) in [0,1] transformiert.\n",
    "\n",
    "# Imports"
   ]
  },
  {
   "cell_type": "code",
   "execution_count": 1,
   "metadata": {},
   "outputs": [],
   "source": [
    "import pandas as pd\n",
    "from pathlib import Path\n",
    "import numpy as np\n",
    "from pathlib import Path\n",
    "from typing import Optional, Tuple, Union\n",
    "import seaborn as sns\n",
    "import matplotlib.pyplot as plt\n",
    "from scipy.stats import wasserstein_distance\n",
    "from scipy.spatial.distance import directed_hausdorff\n",
    "from sklearn.metrics.pairwise import cosine_similarity\n",
    "from sklearn.preprocessing import MinMaxScaler\n",
    "import gower\n",
    "from scipy.special import rel_entr\n",
    "from scipy.spatial.distance import jensenshannon"
   ]
  },
  {
   "cell_type": "markdown",
   "metadata": {},
   "source": [
    "# User Configuration"
   ]
  },
  {
   "cell_type": "code",
   "execution_count": 5,
   "metadata": {},
   "outputs": [],
   "source": [
    "SAVE_FIGS = True\n",
    "SAVE_CSVS = True\n",
    "\n",
    "REAL_FILE = \"20250301_data_20250510_122405_final_100_train.csv\"\n",
    "SYNTH_FILE = \"20250301_data_20250510_122405_final_100_synth.csv\"\n",
    "HOLDOUT_FILE = \"20250301_data_20250510_122405_final_100_holdout.csv\"\n",
    "\n",
    "DATA_DIR = Path(\"../../data\")\n",
    "OUTPUT_DIR_FIG = Path(\"figures\")\n",
    "OUTPUT_DIR_FIG.mkdir(parents=True, exist_ok=True)  # ensure output folder exists\n",
    "OUTPUT_DIR_CSV = Path(\"results\")\n",
    "OUTPUT_DIR_CSV.mkdir(parents=True, exist_ok=True)  # ensure output folder exists\n",
    "\n",
    "# Set my design\n",
    "sns.set_theme(\n",
    "    style=\"white\",\n",
    "    context=\"paper\",\n",
    "    palette=\"colorblind\",\n",
    "    rc={\n",
    "        \"font.family\": \"sans-serif\",\n",
    "        \"font.sans-serif\": [\"Arial\"],\n",
    "        \"font.size\": 7,\n",
    "        \"axes.titlesize\": 7,\n",
    "        \"axes.labelsize\": 7,\n",
    "        \"xtick.labelsize\": 7,\n",
    "        \"ytick.labelsize\": 7,\n",
    "        \"legend.fontsize\": 7\n",
    "    }\n",
    ")\n"
   ]
  },
  {
   "cell_type": "markdown",
   "metadata": {},
   "source": [
    "# Utility Functions"
   ]
  },
  {
   "cell_type": "markdown",
   "metadata": {},
   "source": [
    "## Data Loading"
   ]
  },
  {
   "cell_type": "code",
   "execution_count": null,
   "metadata": {},
   "outputs": [],
   "source": [
    "def convert_dtypes(df: pd.DataFrame) -> pd.DataFrame:\n",
    "    \"\"\"\n",
    "    Konvertiert bestimmte Spalten des DataFrames in die gewünschten Datentypen:\n",
    "     - definierte Spalten als category\n",
    "     - definierte Spalten als pandas Nullable Integer (Int64)\n",
    "     - consciousness_level und news_score als geordnete Categoricals\n",
    "    \"\"\"\n",
    "    df = df.copy()  # Änderungen nicht am Original vornehmen\n",
    "\n",
    "    # 1) Kategorische Spalten\n",
    "    cat_cols = ['gender', 'ethnicity', 'chief_complaint', 'icd_block']\n",
    "    for col in cat_cols:\n",
    "        df[col] = df[col].astype('category')\n",
    "\n",
    "    # 2) Integer-Spalten mit Nullable Integer dtype\n",
    "    int_cols = ['age', 'systolic_bp', 'diastolic_bp',\n",
    "                'heart_rate', 'respiratory_rate', 'oxygen_saturation']\n",
    "    for col in int_cols:\n",
    "        df[col] = df[col].astype('Int64')\n",
    "\n",
    "    # 3) Geordnete Categoricals\n",
    "    df['consciousness_level'] = pd.Categorical(\n",
    "        df['consciousness_level'],\n",
    "        categories=['A', 'C', 'V', 'P', 'U'],\n",
    "        ordered=True\n",
    "    )\n",
    "    df['news_score'] = pd.Categorical(\n",
    "        df['news_score'],\n",
    "        categories=list(range(19)),\n",
    "        ordered=True\n",
    "    )\n",
    "\n",
    "    return df\n",
    "\n",
    "def load_data(\n",
    "    real_filename: Union[str, Path],\n",
    "    synth_filename: Optional[Union[str, Path]] = None,\n",
    "    holdout_filename: Optional[Union[str, Path]] = None,\n",
    "    data_dir: Path = DATA_DIR\n",
    ") -> Tuple[pd.DataFrame, Optional[pd.DataFrame], Optional[pd.DataFrame]]:\n",
    "    \"\"\"\n",
    "    Lädt die realen, synthetischen und optionalen Holdout-CSV-Dateien\n",
    "    aus data_dir und wandelt sie über convert_dtypes um.\n",
    "\n",
    "    Returns:\n",
    "        df_real: pd.DataFrame\n",
    "        df_synth: Optional[pd.DataFrame]\n",
    "        df_holdout: Optional[pd.DataFrame]\n",
    "    \"\"\"\n",
    "    def _read_and_convert(fn: Union[str, Path]) -> pd.DataFrame:\n",
    "        return (\n",
    "            pd.read_csv(data_dir / fn, low_memory=False)\n",
    "              .pipe(convert_dtypes)\n",
    "        )\n",
    "\n",
    "    df_real    = _read_and_convert(real_filename)\n",
    "    df_synth   = _read_and_convert(synth_filename)   if synth_filename   else None\n",
    "    df_holdout = _read_and_convert(holdout_filename) if holdout_filename else None\n",
    "\n",
    "    return df_real, df_synth, df_holdout"
   ]
  },
  {
   "cell_type": "markdown",
   "metadata": {},
   "source": [
    "## Numeric Metrics"
   ]
  },
  {
   "cell_type": "code",
   "execution_count": null,
   "metadata": {},
   "outputs": [],
   "source": [
    "def scale_minmax(df_real, df_synth, feature):\n",
    "    \"\"\"Skaliert die Daten mit Min-Max-Skalierung.\"\"\"\n",
    "    scaler = MinMaxScaler()\n",
    "    r = scaler.fit_transform(df_real[[feature]])\n",
    "    s = scaler.fit_transform(df_synth[[feature]])\n",
    "    return r, s\n",
    "\n",
    "def calc_wasserstein(r, s):\n",
    "    \"\"\"Berechnet die Wasserstein-Distanz.\"\"\"\n",
    "    return wasserstein_distance(r.ravel(), s.ravel())\n",
    "\n",
    "def calc_hausdorff(r, s):\n",
    "    \"\"\"Berechnet die Hausdorff-Distanz.\"\"\"\n",
    "    d_AB = directed_hausdorff(r, s)[0]\n",
    "    d_BA = directed_hausdorff(s, r)[0]\n",
    "    return max(d_AB, d_BA)\n",
    "\n",
    "def calc_cosine(r, s):\n",
    "    \"\"\"Berechnet die Cosine-Distanz.\"\"\"\n",
    "    similarity = cosine_similarity(r.T, s.T)[0][0]  # Eigentlich zwischen -1 (schlecht) und 1 (identisch) Wertebereich; bei Min-Max-Skalierung zwischen jedoch nur zwischen 0 und 1\n",
    "    return 1 - similarity  # (komplett unterschiedlich): 1, Identisch: 0\n",
    "\n",
    "def compare_distributions_num(df_real, df_synth, feature):\n",
    "    r, s = scale_minmax(df_real, df_synth, feature)\n",
    "    return {\n",
    "        \"feature\": feature,\n",
    "        \"wasserstein_distance\": calc_wasserstein(r, s),\n",
    "        \"hausdorff_distance\": calc_hausdorff(r, s),\n",
    "        \"cosine_distance\": calc_cosine(r, s),\n",
    "    }"
   ]
  },
  {
   "cell_type": "markdown",
   "metadata": {},
   "source": [
    "## Categorical Metrics"
   ]
  },
  {
   "cell_type": "code",
   "execution_count": null,
   "metadata": {},
   "outputs": [],
   "source": [
    "def compute_distributions(df_real, df_synth, feature):\n",
    "    \"\"\"Berechnet die Wahrscheinlichkeitsverteilungen für ein kategoriales Feature.\"\"\"\n",
    "    real_counts = df_real[feature].value_counts(normalize=True)\n",
    "    synth_counts = df_synth[feature].value_counts(normalize=True)\n",
    "    all_categories = sorted(set(real_counts.index).union(set(synth_counts.index)))\n",
    "    p = np.array([real_counts.get(cat, 0) for cat in all_categories])\n",
    "    q = np.array([synth_counts.get(cat, 0) for cat in all_categories])\n",
    "    return p, q\n",
    "\n",
    "def hellinger_distance(p, q):\n",
    "    \"\"\"Berechnet die Hellinger-Distanz zwischen zwei Verteilungen.\"\"\"\n",
    "    return np.sqrt(0.5 * np.sum((np.sqrt(p) - np.sqrt(q))**2))\n",
    "\n",
    "def kl_divergence(p, q):\n",
    "    \"\"\"Berechnet die KL-Divergenz D_KL(p || q). Fügt kleinen Wert hinzu, um Division durch 0 zu vermeiden.\"\"\"\n",
    "    epsilon = 1e-10\n",
    "    p = p + epsilon\n",
    "    q = q + epsilon\n",
    "    return np.sum(rel_entr(p, q))\n",
    "\n",
    "def reverse_kl_divergence(p, q):\n",
    "    \"\"\"Reverse KL-Divergenz D_KL(q || p).\"\"\"\n",
    "    return kl_divergence(q, p)\n",
    "\n",
    "def js_distance(p, q):\n",
    "    \"\"\"Jensen-Shannon-Distanz (symmetrische Wurzel der JS-Divergenz).\"\"\"\n",
    "    return jensenshannon(p, q)  # Gibt direkt die Quadratwurzel der JS-Divergenz zurück\n",
    "\n",
    "def bhattacharyya_distance(p, q):\n",
    "    \"\"\"Bhattacharyya-Distanz: kleiner = ähnlicher\"\"\"\n",
    "    bc = np.sum(np.sqrt(p * q))\n",
    "    return -np.log(bc + 1e-10)\n",
    "\n",
    "def chi2_distance(p, q):\n",
    "    \"\"\"Chi²-Distanz: robust gegen unterschiedliche Längen der Verteilungen\"\"\"\n",
    "    mask = (p + q) > 0  # Vermeidet Division durch 0\n",
    "    return 0.5 * np.sum(((p[mask] - q[mask])**2) / (p[mask] + q[mask]))\n",
    "\n",
    "def compare_distributions_cat(df_real, df_synth, feature):\n",
    "    p, q = compute_distributions(df_real, df_synth, feature)\n",
    "    return {\n",
    "        \"feature\": feature,\n",
    "        \"hellinger_distance\": hellinger_distance(p, q),\n",
    "        \"kl_divergence\": kl_divergence(p, q),\n",
    "        \"reverse_kl_divergence\": reverse_kl_divergence(p, q),\n",
    "        \"js_distance\": js_distance(p, q),\n",
    "        \"bhattacharyya_distance\": bhattacharyya_distance(p, q),\n",
    "        \"chi2_distance\": chi2_distance(p, q)\n",
    "    }"
   ]
  },
  {
   "cell_type": "markdown",
   "metadata": {},
   "source": [
    "## Gower"
   ]
  },
  {
   "cell_type": "code",
   "execution_count": null,
   "metadata": {},
   "outputs": [],
   "source": [
    "def calc_gower(df_real, df_synth, feature):\n",
    "    \"\"\"Berechnet die Gower-Distanz.\"\"\"\n",
    "\n",
    "    # Featuretyp erkennen\n",
    "    dtype = df_real[feature].dtype\n",
    "\n",
    "    if pd.api.types.is_numeric_dtype(dtype):\n",
    "        # Numerische Features\n",
    "        # 1. Min-Max-Skalierung\n",
    "        r, s = scale_minmax(df_real, df_synth, feature)\n",
    "        # 2. Umrechnung in float, da Int64 nicht unterstützt wird\n",
    "        r = r.astype(float)\n",
    "        s = s.astype(float)\n",
    "    else:\n",
    "        # Kategoriale Features\n",
    "        r = df_real[[feature]].copy().astype(object)\n",
    "        s = df_synth[[feature]].copy().astype(object)\n",
    "\n",
    "    # Gower-Distanzmatrix\n",
    "    dist_matrix = gower.gower_matrix(r, s)\n",
    "\n",
    "    return {\n",
    "        \"feature\": feature,\n",
    "        \"gower_distance\": dist_matrix.mean(),\n",
    "    }"
   ]
  },
  {
   "cell_type": "markdown",
   "metadata": {},
   "source": [
    "# Main Routine"
   ]
  },
  {
   "cell_type": "code",
   "execution_count": null,
   "metadata": {},
   "outputs": [],
   "source": [
    "df_real, df_synth, df_holdout = load_data(\n",
    "    REAL_FILE,\n",
    "    SYNTH_FILE,\n",
    "    HOLDOUT_FILE,\n",
    "    data_dir=DATA_DIR\n",
    ")\n",
    "num_attrs = df_real.select_dtypes(include=['number']).columns\n",
    "cat_attrs = df_real.select_dtypes(exclude=['number']).columns"
   ]
  },
  {
   "cell_type": "markdown",
   "metadata": {},
   "source": [
    "## Categoricals"
   ]
  },
  {
   "cell_type": "code",
   "execution_count": null,
   "metadata": {},
   "outputs": [],
   "source": [
    "res_cat = []\n",
    "\n",
    "for attr in cat_attrs:\n",
    "    res = compare_distributions_cat(df_real, df_synth, attr)\n",
    "    res_cat.append(res)\n",
    "\n",
    "df_results_cat = pd.DataFrame(res_cat)\n",
    "print(df_results_cat)"
   ]
  },
  {
   "cell_type": "markdown",
   "metadata": {},
   "source": [
    "## Numerics"
   ]
  },
  {
   "cell_type": "code",
   "execution_count": null,
   "metadata": {},
   "outputs": [],
   "source": [
    "res_num = []\n",
    "\n",
    "for attr in num_attrs:\n",
    "    res = compare_distributions_num(df_real, df_synth, attr)\n",
    "    res_num.append(res)\n",
    "\n",
    "df_results_num = pd.DataFrame(res_num)\n",
    "print(df_results_num)"
   ]
  },
  {
   "cell_type": "markdown",
   "metadata": {},
   "source": [
    "## Gower"
   ]
  },
  {
   "cell_type": "code",
   "execution_count": null,
   "metadata": {},
   "outputs": [],
   "source": [
    "# Laufzeit: 3 min per feature = 3 * 16 = 48 min\n",
    "res_gower = []\n",
    "all_attrs = df_real.columns.tolist()\n",
    "\n",
    "for attr in all_attrs:\n",
    "    print(f\"Calculating Gower distance for {attr}...\")\n",
    "    # res = calc_gower(df_real.sample(5000), df_synth.sample(5000), attr)\n",
    "    res = calc_gower(df_real, df_synth, attr)\n",
    "    res_gower.append(res)\n",
    "\n",
    "df_results_gower = pd.DataFrame(res_gower)\n",
    "print(df_results_gower)"
   ]
  },
  {
   "cell_type": "markdown",
   "metadata": {},
   "source": [
    "## Plotting"
   ]
  },
  {
   "cell_type": "code",
   "execution_count": null,
   "metadata": {},
   "outputs": [],
   "source": [
    "df_combined_cat = df_results_cat.merge(df_results_gower[['feature', 'gower_distance']], on='feature', how='left')\n",
    "# print(df_combined_cat)\n",
    "\n",
    "df_combined_num = df_results_num.merge(df_results_gower[['feature', 'gower_distance']], on='feature', how='left')\n",
    "# print(df_combined_num)"
   ]
  },
  {
   "cell_type": "markdown",
   "metadata": {},
   "source": [
    "### Numeric"
   ]
  },
  {
   "cell_type": "code",
   "execution_count": null,
   "metadata": {},
   "outputs": [],
   "source": [
    "df_plot_num = df_combined_num.set_index('feature')\n",
    "if SAVE_CSVS:\n",
    "    df_plot_num.to_csv(OUTPUT_DIR_CSV / \"numerical_features_distances.csv\", index=True, sep=';', decimal=',', encoding='utf-8')"
   ]
  },
  {
   "cell_type": "markdown",
   "metadata": {},
   "source": [
    "#### Load instead precalculated"
   ]
  },
  {
   "cell_type": "code",
   "execution_count": null,
   "metadata": {},
   "outputs": [],
   "source": [
    "# df_plot_num = pd.read_csv(OUTPUT_DIR_CSV / \"numerical_features_distances.csv\", sep=';', decimal=',', encoding='utf-8')\n",
    "# df_plot_num.set_index('feature', inplace=True)"
   ]
  },
  {
   "cell_type": "markdown",
   "metadata": {},
   "source": [
    "#### Plot"
   ]
  },
  {
   "cell_type": "code",
   "execution_count": 11,
   "metadata": {},
   "outputs": [],
   "source": [
    "# Umbenenen der Spalten\n",
    "df_plot_num = df_plot_num.rename(\n",
    "    columns={\n",
    "        \"wasserstein_distance\": \"Wasserstein\",\n",
    "        \"hausdorff_distance\": \"Hausdorff\",\n",
    "        \"cosine_distance\": \"Cosinus\",\n",
    "        \"gower_distance\": \"Gower\"\n",
    "    }\n",
    ")"
   ]
  },
  {
   "cell_type": "code",
   "execution_count": 29,
   "metadata": {},
   "outputs": [
    {
     "data": {
      "image/png": "[encoded data removed]",
      "text/plain": [
       "<Figure size 260x380 with 1 Axes>"
      ]
     },
     "metadata": {},
     "output_type": "display_data"
    }
   ],
   "source": [
    "fig, ax = plt.subplots(figsize=(2.6, 3.8))\n",
    "sns.heatmap(df_plot_num, annot=True, fmt=\".2f\", linewidths=0.5, vmin=0, vmax=1,\n",
    "            cmap=\"viridis\", cbar_kws={'label': 'Distance'}, cbar=False, ax=ax)\n",
    "ax.set_title(\"Numerical Features\")\n",
    "ax.set_xticklabels(ax.get_xticklabels(), rotation=45, ha='right')\n",
    "ax.set_ylabel(\"\")\n",
    "ax.set_xlabel(\"\")\n",
    "plt.tight_layout()\n",
    "if SAVE_FIGS:\n",
    "    OUTPUT_DIR_FIG.mkdir(parents=True, exist_ok=True)\n",
    "    fig.savefig(OUTPUT_DIR_FIG / \"num_features_distance_heatmap.tiff\",\n",
    "                dpi=300, format='tiff', bbox_inches='tight', pil_kwargs={'compression': 'tiff_lzw'})\n",
    "plt.show()\n",
    "plt.close(fig)"
   ]
  },
  {
   "cell_type": "markdown",
   "metadata": {},
   "source": [
    "### Categorical"
   ]
  },
  {
   "cell_type": "code",
   "execution_count": null,
   "metadata": {},
   "outputs": [],
   "source": [
    "df_plot_cat = df_combined_cat.set_index('feature')\n",
    "if SAVE_CSVS:\n",
    "    df_plot_cat.to_csv(OUTPUT_DIR_CSV / \"categorical_features_distances.csv\", index=True, sep=';', decimal=',', encoding='utf-8')"
   ]
  },
  {
   "cell_type": "markdown",
   "metadata": {},
   "source": [
    "#### Precalculated"
   ]
  },
  {
   "cell_type": "code",
   "execution_count": 20,
   "metadata": {},
   "outputs": [],
   "source": [
    "df_plot_cat = pd.read_csv(OUTPUT_DIR_CSV / \"categorical_features_distances.csv\", sep=';', decimal=',', encoding='utf-8')\n",
    "df_plot_cat.set_index('feature', inplace=True)"
   ]
  },
  {
   "cell_type": "code",
   "execution_count": 21,
   "metadata": {},
   "outputs": [],
   "source": [
    "df_plot_cat = df_plot_cat.rename(\n",
    "    columns={\n",
    "        \"hellinger_distance\": \"Hellinger\",\n",
    "        \"kl_divergence\": \"Kulback-L.\",\n",
    "        \"reverse_kl_divergence\": \"Rev. KL\",\n",
    "        \"js_distance\": \"Jens.-Sh.\",\n",
    "        \"bhattacharyya_distance\": \"Bhattac.\",\n",
    "        \"chi2_distance\": \"Chi-Square\",\n",
    "        \"gower_distance\": \"Gower\"\n",
    "    }\n",
    ")"
   ]
  },
  {
   "cell_type": "code",
   "execution_count": 30,
   "metadata": {},
   "outputs": [
    {
     "data": {
      "image/png": "[encoded data removed]",
      "text/plain": [
       "<Figure size 460x380 with 2 Axes>"
      ]
     },
     "metadata": {},
     "output_type": "display_data"
    }
   ],
   "source": [
    "fig, ax = plt.subplots(figsize=(4.6, 3.8))\n",
    "sns.heatmap(df_plot_cat, annot=True, fmt=\".2f\", linewidths=0.5, vmin=0, vmax=1,\n",
    "            cmap=\"viridis\", cbar_kws={'label': 'Distance'}, ax=ax)\n",
    "ax.set_title(\"Categorical Features\")\n",
    "ax.set_xticklabels(ax.get_xticklabels(), rotation=45, ha='right')\n",
    "ax.set_ylabel(\"\")\n",
    "ax.set_xlabel(\"\")\n",
    "plt.tight_layout()\n",
    "if SAVE_FIGS:\n",
    "    OUTPUT_DIR_FIG.mkdir(parents=True, exist_ok=True)\n",
    "    fig.savefig(OUTPUT_DIR_FIG / \"cat_features_distance_heatmap.tiff\",\n",
    "                dpi=300, format='tiff', bbox_inches='tight', pil_kwargs={'compression': 'tiff_lzw'})\n",
    "plt.show()\n",
    "plt.close(fig)"
   ]
  },
  {
   "cell_type": "code",
   "execution_count": 24,
   "metadata": {},
   "outputs": [
    {
     "data": {
      "text/html": [
       "<div>\n",
       "<style scoped>\n",
       "    .dataframe tbody tr th:only-of-type {\n",
       "        vertical-align: middle;\n",
       "    }\n",
       "\n",
       "    .dataframe tbody tr th {\n",
       "        vertical-align: top;\n",
       "    }\n",
       "\n",
       "    .dataframe thead th {\n",
       "        text-align: right;\n",
       "    }\n",
       "</style>\n",
       "<table border=\"1\" class=\"dataframe\">\n",
       "  <thead>\n",
       "    <tr style=\"text-align: right;\">\n",
       "      <th></th>\n",
       "      <th>hellinger_distance</th>\n",
       "      <th>kl_divergence</th>\n",
       "      <th>reverse_kl_divergence</th>\n",
       "      <th>js_distance</th>\n",
       "      <th>bhattacharyya_distance</th>\n",
       "      <th>chi2_distance</th>\n",
       "      <th>gower_distance</th>\n",
       "    </tr>\n",
       "    <tr>\n",
       "      <th>feature</th>\n",
       "      <th></th>\n",
       "      <th></th>\n",
       "      <th></th>\n",
       "      <th></th>\n",
       "      <th></th>\n",
       "      <th></th>\n",
       "      <th></th>\n",
       "    </tr>\n",
       "  </thead>\n",
       "  <tbody>\n",
       "    <tr>\n",
       "      <th>icu_admission_24h</th>\n",
       "      <td>0.033788</td>\n",
       "      <td>0.004757</td>\n",
       "      <td>0.004389</td>\n",
       "      <td>0.033764</td>\n",
       "      <td>0.001142</td>\n",
       "      <td>0.002274</td>\n",
       "      <td>0.194298</td>\n",
       "    </tr>\n",
       "    <tr>\n",
       "      <th>gender</th>\n",
       "      <td>0.053342</td>\n",
       "      <td>0.011448</td>\n",
       "      <td>0.011327</td>\n",
       "      <td>0.053329</td>\n",
       "      <td>0.002849</td>\n",
       "      <td>0.005682</td>\n",
       "      <td>0.497913</td>\n",
       "    </tr>\n",
       "    <tr>\n",
       "      <th>ethnicity</th>\n",
       "      <td>0.058898</td>\n",
       "      <td>0.012447</td>\n",
       "      <td>0.015736</td>\n",
       "      <td>0.058462</td>\n",
       "      <td>0.003475</td>\n",
       "      <td>0.006647</td>\n",
       "      <td>0.527034</td>\n",
       "    </tr>\n",
       "    <tr>\n",
       "      <th>consciousness_level</th>\n",
       "      <td>0.083832</td>\n",
       "      <td>0.052069</td>\n",
       "      <td>0.022826</td>\n",
       "      <td>0.081614</td>\n",
       "      <td>0.007053</td>\n",
       "      <td>0.012497</td>\n",
       "      <td>0.109948</td>\n",
       "    </tr>\n",
       "    <tr>\n",
       "      <th>news_score</th>\n",
       "      <td>0.080627</td>\n",
       "      <td>0.044944</td>\n",
       "      <td>0.023859</td>\n",
       "      <td>0.078832</td>\n",
       "      <td>0.006522</td>\n",
       "      <td>0.011939</td>\n",
       "      <td>0.755393</td>\n",
       "    </tr>\n",
       "    <tr>\n",
       "      <th>night_arrival</th>\n",
       "      <td>0.008084</td>\n",
       "      <td>0.000263</td>\n",
       "      <td>0.000260</td>\n",
       "      <td>0.008084</td>\n",
       "      <td>0.000065</td>\n",
       "      <td>0.000131</td>\n",
       "      <td>0.298675</td>\n",
       "    </tr>\n",
       "    <tr>\n",
       "      <th>weekend_arrival</th>\n",
       "      <td>0.109946</td>\n",
       "      <td>0.047004</td>\n",
       "      <td>0.049965</td>\n",
       "      <td>0.109796</td>\n",
       "      <td>0.012162</td>\n",
       "      <td>0.023981</td>\n",
       "      <td>0.472358</td>\n",
       "    </tr>\n",
       "    <tr>\n",
       "      <th>chief_complaint</th>\n",
       "      <td>0.148633</td>\n",
       "      <td>0.087221</td>\n",
       "      <td>0.091873</td>\n",
       "      <td>0.147684</td>\n",
       "      <td>0.022339</td>\n",
       "      <td>0.042570</td>\n",
       "      <td>0.920217</td>\n",
       "    </tr>\n",
       "    <tr>\n",
       "      <th>icd_block</th>\n",
       "      <td>0.206725</td>\n",
       "      <td>0.170120</td>\n",
       "      <td>0.178222</td>\n",
       "      <td>0.204926</td>\n",
       "      <td>0.043675</td>\n",
       "      <td>0.081337</td>\n",
       "      <td>0.984838</td>\n",
       "    </tr>\n",
       "  </tbody>\n",
       "</table>\n",
       "</div>"
      ],
      "text/plain": [
       "                     hellinger_distance  kl_divergence  reverse_kl_divergence  \\\n",
       "feature                                                                         \n",
       "icu_admission_24h              0.033788       0.004757               0.004389   \n",
       "gender                         0.053342       0.011448               0.011327   \n",
       "ethnicity                      0.058898       0.012447               0.015736   \n",
       "consciousness_level            0.083832       0.052069               0.022826   \n",
       "news_score                     0.080627       0.044944               0.023859   \n",
       "night_arrival                  0.008084       0.000263               0.000260   \n",
       "weekend_arrival                0.109946       0.047004               0.049965   \n",
       "chief_complaint                0.148633       0.087221               0.091873   \n",
       "icd_block                      0.206725       0.170120               0.178222   \n",
       "\n",
       "                     js_distance  bhattacharyya_distance  chi2_distance  \\\n",
       "feature                                                                   \n",
       "icu_admission_24h       0.033764                0.001142       0.002274   \n",
       "gender                  0.053329                0.002849       0.005682   \n",
       "ethnicity               0.058462                0.003475       0.006647   \n",
       "consciousness_level     0.081614                0.007053       0.012497   \n",
       "news_score              0.078832                0.006522       0.011939   \n",
       "night_arrival           0.008084                0.000065       0.000131   \n",
       "weekend_arrival         0.109796                0.012162       0.023981   \n",
       "chief_complaint         0.147684                0.022339       0.042570   \n",
       "icd_block               0.204926                0.043675       0.081337   \n",
       "\n",
       "                     gower_distance  \n",
       "feature                              \n",
       "icu_admission_24h          0.194298  \n",
       "gender                     0.497913  \n",
       "ethnicity                  0.527034  \n",
       "consciousness_level        0.109948  \n",
       "news_score                 0.755393  \n",
       "night_arrival              0.298675  \n",
       "weekend_arrival            0.472358  \n",
       "chief_complaint            0.920217  \n",
       "icd_block                  0.984838  "
      ]
     },
     "metadata": {},
     "output_type": "display_data"
    }
   ],
   "source": [
    "display(df_plot_cat)"
   ]
  }
 ],
 "metadata": {
  "kernelspec": {
   "display_name": "General Purpose",
   "language": "python",
   "name": "venv"
  },
  "language_info": {
   "codemirror_mode": {
    "name": "ipython",
    "version": 3
   },
   "file_extension": ".py",
   "mimetype": "text/x-python",
   "name": "python",
   "nbconvert_exporter": "python",
   "pygments_lexer": "ipython3",
   "version": "3.12.4"
  }
 },
 "nbformat": 4,
 "nbformat_minor": 2
}
