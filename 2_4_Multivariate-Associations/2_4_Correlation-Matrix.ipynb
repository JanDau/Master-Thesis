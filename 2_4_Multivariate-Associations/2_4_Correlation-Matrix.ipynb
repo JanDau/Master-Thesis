{
 "cells": [
  {
   "cell_type": "markdown",
   "metadata": {},
   "source": [
    "# Imports"
   ]
  },
  {
   "cell_type": "code",
   "execution_count": 1,
   "metadata": {},
   "outputs": [],
   "source": [
    "import pandas as pd\n",
    "from pathlib import Path\n",
    "import numpy as np\n",
    "from typing import Optional, Tuple, Union\n",
    "import seaborn as sns\n",
    "from syntheval import SynthEval\n",
    "from datetime import datetime\n",
    "import matplotlib.pyplot as plt"
   ]
  },
  {
   "cell_type": "code",
   "execution_count": 2,
   "metadata": {},
   "outputs": [],
   "source": [
    "SAVE_FIG = True\n",
    "\n",
    "REAL_FILE = \"20250301_data_20250510_122405_final_100_train.csv\"\n",
    "SYNTH_FILE = \"20250301_data_20250510_122405_final_100_synth.csv\"\n",
    "HOLDOUT_FILE = \"20250301_data_20250510_122405_final_100_holdout.csv\"\n",
    "\n",
    "DATA_DIR = Path(\"../../data\")\n",
    "OUTPUT_DIR_FIG = Path(\"figures\")\n",
    "OUTPUT_DIR_FIG.mkdir(parents=True, exist_ok=True)  # ensure output folder exists\n",
    "\n",
    "sns.set_theme(\n",
    "    style=\"white\",\n",
    "    context=\"paper\",\n",
    "    palette=\"colorblind\",\n",
    "    rc={\n",
    "        \"font.family\": \"sans-serif\",\n",
    "        \"font.sans-serif\": [\"Arial\"],\n",
    "        \"font.size\": 7,\n",
    "        \"axes.titlesize\": 7,\n",
    "        \"axes.labelsize\": 7,\n",
    "        \"xtick.labelsize\": 7,\n",
    "        \"ytick.labelsize\": 7,\n",
    "        \"legend.fontsize\": 7\n",
    "    }\n",
    ")"
   ]
  },
  {
   "cell_type": "markdown",
   "metadata": {},
   "source": [
    "# Utility Functions"
   ]
  },
  {
   "cell_type": "code",
   "execution_count": 3,
   "metadata": {},
   "outputs": [],
   "source": [
    "def convert_dtypes(df: pd.DataFrame) -> pd.DataFrame:\n",
    "    \"\"\"\n",
    "    Konvertiert bestimmte Spalten des DataFrames in die gewünschten Datentypen:\n",
    "     - definierte Spalten als category\n",
    "     - definierte Spalten als pandas Nullable Integer (Int64)\n",
    "     - consciousness_level und news_score als geordnete Categoricals\n",
    "    \"\"\"\n",
    "    df = df.copy()  # Änderungen nicht am Original vornehmen\n",
    "\n",
    "    # 1) Kategorische Spalten\n",
    "    cat_cols = ['gender', 'ethnicity', 'chief_complaint', 'icd_block']\n",
    "    for col in cat_cols:\n",
    "        df[col] = df[col].astype('category')\n",
    "\n",
    "    # 2) Integer-Spalten mit Nullable Integer dtype\n",
    "    int_cols = ['age', 'systolic_bp', 'diastolic_bp',\n",
    "                'heart_rate', 'respiratory_rate', 'oxygen_saturation']\n",
    "    for col in int_cols:\n",
    "        df[col] = df[col].astype('Int64')\n",
    "\n",
    "    # 3) Geordnete Categoricals\n",
    "    df['consciousness_level'] = pd.Categorical(\n",
    "        df['consciousness_level'],\n",
    "        categories=['A', 'C', 'V', 'P', 'U'],\n",
    "        ordered=True\n",
    "    )\n",
    "    df['news_score'] = pd.Categorical(\n",
    "        df['news_score'],\n",
    "        categories=list(range(19)),\n",
    "        ordered=True\n",
    "    )\n",
    "\n",
    "    return df\n",
    "\n",
    "def load_data(\n",
    "    real_filename: Union[str, Path],\n",
    "    synth_filename: Optional[Union[str, Path]] = None,\n",
    "    holdout_filename: Optional[Union[str, Path]] = None,\n",
    "    data_dir: Path = DATA_DIR\n",
    ") -> Tuple[pd.DataFrame, Optional[pd.DataFrame], Optional[pd.DataFrame]]:\n",
    "    \"\"\"\n",
    "    Lädt die realen, synthetischen und optionalen Holdout-CSV-Dateien\n",
    "    aus data_dir und wandelt sie über convert_dtypes um.\n",
    "\n",
    "    Returns:\n",
    "        df_real: pd.DataFrame\n",
    "        df_synth: Optional[pd.DataFrame]\n",
    "        df_holdout: Optional[pd.DataFrame]\n",
    "    \"\"\"\n",
    "    def _read_and_convert(fn: Union[str, Path]) -> pd.DataFrame:\n",
    "        return (\n",
    "            pd.read_csv(data_dir / fn, low_memory=False)\n",
    "              .pipe(convert_dtypes)\n",
    "        )\n",
    "\n",
    "    df_real    = _read_and_convert(real_filename)\n",
    "    df_synth   = _read_and_convert(synth_filename)   if synth_filename   else None\n",
    "    df_holdout = _read_and_convert(holdout_filename) if holdout_filename else None\n",
    "\n",
    "    return df_real, df_synth, df_holdout"
   ]
  },
  {
   "cell_type": "markdown",
   "metadata": {},
   "source": [
    "# Main Routine"
   ]
  },
  {
   "cell_type": "code",
   "execution_count": 4,
   "metadata": {},
   "outputs": [],
   "source": [
    "df_real, df_synth, df_holdout = load_data(\n",
    "    REAL_FILE,\n",
    "    SYNTH_FILE,\n",
    "    HOLDOUT_FILE,\n",
    "    data_dir=DATA_DIR\n",
    ")"
   ]
  },
  {
   "cell_type": "code",
   "execution_count": 5,
   "metadata": {},
   "outputs": [],
   "source": [
    "num_attrs = df_real.select_dtypes(include=['number']).columns\n",
    "cat_attrs = df_real.select_dtypes(exclude=['number']).columns"
   ]
  },
  {
   "cell_type": "markdown",
   "metadata": {},
   "source": [
    "## Correlation Matrix"
   ]
  },
  {
   "cell_type": "code",
   "execution_count": null,
   "metadata": {},
   "outputs": [
    {
     "name": "stdout",
     "output_type": "stream",
     "text": [
      "       age chief_complaint consciousness_level  diastolic_bp ethnicity gender  \\\n",
      "0       71           Other                   V            77     White      M   \n",
      "1       91  abdominal pain                   A            47     White      M   \n",
      "2       87      food bolus                   A            90     White      F   \n",
      "3       87           Other                   V            80     White      F   \n",
      "4       83           fever                   A            87     White      M   \n",
      "...    ...             ...                 ...           ...       ...    ...   \n",
      "98234   62           Other                   A            98     White      F   \n",
      "98235   61           Other                   A            91     Other      M   \n",
      "98236   45      flank pain                   A            68     White      F   \n",
      "98237   48           Other                   A           108     White      F   \n",
      "98238   65           Other                   A            56     White      M   \n",
      "\n",
      "       heart_rate icd_block  icu_admission_24h news_score  night_arrival  \\\n",
      "0              62   B15-B19              False          3          False   \n",
      "1              70   K80-K87              False          0           True   \n",
      "2              80   K20-K31              False          0          False   \n",
      "3              68   E20-E35              False          3          False   \n",
      "4              86   K80-K87              False          0           True   \n",
      "...           ...       ...                ...        ...            ...   \n",
      "98234          59   D49-D49              False          2          False   \n",
      "98235         102   Q20-Q28              False          2          False   \n",
      "98236          64   N99-N99              False          0           True   \n",
      "98237          85   K55-K64              False          0          False   \n",
      "98238          71   T80-T88              False          0          False   \n",
      "\n",
      "       oxygen_saturation  respiratory_rate  systolic_bp  temperature  \\\n",
      "0                     96                16          121         36.8   \n",
      "1                    100                18          123         36.6   \n",
      "2                     97                18          200         37.1   \n",
      "3                     96                20          120         37.4   \n",
      "4                     98                15          152         37.8   \n",
      "...                  ...               ...          ...          ...   \n",
      "98234                 97                21          132         37.0   \n",
      "98235                 95                14          149         37.1   \n",
      "98236                 99                18          111         36.3   \n",
      "98237                 98                17          123         36.9   \n",
      "98238                 98                20          140         36.8   \n",
      "\n",
      "       weekend_arrival  \n",
      "0                False  \n",
      "1                False  \n",
      "2                False  \n",
      "3                False  \n",
      "4                 True  \n",
      "...                ...  \n",
      "98234             True  \n",
      "98235            False  \n",
      "98236            False  \n",
      "98237            False  \n",
      "98238             True  \n",
      "\n",
      "[98239 rows x 16 columns]\n"
     ]
    }
   ],
   "source": [
    "df_real = df_real[sorted(df_real.columns)]\n",
    "df_synth = df_synth[sorted(df_synth.columns)]"
   ]
  },
  {
   "cell_type": "code",
   "execution_count": 23,
   "metadata": {},
   "outputs": [
    {
     "name": "stdout",
     "output_type": "stream",
     "text": [
      "SynthEval: synthetic data read successfully\n"
     ]
    },
    {
     "name": "stderr",
     "output_type": "stream",
     "text": [
      "Syntheval: corr_diff: 100%|██████████| 1/1 [00:03<00:00,  3.25s/it]\n"
     ]
    },
    {
     "name": "stdout",
     "output_type": "stream",
     "text": [
      "\n",
      "SynthEval results\n",
      "=================================================================\n",
      "\n",
      "Utility metric description                    value   error                                 \n",
      "+---------------------------------------------------------------+\n",
      "| Mixed correlation matrix difference      :   1.3344           |\n",
      "+---------------------------------------------------------------+\n",
      "    \n"
     ]
    }
   ],
   "source": [
    "# Laufzeit: 5s\n",
    "ts = datetime.now().strftime(\"%Y%m%d_%H%M%S\")\n",
    "se_cm = SynthEval(df_real, cat_cols=cat_attrs, verbose=True)\n",
    "\n",
    "result = se_cm.evaluate(\n",
    "    df_synth,\n",
    "    corr_diff={\n",
    "        'mixed_corr': True,\n",
    "        'return_mats': True,\n",
    "        \"axs_scale\": \"RdBu_r\"\n",
    "    }\n",
    ")\n",
    "\n",
    "if SAVE_FIG:\n",
    "    plt.gcf().set_size_inches(5.4, 3.5)\n",
    "    plt.rcParams.update({'font.size': 8})\n",
    "    plt.savefig(OUTPUT_DIR_FIG / f\"heatmap_{ts}.tiff\", dpi=300, format='tiff', bbox_inches='tight', pil_kwargs={'compression': 'tiff_lzw'})\n",
    "    plt.close()\n"
   ]
  },
  {
   "cell_type": "markdown",
   "metadata": {},
   "source": [
    "### Export Stats"
   ]
  },
  {
   "cell_type": "code",
   "execution_count": 42,
   "metadata": {},
   "outputs": [],
   "source": [
    "raw_cm = se_cm._raw_results['corr_diff']\n",
    "real_corr  = raw_cm['real_cor_mat']\n",
    "real_corr.to_csv(OUTPUT_DIR_FIG / f\"real_corr_{ts}.csv\", index=False, header=True, sep=';', decimal=',', encoding = 'utf-8')\n",
    "synth_corr = raw_cm['synt_cor_mat']\n",
    "synth_corr.to_csv(OUTPUT_DIR_FIG / f\"synth_corr_{ts}.csv\", index=False, header=True, sep=';', decimal=',', encoding = 'utf-8')\n",
    "diff_corr  = raw_cm['diff_cor_mat']\n",
    "diff_corr.to_csv(OUTPUT_DIR_FIG / f\"diff_corr_{ts}.csv\", index=False, header=True, sep=';', decimal=',', encoding = 'utf-8')"
   ]
  },
  {
   "cell_type": "markdown",
   "metadata": {},
   "source": [
    "## Mutual Information Matrix"
   ]
  },
  {
   "cell_type": "code",
   "execution_count": 41,
   "metadata": {},
   "outputs": [
    {
     "name": "stdout",
     "output_type": "stream",
     "text": [
      "SynthEval: synthetic data read successfully\n"
     ]
    },
    {
     "name": "stderr",
     "output_type": "stream",
     "text": [
      "Syntheval: mi_diff: 100%|██████████| 1/1 [06:31<00:00, 391.64s/it]\n"
     ]
    },
    {
     "name": "stdout",
     "output_type": "stream",
     "text": [
      "\n",
      "SynthEval results\n",
      "=================================================================\n",
      "\n",
      "Utility metric description                    value   error                                 \n",
      "+---------------------------------------------------------------+\n",
      "| Pairwise mutual information difference   :   0.3348           |\n",
      "+---------------------------------------------------------------+\n",
      "    \n"
     ]
    }
   ],
   "source": [
    "from syntheval.metrics.utility.metric_mutual_information import _pairwise_attributes_mutual_information\n",
    "\n",
    "# Laufzeit: ~3 min\n",
    "se_mi = SynthEval(df_real, cat_cols=cat_attrs, verbose=True)\n",
    "\n",
    "results_mi = se_mi.evaluate(\n",
    "    df_synth,\n",
    "    mi_diff={\n",
    "        # \"axs_scale\": \"RdBu_r\"\n",
    "        \"axs_scale\": \"viridis\"\n",
    "    }\n",
    ")\n",
    "\n",
    "if SAVE_FIG:\n",
    "    plt.gcf().set_size_inches(5.4, 4.5)\n",
    "    plt.rcParams.update({'font.size': 8})\n",
    "    plt.savefig(OUTPUT_DIR_FIG / f\"mi_heatmap_{ts}.tiff\", dpi=300, format='tiff', bbox_inches='tight', pil_kwargs={'compression': 'tiff_lzw'})\n",
    "    plt.close()"
   ]
  },
  {
   "cell_type": "markdown",
   "metadata": {},
   "source": [
    "### Export Stats"
   ]
  },
  {
   "cell_type": "code",
   "execution_count": null,
   "metadata": {},
   "outputs": [],
   "source": [
    "mi_matrix_real = _pairwise_attributes_mutual_information(df_real)\n"
   ]
  },
  {
   "cell_type": "code",
   "execution_count": null,
   "metadata": {},
   "outputs": [],
   "source": [
    "print(mi_matrix_real)\n",
    "mi_matrix_real.to_csv(OUTPUT_DIR_FIG / f\"mi_matrix_real_{ts}.csv\", index=False, header=True, sep=';', decimal=',', encoding = 'utf-8')"
   ]
  },
  {
   "cell_type": "code",
   "execution_count": 39,
   "metadata": {},
   "outputs": [],
   "source": [
    "mi_matrix_synth = _pairwise_attributes_mutual_information(df_synth)\n",
    "mi_matrix_synth.to_csv(OUTPUT_DIR_FIG / f\"mi_matrix_synth_{ts}.csv\", index=False, header=True, sep=';', decimal=',', encoding = 'utf-8')"
   ]
  },
  {
   "cell_type": "code",
   "execution_count": 40,
   "metadata": {},
   "outputs": [],
   "source": [
    "mi_diff = mi_matrix_real - mi_matrix_synth\n",
    "mi_diff.to_csv(OUTPUT_DIR_FIG / f\"mi_diff_{ts}.csv\", index=False, header=True, sep=';', decimal=',', encoding = 'utf-8')"
   ]
  }
 ],
 "metadata": {
  "kernelspec": {
   "display_name": "SynthEval",
   "language": "python",
   "name": "syntheval"
  },
  "language_info": {
   "codemirror_mode": {
    "name": "ipython",
    "version": 3
   },
   "file_extension": ".py",
   "mimetype": "text/x-python",
   "name": "python",
   "nbconvert_exporter": "python",
   "pygments_lexer": "ipython3",
   "version": "3.12.6"
  }
 },
 "nbformat": 4,
 "nbformat_minor": 2
}
