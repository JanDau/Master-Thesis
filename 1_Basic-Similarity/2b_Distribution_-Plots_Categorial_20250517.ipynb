{
 "cells": [
  {
   "cell_type": "markdown",
   "metadata": {},
   "source": [
    "# Code\n",
    "...\n",
    "# Imports"
   ]
  },
  {
   "cell_type": "code",
   "execution_count": 32,
   "metadata": {},
   "outputs": [],
   "source": [
    "import pandas as pd\n",
    "from pathlib import Path\n",
    "import pandas as pd\n",
    "import numpy as np\n",
    "from pathlib import Path\n",
    "from typing import Optional, Tuple, Union\n",
    "import seaborn as sns\n",
    "import matplotlib.pyplot as plt"
   ]
  },
  {
   "cell_type": "markdown",
   "metadata": {},
   "source": [
    "# User Configuration"
   ]
  },
  {
   "cell_type": "code",
   "execution_count": 61,
   "metadata": {},
   "outputs": [],
   "source": [
    "SAVE_FIGS = True  # Save figures\n",
    "\n",
    "REAL_FILE = \"20250301_data_20250510_122405_final_100_train.csv\"\n",
    "SYNTH_FILE = \"20250301_data_20250510_122405_final_100_synth.csv\"\n",
    "HOLDOUT_FILE = \"20250301_data_20250510_122405_final_100_holdout.csv\"\n",
    "\n",
    "DATA_DIR = Path(\"../../data\")\n",
    "OUTPUT_DIR_FIG = Path(\"figures\")\n",
    "OUTPUT_DIR_FIG.mkdir(parents=True, exist_ok=True)  # ensure output folder exists\n",
    "\n",
    "# Set my design\n",
    "sns.set_theme(\n",
    "    style=\"white\",\n",
    "    context=\"paper\",\n",
    "    palette=\"colorblind\",\n",
    "    rc={\n",
    "        \"font.family\": \"sans-serif\",\n",
    "        \"font.sans-serif\": [\"Arial\"],\n",
    "        \"font.size\": 7,\n",
    "        \"axes.titlesize\": 7,\n",
    "        \"axes.labelsize\": 7,\n",
    "        \"xtick.labelsize\": 7,\n",
    "        \"ytick.labelsize\": 7,\n",
    "        \"legend.fontsize\": 7\n",
    "    }\n",
    ")"
   ]
  },
  {
   "cell_type": "markdown",
   "metadata": {},
   "source": [
    "# Utility Functions"
   ]
  },
  {
   "cell_type": "markdown",
   "metadata": {},
   "source": [
    "## Load Data & Assign Correct Datatypes"
   ]
  },
  {
   "cell_type": "code",
   "execution_count": 34,
   "metadata": {},
   "outputs": [],
   "source": [
    "def convert_dtypes(df: pd.DataFrame) -> pd.DataFrame:\n",
    "    \"\"\"\n",
    "    Konvertiert bestimmte Spalten des DataFrames in die gewünschten Datentypen:\n",
    "     - definierte Spalten als category\n",
    "     - definierte Spalten als pandas Nullable Integer (Int64)\n",
    "     - consciousness_level und news_score als geordnete Categoricals\n",
    "    \"\"\"\n",
    "    df = df.copy()  # Änderungen nicht am Original vornehmen\n",
    "\n",
    "    # 1) Kategorische Spalten\n",
    "    cat_cols = ['gender', 'ethnicity', 'chief_complaint', 'icd_block']\n",
    "    for col in cat_cols:\n",
    "        df[col] = df[col].astype('category')\n",
    "\n",
    "    # 2) Integer-Spalten mit Nullable Integer dtype\n",
    "    int_cols = ['age', 'systolic_bp', 'diastolic_bp',\n",
    "                'heart_rate', 'respiratory_rate', 'oxygen_saturation']\n",
    "    for col in int_cols:\n",
    "        df[col] = df[col].astype('Int64')\n",
    "\n",
    "    # 3) Geordnete Categoricals\n",
    "    df['consciousness_level'] = pd.Categorical(\n",
    "        df['consciousness_level'],\n",
    "        categories=['A', 'C', 'V', 'P', 'U'],\n",
    "        ordered=True\n",
    "    )\n",
    "    df['news_score'] = pd.Categorical(\n",
    "        df['news_score'],\n",
    "        categories=list(range(19)),\n",
    "        ordered=True\n",
    "    )\n",
    "\n",
    "    return df\n",
    "\n",
    "def load_data(\n",
    "    real_filename: Union[str, Path],\n",
    "    synth_filename: Optional[Union[str, Path]] = None,\n",
    "    holdout_filename: Optional[Union[str, Path]] = None,\n",
    "    data_dir: Path = DATA_DIR\n",
    ") -> Tuple[pd.DataFrame, Optional[pd.DataFrame], Optional[pd.DataFrame]]:\n",
    "    \"\"\"\n",
    "    Lädt die realen, synthetischen und optionalen Holdout-CSV-Dateien\n",
    "    aus data_dir und wandelt sie über convert_dtypes um.\n",
    "\n",
    "    Returns:\n",
    "        df_real: pd.DataFrame\n",
    "        df_synth: Optional[pd.DataFrame]\n",
    "        df_holdout: Optional[pd.DataFrame]\n",
    "    \"\"\"\n",
    "    def _read_and_convert(fn: Union[str, Path]) -> pd.DataFrame:\n",
    "        return (\n",
    "            pd.read_csv(data_dir / fn, low_memory=False)\n",
    "              .pipe(convert_dtypes)\n",
    "        )\n",
    "\n",
    "    df_real    = _read_and_convert(real_filename)\n",
    "    df_synth   = _read_and_convert(synth_filename)   if synth_filename   else None\n",
    "    df_holdout = _read_and_convert(holdout_filename) if holdout_filename else None\n",
    "\n",
    "    return df_real, df_synth, df_holdout"
   ]
  },
  {
   "cell_type": "markdown",
   "metadata": {},
   "source": [
    "## Countplots (Categorical Values)"
   ]
  },
  {
   "cell_type": "code",
   "execution_count": 106,
   "metadata": {},
   "outputs": [],
   "source": [
    "import pandas as pd\n",
    "import numpy as np\n",
    "import matplotlib.pyplot as plt\n",
    "\n",
    "def plot_metric_comparison(\n",
    "    df_real: pd.DataFrame,\n",
    "    df_synth: pd.DataFrame,\n",
    "    metric_col: str,\n",
    "    figsize: tuple = (6, 4),\n",
    "    title: str = None,\n",
    "    lower_bound: float = None,\n",
    "    upper_bound: float = None,\n",
    "    yticks_step: float = 10,\n",
    "    top_k: int = None,\n",
    "    horizontal: bool = False,\n",
    "    label_rotation: int = 0,\n",
    "    show_legend: bool = True\n",
    "):\n",
    "    # Prozentuale Häufigkeiten pro Quelle\n",
    "    real_counts = df_real[metric_col].value_counts(normalize=True) * 100\n",
    "    synth_counts = df_synth[metric_col].value_counts(normalize=True) * 100\n",
    "\n",
    "    # Optional Top-k Kategorien auswählen\n",
    "    if top_k is not None:\n",
    "        total_counts = real_counts.add(synth_counts, fill_value=0)\n",
    "        top_categories = total_counts.nlargest(top_k).index\n",
    "        real_counts = real_counts.reindex(top_categories, fill_value=0)\n",
    "        synth_counts = synth_counts.reindex(top_categories, fill_value=0)\n",
    "        order = list(top_categories)\n",
    "    else:\n",
    "        # Gemeinsames Set aller Kategorien\n",
    "        all_cats = real_counts.index.union(synth_counts.index)\n",
    "        real_counts = real_counts.reindex(all_cats, fill_value=0)\n",
    "        synth_counts = synth_counts.reindex(all_cats, fill_value=0)\n",
    "        order = list(all_cats)\n",
    "\n",
    "    # DataFrame zum Plotten\n",
    "    plot_df = pd.DataFrame({\n",
    "        'Real': real_counts,\n",
    "        'Synthetic': synth_counts\n",
    "    }, index=order)\n",
    "\n",
    "    fig, ax = plt.subplots(figsize=figsize)\n",
    "    width = 0.35  # Balkenbreite\n",
    "\n",
    "    ind = np.arange(len(order))\n",
    "    if horizontal:\n",
    "        ax.barh(ind - width/2, plot_df['Real'], height=width, label='Real')\n",
    "        ax.barh(ind + width/2, plot_df['Synthetic'], height=width, label='Synthetic')\n",
    "        ax.set_yticks(ind)\n",
    "        ax.set_yticklabels(order, rotation=label_rotation)\n",
    "        if lower_bound is not None and upper_bound is not None:\n",
    "            ax.set_xlim(lower_bound, upper_bound)\n",
    "            ax.set_xticks(np.arange(lower_bound, upper_bound + yticks_step, yticks_step))\n",
    "        ax.set_xlabel('Percent (%)')\n",
    "    else:\n",
    "        ax.bar(ind - width/2, plot_df['Real'], width=width, label='Real')\n",
    "        ax.bar(ind + width/2, plot_df['Synthetic'], width=width, label='Synthetic')\n",
    "        ax.set_xticks(ind)\n",
    "        ax.set_xticklabels(order, rotation=label_rotation, ha='right' if label_rotation else 'center')\n",
    "        if lower_bound is not None and upper_bound is not None:\n",
    "            ax.set_ylim(lower_bound, upper_bound)\n",
    "            ax.set_yticks(np.arange(lower_bound, upper_bound + yticks_step, yticks_step))\n",
    "        ax.set_ylabel('Percent')\n",
    "\n",
    "    # Styling, Titel, etc.\n",
    "    ax.set_title(title or f\"{metric_col}\")\n",
    "    ax.spines['top'].set_visible(False)\n",
    "    ax.spines['right'].set_visible(False)\n",
    "\n",
    "    if show_legend:\n",
    "        ax.legend()\n",
    "\n",
    "    plt.tight_layout()\n",
    "\n",
    "    # Prozent-Label für Top-k\n",
    "    if top_k is not None:\n",
    "        pct_real = plot_df['Real'].sum()\n",
    "        pct_synth = plot_df['Synthetic'].sum()\n",
    "        label_text = f\"Cumulative %\\nof Top {top_k}\\nReal: {pct_real:.1f}%\\nSynth: {pct_synth:.1f}%\"\n",
    "        # Label-Position je nach Plot-Orientierung\n",
    "        if horizontal:\n",
    "            ax.text(0.90, 0.90, label_text, transform=ax.transAxes,\n",
    "                    ha='right', va='top',\n",
    "                    fontsize=7,\n",
    "                    bbox=dict(boxstyle='round', facecolor='white', alpha=0.5))\n",
    "        else:\n",
    "            ax.text(0.95, 0.95, label_text, transform=ax.transAxes,\n",
    "                    ha='right', va='top',\n",
    "                    fontsize=6,\n",
    "                    bbox=dict(boxstyle='round', facecolor='white', alpha=0.5))\n",
    "\n",
    "    return fig\n"
   ]
  },
  {
   "cell_type": "markdown",
   "metadata": {},
   "source": [
    "# Main Routine\n",
    "## Daten Laden"
   ]
  },
  {
   "cell_type": "code",
   "execution_count": 36,
   "metadata": {},
   "outputs": [],
   "source": [
    "df_real, df_synth, df_holdout = load_data(\n",
    "    REAL_FILE,\n",
    "    SYNTH_FILE,\n",
    "    HOLDOUT_FILE,\n",
    "    data_dir=DATA_DIR\n",
    ")"
   ]
  },
  {
   "cell_type": "markdown",
   "metadata": {},
   "source": [
    "## icu_admission_24h"
   ]
  },
  {
   "cell_type": "code",
   "execution_count": 70,
   "metadata": {},
   "outputs": [
    {
     "data": {
      "image/png": "[encoded data removed]",
      "text/plain": [
       "<Figure size 120x250 with 1 Axes>"
      ]
     },
     "metadata": {},
     "output_type": "display_data"
    }
   ],
   "source": [
    "fig = plot_metric_comparison(\n",
    "    df_real,\n",
    "    df_synth,\n",
    "    metric_col='icu_admission_24h',\n",
    "    figsize=(1.2, 2.5),\n",
    "    lower_bound = 0,\n",
    "    upper_bound = 100,\n",
    "    yticks_step = 10,\n",
    "    show_legend = False\n",
    ")\n",
    "plt.show()\n",
    "if SAVE_FIGS:\n",
    "    fig.savefig(f\"{OUTPUT_DIR_FIG}/icu_admission_24h.tiff\", dpi=300, format='tiff', bbox_inches='tight', pil_kwargs={'compression': 'tiff_lzw'})\n",
    "plt.close(fig)"
   ]
  },
  {
   "cell_type": "markdown",
   "metadata": {},
   "source": [
    "## gender"
   ]
  },
  {
   "cell_type": "code",
   "execution_count": 71,
   "metadata": {},
   "outputs": [
    {
     "data": {
      "image/png": "[encoded data removed]",
      "text/plain": [
       "<Figure size 120x250 with 1 Axes>"
      ]
     },
     "metadata": {},
     "output_type": "display_data"
    }
   ],
   "source": [
    "fig = plot_metric_comparison(\n",
    "    df_real,\n",
    "    df_synth,\n",
    "    metric_col='gender',\n",
    "    figsize=(1.2, 2.5),\n",
    "    lower_bound = 0,\n",
    "    upper_bound = 70,\n",
    "    yticks_step = 10,\n",
    "    show_legend = False\n",
    ")\n",
    "plt.show()\n",
    "if SAVE_FIGS:\n",
    "    fig.savefig(f\"{OUTPUT_DIR_FIG}/gender.tiff\", dpi=300, format='tiff', bbox_inches='tight', pil_kwargs={'compression': 'tiff_lzw'})\n",
    "plt.close(fig)"
   ]
  },
  {
   "cell_type": "markdown",
   "metadata": {},
   "source": [
    "## ethnicity"
   ]
  },
  {
   "cell_type": "code",
   "execution_count": 72,
   "metadata": {},
   "outputs": [
    {
     "data": {
      "image/png": "[encoded data removed]",
      "text/plain": [
       "<Figure size 240x250 with 1 Axes>"
      ]
     },
     "metadata": {},
     "output_type": "display_data"
    }
   ],
   "source": [
    "fig = plot_metric_comparison(\n",
    "    df_real,\n",
    "    df_synth,\n",
    "    metric_col='ethnicity',\n",
    "    figsize=(2.4, 2.5),\n",
    "    lower_bound = 0,\n",
    "    upper_bound = 80,\n",
    "    yticks_step = 10,\n",
    "    horizontal= True,\n",
    "    label_rotation = 45,\n",
    "    show_legend = True\n",
    ")\n",
    "plt.show()\n",
    "if SAVE_FIGS:\n",
    "    fig.savefig(f\"{OUTPUT_DIR_FIG}/ethnicity.tiff\", dpi=300, format='tiff', bbox_inches='tight', pil_kwargs={'compression': 'tiff_lzw'})\n",
    "plt.close(fig)"
   ]
  },
  {
   "cell_type": "markdown",
   "metadata": {},
   "source": [
    "## weekend_arrival"
   ]
  },
  {
   "cell_type": "code",
   "execution_count": 75,
   "metadata": {},
   "outputs": [
    {
     "data": {
      "image/png": "[encoded data removed]",
      "text/plain": [
       "<Figure size 120x250 with 1 Axes>"
      ]
     },
     "metadata": {},
     "output_type": "display_data"
    }
   ],
   "source": [
    "fig = plot_metric_comparison(\n",
    "    df_real,\n",
    "    df_synth,\n",
    "    metric_col='weekend_arrival',\n",
    "    figsize=(1.2, 2.5),\n",
    "    lower_bound = 0,\n",
    "    upper_bound = 80,\n",
    "    yticks_step = 10,\n",
    "    show_legend = False\n",
    ")\n",
    "plt.show()\n",
    "if SAVE_FIGS:\n",
    "    fig.savefig(f\"{OUTPUT_DIR_FIG}/weekend_arrival.tiff\", dpi=300, format='tiff', bbox_inches='tight', pil_kwargs={'compression': 'tiff_lzw'})\n",
    "plt.close(fig)"
   ]
  },
  {
   "cell_type": "markdown",
   "metadata": {},
   "source": [
    "## night_arrival"
   ]
  },
  {
   "cell_type": "code",
   "execution_count": 79,
   "metadata": {},
   "outputs": [
    {
     "data": {
      "image/png": "[encoded data removed]",
      "text/plain": [
       "<Figure size 120x250 with 1 Axes>"
      ]
     },
     "metadata": {},
     "output_type": "display_data"
    }
   ],
   "source": [
    "fig = plot_metric_comparison(\n",
    "    df_real,\n",
    "    df_synth,\n",
    "    metric_col='night_arrival',\n",
    "    figsize=(1.2, 2.5),\n",
    "    lower_bound = 0,\n",
    "    upper_bound = 90,\n",
    "    yticks_step = 10,\n",
    "    show_legend = False,\n",
    "    horizontal= False\n",
    ")\n",
    "plt.show()\n",
    "if SAVE_FIGS:\n",
    "    fig.savefig(f\"{OUTPUT_DIR_FIG}/night_arrival.tiff\", dpi=300, format='tiff', bbox_inches='tight', pil_kwargs={'compression': 'tiff_lzw'})\n",
    "plt.close(fig)"
   ]
  },
  {
   "cell_type": "markdown",
   "metadata": {},
   "source": [
    "## consciousness_level"
   ]
  },
  {
   "cell_type": "code",
   "execution_count": 81,
   "metadata": {},
   "outputs": [
    {
     "data": {
      "image/png": "[encoded data removed]",
      "text/plain": [
       "<Figure size 240x250 with 1 Axes>"
      ]
     },
     "metadata": {},
     "output_type": "display_data"
    }
   ],
   "source": [
    "fig = plot_metric_comparison(\n",
    "    df_real,\n",
    "    df_synth,\n",
    "    metric_col='consciousness_level',\n",
    "    figsize=(2.4, 2.5),\n",
    "    lower_bound = 0,\n",
    "    upper_bound = 50,\n",
    "    yticks_step = 10,\n",
    "    horizontal= True,\n",
    "    # label_rotation = 45,\n",
    "    show_legend = False\n",
    ")\n",
    "plt.show()\n",
    "if SAVE_FIGS:\n",
    "    fig.savefig(f\"{OUTPUT_DIR_FIG}/consciousness_level.tiff\", dpi=300, format='tiff', bbox_inches='tight', pil_kwargs={'compression': 'tiff_lzw'})\n",
    "plt.close(fig)"
   ]
  },
  {
   "cell_type": "markdown",
   "metadata": {},
   "source": [
    "## icd_block"
   ]
  },
  {
   "cell_type": "code",
   "execution_count": 107,
   "metadata": {},
   "outputs": [
    {
     "data": {
      "image/png": "[encoded data removed]",
      "text/plain": [
       "<Figure size 240x250 with 1 Axes>"
      ]
     },
     "metadata": {},
     "output_type": "display_data"
    }
   ],
   "source": [
    "fig = plot_metric_comparison(\n",
    "    df_real,\n",
    "    df_synth,\n",
    "    metric_col='icd_block',\n",
    "    figsize=(2.4, 2.5),\n",
    "    lower_bound = 0,\n",
    "    upper_bound = 10,\n",
    "    yticks_step = 5,\n",
    "    horizontal= True,\n",
    "    label_rotation = 45,\n",
    "    top_k = 10,\n",
    "    show_legend = False\n",
    ")\n",
    "plt.show()\n",
    "if SAVE_FIGS:\n",
    "    fig.savefig(f\"{OUTPUT_DIR_FIG}/icd_block.tiff\", dpi=300, format='tiff', bbox_inches='tight', pil_kwargs={'compression': 'tiff_lzw'})\n",
    "plt.close(fig)"
   ]
  },
  {
   "cell_type": "markdown",
   "metadata": {},
   "source": [
    "## chief_complaint"
   ]
  },
  {
   "cell_type": "code",
   "execution_count": 109,
   "metadata": {},
   "outputs": [
    {
     "data": {
      "image/png": "[encoded data removed]",
      "text/plain": [
       "<Figure size 240x250 with 1 Axes>"
      ]
     },
     "metadata": {},
     "output_type": "display_data"
    }
   ],
   "source": [
    "fig = plot_metric_comparison(\n",
    "    df_real,\n",
    "    df_synth,\n",
    "    metric_col='chief_complaint',\n",
    "    figsize=(2.4, 2.5),\n",
    "    lower_bound = 0,\n",
    "    upper_bound = 30,\n",
    "    yticks_step = 5,\n",
    "    top_k=10,\n",
    "    label_rotation=45,\n",
    "    horizontal=True,\n",
    "    show_legend=False\n",
    ")\n",
    "plt.show()\n",
    "if SAVE_FIGS:\n",
    "    fig.savefig(f\"{OUTPUT_DIR_FIG}/chief_complaint.tiff\", dpi=300, format='tiff', bbox_inches='tight', pil_kwargs={'compression': 'tiff_lzw'})\n",
    "plt.close(fig)"
   ]
  }
 ],
 "metadata": {
  "kernelspec": {
   "display_name": "General Purpose",
   "language": "python",
   "name": "venv"
  },
  "language_info": {
   "codemirror_mode": {
    "name": "ipython",
    "version": 3
   },
   "file_extension": ".py",
   "mimetype": "text/x-python",
   "name": "python",
   "nbconvert_exporter": "python",
   "pygments_lexer": "ipython3",
   "version": "3.12.4"
  }
 },
 "nbformat": 4,
 "nbformat_minor": 2
}
