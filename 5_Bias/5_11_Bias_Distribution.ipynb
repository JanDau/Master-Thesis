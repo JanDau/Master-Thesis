{
 "cells": [
  {
   "cell_type": "markdown",
   "metadata": {},
   "source": [
    "# Imports"
   ]
  },
  {
   "cell_type": "code",
   "execution_count": 8,
   "metadata": {},
   "outputs": [],
   "source": [
    "from pathlib import Path\n",
    "from datetime import datetime\n",
    "\n",
    "import numpy as np\n",
    "import pandas as pd\n",
    "import matplotlib.pyplot as plt\n",
    "import seaborn as sns\n",
    "\n",
    "from scipy.stats import entropy, chi2_contingency\n",
    "from sklearn.metrics.pairwise import rbf_kernel\n",
    "from tqdm.auto import trange\n",
    "from typing import Callable, Dict, List, Tuple"
   ]
  },
  {
   "cell_type": "markdown",
   "metadata": {},
   "source": [
    "# User Configuration"
   ]
  },
  {
   "cell_type": "code",
   "execution_count": 9,
   "metadata": {},
   "outputs": [],
   "source": [
    "SAVE_DATA = True  # Save results as CSV and figures\n",
    "\n",
    "SUBSET_SIZE = 10_000       # Number of samples per run, recommended ≤10k; approx. 30 sec. per MC run with 10k samples\n",
    "N_RUNS = 30                # Number of Monte Carlo repetitions (recommend ≥30)\n",
    "RANDOM_STATE = 42          # Seed for reproducibility\n",
    "\n",
    "REAL_FILE = \"20250301_data_20250510_122405_final_100_train.csv\"\n",
    "SYNTH_FILE = \"20250301_data_20250510_122405_final_100_synth.csv\"\n",
    "\n",
    "DATA_DIR = Path(\"../../data\")\n",
    "OUTPUT_DIR_CSV = Path(\"results\")\n",
    "OUTPUT_DIR_CSV.mkdir(parents=True, exist_ok=True)  # ensure output folder exists\n",
    "OUTPUT_DIR_FIG = Path(\"figures\")\n",
    "OUTPUT_DIR_FIG.mkdir(parents=True, exist_ok=True)  # ensure output folder exists\n",
    "\n",
    "AGE_BINS = [-np.inf, 29, 60, np.inf]\n",
    "AGE_LABELS = [\"<30\", \"30-60\", \">60\"]\n",
    "\n",
    "# Set my design\n",
    "sns.set_theme(\n",
    "    style=\"white\",\n",
    "    context=\"paper\",\n",
    "    palette=\"colorblind\",\n",
    "    rc={\n",
    "        \"font.family\": \"sans-serif\",\n",
    "        \"font.sans-serif\": [\"Arial\"],\n",
    "        \"font.size\": 7,\n",
    "        \"axes.titlesize\": 7,\n",
    "        \"axes.labelsize\": 7,\n",
    "        \"xtick.labelsize\": 7,\n",
    "        \"ytick.labelsize\": 7,\n",
    "        \"legend.fontsize\": 7\n",
    "    }\n",
    ")"
   ]
  },
  {
   "cell_type": "markdown",
   "metadata": {},
   "source": [
    "# Utility Functions"
   ]
  },
  {
   "cell_type": "code",
   "execution_count": 10,
   "metadata": {},
   "outputs": [],
   "source": [
    "def add_age_group_column(df, col=\"age\", new_col=\"age_group\"):\n",
    "    \"\"\"Cut age into three bins.\"\"\"\n",
    "    df[new_col] = pd.cut(df[col], bins=AGE_BINS, labels=AGE_LABELS, right=False)\n",
    "\n",
    "def median_heuristic_gamma(x: np.ndarray) -> float:\n",
    "    \"\"\"Compute RBF gamma via median heuristic.\"\"\"\n",
    "    if x.ndim == 1:\n",
    "        x = x[:, None]\n",
    "    # pairwise distances\n",
    "    dists = np.sqrt(((x[:, None, :] - x[None, :, :])**2).sum(-1))\n",
    "    # median of non-zero distances\n",
    "    sigma = np.median(dists[dists > 0])\n",
    "    return 1.0 / (2.0 * sigma**2) if sigma > 0 else 1.0\n",
    "\n",
    "def compute_mmd(x: np.ndarray, y: np.ndarray, gamma: float=None) -> float:\n",
    "    \"\"\"Unbiased RBF-MMD (square-root scale) for 1D samples.\"\"\"\n",
    "    x = x.reshape(-1, 1)\n",
    "    y = y.reshape(-1, 1)\n",
    "    if gamma is None:\n",
    "        gamma = median_heuristic_gamma(np.vstack([x, y]))\n",
    "    k_xx = rbf_kernel(x, x, gamma=gamma)\n",
    "    k_yy = rbf_kernel(y, y, gamma=gamma)\n",
    "    k_xy = rbf_kernel(x, y, gamma=gamma)\n",
    "    m, n = len(x), len(y)\n",
    "    mmd2 = ((k_xx.sum() - np.trace(k_xx)) / (m*(m-1))\n",
    "           + (k_yy.sum() - np.trace(k_yy)) / (n*(n-1))\n",
    "           - 2 * k_xy.mean())\n",
    "    return np.sqrt(max(mmd2, 0))\n",
    "\n",
    "def _global_range(\n",
    "    distributions: Dict[str, Dict[str, List[float]]],\n",
    "    features: List[str],\n",
    "    mapper: Callable[[np.ndarray, np.ndarray], np.ndarray],\n",
    ") -> Tuple[float, float]:\n",
    "    \"\"\"Compute global min/max over mapped arrays.\"\"\"\n",
    "    mapped = []\n",
    "    for feat in features:\n",
    "        real = np.mean(distributions[feat][\"real\"], axis=0)\n",
    "        synth = np.mean(distributions[feat][\"synth\"], axis=0)\n",
    "        mapped.append(mapper(real, synth))\n",
    "    flat = np.concatenate(mapped)\n",
    "    return float(flat.min()), float(flat.max())\n",
    "\n",
    "def get_global_range(\n",
    "    distributions: Dict[str, Dict[str, List[float]]],\n",
    "    features: List[str],\n",
    "    mode: str = \"diff\",\n",
    ") -> Tuple[float, float]:\n",
    "    \"\"\"\n",
    "    Compute global min and max over distributions.\n",
    "    \n",
    "    mode=\"diff\" → (synth - real)*100  \n",
    "    mode=\"comp\" → both real*100 and synth*100  \n",
    "    \"\"\"\n",
    "    if mode == \"diff\":\n",
    "        mapper = lambda r, s: (s - r) * 100\n",
    "    elif mode == \"comp\":\n",
    "        mapper = lambda r, s: np.concatenate([r * 100, s * 100])\n",
    "    else:\n",
    "        raise ValueError(f\"Unknown mode {mode!r}\")\n",
    "    return _global_range(distributions, features, mapper)\n"
   ]
  },
  {
   "cell_type": "markdown",
   "metadata": {},
   "source": [
    "# Data Loading"
   ]
  },
  {
   "cell_type": "code",
   "execution_count": 11,
   "metadata": {},
   "outputs": [],
   "source": [
    "def load_data(real_filename: str, synth_filename: str) -> tuple[pd.DataFrame, pd.DataFrame]:\n",
    "    \"\"\"Read real and synthetic CSVs into DataFrames.\"\"\"\n",
    "    df_real = pd.read_csv(DATA_DIR / real_filename, low_memory=False)\n",
    "    df_synth = pd.read_csv(DATA_DIR / synth_filename, low_memory=False)\n",
    "    # add derived columns\n",
    "    add_age_group_column(df_real)\n",
    "    add_age_group_column(df_synth)\n",
    "\n",
    "    return df_real, df_synth"
   ]
  },
  {
   "cell_type": "markdown",
   "metadata": {},
   "source": [
    "# Metric Computation"
   ]
  },
  {
   "cell_type": "code",
   "execution_count": 12,
   "metadata": {},
   "outputs": [],
   "source": [
    "def compute_categorical_metrics(df_real: pd.DataFrame,\n",
    "                                df_synth: pd.DataFrame,\n",
    "                                subset_size: int,\n",
    "                                n_runs: int,\n",
    "                                random_state: int\n",
    "                               ) -> tuple[pd.DataFrame, dict]:\n",
    "    \"\"\"\n",
    "    Perform Monte Carlo sampling and compute KL, Chi2, MMD per subgroup,\n",
    "    and collect real vs synth frequency distributions (incl. category labels).\n",
    "    Returns:\n",
    "      - df_metrics: DataFrame mit mean/std der Kennzahlen pro Subgroup\n",
    "      - distributions: dict[feature] -> {\n",
    "            'categories': [Label1, Label2, …],\n",
    "            'real': [array(run1), array(run2), …],\n",
    "            'synth': [array(run1), array(run2), …]\n",
    "        }\n",
    "    \"\"\"\n",
    "    rng = np.random.default_rng(random_state)\n",
    "    features = [\"gender\", \"ethnicity\", \"age_group\"]\n",
    "\n",
    "    # fixe Reihenfolge der Kategorien für jede Feature\n",
    "    categories = {\n",
    "        feat: sorted(set(df_real[feat].dropna().unique())\n",
    "                     | set(df_synth[feat].dropna().unique()))\n",
    "        for feat in features\n",
    "    }\n",
    "\n",
    "    # Ergebnis-Container\n",
    "    results = []\n",
    "    distributions = {\n",
    "        feat: {\n",
    "            \"categories\": categories[feat],\n",
    "            \"real\": [],\n",
    "            \"synth\": []\n",
    "        }\n",
    "        for feat in features\n",
    "    }\n",
    "\n",
    "    for run in trange(n_runs, desc=\"MC runs\"):\n",
    "        real_s  = df_real.sample(subset_size, random_state=int(rng.integers(1e9)), replace=True) # Replace = True -> echtes Bootstrapping\n",
    "        synth_s = df_synth.sample(subset_size, random_state=int(rng.integers(1e9)), replace=True)\n",
    "\n",
    "        for feat in features:\n",
    "            idx = categories[feat]\n",
    "            # relative Häufigkeiten\n",
    "            p_real  = real_s[feat].value_counts(normalize=True).reindex(idx, fill_value=0)\n",
    "            p_synth = synth_s[feat].value_counts(normalize=True).reindex(idx, fill_value=0)\n",
    "\n",
    "            # speichern für Heatmaps\n",
    "            distributions[feat][\"real\"].append(p_real.to_numpy())\n",
    "            distributions[feat][\"synth\"].append(p_synth.to_numpy())\n",
    "\n",
    "            # KL-Divergenz\n",
    "            kl = entropy(p_real, p_synth)\n",
    "            # Chi2-Test auf Counts\n",
    "            counts = np.vstack([p_real*subset_size, p_synth*subset_size])\n",
    "            chi2_stat, chi2_p, *_ = chi2_contingency(counts)\n",
    "            # MMD auf integer-codierten Kategorien\n",
    "            mapping = {cat: i for i, cat in enumerate(idx)}\n",
    "            x = real_s[feat].map(mapping).dropna().to_numpy()\n",
    "            y = synth_s[feat].map(mapping).dropna().to_numpy()\n",
    "            mmd = compute_mmd(x, y)\n",
    "\n",
    "            results.append({\n",
    "                \"subgroup\": feat,\n",
    "                \"KL_mean\": kl,\n",
    "                \"Chi2_stat\": chi2_stat,\n",
    "                \"Chi2_p\": chi2_p,\n",
    "                \"MMD\": mmd\n",
    "            })\n",
    "\n",
    "    df_metrics = (pd.DataFrame(results)\n",
    "                    .groupby(\"subgroup\")\n",
    "                    .agg([\"mean\", \"std\"]))\n",
    "    return df_metrics, distributions"
   ]
  },
  {
   "cell_type": "markdown",
   "metadata": {},
   "source": [
    "# Heatmap Computation"
   ]
  },
  {
   "cell_type": "code",
   "execution_count": 35,
   "metadata": {},
   "outputs": [],
   "source": [
    "def plot_heatmap_for_feature(distributions: dict, feat: str, vmin_vmax_diff: tuple = None, vmin_vmax_comp: tuple = None, fig_width: int = 8, fig_height: int = 4, show_diff_hm: bool = True) -> plt.Figure:\n",
    "    \"\"\"\n",
    "    Plot real vs. synth frequencies side-by-side (left) and their difference (right) as heatmaps.\n",
    "    Expects distributions with 'categories', 'real' and 'synth'.\n",
    "    \"\"\"\n",
    "\n",
    "    cats        = distributions[feat][\"categories\"]\n",
    "    real_vals   = np.array(distributions[feat][\"real\"]).mean(axis=0)\n",
    "    synth_vals  = np.array(distributions[feat][\"synth\"]).mean(axis=0)\n",
    "    diff_vals   = synth_vals - real_vals\n",
    "\n",
    "    # Combined DataFrame für Real und Synth\n",
    "    df_comp = pd.DataFrame({\n",
    "        \"Real (%)\":  real_vals * 100,\n",
    "        \"Synth (%)\": synth_vals * 100\n",
    "    }, index=cats)\n",
    "\n",
    "    # DataFrame nur für die Differenz\n",
    "    df_diff = pd.DataFrame({\n",
    "        \"Δ (%)\": diff_vals * 100\n",
    "    }, index=cats)\n",
    "\n",
    "    # Reorder the DataFrames\n",
    "    if feat == \"age_group\":\n",
    "        desired_order = [\"<30\", \"30-60\", \">60\"]\n",
    "        df_comp = df_comp.reindex(desired_order)\n",
    "        df_diff = df_diff.reindex(desired_order)\n",
    "\n",
    "    # Plot\n",
    "    if show_diff_hm:\n",
    "        fig, (ax1, ax2) = plt.subplots(ncols=2, figsize=(fig_width, fig_height), gridspec_kw={\n",
    "            \"width_ratios\": [2, 1]\n",
    "        })\n",
    "    else:\n",
    "        # Only one heatmap for comparison\n",
    "        fig, ax1 = plt.subplots(figsize=(fig_width, fig_height))\n",
    "        ax2 = None\n",
    "\n",
    "    # Linke Heatmap: Real vs. Synth\n",
    "    local_min_comp = df_comp.min().min()\n",
    "    local_max_comp = df_comp.max().max()\n",
    "    vmin_comp, vmax_comp = vmin_vmax_comp if vmin_vmax_comp else (local_min_comp, local_max_comp)\n",
    "\n",
    "    sns.heatmap(\n",
    "        df_comp, ax=ax1, annot=True, fmt=\".1f\",\n",
    "        cmap=\"viridis\",\n",
    "        cbar_kws={\"label\": \"%\"}, yticklabels=True,\n",
    "        vmin=vmin_comp, vmax=vmax_comp\n",
    "    )\n",
    "    ax1.set_title(f\"{feat}: Real vs. Synth\")\n",
    "\n",
    "    # Rechte Heatmap: Differenz\n",
    "    if show_diff_hm:\n",
    "        local_vmax_diff = abs(diff_vals * 100).max()\n",
    "        vmin_diff, vmax_diff = vmin_vmax_diff if vmin_vmax_diff else (-local_vmax_diff, local_vmax_diff)\n",
    "\n",
    "        sns.heatmap(\n",
    "            df_diff, ax=ax2, annot=True, fmt=\"+.1f\",\n",
    "            cmap=\"RdBu_r\", center = 0,\n",
    "            cbar_kws={\"label\": \"Δ Prozentpunkte\"},\n",
    "            vmin=vmin_diff, vmax=vmax_diff\n",
    "        )\n",
    "        ax2.set_title(\"Difference (Synth - Real)\")\n",
    "\n",
    "    plt.tight_layout()\n",
    "\n",
    "    return fig"
   ]
  },
  {
   "cell_type": "markdown",
   "metadata": {},
   "source": [
    "# Main Execution"
   ]
  },
  {
   "cell_type": "code",
   "execution_count": 14,
   "metadata": {},
   "outputs": [
    {
     "data": {
      "application/vnd.jupyter.widget-view+json": {
       "model_id": "ff943fbfba0245b48c73542885d278aa",
       "version_major": 2,
       "version_minor": 0
      },
      "text/plain": [
       "MC runs:   0%|          | 0/30 [00:00<?, ?it/s]"
      ]
     },
     "metadata": {},
     "output_type": "display_data"
    },
    {
     "name": "stdout",
     "output_type": "stream",
     "text": [
      "Categorical metrics (mean ± std):\n",
      "            KL_mean             Chi2_stat                   Chi2_p  \\\n",
      "               mean       std        mean        std          mean   \n",
      "subgroup                                                             \n",
      "age_group  0.001219  0.000622   12.124914   6.134523  3.679580e-02   \n",
      "ethnicity  0.013302  0.002032  141.955409  21.328394  2.842746e-23   \n",
      "gender     0.011638  0.002949  115.192605  29.056064  6.285951e-18   \n",
      "\n",
      "                              MMD            \n",
      "                    std      mean       std  \n",
      "subgroup                                     \n",
      "age_group  9.262931e-02  0.014072  0.006105  \n",
      "ethnicity  8.987938e-23  0.037656  0.006233  \n",
      "gender     3.347514e-17  0.066251  0.008242  \n",
      "Saved categorical metrics to results\\cat_metrics_20250517_090610.csv\n"
     ]
    }
   ],
   "source": [
    "timestamp = datetime.now().strftime(\"%Y%m%d_%H%M%S\")\n",
    "df_real, df_synth = load_data(REAL_FILE, SYNTH_FILE)\n",
    "\n",
    "cat_metrics, distributions = compute_categorical_metrics(\n",
    "    df_real, df_synth, SUBSET_SIZE, N_RUNS, RANDOM_STATE\n",
    ")\n",
    "print(\"Categorical metrics (mean ± std):\")\n",
    "print(cat_metrics)\n",
    "if SAVE_DATA:\n",
    "    cat_metrics.to_csv(OUTPUT_DIR_CSV / f\"cat_metrics_{timestamp}.csv\",\n",
    "                        sep=\";\", decimal=\",\", encoding=\"utf-8\")\n",
    "    print(f\"Saved categorical metrics to {OUTPUT_DIR_CSV / f'cat_metrics_{timestamp}.csv'}\")\n",
    "    distributions_df = pd.DataFrame(distributions)\n",
    "    distributions_df.to_csv(OUTPUT_DIR_CSV / f\"distributions_{timestamp}.csv\",\n",
    "                             sep=\";\", decimal=\",\", encoding=\"utf-8\")\n",
    "    "
   ]
  },
  {
   "cell_type": "markdown",
   "metadata": {},
   "source": [
    "# --"
   ]
  },
  {
   "cell_type": "code",
   "execution_count": 40,
   "metadata": {},
   "outputs": [
    {
     "data": {
      "image/png": "[encoded data removed]",
      "text/plain": [
       "<Figure size 240x150 with 2 Axes>"
      ]
     },
     "metadata": {},
     "output_type": "display_data"
    }
   ],
   "source": [
    "\n",
    "features = [\"gender\", \"ethnicity\", \"age_group\"]\n",
    "global_min_diff, global_max_diff = get_global_range(distributions, features, mode=\"diff\")\n",
    "global_min_comp, global_max_comp = get_global_range(distributions, features, mode=\"comp\")\n",
    "\n",
    "fig = plot_heatmap_for_feature(\n",
    "        distributions,\n",
    "        feat=\"gender\",\n",
    "        vmin_vmax_diff=(global_min_diff, global_max_diff),\n",
    "        vmin_vmax_comp=(global_min_comp, global_max_comp),\n",
    "        fig_width=2.4, fig_height=1.5,\n",
    "        show_diff_hm=False\n",
    "    )\n",
    "plt.show()\n",
    "if SAVE_DATA:\n",
    "    fig.savefig(OUTPUT_DIR_FIG / f\"gender_heatmap_{timestamp}.tiff\", dpi=300, format='tiff', bbox_inches='tight', pil_kwargs={'compression': 'tiff_lzw'})\n",
    "plt.close(fig)\n",
    "    "
   ]
  },
  {
   "cell_type": "code",
   "execution_count": 41,
   "metadata": {},
   "outputs": [
    {
     "data": {
      "image/png": "[encoded data removed]",
      "text/plain": [
       "<Figure size 240x150 with 2 Axes>"
      ]
     },
     "metadata": {},
     "output_type": "display_data"
    }
   ],
   "source": [
    "fig = plot_heatmap_for_feature(\n",
    "        distributions,\n",
    "        feat=\"ethnicity\",\n",
    "        vmin_vmax_diff=(global_min_diff, global_max_diff),\n",
    "        vmin_vmax_comp=(global_min_comp, global_max_comp),\n",
    "        fig_width=2.4, fig_height=1.5,\n",
    "        show_diff_hm=False\n",
    "    )\n",
    "plt.show()\n",
    "if SAVE_DATA:\n",
    "    fig.savefig(OUTPUT_DIR_FIG / f\"ethnicity_heatmap_{timestamp}.tiff\", dpi=300, format='tiff', bbox_inches='tight', pil_kwargs={'compression': 'tiff_lzw'})\n",
    "plt.close(fig)\n",
    "    "
   ]
  },
  {
   "cell_type": "code",
   "execution_count": 42,
   "metadata": {},
   "outputs": [
    {
     "data": {
      "image/png": "[encoded data removed]",
      "text/plain": [
       "<Figure size 240x150 with 2 Axes>"
      ]
     },
     "metadata": {},
     "output_type": "display_data"
    }
   ],
   "source": [
    "fig = plot_heatmap_for_feature(\n",
    "        distributions,\n",
    "        feat=\"age_group\",\n",
    "        vmin_vmax_diff=(global_min_diff, global_max_diff),\n",
    "        vmin_vmax_comp=(global_min_comp, global_max_comp),\n",
    "        fig_width=2.4, fig_height=1.5,\n",
    "        show_diff_hm=False\n",
    "    )\n",
    "plt.show()\n",
    "if SAVE_DATA:\n",
    "    fig.savefig(OUTPUT_DIR_FIG / f\"age_group_heatmap_{timestamp}.tiff\", dpi=300, format='tiff', bbox_inches='tight', pil_kwargs={'compression': 'tiff_lzw'})\n",
    "plt.close(fig)\n",
    "    "
   ]
  },
  {
   "cell_type": "code",
   "execution_count": 44,
   "metadata": {},
   "outputs": [
    {
     "data": {
      "text/html": [
       "<div>\n",
       "<style scoped>\n",
       "    .dataframe tbody tr th:only-of-type {\n",
       "        vertical-align: middle;\n",
       "    }\n",
       "\n",
       "    .dataframe tbody tr th {\n",
       "        vertical-align: top;\n",
       "    }\n",
       "\n",
       "    .dataframe thead tr th {\n",
       "        text-align: left;\n",
       "    }\n",
       "\n",
       "    .dataframe thead tr:last-of-type th {\n",
       "        text-align: right;\n",
       "    }\n",
       "</style>\n",
       "<table border=\"1\" class=\"dataframe\">\n",
       "  <thead>\n",
       "    <tr>\n",
       "      <th></th>\n",
       "      <th colspan=\"2\" halign=\"left\">KL_mean</th>\n",
       "      <th colspan=\"2\" halign=\"left\">Chi2_stat</th>\n",
       "      <th colspan=\"2\" halign=\"left\">Chi2_p</th>\n",
       "      <th colspan=\"2\" halign=\"left\">MMD</th>\n",
       "    </tr>\n",
       "    <tr>\n",
       "      <th></th>\n",
       "      <th>mean</th>\n",
       "      <th>std</th>\n",
       "      <th>mean</th>\n",
       "      <th>std</th>\n",
       "      <th>mean</th>\n",
       "      <th>std</th>\n",
       "      <th>mean</th>\n",
       "      <th>std</th>\n",
       "    </tr>\n",
       "    <tr>\n",
       "      <th>subgroup</th>\n",
       "      <th></th>\n",
       "      <th></th>\n",
       "      <th></th>\n",
       "      <th></th>\n",
       "      <th></th>\n",
       "      <th></th>\n",
       "      <th></th>\n",
       "      <th></th>\n",
       "    </tr>\n",
       "  </thead>\n",
       "  <tbody>\n",
       "    <tr>\n",
       "      <th>age_group</th>\n",
       "      <td>0.001219</td>\n",
       "      <td>0.000622</td>\n",
       "      <td>12.124914</td>\n",
       "      <td>6.134523</td>\n",
       "      <td>3.679580e-02</td>\n",
       "      <td>9.262931e-02</td>\n",
       "      <td>0.014072</td>\n",
       "      <td>0.006105</td>\n",
       "    </tr>\n",
       "    <tr>\n",
       "      <th>ethnicity</th>\n",
       "      <td>0.013302</td>\n",
       "      <td>0.002032</td>\n",
       "      <td>141.955409</td>\n",
       "      <td>21.328394</td>\n",
       "      <td>2.842746e-23</td>\n",
       "      <td>8.987938e-23</td>\n",
       "      <td>0.037656</td>\n",
       "      <td>0.006233</td>\n",
       "    </tr>\n",
       "    <tr>\n",
       "      <th>gender</th>\n",
       "      <td>0.011638</td>\n",
       "      <td>0.002949</td>\n",
       "      <td>115.192605</td>\n",
       "      <td>29.056064</td>\n",
       "      <td>6.285951e-18</td>\n",
       "      <td>3.347514e-17</td>\n",
       "      <td>0.066251</td>\n",
       "      <td>0.008242</td>\n",
       "    </tr>\n",
       "  </tbody>\n",
       "</table>\n",
       "</div>"
      ],
      "text/plain": [
       "            KL_mean             Chi2_stat                   Chi2_p  \\\n",
       "               mean       std        mean        std          mean   \n",
       "subgroup                                                             \n",
       "age_group  0.001219  0.000622   12.124914   6.134523  3.679580e-02   \n",
       "ethnicity  0.013302  0.002032  141.955409  21.328394  2.842746e-23   \n",
       "gender     0.011638  0.002949  115.192605  29.056064  6.285951e-18   \n",
       "\n",
       "                              MMD            \n",
       "                    std      mean       std  \n",
       "subgroup                                     \n",
       "age_group  9.262931e-02  0.014072  0.006105  \n",
       "ethnicity  8.987938e-23  0.037656  0.006233  \n",
       "gender     3.347514e-17  0.066251  0.008242  "
      ]
     },
     "metadata": {},
     "output_type": "display_data"
    }
   ],
   "source": [
    "display(cat_metrics)"
   ]
  },
  {
   "cell_type": "markdown",
   "metadata": {},
   "source": [
    "wird als Tabelle präsentiert"
   ]
  },
  {
   "cell_type": "code",
   "execution_count": null,
   "metadata": {},
   "outputs": [],
   "source": [
    "cat_metrics"
   ]
  },
  {
   "cell_type": "code",
   "execution_count": 45,
   "metadata": {},
   "outputs": [
    {
     "data": {
      "image/png": "[encoded data removed]",
      "text/plain": [
       "<Figure size 800x400 with 1 Axes>"
      ]
     },
     "metadata": {},
     "output_type": "display_data"
    }
   ],
   "source": [
    "# 1. Flatten der MultiIndex-Spalten (falls nötig)\n",
    "df = cat_metrics.copy()\n",
    "df.columns = [\n",
    "    \"KL_mean\", \"KL_std\",\n",
    "    \"Chi2_stat_mean\", \"Chi2_stat_std\",\n",
    "    \"Chi2_p_mean\", \"Chi2_p_std\",\n",
    "    \"MMD_mean\", \"MMD_std\"\n",
    "]\n",
    "\n",
    "# 2. Auswahl der Metriken mit Mittelwert und Standardabweichung\n",
    "metrics = [\"KL\", \"Chi2_stat\", \"MMD\"]\n",
    "means = {m: df[f\"{m}_mean\"] for m in metrics}\n",
    "stds  = {m: df[f\"{m}_std\"]  for m in metrics}\n",
    "\n",
    "# 3. Plot-Einstellungen\n",
    "x     = np.arange(len(df))      # Positionen für die Gruppen\n",
    "width = 0.25                     # Breite der Balken\n",
    "fig, ax = plt.subplots(figsize=(8, 4))\n",
    "\n",
    "for i, m in enumerate(metrics):\n",
    "    ax.bar(\n",
    "        x + i*width,\n",
    "        means[m],\n",
    "        width,\n",
    "        yerr=stds[m],\n",
    "        capsize=4,\n",
    "        label=m\n",
    "    )\n",
    "\n",
    "# 4. Achsen und Beschriftungen\n",
    "ax.set_xticks(x + width*(len(metrics)-1)/2)\n",
    "ax.set_xticklabels(df.index, rotation=0)\n",
    "ax.set_ylabel(\"Metrik-Wert\")\n",
    "ax.set_title(\"Mittelwerte ± Std der Verteilungs-Metriken pro Subgroup\")\n",
    "ax.legend(title=\"Metrik\")\n",
    "fig.tight_layout()\n",
    "plt.show()"
   ]
  }
 ],
 "metadata": {
  "kernelspec": {
   "display_name": "General Purpose",
   "language": "python",
   "name": "venv"
  },
  "language_info": {
   "codemirror_mode": {
    "name": "ipython",
    "version": 3
   },
   "file_extension": ".py",
   "mimetype": "text/x-python",
   "name": "python",
   "nbconvert_exporter": "python",
   "pygments_lexer": "ipython3",
   "version": "3.12.4"
  }
 },
 "nbformat": 4,
 "nbformat_minor": 2
}
