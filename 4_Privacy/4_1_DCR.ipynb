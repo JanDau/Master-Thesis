{
 "cells": [
  {
   "cell_type": "markdown",
   "metadata": {},
   "source": [
    "# Imports"
   ]
  },
  {
   "cell_type": "code",
   "execution_count": 1,
   "metadata": {},
   "outputs": [],
   "source": [
    "from dataclasses import dataclass\n",
    "import pandas as pd\n",
    "from pathlib import Path\n",
    "from typing import Optional, Tuple, Union\n",
    "from datetime import datetime\n",
    "import numpy as np\n",
    "import seaborn as sns\n",
    "from tqdm import tqdm\n",
    "from joblib import Parallel, delayed\n",
    "import matplotlib.pyplot as plt\n",
    "from sklearn.preprocessing import StandardScaler, OneHotEncoder, OrdinalEncoder\n",
    "from scipy.spatial.distance import cdist, hamming"
   ]
  },
  {
   "cell_type": "markdown",
   "metadata": {},
   "source": [
    "# User Settings"
   ]
  },
  {
   "cell_type": "code",
   "execution_count": 20,
   "metadata": {},
   "outputs": [],
   "source": [
    "@dataclass\n",
    "class Config:\n",
    "    data_dir: Path = Path(\"../../data\")\n",
    "    figures_dir: Path = Path(\"figures\")\n",
    "    results_dir: Path = Path(\"results\")\n",
    "\n",
    "    real_file: str = \"20250301_data_20250510_122405_final_100_train.csv\"\n",
    "    synth_file: str = \"20250301_data_20250510_122405_final_100_synth.csv\"\n",
    "    holdout_file: str = \"20250301_data_20250510_122405_final_100_holdout.csv\"\n",
    "\n",
    "    # Bootstrap parameters\n",
    "    n_bootstrap: int = 100\n",
    "    bootstrap_size: int = 5_000\n",
    "    random_seed: int = 42\n",
    "    \n",
    "    save_data: bool = True\n",
    "\n",
    "# Set my design\n",
    "sns.set_theme(\n",
    "    style=\"white\",\n",
    "    context=\"paper\",\n",
    "    palette=\"colorblind\",\n",
    "    rc={\n",
    "        \"font.family\": \"sans-serif\",\n",
    "        \"font.sans-serif\": [\"Arial\"],\n",
    "        \"font.size\": 7,\n",
    "        \"axes.titlesize\": 7,\n",
    "        \"axes.labelsize\": 7,\n",
    "        \"xtick.labelsize\": 7,\n",
    "        \"ytick.labelsize\": 7,\n",
    "        \"legend.fontsize\": 7\n",
    "    }\n",
    ")\n"
   ]
  },
  {
   "cell_type": "code",
   "execution_count": 3,
   "metadata": {},
   "outputs": [],
   "source": [
    "def convert_dtypes(df: pd.DataFrame) -> pd.DataFrame:\n",
    "    \"\"\"\n",
    "    Konvertiert bestimmte Spalten des DataFrames in die gewünschten Datentypen:\n",
    "     - definierte Spalten als category\n",
    "     - definierte Spalten als pandas Nullable Integer (Int64)\n",
    "     - consciousness_level und news_score als geordnete Categoricals\n",
    "    \"\"\"\n",
    "    df = df.copy()  # Änderungen nicht am Original vornehmen\n",
    "\n",
    "    # 1) Kategorische Spalten\n",
    "    cat_cols = ['gender', 'ethnicity', 'chief_complaint', 'icd_block']\n",
    "    for col in cat_cols:\n",
    "        # df[col] = df[col].astype('category')\n",
    "        df[col] = df[col].astype('object') # 'category' führt zu Problemen mit dem OneHotEncoder\n",
    "\n",
    "    # 2) Integer-Spalten mit Nullable Integer dtype\n",
    "    int_cols = ['age', 'systolic_bp', 'diastolic_bp',\n",
    "                'heart_rate', 'respiratory_rate', 'oxygen_saturation']\n",
    "    for col in int_cols:\n",
    "        df[col] = df[col].astype('Int64')\n",
    "        # df[col] = df[col].astype('int32')\n",
    "\n",
    "    # 3) Geordnete Categoricals\n",
    "    df['consciousness_level'] = pd.Categorical(\n",
    "        df['consciousness_level'],\n",
    "        categories=['A', 'C', 'V', 'P', 'U'],\n",
    "        ordered=True\n",
    "    )\n",
    "    df['news_score'] = pd.Categorical(\n",
    "        df['news_score'],\n",
    "        categories=list(range(19)),\n",
    "        ordered=True\n",
    "    )\n",
    "\n",
    "    return df\n",
    "\n",
    "def load_data(\n",
    "    real_filename: Union[str, Path],\n",
    "    synth_filename: Optional[Union[str, Path]] = None,\n",
    "    holdout_filename: Optional[Union[str, Path]] = None,\n",
    "    data_dir: Path = None,\n",
    ") -> Tuple[pd.DataFrame, Optional[pd.DataFrame], Optional[pd.DataFrame]]:\n",
    "    \"\"\"\n",
    "    Lädt die realen, synthetischen und optionalen Holdout-CSV-Dateien\n",
    "    aus data_dir und wandelt sie über convert_dtypes um.\n",
    "\n",
    "    Returns:\n",
    "        df_real: pd.DataFrame\n",
    "        df_synth: Optional[pd.DataFrame]\n",
    "        df_holdout: Optional[pd.DataFrame]\n",
    "    \"\"\"\n",
    "    def _read_and_convert(fn: Union[str, Path]) -> pd.DataFrame:\n",
    "        return (\n",
    "            pd.read_csv(data_dir / fn, low_memory=False)\n",
    "              .pipe(convert_dtypes)\n",
    "        )\n",
    "\n",
    "    df_real    = _read_and_convert(real_filename)\n",
    "    df_synth   = _read_and_convert(synth_filename)   if synth_filename   else None\n",
    "    df_holdout = _read_and_convert(holdout_filename) if holdout_filename else None\n",
    "\n",
    "    return df_real, df_synth, df_holdout"
   ]
  },
  {
   "cell_type": "markdown",
   "metadata": {},
   "source": [
    "# 1. Datengrundlage\n",
    "## 1.1 Import"
   ]
  },
  {
   "cell_type": "code",
   "execution_count": 21,
   "metadata": {},
   "outputs": [
    {
     "name": "stdout",
     "output_type": "stream",
     "text": [
      "Removed 337 rows with NaN values from holdout set.\n"
     ]
    }
   ],
   "source": [
    "cfg = Config()\n",
    "\n",
    "current_timestamp = datetime.now().strftime(\"%Y%m%d_%H%M%S\")\n",
    "\n",
    "df_train, df_synth, df_holdout = load_data(\n",
    "    cfg.real_file,\n",
    "    cfg.synth_file,\n",
    "    cfg.holdout_file,\n",
    "    data_dir=cfg.data_dir\n",
    ")\n",
    "\n",
    "# Entferne Zeilen mit NaN-Werten\n",
    "len_before = len(df_holdout)\n",
    "df_holdout = df_holdout.dropna().reset_index(drop=True)\n",
    "print(f\"Removed {len_before - len(df_holdout)} rows with NaN values from holdout set.\")"
   ]
  },
  {
   "cell_type": "markdown",
   "metadata": {},
   "source": [
    "## 1.2 Col Description & Target"
   ]
  },
  {
   "cell_type": "code",
   "execution_count": 5,
   "metadata": {},
   "outputs": [],
   "source": [
    "num_cols = ['age', 'temperature', 'heart_rate', 'respiratory_rate', 'oxygen_saturation', 'systolic_bp', 'diastolic_bp']\n",
    "cat_cols = ['icu_admission_24h', 'gender', 'ethnicity', 'night_arrival', 'weekend_arrival','chief_complaint', 'icd_block']\n",
    "ord_cols = ['consciousness_level','news_score']\n",
    "ord_cats = {col: df_train[col].cat.categories.tolist() for col in ord_cols}"
   ]
  },
  {
   "cell_type": "markdown",
   "metadata": {},
   "source": [
    "# 2. Funktion"
   ]
  },
  {
   "cell_type": "markdown",
   "metadata": {},
   "source": [
    "## Preprocessing"
   ]
  },
  {
   "cell_type": "code",
   "execution_count": 6,
   "metadata": {},
   "outputs": [],
   "source": [
    "def preprocess_data(df, num_cols, cat_cols, ord_cols, ord_categories, ohe_fit=None):\n",
    "    # Numerische & Ordinale Daten: Encoding & Z-Standardisierung\n",
    "    scaler = StandardScaler()\n",
    "    processed = {}\n",
    "    \n",
    "    # Numerische Daten: Z-Standardisierung\n",
    "    if num_cols:\n",
    "        processed['num'] = scaler.fit_transform(df[num_cols])\n",
    "    else:\n",
    "        processed['num'] = np.empty((len(df), 0))\n",
    "\n",
    "    # Ordinale Daten: Ordinal-Encoding\n",
    "    if ord_cols:\n",
    "        ordered_categories = [ord_categories[col] for col in ord_cols]\n",
    "        ord_enc = OrdinalEncoder(categories=ordered_categories)\n",
    "        ord_encoded = ord_enc.fit_transform(df[ord_cols])\n",
    "        processed['ord'] = scaler.fit_transform(ord_encoded)\n",
    "    else:\n",
    "        processed['ord'] = np.empty((len(df), 0))\n",
    "    \n",
    "    # Kategoriale Daten: One-Hot-Encoding\n",
    "    if cat_cols:\n",
    "        if ohe_fit is None:\n",
    "            ohe = OneHotEncoder(sparse_output=False, drop=None, handle_unknown='ignore')\n",
    "            ohe_fit = ohe.fit(df[cat_cols])\n",
    "        processed['cat'] = ohe_fit.transform(df[cat_cols])\n",
    "    else:\n",
    "        processed['cat'] = np.empty((len(df), 0))\n",
    "\n",
    "    return processed, ohe_fit\n",
    "\n",
    "\n"
   ]
  },
  {
   "cell_type": "markdown",
   "metadata": {},
   "source": [
    "## Compute DCR"
   ]
  },
  {
   "cell_type": "markdown",
   "metadata": {},
   "source": [
    "### Ohne Bootstrap"
   ]
  },
  {
   "cell_type": "code",
   "execution_count": 7,
   "metadata": {},
   "outputs": [],
   "source": [
    "def compute_dcr(query, reference, num_cols, cat_cols, ord_cols, ord_categories):\n",
    "    # Preprocessing\n",
    "    ref_proc, ohe_fit = preprocess_data(reference, num_cols, cat_cols, ord_cols, ord_categories)\n",
    "    query_proc, _ = preprocess_data(query, num_cols, cat_cols, ord_cols, ord_categories, ohe_fit=ohe_fit) # ohe_fit stellt sich, dass der One-Hot-Encoder alle Kategorien aus beiden Datensätzen kennt\n",
    "    \n",
    "\n",
    "    # Distanzen: numerisch & ordinal → Euklidische Distanz; cdist erstellt eine Distanzmatrix\n",
    "    num_dist = cdist(query_proc['num'], ref_proc['num'], metric='euclidean') if query_proc['num'].shape[1] > 0 else 0\n",
    "    ord_dist = cdist(query_proc['ord'], ref_proc['ord'], metric='euclidean') if query_proc['ord'].shape[1] > 0 else 0\n",
    "\n",
    "    # Distanzen: kategorial → Hamming-Distanz (Anteil unterschiedlicher Bits pro One-Hot-Feature)\n",
    "    if query_proc['cat'].shape[1] > 0:\n",
    "        cat_dist = cdist(query_proc['cat'], ref_proc['cat'], metric='hamming')\n",
    "    else:\n",
    "        cat_dist = 0\n",
    "    \n",
    "    # Gewichtung je Feature-Gruppe (pro Feature gleich gewichtet)\n",
    "    total_features = len(num_cols) + len(ord_cols) + len(cat_cols)\n",
    "    weights = {\n",
    "        'num': len(num_cols) / total_features if len(num_cols) > 0 else 0,\n",
    "        'ord': len(ord_cols) / total_features if len(ord_cols) > 0 else 0,\n",
    "        'cat': len(cat_cols) / total_features if len(cat_cols) > 0 else 0\n",
    "    }\n",
    "\n",
    "    # Aggregierte Distanz-Matrix\n",
    "    combined_dist = (\n",
    "        (num_dist * weights['num'] if weights['num'] > 0 else 0) +\n",
    "        (ord_dist * weights['ord'] if weights['ord'] > 0 else 0) +\n",
    "        (cat_dist * weights['cat'] if weights['cat'] > 0 else 0)\n",
    "    )\n",
    "\n",
    "    # Distance to Closest Record (DCR): minimaler Abstand für jeden Query-Datensatz\n",
    "    dcr_values = combined_dist.min(axis=1)\n",
    "    \n",
    "    # Statistische Kennzahlen\n",
    "    stats = {\n",
    "        'min': dcr_values.min(),\n",
    "        'q1': np.percentile(dcr_values, 25),\n",
    "        'median': np.median(dcr_values),\n",
    "        'mean': dcr_values.mean(),\n",
    "        'q3': np.percentile(dcr_values, 75),\n",
    "        'max': dcr_values.max()\n",
    "    }\n",
    "    \n",
    "    return stats, dcr_values"
   ]
  },
  {
   "cell_type": "markdown",
   "metadata": {},
   "source": [
    "### Mit Bootstrap und Parallelisierung"
   ]
  },
  {
   "cell_type": "code",
   "execution_count": 8,
   "metadata": {},
   "outputs": [],
   "source": [
    "def bootstrap_iteration(query_proc, ref_proc, num_cols, ord_cols, cat_cols, sample_size, rng):\n",
    "    query_len = query_proc['num'].shape[0] if query_proc['num'].size > 0 else next(iter(query_proc.values())).shape[0]\n",
    "    ref_len = ref_proc['num'].shape[0] if ref_proc['num'].size > 0 else next(iter(ref_proc.values())).shape[0]\n",
    "\n",
    "    query_idx = rng.choice(query_len, size=sample_size, replace=True)\n",
    "    ref_idx = rng.choice(ref_len, size=sample_size, replace=True)\n",
    "\n",
    "    query_sample = {k: v[query_idx] for k, v in query_proc.items()}\n",
    "    ref_sample = {k: v[ref_idx] for k, v in ref_proc.items()}\n",
    "\n",
    "    num_dist = cdist(query_sample['num'], ref_sample['num'], metric='euclidean') if query_sample['num'].shape[1] > 0 else 0\n",
    "    ord_dist = cdist(query_sample['ord'], ref_sample['ord'], metric='euclidean') if query_sample['ord'].shape[1] > 0 else 0\n",
    "    if query_sample['cat'].shape[1] > 0:\n",
    "        cat_dist = cdist(query_sample['cat'], ref_sample['cat'], metric='hamming')\n",
    "    else:\n",
    "        cat_dist = 0\n",
    "\n",
    "    total_features = len(num_cols) + len(ord_cols) + len(cat_cols)\n",
    "    weights = {\n",
    "        'num': len(num_cols) / total_features if len(num_cols) > 0 else 0,\n",
    "        'ord': len(ord_cols) / total_features if len(ord_cols) > 0 else 0,\n",
    "        'cat': len(cat_cols) / total_features if len(cat_cols) > 0 else 0\n",
    "    }\n",
    "\n",
    "    combined_dist = (\n",
    "        (num_dist * weights['num'] if weights['num'] > 0 else 0) +\n",
    "        (ord_dist * weights['ord'] if weights['ord'] > 0 else 0) +\n",
    "        (cat_dist * weights['cat'] if weights['cat'] > 0 else 0)\n",
    "    )\n",
    "\n",
    "    dcr_values = combined_dist.min(axis=1)\n",
    "    return dcr_values\n",
    "\n",
    "def compute_dcr_bootstrap(query, reference, num_cols, cat_cols, ord_cols, ord_categories, n_bootstrap=None, sample_size=1_000, random_state=None):\n",
    "    rng = np.random.default_rng(random_state)\n",
    "\n",
    "    # Preprocessing\n",
    "    ref_proc, ohe_fit = preprocess_data(reference, num_cols, cat_cols, ord_cols, ord_categories)\n",
    "    query_proc, _ = preprocess_data(query, num_cols, cat_cols, ord_cols, ord_categories, ohe_fit=ohe_fit) # ohe_fit stellt sich, dass der One-Hot-Encoder alle Kategorien aus beiden Datensätzen kennt\n",
    "    \n",
    "    if n_bootstrap is not None:\n",
    "        all_dcr_values = []\n",
    "        \n",
    "        all_dcr_values = Parallel(n_jobs=-1)(\n",
    "            delayed(bootstrap_iteration)(\n",
    "                query_proc, ref_proc, num_cols, ord_cols, cat_cols, sample_size, rng\n",
    "            ) for seed in tqdm(range(n_bootstrap), desc='Bootstrapping DCR (parallel)')\n",
    "        )\n",
    "    \n",
    "        # Alle Bootstrapping-Ergebnisse zusammenfassen\n",
    "        dcr_values_all = np.concatenate(all_dcr_values)\n",
    "\n",
    "        # Statistische Kennzahlen\n",
    "        stats = {\n",
    "            'min': dcr_values_all.min(),\n",
    "            'q1': np.percentile(dcr_values_all, 25),\n",
    "            'median': np.median(dcr_values_all),\n",
    "            'mean': dcr_values_all.mean(),\n",
    "            'q3': np.percentile(dcr_values_all, 75),\n",
    "            'max': dcr_values_all.max()\n",
    "        }\n",
    "\n",
    "        return stats, dcr_values_all\n",
    "    else:\n",
    "        return compute_dcr(query, reference, num_cols, cat_cols, ord_cols, ord_categories)\n"
   ]
  },
  {
   "cell_type": "markdown",
   "metadata": {},
   "source": [
    "## Plot Functions"
   ]
  },
  {
   "cell_type": "code",
   "execution_count": 25,
   "metadata": {},
   "outputs": [],
   "source": [
    "def plot_dcr_distribution(vals_1, vals_2, label_1, label_2, title='DCR Distribution', fig_size=(10,6), bins=50, save_fig=False):\n",
    "    \n",
    "    plt.figure(figsize=fig_size)\n",
    "\n",
    "    # 99.5%-Quantil als Grenze für das Clamping\n",
    "    dcr_values_all = np.concatenate([vals_1, vals_2])\n",
    "    clamp_threshold = np.percentile(dcr_values_all, 99.5)\n",
    "\n",
    "    # Werte deckeln (alle Werte > clamp_threshold auf clamp_threshold setzen)\n",
    "    vals_1_clamped = np.minimum(vals_1, clamp_threshold)\n",
    "    vals_2_clamped = np.minimum(vals_2, clamp_threshold)\n",
    "\n",
    "    # Freedman-Diaconis-Regel der Binbreite\n",
    "    iqr = np.percentile(dcr_values_all, 75) - np.percentile(dcr_values_all, 25)\n",
    "    bin_width = 2 * iqr / np.cbrt(len(dcr_values_all))\n",
    "    bins = int((clamp_threshold - dcr_values_all.min()) / bin_width)\n",
    "    bins = max(10, min(bins, 200))  # Sicherheitsgrenze: mindestens 10 und maximal 200 Bins\n",
    "\n",
    "    min_threshold = 0.01\n",
    "    vals_1_filtered = vals_1_clamped[vals_1_clamped >= min_threshold]\n",
    "    vals_2_filtered = vals_2_clamped[vals_2_clamped >= min_threshold]\n",
    "\n",
    "    sns.histplot(vals_1_filtered, bins=bins, kde=False, label=label_1, stat='density', edgecolor='black', alpha=0.6)\n",
    "    sns.histplot(vals_2_filtered, bins=bins, kde=False, label=label_2, stat='density', edgecolor='black', alpha=0.6)\n",
    "\n",
    "    # plt.xlabel('DCR (values >= 0.01)')\n",
    "    plt.xlabel('DCR')\n",
    "\n",
    "    # Histogramm\n",
    "    # sns.histplot(vals_1_clamped, bins=bins, kde=False, label=label_1, stat='density', edgecolor='black', alpha=0.6)\n",
    "    # sns.histplot(vals_2_clamped, bins=bins, kde=False, label=label_2, stat='density', edgecolor='black', alpha=0.6)\n",
    "\n",
    "    # Achsengrenze fixieren auf 99.5%-Quantil\n",
    "    plt.xlim(0, clamp_threshold)\n",
    " \n",
    "    # Letztes xtick-Label als \"> Schwellenwert\" umbenennen\n",
    "    ax = plt.gca()\n",
    "    xticks = ax.get_xticks()\n",
    "    xticks = xticks[xticks <= clamp_threshold]  # nur Ticks innerhalb der Grenze\n",
    "    if len(xticks) == 0 or xticks[-1] < clamp_threshold:\n",
    "        xticks = np.append(xticks, clamp_threshold)  # Clamp-Grenze sicherstellen\n",
    "    xticklabels = [f'{tick:.2f}' if tick < clamp_threshold else f'>{clamp_threshold:.2f}' for tick in xticks]\n",
    "    plt.xticks(xticks, labels=xticklabels)\n",
    "    \n",
    "    # Achsenbeschriftung und Titel\n",
    "    # plt.xlabel('DCR', fontsize=14)\n",
    "    plt.ylabel('Density')\n",
    "    plt.title(title)\n",
    "    plt.tick_params(axis='both')\n",
    "    plt.legend()\n",
    "\n",
    "    plt.tight_layout()\n",
    "\n",
    "    if save_fig:\n",
    "        fname = f'DCR_S-T_T-T_n-{cfg.n_bootstrap}_s-{cfg.bootstrap_size}_{current_timestamp}.tiff'\n",
    "        fullpath = cfg.figures_dir / f'{fname}'\n",
    "        plt.savefig(\n",
    "            fullpath,\n",
    "            dpi=300,\n",
    "            format='tiff',\n",
    "            bbox_inches='tight',\n",
    "            pil_kwargs={'compression': 'tiff_lzw'}\n",
    "        )\n",
    "        print(f\"Abbildung gespeichert unter: {fullpath}\")\n",
    "\n",
    "    plt.show()\n"
   ]
  },
  {
   "cell_type": "code",
   "execution_count": 33,
   "metadata": {},
   "outputs": [],
   "source": [
    "def plot_bootstrap_stabilization(dcr_values_all, sample_size, ci_band: bool = True, log_scale: bool = True, title='DCR Quality', save_fig: bool = False):\n",
    "    n_bootstrap = len(dcr_values_all) // sample_size\n",
    "\n",
    "    # Kumulative Berechnung von Median, Q1, Q3\n",
    "    cumulative_median = []\n",
    "    cumulative_q1 = []\n",
    "    cumulative_q3 = []\n",
    "\n",
    "    for i in range(1, n_bootstrap + 1):\n",
    "        subset = dcr_values_all[:i * sample_size]\n",
    "        cumulative_median.append(np.median(subset))\n",
    "        cumulative_q1.append(np.percentile(subset, 25))\n",
    "        cumulative_q3.append(np.percentile(subset, 75))\n",
    "\n",
    "    # DataFrame für Seaborn\n",
    "    df_plot = pd.DataFrame({\n",
    "        'Iteration': np.arange(1, n_bootstrap + 1),\n",
    "        'Median': cumulative_median,\n",
    "        'Q1': cumulative_q1,\n",
    "        'Q3': cumulative_q3\n",
    "    })\n",
    "\n",
    "    # Plot\n",
    "    plt.figure(figsize=(2.4, 1.8))\n",
    "    sns.lineplot(data=df_plot, x='Iteration', y='Median', label='Median')\n",
    "    if ci_band:\n",
    "        plt.fill_between(df_plot['Iteration'], df_plot['Q1'], df_plot['Q3'], alpha=0.3, label='CI Band')\n",
    "    if log_scale:\n",
    "        plt.xscale('log')\n",
    "\n",
    "    plt.xlabel('Bootstrap Iteration')\n",
    "    plt.ylabel('DCR Value')\n",
    "    plt.ylim(0, 0.7)\n",
    "    plt.title(title)\n",
    "    # plt.legend(fontsize=12, loc='upper right')\n",
    "    plt.grid(True, linestyle='--', alpha=0.5)\n",
    "    plt.tick_params(axis='both')\n",
    "    plt.legend().remove()\n",
    "    plt.tight_layout()\n",
    "    if save_fig:\n",
    "        fname = f'DCR_Stability_{title}_n-{cfg.n_bootstrap}_s-{cfg.bootstrap_size}_{current_timestamp}.tiff'\n",
    "        fullpath = cfg.figures_dir / f'{fname}'\n",
    "        plt.savefig(\n",
    "            fullpath,\n",
    "            dpi=300,\n",
    "            format='tiff',\n",
    "            bbox_inches='tight',\n",
    "            pil_kwargs={'compression': 'tiff_lzw'}\n",
    "        )\n",
    "        print(f\"Abbildung gespeichert unter: {fullpath}\")\n",
    "    plt.show()"
   ]
  },
  {
   "cell_type": "markdown",
   "metadata": {},
   "source": [
    "# Main Routine"
   ]
  },
  {
   "cell_type": "markdown",
   "metadata": {},
   "source": [
    "## Synth -> Train"
   ]
  },
  {
   "cell_type": "code",
   "execution_count": 11,
   "metadata": {},
   "outputs": [
    {
     "name": "stderr",
     "output_type": "stream",
     "text": [
      "Bootstrapping DCR (parallel): 100%|██████████| 100/100 [04:05<00:00,  2.45s/it]\n"
     ]
    }
   ],
   "source": [
    "stats_syn_train, plot_syn_train = compute_dcr_bootstrap(df_synth, df_train, num_cols, cat_cols, ord_cols, ord_categories=ord_cats, n_bootstrap=cfg.n_bootstrap, sample_size=cfg.bootstrap_size, random_state=cfg.random_seed)\n",
    "# print('DCR Synthetisch -> Training:', stats_syn_train)"
   ]
  },
  {
   "cell_type": "markdown",
   "metadata": {},
   "source": [
    "## Synth -> Holdout"
   ]
  },
  {
   "cell_type": "code",
   "execution_count": 12,
   "metadata": {},
   "outputs": [
    {
     "name": "stderr",
     "output_type": "stream",
     "text": [
      "Bootstrapping DCR (parallel): 100%|██████████| 100/100 [04:06<00:00,  2.47s/it]\n"
     ]
    }
   ],
   "source": [
    "stats_syn_holdout, plot_syn_holdout = compute_dcr_bootstrap(df_synth, df_holdout, num_cols, cat_cols, ord_cols, ord_categories=ord_cats, n_bootstrap=cfg.n_bootstrap, sample_size=cfg.bootstrap_size, random_state=cfg.random_seed)\n",
    "# print('DCR Synthetisch -> Holdout:', stats_syn_holdout)"
   ]
  },
  {
   "cell_type": "markdown",
   "metadata": {},
   "source": [
    "## Train -> Train (Self-DCR)"
   ]
  },
  {
   "cell_type": "code",
   "execution_count": 13,
   "metadata": {},
   "outputs": [
    {
     "name": "stderr",
     "output_type": "stream",
     "text": [
      "Bootstrapping DCR (parallel): 100%|██████████| 100/100 [03:46<00:00,  2.26s/it]\n"
     ]
    }
   ],
   "source": [
    "stats_train_train, plot_train_train = compute_dcr_bootstrap(df_train, df_train, num_cols, cat_cols, ord_cols, ord_categories=ord_cats, n_bootstrap=cfg.n_bootstrap, sample_size=cfg.bootstrap_size, random_state=cfg.random_seed)\n",
    "# print('DCR Training -> Training:', stats_train_train)"
   ]
  },
  {
   "cell_type": "markdown",
   "metadata": {},
   "source": [
    "## Save Results for Analysis"
   ]
  },
  {
   "cell_type": "code",
   "execution_count": 22,
   "metadata": {},
   "outputs": [],
   "source": [
    "if cfg.save_data:\n",
    "    np.savetxt(\"cache/dcr_plot_syn_train.csv\", plot_syn_train, delimiter=\";\", encoding=\"utf-8\")\n",
    "    np.savetxt(\"cache/dcr_plot_syn_holdout.csv\", plot_syn_holdout, delimiter=\";\", encoding=\"utf-8\")\n",
    "    np.savetxt(\"cache/dcr_plot_train_train.csv\", plot_train_train, delimiter=\";\", encoding=\"utf-8\")"
   ]
  },
  {
   "cell_type": "markdown",
   "metadata": {},
   "source": [
    "# Results"
   ]
  },
  {
   "cell_type": "code",
   "execution_count": 23,
   "metadata": {},
   "outputs": [
    {
     "data": {
      "text/html": [
       "<div>\n",
       "<style scoped>\n",
       "    .dataframe tbody tr th:only-of-type {\n",
       "        vertical-align: middle;\n",
       "    }\n",
       "\n",
       "    .dataframe tbody tr th {\n",
       "        vertical-align: top;\n",
       "    }\n",
       "\n",
       "    .dataframe thead th {\n",
       "        text-align: right;\n",
       "    }\n",
       "</style>\n",
       "<table border=\"1\" class=\"dataframe\">\n",
       "  <thead>\n",
       "    <tr style=\"text-align: right;\">\n",
       "      <th></th>\n",
       "      <th>min</th>\n",
       "      <th>q1</th>\n",
       "      <th>median</th>\n",
       "      <th>mean</th>\n",
       "      <th>q3</th>\n",
       "      <th>max</th>\n",
       "    </tr>\n",
       "  </thead>\n",
       "  <tbody>\n",
       "    <tr>\n",
       "      <th>Train→Train</th>\n",
       "      <td>0.000000</td>\n",
       "      <td>0.261656</td>\n",
       "      <td>0.346786</td>\n",
       "      <td>0.377950</td>\n",
       "      <td>0.453922</td>\n",
       "      <td>3.203311</td>\n",
       "    </tr>\n",
       "    <tr>\n",
       "      <th>Synth→Train</th>\n",
       "      <td>0.096355</td>\n",
       "      <td>0.317777</td>\n",
       "      <td>0.411802</td>\n",
       "      <td>0.477540</td>\n",
       "      <td>0.558897</td>\n",
       "      <td>2.568955</td>\n",
       "    </tr>\n",
       "    <tr>\n",
       "      <th>Synth→Holdout</th>\n",
       "      <td>0.116468</td>\n",
       "      <td>0.323096</td>\n",
       "      <td>0.416534</td>\n",
       "      <td>0.478464</td>\n",
       "      <td>0.561098</td>\n",
       "      <td>2.438449</td>\n",
       "    </tr>\n",
       "  </tbody>\n",
       "</table>\n",
       "</div>"
      ],
      "text/plain": [
       "                    min        q1    median      mean        q3       max\n",
       "Train→Train    0.000000  0.261656  0.346786  0.377950  0.453922  3.203311\n",
       "Synth→Train    0.096355  0.317777  0.411802  0.477540  0.558897  2.568955\n",
       "Synth→Holdout  0.116468  0.323096  0.416534  0.478464  0.561098  2.438449"
      ]
     },
     "metadata": {},
     "output_type": "display_data"
    }
   ],
   "source": [
    "stats_combined = pd.DataFrame([\n",
    "    stats_train_train,\n",
    "    stats_syn_train,\n",
    "    stats_syn_holdout\n",
    "], index=['Train→Train', 'Synth→Train', 'Synth→Holdout'])\n",
    "\n",
    "display(stats_combined)\n",
    "\n",
    "if cfg.save_data:\n",
    "    # Speichern der Statistiken\n",
    "    stats_combined.to_csv(cfg.results_dir / f\"DCR_S-T_T-T_n-{cfg.n_bootstrap}_s-{cfg.bootstrap_size}_{current_timestamp}.csv\", sep=\";\", index=True, decimal=\",\", encoding=\"utf-8\", header=True)"
   ]
  },
  {
   "cell_type": "markdown",
   "metadata": {},
   "source": [
    "# Plots"
   ]
  },
  {
   "cell_type": "code",
   "execution_count": 26,
   "metadata": {},
   "outputs": [
    {
     "name": "stdout",
     "output_type": "stream",
     "text": [
      "Abbildung gespeichert unter: figures\\DCR_S-T_T-T_n-100_s-5000_20250601_094203.tiff\n"
     ]
    },
    {
     "data": {
      "image/png": "[encoded data removed]",
      "text/plain": [
       "<Figure size 360x270 with 1 Axes>"
      ]
     },
     "metadata": {},
     "output_type": "display_data"
    }
   ],
   "source": [
    "plot_dcr_distribution(plot_train_train, plot_syn_train, label_1='Self-DCR', label_2='Synth -> Train', title='DCR (xmax = 99.5 Percentile)', fig_size=(3.6, 2.7), save_fig=cfg.save_data)"
   ]
  },
  {
   "cell_type": "code",
   "execution_count": 35,
   "metadata": {},
   "outputs": [
    {
     "name": "stdout",
     "output_type": "stream",
     "text": [
      "Abbildung gespeichert unter: figures\\DCR_Stability_Synth-Train_n-100_s-5000_20250601_094203.tiff\n"
     ]
    },
    {
     "data": {
      "image/png": "[encoded data removed]",
      "text/plain": [
       "<Figure size 240x180 with 1 Axes>"
      ]
     },
     "metadata": {},
     "output_type": "display_data"
    },
    {
     "name": "stdout",
     "output_type": "stream",
     "text": [
      "Abbildung gespeichert unter: figures\\DCR_Stability_Synth-Holdout_n-100_s-5000_20250601_094203.tiff\n"
     ]
    },
    {
     "data": {
      "image/png": "[encoded data removed]",
      "text/plain": [
       "<Figure size 240x180 with 1 Axes>"
      ]
     },
     "metadata": {},
     "output_type": "display_data"
    },
    {
     "name": "stdout",
     "output_type": "stream",
     "text": [
      "Abbildung gespeichert unter: figures\\DCR_Stability_Train-Train_n-100_s-5000_20250601_094203.tiff\n"
     ]
    },
    {
     "data": {
      "image/png": "[encoded data removed]",
      "text/plain": [
       "<Figure size 240x180 with 1 Axes>"
      ]
     },
     "metadata": {},
     "output_type": "display_data"
    }
   ],
   "source": [
    "plot_bootstrap_stabilization(plot_syn_train, sample_size=cfg.bootstrap_size, log_scale=True, ci_band=True, title='Synth-Train', save_fig=cfg.save_data)\n",
    "plot_bootstrap_stabilization(plot_syn_holdout, sample_size=cfg.bootstrap_size, title='Synth-Holdout', save_fig=cfg.save_data)\n",
    "plot_bootstrap_stabilization(plot_train_train, sample_size=cfg.bootstrap_size, title='Train-Train', save_fig=cfg.save_data)"
   ]
  },
  {
   "cell_type": "code",
   "execution_count": null,
   "metadata": {},
   "outputs": [],
   "source": []
  }
 ],
 "metadata": {
  "kernelspec": {
   "display_name": "General Purpose",
   "language": "python",
   "name": "venv"
  },
  "language_info": {
   "codemirror_mode": {
    "name": "ipython",
    "version": 3
   },
   "file_extension": ".py",
   "mimetype": "text/x-python",
   "name": "python",
   "nbconvert_exporter": "python",
   "pygments_lexer": "ipython3",
   "version": "3.12.4"
  }
 },
 "nbformat": 4,
 "nbformat_minor": 2
}
