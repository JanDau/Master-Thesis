{
 "cells": [
  {
   "cell_type": "markdown",
   "metadata": {},
   "source": [
    "# Code\n",
    "...\n",
    "# Imports"
   ]
  },
  {
   "cell_type": "code",
   "execution_count": 20,
   "metadata": {},
   "outputs": [],
   "source": [
    "import pandas as pd\n",
    "from pathlib import Path\n",
    "import pandas as pd\n",
    "import numpy as np\n",
    "from pathlib import Path\n",
    "from typing import Optional, Tuple, Union\n",
    "import seaborn as sns\n",
    "import matplotlib.pyplot as plt"
   ]
  },
  {
   "cell_type": "markdown",
   "metadata": {},
   "source": [
    "# User Configuration"
   ]
  },
  {
   "cell_type": "code",
   "execution_count": 21,
   "metadata": {},
   "outputs": [],
   "source": [
    "SAVE_FIGS = True  # Save figures\n",
    "\n",
    "CIO_FILE = \"cio_results.csv\"\n",
    "STATS_FILE = \"statistics.csv\"\n",
    "\n",
    "DATA_DIR = Path(\"results\")\n",
    "OUTPUT_DIR_FIG = Path(\"figures\")\n",
    "OUTPUT_DIR_FIG.mkdir(parents=True, exist_ok=True)  # ensure output folder exists\n",
    "\n",
    "# Set my design\n",
    "sns.set_theme(\n",
    "    style=\"white\",\n",
    "    context=\"paper\",\n",
    "    palette=\"colorblind\",\n",
    "    rc={\n",
    "        \"font.family\": \"sans-serif\",\n",
    "        \"font.sans-serif\": [\"Arial\"],\n",
    "        \"font.size\": 7,\n",
    "        \"axes.titlesize\": 7,\n",
    "        \"axes.labelsize\": 7,\n",
    "        \"xtick.labelsize\": 7,\n",
    "        \"ytick.labelsize\": 7,\n",
    "        \"legend.fontsize\": 7\n",
    "    }\n",
    ")\n"
   ]
  },
  {
   "cell_type": "markdown",
   "metadata": {},
   "source": [
    "# Utility Functions"
   ]
  },
  {
   "cell_type": "markdown",
   "metadata": {},
   "source": [
    "## Load Data & Assign Correct Datatypes"
   ]
  },
  {
   "cell_type": "code",
   "execution_count": 22,
   "metadata": {},
   "outputs": [
    {
     "name": "stdout",
     "output_type": "stream",
     "text": [
      "                   avg_ci_overlap\n",
      "feature                          \n",
      "age                      0.000000\n",
      "temperature              0.536022\n",
      "heart_rate               0.000000\n",
      "respiratory_rate         0.000000\n",
      "oxygen_saturation        0.000000\n",
      "            statistic    result\n",
      "feature                        \n",
      "age              mean  0.978645\n",
      "age               std  0.988089\n",
      "age            median  1.000000\n",
      "temperature      mean  0.999872\n",
      "temperature       std  0.999429\n"
     ]
    }
   ],
   "source": [
    "df_stats = pd.read_csv(DATA_DIR / STATS_FILE, index_col=0, decimal=\",\", sep=\";\", encoding=\"utf-8\")\n",
    "df_cio = pd.read_csv(DATA_DIR / CIO_FILE, index_col=0, decimal=\",\", sep=\";\", encoding=\"utf-8\")\n",
    "print(df_cio.head())\n",
    "print(df_stats.head())\n"
   ]
  },
  {
   "cell_type": "code",
   "execution_count": 23,
   "metadata": {},
   "outputs": [
    {
     "name": "stdout",
     "output_type": "stream",
     "text": [
      "statistic              mean    median       std\n",
      "feature                                        \n",
      "age                0.978645  1.000000  0.988089\n",
      "diastolic_bp       0.995563  1.000000  0.997600\n",
      "heart_rate         0.996679  0.980676  0.992629\n",
      "oxygen_saturation  0.992750  0.980000  0.999507\n",
      "respiratory_rate   0.996877  1.000000  0.999291\n"
     ]
    }
   ],
   "source": [
    "df_stats = df_stats.reset_index()\n",
    "df_wide = df_stats.pivot(index='feature', columns='statistic', values='result')\n",
    "print(df_wide.head())"
   ]
  },
  {
   "cell_type": "code",
   "execution_count": 24,
   "metadata": {},
   "outputs": [
    {
     "name": "stdout",
     "output_type": "stream",
     "text": [
      "                       mean    median       std  ci_overlap\n",
      "feature                                                    \n",
      "age                0.978645  1.000000  0.988089    1.000000\n",
      "diastolic_bp       0.995563  1.000000  0.997600    1.000000\n",
      "heart_rate         0.996679  0.980676  0.992629    1.000000\n",
      "oxygen_saturation  0.992750  0.980000  0.999507    1.000000\n",
      "respiratory_rate   0.996877  1.000000  0.999291    1.000000\n",
      "systolic_bp        0.997299  0.977679  0.996995    1.000000\n",
      "temperature        0.999872  1.000000  0.999429    0.463978\n"
     ]
    }
   ],
   "source": [
    "df_cio.rename(columns={'avg_ci_overlap': 'ci_overlap'}, inplace=True)\n",
    "# print(df_cio.head())\n",
    "\n",
    "df_combined = df_wide.join(df_cio[['ci_overlap']], how='left')\n",
    "\n",
    "# print(df_combined.loc['age'])\n",
    "\n",
    "df_combined['ci_overlap'] = 1-df_combined['ci_overlap']\n",
    "print(df_combined)"
   ]
  },
  {
   "cell_type": "code",
   "execution_count": 25,
   "metadata": {},
   "outputs": [
    {
     "data": {
      "text/html": [
       "<style type=\"text/css\">\n",
       "#T_21c8f_row0_col0, #T_21c8f_row5_col1 {\n",
       "  background-color: #005120;\n",
       "  color: #f1f1f1;\n",
       "}\n",
       "#T_21c8f_row0_col1, #T_21c8f_row0_col3, #T_21c8f_row1_col1, #T_21c8f_row1_col3, #T_21c8f_row2_col3, #T_21c8f_row3_col2, #T_21c8f_row3_col3, #T_21c8f_row4_col1, #T_21c8f_row4_col2, #T_21c8f_row4_col3, #T_21c8f_row5_col3, #T_21c8f_row6_col0, #T_21c8f_row6_col1, #T_21c8f_row6_col2 {\n",
       "  background-color: #00441b;\n",
       "  color: #f1f1f1;\n",
       "}\n",
       "#T_21c8f_row0_col2 {\n",
       "  background-color: #004a1e;\n",
       "  color: #f1f1f1;\n",
       "}\n",
       "#T_21c8f_row1_col0 {\n",
       "  background-color: #00471c;\n",
       "  color: #f1f1f1;\n",
       "}\n",
       "#T_21c8f_row1_col2, #T_21c8f_row2_col0, #T_21c8f_row4_col0, #T_21c8f_row5_col0, #T_21c8f_row5_col2 {\n",
       "  background-color: #00451c;\n",
       "  color: #f1f1f1;\n",
       "}\n",
       "#T_21c8f_row2_col1, #T_21c8f_row3_col1 {\n",
       "  background-color: #005020;\n",
       "  color: #f1f1f1;\n",
       "}\n",
       "#T_21c8f_row2_col2, #T_21c8f_row3_col0 {\n",
       "  background-color: #00481d;\n",
       "  color: #f1f1f1;\n",
       "}\n",
       "#T_21c8f_row6_col3 {\n",
       "  background-color: #f7fcf5;\n",
       "  color: #000000;\n",
       "}\n",
       "</style>\n",
       "<table id=\"T_21c8f\">\n",
       "  <thead>\n",
       "    <tr>\n",
       "      <th class=\"blank level0\" >&nbsp;</th>\n",
       "      <th id=\"T_21c8f_level0_col0\" class=\"col_heading level0 col0\" >mean</th>\n",
       "      <th id=\"T_21c8f_level0_col1\" class=\"col_heading level0 col1\" >median</th>\n",
       "      <th id=\"T_21c8f_level0_col2\" class=\"col_heading level0 col2\" >std</th>\n",
       "      <th id=\"T_21c8f_level0_col3\" class=\"col_heading level0 col3\" >ci_overlap</th>\n",
       "    </tr>\n",
       "    <tr>\n",
       "      <th class=\"index_name level0\" >feature</th>\n",
       "      <th class=\"blank col0\" >&nbsp;</th>\n",
       "      <th class=\"blank col1\" >&nbsp;</th>\n",
       "      <th class=\"blank col2\" >&nbsp;</th>\n",
       "      <th class=\"blank col3\" >&nbsp;</th>\n",
       "    </tr>\n",
       "  </thead>\n",
       "  <tbody>\n",
       "    <tr>\n",
       "      <th id=\"T_21c8f_level0_row0\" class=\"row_heading level0 row0\" >age</th>\n",
       "      <td id=\"T_21c8f_row0_col0\" class=\"data row0 col0\" >0.979</td>\n",
       "      <td id=\"T_21c8f_row0_col1\" class=\"data row0 col1\" >1.000</td>\n",
       "      <td id=\"T_21c8f_row0_col2\" class=\"data row0 col2\" >0.988</td>\n",
       "      <td id=\"T_21c8f_row0_col3\" class=\"data row0 col3\" >1.000</td>\n",
       "    </tr>\n",
       "    <tr>\n",
       "      <th id=\"T_21c8f_level0_row1\" class=\"row_heading level0 row1\" >diastolic_bp</th>\n",
       "      <td id=\"T_21c8f_row1_col0\" class=\"data row1 col0\" >0.996</td>\n",
       "      <td id=\"T_21c8f_row1_col1\" class=\"data row1 col1\" >1.000</td>\n",
       "      <td id=\"T_21c8f_row1_col2\" class=\"data row1 col2\" >0.998</td>\n",
       "      <td id=\"T_21c8f_row1_col3\" class=\"data row1 col3\" >1.000</td>\n",
       "    </tr>\n",
       "    <tr>\n",
       "      <th id=\"T_21c8f_level0_row2\" class=\"row_heading level0 row2\" >heart_rate</th>\n",
       "      <td id=\"T_21c8f_row2_col0\" class=\"data row2 col0\" >0.997</td>\n",
       "      <td id=\"T_21c8f_row2_col1\" class=\"data row2 col1\" >0.981</td>\n",
       "      <td id=\"T_21c8f_row2_col2\" class=\"data row2 col2\" >0.993</td>\n",
       "      <td id=\"T_21c8f_row2_col3\" class=\"data row2 col3\" >1.000</td>\n",
       "    </tr>\n",
       "    <tr>\n",
       "      <th id=\"T_21c8f_level0_row3\" class=\"row_heading level0 row3\" >oxygen_saturation</th>\n",
       "      <td id=\"T_21c8f_row3_col0\" class=\"data row3 col0\" >0.993</td>\n",
       "      <td id=\"T_21c8f_row3_col1\" class=\"data row3 col1\" >0.980</td>\n",
       "      <td id=\"T_21c8f_row3_col2\" class=\"data row3 col2\" >1.000</td>\n",
       "      <td id=\"T_21c8f_row3_col3\" class=\"data row3 col3\" >1.000</td>\n",
       "    </tr>\n",
       "    <tr>\n",
       "      <th id=\"T_21c8f_level0_row4\" class=\"row_heading level0 row4\" >respiratory_rate</th>\n",
       "      <td id=\"T_21c8f_row4_col0\" class=\"data row4 col0\" >0.997</td>\n",
       "      <td id=\"T_21c8f_row4_col1\" class=\"data row4 col1\" >1.000</td>\n",
       "      <td id=\"T_21c8f_row4_col2\" class=\"data row4 col2\" >0.999</td>\n",
       "      <td id=\"T_21c8f_row4_col3\" class=\"data row4 col3\" >1.000</td>\n",
       "    </tr>\n",
       "    <tr>\n",
       "      <th id=\"T_21c8f_level0_row5\" class=\"row_heading level0 row5\" >systolic_bp</th>\n",
       "      <td id=\"T_21c8f_row5_col0\" class=\"data row5 col0\" >0.997</td>\n",
       "      <td id=\"T_21c8f_row5_col1\" class=\"data row5 col1\" >0.978</td>\n",
       "      <td id=\"T_21c8f_row5_col2\" class=\"data row5 col2\" >0.997</td>\n",
       "      <td id=\"T_21c8f_row5_col3\" class=\"data row5 col3\" >1.000</td>\n",
       "    </tr>\n",
       "    <tr>\n",
       "      <th id=\"T_21c8f_level0_row6\" class=\"row_heading level0 row6\" >temperature</th>\n",
       "      <td id=\"T_21c8f_row6_col0\" class=\"data row6 col0\" >1.000</td>\n",
       "      <td id=\"T_21c8f_row6_col1\" class=\"data row6 col1\" >1.000</td>\n",
       "      <td id=\"T_21c8f_row6_col2\" class=\"data row6 col2\" >0.999</td>\n",
       "      <td id=\"T_21c8f_row6_col3\" class=\"data row6 col3\" >0.464</td>\n",
       "    </tr>\n",
       "  </tbody>\n",
       "</table>\n"
      ],
      "text/plain": [
       "<pandas.io.formats.style.Styler at 0x19cd45f5070>"
      ]
     },
     "execution_count": 25,
     "metadata": {},
     "output_type": "execute_result"
    }
   ],
   "source": [
    "df_formatted = df_combined.style.background_gradient(cmap='Greens', axis=None).format(precision=3)\n",
    "df_formatted\n"
   ]
  },
  {
   "cell_type": "code",
   "execution_count": 27,
   "metadata": {},
   "outputs": [
    {
     "data": {
      "image/png": "[encoded data removed]",
      "text/plain": [
       "<Figure size 350x280 with 2 Axes>"
      ]
     },
     "metadata": {},
     "output_type": "display_data"
    }
   ],
   "source": [
    "# Optional: Wenn 'feature' noch Index ist, zurück in Spalte\n",
    "df_plot = df_combined.reset_index()\n",
    "\n",
    "# Setze 'feature' als Index und sortiere ggf. nach ci_overlap\n",
    "# df_plot = df_plot.set_index('feature').sort_values('ci_overlap', ascending=False)\n",
    "df_plot = df_plot.set_index('feature')\n",
    "\n",
    "feature_order = ['age', 'temperature', 'heart_rate', 'respiratory_rate', 'oxygen_saturation', 'systolic_bp', 'diastolic_bp']  # gewünschte Reihenfolge\n",
    "df_plot = df_plot.loc[feature_order]\n",
    "\n",
    "\n",
    "# Erstelle die Heatmap\n",
    "fig, ax = plt.subplots(figsize=(3.5, 2.8))\n",
    "# sns.heatmap(df_plot, annot=True, cmap='Greens', vmin=0, vmax=1, fmt=\".3f\", cbar_kws={'label': 'Score'})\n",
    "sns.heatmap(df_plot, annot=True, cmap='viridis', vmin=0, vmax=1, fmt=\".3f\", cbar_kws={'label': 'Score'})\n",
    "plt.title('Quality Metric per Feature')\n",
    "plt.xlabel('')\n",
    "plt.ylabel('')\n",
    "plt.tight_layout()\n",
    "if SAVE_FIGS:\n",
    "    fig.savefig(OUTPUT_DIR_FIG / f\"stats_heatmap.tiff\", dpi=300, format='tiff', bbox_inches='tight', pil_kwargs={'compression': 'tiff_lzw'})\n",
    "plt.show()\n",
    "plt.close(fig)"
   ]
  }
 ],
 "metadata": {
  "kernelspec": {
   "display_name": "General Purpose",
   "language": "python",
   "name": "venv"
  },
  "language_info": {
   "codemirror_mode": {
    "name": "ipython",
    "version": 3
   },
   "file_extension": ".py",
   "mimetype": "text/x-python",
   "name": "python",
   "nbconvert_exporter": "python",
   "pygments_lexer": "ipython3",
   "version": "3.12.4"
  }
 },
 "nbformat": 4,
 "nbformat_minor": 2
}
